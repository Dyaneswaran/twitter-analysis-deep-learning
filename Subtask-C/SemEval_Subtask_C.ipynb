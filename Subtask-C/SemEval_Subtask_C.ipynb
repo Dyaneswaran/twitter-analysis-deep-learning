{
 "cells": [
  {
   "cell_type": "markdown",
   "metadata": {},
   "source": [
    "### Model 1"
   ]
  },
  {
   "cell_type": "code",
   "execution_count": 29,
   "metadata": {},
   "outputs": [
    {
     "name": "stdout",
     "output_type": "stream",
     "text": [
      "      id                                              tweet target\n",
      "0  90194  @USER @USER Go home you’re drunk!!! @USER #MAG...    IND\n",
      "1  97670                  @USER Liberals are all Kookoo !!!    OTH\n",
      "2  52415  @USER was literally just talking about this lo...    GRP\n",
      "3  13384  @USER Canada doesn’t need another CUCK! We alr...    IND\n",
      "4  28414  @USER you are a lying corrupt traitor!!! Nobod...    IND\n",
      "3\n",
      "11640\n"
     ]
    }
   ],
   "source": [
    "import pandas as pd\n",
    "\n",
    "dataset = pd.read_csv(\"../training_data.csv\", usecols = ['id','tweet','subtask_c'])\n",
    "dataset.columns = ['id','tweet', 'target']\n",
    "dataset.dropna(inplace = True)\n",
    "dataset.reset_index(drop = True, inplace = True)\n",
    "print(dataset.head(n = 5))\n",
    "print(len(dataset.columns))\n",
    "print(dataset.size)"
   ]
  },
  {
   "cell_type": "code",
   "execution_count": 30,
   "metadata": {},
   "outputs": [
    {
     "name": "stdout",
     "output_type": "stream",
     "text": [
      "['IND' 'OTH' 'GRP' 'NOT'\n",
      " ' called for\\xa0imposing the death penalty on alleged teen rapists. ... URL'\n",
      " 'OFF']\n",
      "IND    2407\n",
      "GRP    1072\n",
      "OTH     395\n",
      "Name: target, dtype: int64\n",
      "3874\n"
     ]
    }
   ],
   "source": [
    "\n",
    "print(dataset.target.unique())\n",
    "\n",
    "# Very Very disturbing error in the dataset. Thank god, I found it.\n",
    "dataset = dataset.drop(dataset[(dataset.target != 'IND') & (dataset.target != 'GRP') & (dataset.target != 'OTH')].index)\n",
    "# print(dataset[dataset.sentiment == 'NOT'])\n",
    "# print(dataset.sentiment.unique())\n",
    "print(dataset.target.value_counts())\n",
    "print(len(dataset))"
   ]
  },
  {
   "cell_type": "code",
   "execution_count": 31,
   "metadata": {},
   "outputs": [
    {
     "name": "stdout",
     "output_type": "stream",
     "text": [
      "       id                                              tweet target\n",
      "0   90194  @USER @USER Go home you’re drunk!!! @USER #MAG...    IND\n",
      "3   13384  @USER Canada doesn’t need another CUCK! We alr...    IND\n",
      "4   28414  @USER you are a lying corrupt traitor!!! Nobod...    IND\n",
      "6   56117  @USER @USER @USER @USER LOL!!!   Throwing the ...    IND\n",
      "9   77665  @USER Tbh these days i just don't like people ...    IND\n",
      "11  12108  @USER @USER @USER @USER @USER @USER @USER @USE...    IND\n",
      "14  98992                                     @USER Fuck off    IND\n",
      "16  75215  @USER @USER She is useless.  Attempts to do th...    IND\n",
      "17  57013  @USER Grateful Trump doesn’t have a dog in the...    IND\n",
      "18  74831           @USER Trump kicks dem butt - its so fun.    IND\n",
      "       id                                              tweet target\n",
      "2   52415  @USER was literally just talking about this lo...    GRP\n",
      "7   12681  @USER @USER Kind of like when conservatives wa...    GRP\n",
      "8   82904  @USER @USER Da fuck is going on people?   Ther...    GRP\n",
      "10  12609  The only thing the Democrats have is lying and...    GRP\n",
      "12  14726  @USER @USER @USER That's expected if you placa...    GRP\n",
      "13  84102  4 out of 10 British people are basically full-...    GRP\n",
      "23  64429  @USER I mean it worked for gun control right? URL    GRP\n",
      "28  52252                                      @USER Fuck em    GRP\n",
      "35  28812  @USER This all I get 😢 damn these haters delet...    GRP\n",
      "38  96789  @USER if the reason for Farakans illegal value...    GRP\n",
      "        id                                              tweet target\n",
      "1    97670                  @USER Liberals are all Kookoo !!!    OTH\n",
      "5    28195  @USER @USER @USER gun control! That is all the...    OTH\n",
      "15   33853  @USER @USER The prison system is so fucked.  W...    OTH\n",
      "22   47153  @USER @USER @USER They are obstructionists. An...    OTH\n",
      "59   28985  I'm Assuming I'm Not Going to Get an Answer': ...    OTH\n",
      "67   86477  @USER @USER @USER @USER @USER @USER @USER @USE...    OTH\n",
      "103  51053  10kids from different women from this American...    OTH\n",
      "106  82171  @USER @USER Because 45% of Americans are too l...    OTH\n",
      "110  55051  @USER @USER @USER @USER @USER @USER This is th...    OTH\n",
      "141  33095                                        @USER Awful    OTH\n"
     ]
    }
   ],
   "source": [
    "# dataset.drop(columns=['sentiment'], inplace=True)\n",
    "# dataset.head(n=10)\n",
    "\n",
    "\n",
    "print(dataset[dataset.target == 'IND'].head(n=10))\n",
    "\n",
    "print(dataset[dataset.target == 'GRP'].head(n=10))\n",
    "\n",
    "print(dataset[dataset.target == 'OTH'].head(n=10))"
   ]
  },
  {
   "cell_type": "code",
   "execution_count": 6,
   "metadata": {},
   "outputs": [
    {
     "name": "stdout",
     "output_type": "stream",
     "text": [
      "TIN    4921\n",
      "UNT    3354\n",
      "Name: target, dtype: int64\n"
     ]
    }
   ],
   "source": [
    "imperium_dataset = pd.read_csv(\"../finaltask_b.csv\", usecols = ['Tweets','id','subtask_b'])\n",
    "imperium_dataset.columns = ['tweet', 'id', 'target']\n",
    "imperium_dataset.head(n=10)\n",
    "\n",
    "\n",
    "imperium_dataset = imperium_dataset[['id', 'tweet', 'target']]\n",
    "imperium_dataset.head(n=10)\n",
    "print(imperium_dataset.target.value_counts())"
   ]
  },
  {
   "cell_type": "code",
   "execution_count": 7,
   "metadata": {},
   "outputs": [
    {
     "name": "stdout",
     "output_type": "stream",
     "text": [
      "TIN    8795\n",
      "UNT    3878\n",
      "Name: target, dtype: int64\n",
      "id        4400\n",
      "tweet     8275\n",
      "target    8275\n",
      "dtype: int64\n"
     ]
    },
    {
     "name": "stderr",
     "output_type": "stream",
     "text": [
      "c:\\users\\dyanesh\\anaconda3\\envs\\deep_learning\\lib\\site-packages\\pandas\\core\\frame.py:6211: FutureWarning: Sorting because non-concatenation axis is not aligned. A future version\n",
      "of pandas will change to not sort by default.\n",
      "\n",
      "To accept the future behavior, pass 'sort=False'.\n",
      "\n",
      "To retain the current behavior and silence the warning, pass 'sort=True'.\n",
      "\n",
      "  sort=sort)\n"
     ]
    }
   ],
   "source": [
    "dataset = dataset.append(imperium_dataset, sort=False)\n",
    "print(dataset.target.value_counts())\n",
    "\n",
    "dataset = imperium_dataset\n",
    "print(dataset.count())"
   ]
  },
  {
   "cell_type": "code",
   "execution_count": 3,
   "metadata": {},
   "outputs": [],
   "source": [
    "import preprocess as pp"
   ]
  },
  {
   "cell_type": "code",
   "execution_count": 23,
   "metadata": {},
   "outputs": [
    {
     "name": "stdout",
     "output_type": "stream",
     "text": [
      "Reading twitter - 1grams ...\n",
      "Reading twitter - 2grams ...\n"
     ]
    }
   ],
   "source": [
    "clean_tweet = pp.clean_HTML(dataset.tweet)\n",
    "clean_tweet = pp.clean_emoticons(clean_tweet)\n",
    "clean_tweet = pp.clean_emojis(clean_tweet)\n",
    "clean_tweet = pp.clean_tokens(clean_tweet)\n",
    "clean_tweet = pp.clean_mentions(clean_tweet)\n",
    "clean_tweet = pp.clean_hashtags(clean_tweet)\n",
    "clean_tweet = pp.expand_contractions(clean_tweet)\n",
    "clean_tweet = pp.lemmatize(clean_tweet)\n",
    "#clean_tweet = pp.remove_stop_words(clean_tweet)\n",
    "clean_tweet = pp.clean_censored_words(clean_tweet)\n",
    "clean_tweet = pp.remove_punctuators(clean_tweet)"
   ]
  },
  {
   "cell_type": "code",
   "execution_count": 32,
   "metadata": {},
   "outputs": [
    {
     "data": {
      "text/html": [
       "<div>\n",
       "<style scoped>\n",
       "    .dataframe tbody tr th:only-of-type {\n",
       "        vertical-align: middle;\n",
       "    }\n",
       "\n",
       "    .dataframe tbody tr th {\n",
       "        vertical-align: top;\n",
       "    }\n",
       "\n",
       "    .dataframe thead th {\n",
       "        text-align: right;\n",
       "    }\n",
       "</style>\n",
       "<table border=\"1\" class=\"dataframe\">\n",
       "  <thead>\n",
       "    <tr style=\"text-align: right;\">\n",
       "      <th></th>\n",
       "      <th>id</th>\n",
       "      <th>tweet</th>\n",
       "      <th>target</th>\n",
       "      <th>clean_tweet</th>\n",
       "    </tr>\n",
       "  </thead>\n",
       "  <tbody>\n",
       "    <tr>\n",
       "      <th>0</th>\n",
       "      <td>90194</td>\n",
       "      <td>@USER @USER Go home you’re drunk!!! @USER #MAG...</td>\n",
       "      <td>IND</td>\n",
       "      <td>go home you be drunk maga trump 2020</td>\n",
       "    </tr>\n",
       "    <tr>\n",
       "      <th>1</th>\n",
       "      <td>97670</td>\n",
       "      <td>@USER Liberals are all Kookoo !!!</td>\n",
       "      <td>OTH</td>\n",
       "      <td>liberals be all kookoo</td>\n",
       "    </tr>\n",
       "    <tr>\n",
       "      <th>2</th>\n",
       "      <td>52415</td>\n",
       "      <td>@USER was literally just talking about this lo...</td>\n",
       "      <td>GRP</td>\n",
       "      <td>be literally just talk about this lol all mass...</td>\n",
       "    </tr>\n",
       "    <tr>\n",
       "      <th>3</th>\n",
       "      <td>13384</td>\n",
       "      <td>@USER Canada doesn’t need another CUCK! We alr...</td>\n",
       "      <td>IND</td>\n",
       "      <td>canada do not need another cuck we already hav...</td>\n",
       "    </tr>\n",
       "    <tr>\n",
       "      <th>4</th>\n",
       "      <td>28414</td>\n",
       "      <td>@USER you are a lying corrupt traitor!!! Nobod...</td>\n",
       "      <td>IND</td>\n",
       "      <td>you be a lie corrupt traitor nobody want to he...</td>\n",
       "    </tr>\n",
       "    <tr>\n",
       "      <th>5</th>\n",
       "      <td>28195</td>\n",
       "      <td>@USER @USER @USER gun control! That is all the...</td>\n",
       "      <td>OTH</td>\n",
       "      <td>gun control that be all these kid be ask for</td>\n",
       "    </tr>\n",
       "    <tr>\n",
       "      <th>6</th>\n",
       "      <td>56117</td>\n",
       "      <td>@USER @USER @USER @USER LOL!!!   Throwing the ...</td>\n",
       "      <td>IND</td>\n",
       "      <td>lol throwing the bullshit flag on such nonsens...</td>\n",
       "    </tr>\n",
       "    <tr>\n",
       "      <th>7</th>\n",
       "      <td>12681</td>\n",
       "      <td>@USER @USER Kind of like when conservatives wa...</td>\n",
       "      <td>GRP</td>\n",
       "      <td>kind of like when conservative wanna associate...</td>\n",
       "    </tr>\n",
       "    <tr>\n",
       "      <th>8</th>\n",
       "      <td>82904</td>\n",
       "      <td>@USER @USER Da fuck is going on people?   Ther...</td>\n",
       "      <td>GRP</td>\n",
       "      <td>da fuck be go on people theres the mens room a...</td>\n",
       "    </tr>\n",
       "    <tr>\n",
       "      <th>9</th>\n",
       "      <td>77665</td>\n",
       "      <td>@USER Tbh these days i just don't like people ...</td>\n",
       "      <td>IND</td>\n",
       "      <td>tbh these day i just do not like people in gen...</td>\n",
       "    </tr>\n",
       "  </tbody>\n",
       "</table>\n",
       "</div>"
      ],
      "text/plain": [
       "      id                                              tweet target  \\\n",
       "0  90194  @USER @USER Go home you’re drunk!!! @USER #MAG...    IND   \n",
       "1  97670                  @USER Liberals are all Kookoo !!!    OTH   \n",
       "2  52415  @USER was literally just talking about this lo...    GRP   \n",
       "3  13384  @USER Canada doesn’t need another CUCK! We alr...    IND   \n",
       "4  28414  @USER you are a lying corrupt traitor!!! Nobod...    IND   \n",
       "5  28195  @USER @USER @USER gun control! That is all the...    OTH   \n",
       "6  56117  @USER @USER @USER @USER LOL!!!   Throwing the ...    IND   \n",
       "7  12681  @USER @USER Kind of like when conservatives wa...    GRP   \n",
       "8  82904  @USER @USER Da fuck is going on people?   Ther...    GRP   \n",
       "9  77665  @USER Tbh these days i just don't like people ...    IND   \n",
       "\n",
       "                                         clean_tweet  \n",
       "0               go home you be drunk maga trump 2020  \n",
       "1                            liberals be all kookoo   \n",
       "2  be literally just talk about this lol all mass...  \n",
       "3  canada do not need another cuck we already hav...  \n",
       "4  you be a lie corrupt traitor nobody want to he...  \n",
       "5       gun control that be all these kid be ask for  \n",
       "6  lol throwing the bullshit flag on such nonsens...  \n",
       "7  kind of like when conservative wanna associate...  \n",
       "8  da fuck be go on people theres the mens room a...  \n",
       "9  tbh these day i just do not like people in gen...  "
      ]
     },
     "execution_count": 32,
     "metadata": {},
     "output_type": "execute_result"
    }
   ],
   "source": [
    "dataset['clean_tweet'] = clean_tweet\n",
    "# dataset.drop(columns = ['sentiment'], inplace = True)\n",
    "dataset.head(n=10)"
   ]
  },
  {
   "cell_type": "code",
   "execution_count": 11,
   "metadata": {},
   "outputs": [],
   "source": [
    "import numpy as np\n",
    "\n",
    "def encode_labels(labels):\n",
    "    encoded_labels = []\n",
    "    for label in labels:\n",
    "        if label == 'IND':\n",
    "            encoded_labels.append(0)\n",
    "        elif label == 'GRP':\n",
    "            encoded_labels.append(1)\n",
    "        else :\n",
    "            encoded_labels.append(2)\n",
    "    return np.asarray(encoded_labels)"
   ]
  },
  {
   "cell_type": "code",
   "execution_count": 33,
   "metadata": {},
   "outputs": [],
   "source": [
    "dataset['label'] = encode_labels(dataset.target)"
   ]
  },
  {
   "cell_type": "code",
   "execution_count": 34,
   "metadata": {},
   "outputs": [
    {
     "data": {
      "text/html": [
       "<div>\n",
       "<style scoped>\n",
       "    .dataframe tbody tr th:only-of-type {\n",
       "        vertical-align: middle;\n",
       "    }\n",
       "\n",
       "    .dataframe tbody tr th {\n",
       "        vertical-align: top;\n",
       "    }\n",
       "\n",
       "    .dataframe thead th {\n",
       "        text-align: right;\n",
       "    }\n",
       "</style>\n",
       "<table border=\"1\" class=\"dataframe\">\n",
       "  <thead>\n",
       "    <tr style=\"text-align: right;\">\n",
       "      <th></th>\n",
       "      <th>id</th>\n",
       "      <th>tweet</th>\n",
       "      <th>target</th>\n",
       "      <th>clean_tweet</th>\n",
       "      <th>label</th>\n",
       "    </tr>\n",
       "  </thead>\n",
       "  <tbody>\n",
       "    <tr>\n",
       "      <th>0</th>\n",
       "      <td>90194</td>\n",
       "      <td>@USER @USER Go home you’re drunk!!! @USER #MAG...</td>\n",
       "      <td>IND</td>\n",
       "      <td>go home you be drunk maga trump 2020</td>\n",
       "      <td>0</td>\n",
       "    </tr>\n",
       "    <tr>\n",
       "      <th>1</th>\n",
       "      <td>97670</td>\n",
       "      <td>@USER Liberals are all Kookoo !!!</td>\n",
       "      <td>OTH</td>\n",
       "      <td>liberals be all kookoo</td>\n",
       "      <td>2</td>\n",
       "    </tr>\n",
       "    <tr>\n",
       "      <th>2</th>\n",
       "      <td>52415</td>\n",
       "      <td>@USER was literally just talking about this lo...</td>\n",
       "      <td>GRP</td>\n",
       "      <td>be literally just talk about this lol all mass...</td>\n",
       "      <td>1</td>\n",
       "    </tr>\n",
       "    <tr>\n",
       "      <th>3</th>\n",
       "      <td>13384</td>\n",
       "      <td>@USER Canada doesn’t need another CUCK! We alr...</td>\n",
       "      <td>IND</td>\n",
       "      <td>canada do not need another cuck we already hav...</td>\n",
       "      <td>0</td>\n",
       "    </tr>\n",
       "    <tr>\n",
       "      <th>4</th>\n",
       "      <td>28414</td>\n",
       "      <td>@USER you are a lying corrupt traitor!!! Nobod...</td>\n",
       "      <td>IND</td>\n",
       "      <td>you be a lie corrupt traitor nobody want to he...</td>\n",
       "      <td>0</td>\n",
       "    </tr>\n",
       "    <tr>\n",
       "      <th>5</th>\n",
       "      <td>28195</td>\n",
       "      <td>@USER @USER @USER gun control! That is all the...</td>\n",
       "      <td>OTH</td>\n",
       "      <td>gun control that be all these kid be ask for</td>\n",
       "      <td>2</td>\n",
       "    </tr>\n",
       "    <tr>\n",
       "      <th>6</th>\n",
       "      <td>56117</td>\n",
       "      <td>@USER @USER @USER @USER LOL!!!   Throwing the ...</td>\n",
       "      <td>IND</td>\n",
       "      <td>lol throwing the bullshit flag on such nonsens...</td>\n",
       "      <td>0</td>\n",
       "    </tr>\n",
       "    <tr>\n",
       "      <th>7</th>\n",
       "      <td>12681</td>\n",
       "      <td>@USER @USER Kind of like when conservatives wa...</td>\n",
       "      <td>GRP</td>\n",
       "      <td>kind of like when conservative wanna associate...</td>\n",
       "      <td>1</td>\n",
       "    </tr>\n",
       "    <tr>\n",
       "      <th>8</th>\n",
       "      <td>82904</td>\n",
       "      <td>@USER @USER Da fuck is going on people?   Ther...</td>\n",
       "      <td>GRP</td>\n",
       "      <td>da fuck be go on people theres the mens room a...</td>\n",
       "      <td>1</td>\n",
       "    </tr>\n",
       "    <tr>\n",
       "      <th>9</th>\n",
       "      <td>77665</td>\n",
       "      <td>@USER Tbh these days i just don't like people ...</td>\n",
       "      <td>IND</td>\n",
       "      <td>tbh these day i just do not like people in gen...</td>\n",
       "      <td>0</td>\n",
       "    </tr>\n",
       "  </tbody>\n",
       "</table>\n",
       "</div>"
      ],
      "text/plain": [
       "      id                                              tweet target  \\\n",
       "0  90194  @USER @USER Go home you’re drunk!!! @USER #MAG...    IND   \n",
       "1  97670                  @USER Liberals are all Kookoo !!!    OTH   \n",
       "2  52415  @USER was literally just talking about this lo...    GRP   \n",
       "3  13384  @USER Canada doesn’t need another CUCK! We alr...    IND   \n",
       "4  28414  @USER you are a lying corrupt traitor!!! Nobod...    IND   \n",
       "5  28195  @USER @USER @USER gun control! That is all the...    OTH   \n",
       "6  56117  @USER @USER @USER @USER LOL!!!   Throwing the ...    IND   \n",
       "7  12681  @USER @USER Kind of like when conservatives wa...    GRP   \n",
       "8  82904  @USER @USER Da fuck is going on people?   Ther...    GRP   \n",
       "9  77665  @USER Tbh these days i just don't like people ...    IND   \n",
       "\n",
       "                                         clean_tweet  label  \n",
       "0               go home you be drunk maga trump 2020      0  \n",
       "1                            liberals be all kookoo       2  \n",
       "2  be literally just talk about this lol all mass...      1  \n",
       "3  canada do not need another cuck we already hav...      0  \n",
       "4  you be a lie corrupt traitor nobody want to he...      0  \n",
       "5       gun control that be all these kid be ask for      2  \n",
       "6  lol throwing the bullshit flag on such nonsens...      0  \n",
       "7  kind of like when conservative wanna associate...      1  \n",
       "8  da fuck be go on people theres the mens room a...      1  \n",
       "9  tbh these day i just do not like people in gen...      0  "
      ]
     },
     "execution_count": 34,
     "metadata": {},
     "output_type": "execute_result"
    }
   ],
   "source": [
    "dataset.head(n=10)"
   ]
  },
  {
   "cell_type": "code",
   "execution_count": 43,
   "metadata": {},
   "outputs": [
    {
     "name": "stdout",
     "output_type": "stream",
     "text": [
      "<class 'pandas.core.frame.DataFrame'>\n",
      "Int64Index: 1185 entries, 0 to 1930\n",
      "Data columns (total 5 columns):\n",
      "id             1185 non-null int64\n",
      "tweet          1185 non-null object\n",
      "target         1185 non-null object\n",
      "clean_tweet    1185 non-null object\n",
      "label          1185 non-null int32\n",
      "dtypes: int32(1), int64(1), object(3)\n",
      "memory usage: 50.9+ KB\n",
      "None\n",
      "<class 'pandas.core.frame.DataFrame'>\n",
      "Int64Index: 790 entries, 2 to 2896\n",
      "Data columns (total 5 columns):\n",
      "id             790 non-null int64\n",
      "tweet          790 non-null object\n",
      "target         790 non-null object\n",
      "clean_tweet    790 non-null object\n",
      "label          790 non-null int32\n",
      "dtypes: int32(1), int64(1), object(3)\n",
      "memory usage: 33.9+ KB\n",
      "None\n",
      "<class 'pandas.core.frame.DataFrame'>\n",
      "Int64Index: 395 entries, 1 to 3879\n",
      "Data columns (total 5 columns):\n",
      "id             395 non-null int64\n",
      "tweet          395 non-null object\n",
      "target         395 non-null object\n",
      "clean_tweet    395 non-null object\n",
      "label          395 non-null int32\n",
      "dtypes: int32(1), int64(1), object(3)\n",
      "memory usage: 17.0+ KB\n",
      "None\n",
      "IND    1185\n",
      "GRP     790\n",
      "OTH     395\n",
      "Name: target, dtype: int64\n"
     ]
    }
   ],
   "source": [
    "# Splitting the data according to our needs.\n",
    "\n",
    "length = len(dataset[dataset.label == 2])\n",
    "new_dataset_0 = dataset[dataset.label == 0].head(length*3)\n",
    "print(new_dataset_0.info())\n",
    "new_dataset_1 = dataset[dataset.label == 1].head(length*2)\n",
    "\n",
    "new_dataset_2 = dataset[dataset.label == 2]\n",
    "print(new_dataset_1.info())\n",
    "# print(dataset[dataset.label == 2])\n",
    "print(new_dataset_2.info())\n",
    "\n",
    "new_dataset = new_dataset_0.append(new_dataset_1.append(new_dataset_2))\n",
    "\n",
    "# new_dataset = new_dataset_0 + new_dataset_1 + new_dataset_2\n",
    "\n",
    "# dataset = new_dataset\n",
    "print(new_dataset.target.value_counts())"
   ]
  },
  {
   "cell_type": "code",
   "execution_count": 44,
   "metadata": {},
   "outputs": [],
   "source": [
    "dataset = new_dataset"
   ]
  },
  {
   "cell_type": "code",
   "execution_count": 106,
   "metadata": {},
   "outputs": [
    {
     "name": "stdout",
     "output_type": "stream",
     "text": [
      "62\n"
     ]
    }
   ],
   "source": [
    "from sklearn.model_selection import train_test_split\n",
    "import keras\n",
    "seed = 2000\n",
    "\n",
    "X = dataset.clean_tweet\n",
    "y = dataset.label\n",
    "\n",
    "X_train, X_validation, y_train, y_validation = train_test_split(X, y, test_size=.2, random_state=seed)\n",
    "max_len = max([len(x.split()) for x in X_train])\n",
    "print(max_len)\n",
    "\n",
    "# X_train, X_validation_and_test, y_train, y_validation_and_test = train_test_split(X, y, test_size=.2, random_state=seed)\n",
    "\n",
    "# X_validation, X_test, y_validation, y_test = train_test_split(X_validation_and_test, y_validation_and_test, test_size=.5, random_state=seed)\n",
    "\n",
    "\n",
    "\n",
    "y_train=keras.utils.to_categorical(y_train)\n",
    "y_validation=keras.utils.to_categorical(y_validation)\n",
    "y_test=keras.utils.to_categorical(y_test)"
   ]
  },
  {
   "cell_type": "code",
   "execution_count": 47,
   "metadata": {},
   "outputs": [
    {
     "name": "stderr",
     "output_type": "stream",
     "text": [
      "c:\\users\\dyanesh\\anaconda3\\envs\\deep_learning\\lib\\site-packages\\gensim\\utils.py:1212: UserWarning: detected Windows; aliasing chunkize to chunkize_serial\n",
      "  warnings.warn(\"detected Windows; aliasing chunkize to chunkize_serial\")\n"
     ]
    }
   ],
   "source": [
    "from tqdm import tqdm\n",
    "tqdm.pandas(desc=\"progress-bar\")\n",
    "import gensim\n",
    "from gensim.models.word2vec import Word2Vec\n",
    "from gensim.models.doc2vec import TaggedDocument\n",
    "import multiprocessing\n",
    "from sklearn import utils"
   ]
  },
  {
   "cell_type": "code",
   "execution_count": 48,
   "metadata": {},
   "outputs": [],
   "source": [
    "def labelize_tweets_ug(tweets,label):\n",
    "    result = []\n",
    "    prefix = label\n",
    "    for i, t in zip(tweets.index, tweets):\n",
    "        result.append(TaggedDocument(t.split(), [prefix + '_%s' % i]))\n",
    "    return result"
   ]
  },
  {
   "cell_type": "code",
   "execution_count": 107,
   "metadata": {},
   "outputs": [],
   "source": [
    "all_x = pd.concat([X_train, X_validation])\n",
    "all_x_w2v = labelize_tweets_ug(all_x, 'all')"
   ]
  },
  {
   "cell_type": "code",
   "execution_count": 108,
   "metadata": {},
   "outputs": [
    {
     "name": "stderr",
     "output_type": "stream",
     "text": [
      "100%|██████████████████████████████████████████████████████████████████████████| 2370/2370 [00:00<00:00, 151948.95it/s]\n"
     ]
    }
   ],
   "source": [
    "cores = multiprocessing.cpu_count()\n",
    "model_ug_cbow = Word2Vec(sg=0, size=100, negative=5, window=2, min_count=2, workers=cores, alpha=0.065, min_alpha=0.065)\n",
    "model_ug_cbow.build_vocab([x.words for x in tqdm(all_x_w2v)])"
   ]
  },
  {
   "cell_type": "code",
   "execution_count": 109,
   "metadata": {},
   "outputs": [
    {
     "name": "stderr",
     "output_type": "stream",
     "text": [
      "100%|██████████████████████████████████████████████████████████████████████████████████████| 2370/2370 [00:00<?, ?it/s]\n",
      "100%|██████████████████████████████████████████████████████████████████████████████████████| 2370/2370 [00:00<?, ?it/s]\n",
      "100%|██████████████████████████████████████████████████████████████████████████████████████| 2370/2370 [00:00<?, ?it/s]\n",
      "100%|██████████████████████████████████████████████████████████████████████████| 2370/2370 [00:00<00:00, 597098.78it/s]\n",
      "100%|██████████████████████████████████████████████████████████████████████████████████████| 2370/2370 [00:00<?, ?it/s]\n",
      "100%|██████████████████████████████████████████████████████████████████████████████████████| 2370/2370 [00:00<?, ?it/s]\n",
      "100%|██████████████████████████████████████████████████████████████████████████████████████| 2370/2370 [00:00<?, ?it/s]\n",
      "100%|██████████████████████████████████████████████████████████████████████████████████████| 2370/2370 [00:00<?, ?it/s]\n",
      "100%|██████████████████████████████████████████████████████████████████████████████████████| 2370/2370 [00:00<?, ?it/s]\n",
      "100%|██████████████████████████████████████████████████████████████████████████████████████| 2370/2370 [00:00<?, ?it/s]\n",
      "100%|██████████████████████████████████████████████████████████████████████████████████████| 2370/2370 [00:00<?, ?it/s]\n",
      "100%|██████████████████████████████████████████████████████████████████████████████████████| 2370/2370 [00:00<?, ?it/s]\n",
      "100%|██████████████████████████████████████████████████████████████████████████████████████| 2370/2370 [00:00<?, ?it/s]\n",
      "100%|██████████████████████████████████████████████████████████████████████████████████████| 2370/2370 [00:00<?, ?it/s]\n",
      "100%|██████████████████████████████████████████████████████████████████████████████████████| 2370/2370 [00:00<?, ?it/s]\n",
      "100%|██████████████████████████████████████████████████████████████████████████████████████| 2370/2370 [00:00<?, ?it/s]\n",
      "100%|██████████████████████████████████████████████████████████████████████████████████████| 2370/2370 [00:00<?, ?it/s]\n",
      "100%|██████████████████████████████████████████████████████████████████████████████████████| 2370/2370 [00:00<?, ?it/s]\n",
      "100%|██████████████████████████████████████████████████████████████████████████████████████| 2370/2370 [00:00<?, ?it/s]\n",
      "100%|██████████████████████████████████████████████████████████████████████████████████████| 2370/2370 [00:00<?, ?it/s]\n",
      "100%|██████████████████████████████████████████████████████████████████████████████████████| 2370/2370 [00:00<?, ?it/s]\n",
      "100%|██████████████████████████████████████████████████████████████████████████████████████| 2370/2370 [00:00<?, ?it/s]\n",
      "100%|█████████████████████████████████████████████████████████████████████████| 2370/2370 [00:00<00:00, 8735061.93it/s]\n",
      "100%|██████████████████████████████████████████████████████████████████████████████████████| 2370/2370 [00:00<?, ?it/s]\n",
      "100%|██████████████████████████████████████████████████████████████████████████████████████| 2370/2370 [00:00<?, ?it/s]\n",
      "100%|██████████████████████████████████████████████████████████████████████████████████████| 2370/2370 [00:00<?, ?it/s]\n",
      "100%|██████████████████████████████████████████████████████████████████████████████████████| 2370/2370 [00:00<?, ?it/s]\n",
      "100%|██████████████████████████████████████████████████████████████████████████████████████| 2370/2370 [00:00<?, ?it/s]\n",
      "100%|██████████████████████████████████████████████████████████████████████████| 2370/2370 [00:00<00:00, 594812.14it/s]\n",
      "100%|█████████████████████████████████████████████████████████████████████████| 2370/2370 [00:00<00:00, 2332355.81it/s]\n"
     ]
    }
   ],
   "source": [
    "for epoch in range(30):\n",
    "    model_ug_cbow.train(utils.shuffle([x.words for x in tqdm(all_x_w2v)]), total_examples=len(all_x_w2v), epochs=1)\n",
    "    model_ug_cbow.alpha -= 0.002\n",
    "    model_ug_cbow.min_alpha = model_ug_cbow.alpha"
   ]
  },
  {
   "cell_type": "code",
   "execution_count": 110,
   "metadata": {
    "scrolled": true
   },
   "outputs": [
    {
     "name": "stderr",
     "output_type": "stream",
     "text": [
      "100%|██████████████████████████████████████████████████████████████████████████████████████| 2370/2370 [00:00<?, ?it/s]\n"
     ]
    }
   ],
   "source": [
    "model_ug_sg = Word2Vec(sg=1, size=100, negative=5, window=2, min_count=2, workers=cores, alpha=0.065, min_alpha=0.065)\n",
    "model_ug_sg.build_vocab([x.words for x in tqdm(all_x_w2v)])"
   ]
  },
  {
   "cell_type": "code",
   "execution_count": 111,
   "metadata": {},
   "outputs": [
    {
     "name": "stderr",
     "output_type": "stream",
     "text": [
      "100%|██████████████████████████████████████████████████████████████████████████████████████| 2370/2370 [00:00<?, ?it/s]\n",
      "100%|██████████████████████████████████████████████████████████████████████████████████████| 2370/2370 [00:00<?, ?it/s]\n",
      "100%|██████████████████████████████████████████████████████████████████████████| 2370/2370 [00:00<00:00, 153639.88it/s]\n",
      "100%|██████████████████████████████████████████████████████████████████████████| 2370/2370 [00:00<00:00, 439126.23it/s]\n",
      "100%|██████████████████████████████████████████████████████████████████████████████████████| 2370/2370 [00:00<?, ?it/s]\n",
      "100%|██████████████████████████████████████████████████████████████████████████| 2370/2370 [00:00<00:00, 151756.42it/s]\n",
      "100%|██████████████████████████████████████████████████████████████████████████████████████| 2370/2370 [00:00<?, ?it/s]\n",
      "100%|██████████████████████████████████████████████████████████████████████████| 2370/2370 [00:00<00:00, 525952.41it/s]\n",
      "100%|██████████████████████████████████████████████████████████████████████████████████████| 2370/2370 [00:00<?, ?it/s]\n",
      "100%|██████████████████████████████████████████████████████████████████████████████████████| 2370/2370 [00:00<?, ?it/s]\n",
      "100%|██████████████████████████████████████████████████████████████████████████████████████| 2370/2370 [00:00<?, ?it/s]\n",
      "100%|██████████████████████████████████████████████████████████████████████████████████████| 2370/2370 [00:00<?, ?it/s]\n",
      "100%|██████████████████████████████████████████████████████████████████████████████████████| 2370/2370 [00:00<?, ?it/s]\n",
      "100%|█████████████████████████████████████████████████████████████████████████| 2370/2370 [00:00<00:00, 2344457.66it/s]\n",
      "100%|██████████████████████████████████████████████████████████████████████████████████████| 2370/2370 [00:00<?, ?it/s]\n",
      "100%|██████████████████████████████████████████████████████████████████████████████████████| 2370/2370 [00:00<?, ?it/s]\n",
      "100%|██████████████████████████████████████████████████████████████████████████████████████| 2370/2370 [00:00<?, ?it/s]\n",
      "100%|██████████████████████████████████████████████████████████████████████████████████████| 2370/2370 [00:00<?, ?it/s]\n",
      "100%|██████████████████████████████████████████████████████████████████████████████████████| 2370/2370 [00:00<?, ?it/s]\n",
      "100%|██████████████████████████████████████████████████████████████████████████| 2370/2370 [00:00<00:00, 196650.78it/s]\n",
      "100%|██████████████████████████████████████████████████████████████████████████████████████| 2370/2370 [00:00<?, ?it/s]\n",
      "100%|██████████████████████████████████████████████████████████████████████████████████████| 2370/2370 [00:00<?, ?it/s]\n",
      "100%|██████████████████████████████████████████████████████████████████████████████████████| 2370/2370 [00:00<?, ?it/s]\n",
      "100%|██████████████████████████████████████████████████████████████████████████| 2370/2370 [00:00<00:00, 151453.52it/s]\n",
      "100%|██████████████████████████████████████████████████████████████████████████████████████| 2370/2370 [00:00<?, ?it/s]\n",
      "100%|██████████████████████████████████████████████████████████████████████████| 2370/2370 [00:00<00:00, 151603.66it/s]\n",
      "100%|██████████████████████████████████████████████████████████████████████████████████████| 2370/2370 [00:00<?, ?it/s]\n",
      "100%|██████████████████████████████████████████████████████████████████████████| 2370/2370 [00:00<00:00, 151663.80it/s]\n",
      "100%|██████████████████████████████████████████████████████████████████████████████████████| 2370/2370 [00:00<?, ?it/s]\n",
      "100%|██████████████████████████████████████████████████████████████████████████████████████| 2370/2370 [00:00<?, ?it/s]\n"
     ]
    },
    {
     "name": "stdout",
     "output_type": "stream",
     "text": [
      "Wall time: 2.09 s\n"
     ]
    }
   ],
   "source": [
    "%%time\n",
    "for epoch in range(30):\n",
    "    model_ug_sg.train(utils.shuffle([x.words for x in tqdm(all_x_w2v)]), total_examples=len(all_x_w2v), epochs=1)\n",
    "    model_ug_sg.alpha -= 0.002\n",
    "    model_ug_sg.min_alpha = model_ug_sg.alpha\n"
   ]
  },
  {
   "cell_type": "code",
   "execution_count": 112,
   "metadata": {},
   "outputs": [],
   "source": [
    "model_ug_cbow.save('w2v_model_ug_cbow.word2vec')\n",
    "model_ug_sg.save('w2v_model_ug_sg.word2vec')"
   ]
  },
  {
   "cell_type": "code",
   "execution_count": 113,
   "metadata": {},
   "outputs": [],
   "source": [
    "from gensim.models import KeyedVectors\n",
    "model_ug_cbow = KeyedVectors.load('w2v_model_ug_cbow.word2vec')\n",
    "model_ug_sg = KeyedVectors.load('w2v_model_ug_sg.word2vec')"
   ]
  },
  {
   "cell_type": "code",
   "execution_count": 114,
   "metadata": {},
   "outputs": [
    {
     "name": "stdout",
     "output_type": "stream",
     "text": [
      "Found 2941 word vectors.\n"
     ]
    }
   ],
   "source": [
    "embeddings_index = {}\n",
    "for w in model_ug_cbow.wv.vocab.keys():\n",
    "    embeddings_index[w] = np.append(model_ug_cbow.wv[w],model_ug_sg.wv[w])\n",
    "print('Found %s word vectors.' % len(embeddings_index))"
   ]
  },
  {
   "cell_type": "code",
   "execution_count": 115,
   "metadata": {},
   "outputs": [],
   "source": [
    "from keras.preprocessing.text import Tokenizer\n",
    "from keras.preprocessing.sequence import pad_sequences\n",
    "\n",
    "tokenizer = Tokenizer(num_words=20000)\n",
    "tokenizer.fit_on_texts(X_train)\n",
    "sequences = tokenizer.texts_to_sequences(X_train)"
   ]
  },
  {
   "cell_type": "code",
   "execution_count": 116,
   "metadata": {},
   "outputs": [],
   "source": [
    "max_len = max([len(x.split()) for x in X_train])\n",
    "X_train_seq = pad_sequences(sequences, maxlen=max_len)\n",
    "sequences_val = tokenizer.texts_to_sequences(X_validation)\n",
    "X_val_seq = pad_sequences(sequences_val, maxlen=max_len)"
   ]
  },
  {
   "cell_type": "code",
   "execution_count": 117,
   "metadata": {},
   "outputs": [],
   "source": [
    "num_words = 20000\n",
    "embedding_dim = 200\n",
    "embedding_matrix = np.zeros((num_words, embedding_dim))\n",
    "for word, i in tokenizer.word_index.items():\n",
    "    if i >= num_words:\n",
    "        continue\n",
    "    embedding_vector = embeddings_index.get(word)\n",
    "    if embedding_vector is not None:\n",
    "        embedding_matrix[i] = embedding_vector"
   ]
  },
  {
   "cell_type": "code",
   "execution_count": 60,
   "metadata": {},
   "outputs": [],
   "source": [
    "from keras.models import Sequential\n",
    "from keras.layers import Dense, Dropout\n",
    "from keras.layers import Flatten\n",
    "from keras.layers.embeddings import Embedding\n",
    "from keras.layers import Conv1D, GlobalMaxPooling1D\n",
    "from keras.layers import Input, Dense, concatenate, Activation\n",
    "from keras.models import Model"
   ]
  },
  {
   "cell_type": "code",
   "execution_count": 118,
   "metadata": {},
   "outputs": [
    {
     "name": "stdout",
     "output_type": "stream",
     "text": [
      "__________________________________________________________________________________________________\n",
      "Layer (type)                    Output Shape         Param #     Connected to                     \n",
      "==================================================================================================\n",
      "input_12 (InputLayer)           (None, 62)           0                                            \n",
      "__________________________________________________________________________________________________\n",
      "embedding_15 (Embedding)        (None, 62, 200)      4000000     input_12[0][0]                   \n",
      "__________________________________________________________________________________________________\n",
      "conv1d_32 (Conv1D)              (None, 61, 100)      40100       embedding_15[0][0]               \n",
      "__________________________________________________________________________________________________\n",
      "conv1d_33 (Conv1D)              (None, 60, 100)      60100       embedding_15[0][0]               \n",
      "__________________________________________________________________________________________________\n",
      "conv1d_34 (Conv1D)              (None, 59, 100)      80100       embedding_15[0][0]               \n",
      "__________________________________________________________________________________________________\n",
      "global_max_pooling1d_32 (Global (None, 100)          0           conv1d_32[0][0]                  \n",
      "__________________________________________________________________________________________________\n",
      "global_max_pooling1d_33 (Global (None, 100)          0           conv1d_33[0][0]                  \n",
      "__________________________________________________________________________________________________\n",
      "global_max_pooling1d_34 (Global (None, 100)          0           conv1d_34[0][0]                  \n",
      "__________________________________________________________________________________________________\n",
      "concatenate_10 (Concatenate)    (None, 300)          0           global_max_pooling1d_32[0][0]    \n",
      "                                                                 global_max_pooling1d_33[0][0]    \n",
      "                                                                 global_max_pooling1d_34[0][0]    \n",
      "__________________________________________________________________________________________________\n",
      "dense_27 (Dense)                (None, 256)          77056       concatenate_10[0][0]             \n",
      "__________________________________________________________________________________________________\n",
      "dropout_11 (Dropout)            (None, 256)          0           dense_27[0][0]                   \n",
      "__________________________________________________________________________________________________\n",
      "dense_28 (Dense)                (None, 3)            771         dropout_11[0][0]                 \n",
      "__________________________________________________________________________________________________\n",
      "activation_6 (Activation)       (None, 3)            0           dense_28[0][0]                   \n",
      "==================================================================================================\n",
      "Total params: 4,258,127\n",
      "Trainable params: 4,258,127\n",
      "Non-trainable params: 0\n",
      "__________________________________________________________________________________________________\n"
     ]
    }
   ],
   "source": [
    "tweet_input = Input(shape=(max_len,), dtype='int32')\n",
    "\n",
    "tweet_encoder = Embedding(num_words, embedding_dim, weights=[embedding_matrix], input_length=max_len, trainable=True)(tweet_input)\n",
    "bigram_branch = Conv1D(filters=100, kernel_size=2, padding='valid', activation='relu', strides=1)(tweet_encoder)\n",
    "bigram_branch = GlobalMaxPooling1D()(bigram_branch)\n",
    "trigram_branch = Conv1D(filters=100, kernel_size=3, padding='valid', activation='relu', strides=1)(tweet_encoder)\n",
    "trigram_branch = GlobalMaxPooling1D()(trigram_branch)\n",
    "fourgram_branch = Conv1D(filters=100, kernel_size=4, padding='valid', activation='relu', strides=1)(tweet_encoder)\n",
    "fourgram_branch = GlobalMaxPooling1D()(fourgram_branch)\n",
    "merged = concatenate([bigram_branch, trigram_branch, fourgram_branch], axis=1)\n",
    "\n",
    "merged = Dense(256, activation='relu')(merged)\n",
    "merged = Dropout(0.2)(merged)\n",
    "merged = Dense(3)(merged)\n",
    "\n",
    "\n",
    "\n",
    "# model = Sequential()\n",
    "# model.add(Embedding(num_words, embedding_dim, weights=[embedding_matrix], input_length=max_len, trainable=True))\n",
    "# model.add(Conv1D(filters=100, kernel_size=2, padding='valid', activation='relu', strides=1))\n",
    "# model.add(GlobalMaxPooling1D())\n",
    "\n",
    "\n",
    "# output = Dense(256,activation='relu')(bigram_branch)\n",
    "# output = Dropout(0.2)(output)\n",
    "# output = Dense(3)(output)\n",
    "output = Activation('softmax')(merged)\n",
    "\n",
    "# model.add(Dense(256,activation='relu'))\n",
    "# model.add(Dense(3,input_shape=(1,),activation='softmax'))\n",
    "\n",
    "\n",
    "\n",
    "\n",
    "\n",
    "\n",
    "model = Model(inputs=[tweet_input], outputs=[output])\n",
    "model.compile(loss='categorical_crossentropy', optimizer='adam', metrics=['accuracy'])\n",
    "model.summary()\n",
    "\n",
    "\n",
    "\n",
    "\n",
    "\n",
    "\n",
    "# inputs = Input(shape=(max_len, ))\n",
    "# embedding_layer = Embedding(num_words,embedding_dim, weights=[embedding_matrix], input_length=max_len, trainable=True)(inputs)\n",
    "# x = Flatten()(embedding_layer)\n",
    "# x = Dense(32, activation='relu')(x)\n",
    "\n",
    "# predictions = Dense(3, activation='softmax')(x)\n",
    "# model = Model(inputs=[inputs], outputs=predictions)\n",
    "# model.compile(optimizer='adam', loss='categorical_crossentropy', metrics=['acc'])\n",
    "\n",
    "# model.summary()\n",
    "\n",
    "\n"
   ]
  },
  {
   "cell_type": "code",
   "execution_count": 119,
   "metadata": {},
   "outputs": [
    {
     "name": "stdout",
     "output_type": "stream",
     "text": [
      "Train on 1896 samples, validate on 474 samples\n",
      "Epoch 1/10\n",
      "1896/1896 [==============================] - ETA: 1:08 - loss: 1.3435 - acc: 0.375 - ETA: 23s - loss: 1.3088 - acc: 0.437 - ETA: 14s - loss: 1.4277 - acc: 0.46 - ETA: 10s - loss: 1.3788 - acc: 0.50 - ETA: 7s - loss: 1.2933 - acc: 0.5035 - ETA: 6s - loss: 1.2710 - acc: 0.497 - ETA: 5s - loss: 1.2618 - acc: 0.488 - ETA: 4s - loss: 1.2254 - acc: 0.493 - ETA: 4s - loss: 1.2048 - acc: 0.498 - ETA: 3s - loss: 1.1626 - acc: 0.516 - ETA: 3s - loss: 1.1718 - acc: 0.516 - ETA: 2s - loss: 1.1544 - acc: 0.517 - ETA: 2s - loss: 1.1313 - acc: 0.522 - ETA: 2s - loss: 1.1274 - acc: 0.518 - ETA: 2s - loss: 1.1061 - acc: 0.523 - ETA: 1s - loss: 1.0854 - acc: 0.528 - ETA: 1s - loss: 1.0782 - acc: 0.530 - ETA: 1s - loss: 1.0720 - acc: 0.534 - ETA: 1s - loss: 1.0668 - acc: 0.536 - ETA: 1s - loss: 1.0489 - acc: 0.546 - ETA: 0s - loss: 1.0409 - acc: 0.546 - ETA: 0s - loss: 1.0305 - acc: 0.551 - ETA: 0s - loss: 1.0351 - acc: 0.546 - ETA: 0s - loss: 1.0345 - acc: 0.546 - ETA: 0s - loss: 1.0317 - acc: 0.546 - ETA: 0s - loss: 1.0281 - acc: 0.549 - ETA: 0s - loss: 1.0239 - acc: 0.549 - ETA: 0s - loss: 1.0170 - acc: 0.552 - ETA: 0s - loss: 1.0155 - acc: 0.554 - 3s 2ms/step - loss: 1.0127 - acc: 0.5564 - val_loss: 0.8960 - val_acc: 0.6203\n",
      "\n",
      "Epoch 00001: val_acc improved from -inf to 0.62025, saving model to CNN_best_weights.01-0.6203.hdf5\n",
      "Epoch 2/10\n",
      "1896/1896 [==============================] - ETA: 1s - loss: 0.7723 - acc: 0.656 - ETA: 1s - loss: 0.7852 - acc: 0.635 - ETA: 1s - loss: 0.7473 - acc: 0.675 - ETA: 1s - loss: 0.7387 - acc: 0.687 - ETA: 1s - loss: 0.7133 - acc: 0.697 - ETA: 1s - loss: 0.7050 - acc: 0.698 - ETA: 1s - loss: 0.7237 - acc: 0.692 - ETA: 1s - loss: 0.7229 - acc: 0.689 - ETA: 1s - loss: 0.7127 - acc: 0.700 - ETA: 1s - loss: 0.7028 - acc: 0.703 - ETA: 1s - loss: 0.6958 - acc: 0.705 - ETA: 1s - loss: 0.6853 - acc: 0.705 - ETA: 0s - loss: 0.6818 - acc: 0.716 - ETA: 0s - loss: 0.6804 - acc: 0.721 - ETA: 0s - loss: 0.6721 - acc: 0.725 - ETA: 0s - loss: 0.6728 - acc: 0.722 - ETA: 0s - loss: 0.6688 - acc: 0.725 - ETA: 0s - loss: 0.6683 - acc: 0.725 - ETA: 0s - loss: 0.6736 - acc: 0.722 - ETA: 0s - loss: 0.6715 - acc: 0.724 - ETA: 0s - loss: 0.6744 - acc: 0.720 - ETA: 0s - loss: 0.6777 - acc: 0.718 - ETA: 0s - loss: 0.6750 - acc: 0.721 - ETA: 0s - loss: 0.6702 - acc: 0.725 - ETA: 0s - loss: 0.6773 - acc: 0.721 - ETA: 0s - loss: 0.6776 - acc: 0.721 - ETA: 0s - loss: 0.6856 - acc: 0.721 - ETA: 0s - loss: 0.6882 - acc: 0.718 - 2s 911us/step - loss: 0.6924 - acc: 0.7162 - val_loss: 1.0256 - val_acc: 0.5717\n",
      "\n",
      "Epoch 00002: val_acc did not improve from 0.62025\n",
      "Epoch 3/10\n",
      "1896/1896 [==============================] - ETA: 1s - loss: 0.5383 - acc: 0.687 - ETA: 1s - loss: 0.5054 - acc: 0.760 - ETA: 1s - loss: 0.5414 - acc: 0.756 - ETA: 1s - loss: 0.5289 - acc: 0.785 - ETA: 1s - loss: 0.5173 - acc: 0.819 - ETA: 1s - loss: 0.5033 - acc: 0.821 - ETA: 1s - loss: 0.4859 - acc: 0.826 - ETA: 1s - loss: 0.5117 - acc: 0.797 - ETA: 1s - loss: 0.5107 - acc: 0.795 - ETA: 1s - loss: 0.5112 - acc: 0.792 - ETA: 1s - loss: 0.5058 - acc: 0.799 - ETA: 0s - loss: 0.5076 - acc: 0.796 - ETA: 0s - loss: 0.5217 - acc: 0.789 - ETA: 0s - loss: 0.5182 - acc: 0.791 - ETA: 0s - loss: 0.5238 - acc: 0.790 - ETA: 0s - loss: 0.5271 - acc: 0.786 - ETA: 0s - loss: 0.5252 - acc: 0.789 - ETA: 0s - loss: 0.5206 - acc: 0.792 - ETA: 0s - loss: 0.5242 - acc: 0.787 - ETA: 0s - loss: 0.5168 - acc: 0.792 - ETA: 0s - loss: 0.5111 - acc: 0.793 - ETA: 0s - loss: 0.5066 - acc: 0.794 - ETA: 0s - loss: 0.5087 - acc: 0.794 - ETA: 0s - loss: 0.5087 - acc: 0.794 - ETA: 0s - loss: 0.5081 - acc: 0.795 - ETA: 0s - loss: 0.5104 - acc: 0.795 - ETA: 0s - loss: 0.5121 - acc: 0.795 - 2s 904us/step - loss: 0.5121 - acc: 0.7964 - val_loss: 0.9700 - val_acc: 0.6245\n",
      "\n",
      "Epoch 00003: val_acc improved from 0.62025 to 0.62447, saving model to CNN_best_weights.03-0.6245.hdf5\n",
      "Epoch 4/10\n",
      "1896/1896 [==============================] - ETA: 1s - loss: 0.1929 - acc: 0.968 - ETA: 1s - loss: 0.2397 - acc: 0.937 - ETA: 1s - loss: 0.3521 - acc: 0.864 - ETA: 1s - loss: 0.3243 - acc: 0.890 - ETA: 1s - loss: 0.3252 - acc: 0.890 - ETA: 1s - loss: 0.3128 - acc: 0.908 - ETA: 1s - loss: 0.3171 - acc: 0.904 - ETA: 1s - loss: 0.3133 - acc: 0.902 - ETA: 1s - loss: 0.3074 - acc: 0.903 - ETA: 1s - loss: 0.3056 - acc: 0.901 - ETA: 1s - loss: 0.3088 - acc: 0.900 - ETA: 0s - loss: 0.3020 - acc: 0.905 - ETA: 0s - loss: 0.2998 - acc: 0.905 - ETA: 0s - loss: 0.3035 - acc: 0.901 - ETA: 0s - loss: 0.3015 - acc: 0.902 - ETA: 0s - loss: 0.2973 - acc: 0.905 - ETA: 0s - loss: 0.2940 - acc: 0.907 - ETA: 0s - loss: 0.2916 - acc: 0.911 - ETA: 0s - loss: 0.2906 - acc: 0.913 - ETA: 0s - loss: 0.2863 - acc: 0.915 - ETA: 0s - loss: 0.2850 - acc: 0.914 - ETA: 0s - loss: 0.2831 - acc: 0.914 - ETA: 0s - loss: 0.2808 - acc: 0.915 - ETA: 0s - loss: 0.2800 - acc: 0.916 - ETA: 0s - loss: 0.2770 - acc: 0.917 - ETA: 0s - loss: 0.2748 - acc: 0.917 - ETA: 0s - loss: 0.2740 - acc: 0.917 - 2s 905us/step - loss: 0.2735 - acc: 0.9177 - val_loss: 1.0359 - val_acc: 0.5970\n",
      "\n",
      "Epoch 00004: val_acc did not improve from 0.62447\n",
      "Epoch 5/10\n",
      "1896/1896 [==============================] - ETA: 1s - loss: 0.1077 - acc: 1.000 - ETA: 1s - loss: 0.0908 - acc: 1.000 - ETA: 1s - loss: 0.1131 - acc: 0.993 - ETA: 1s - loss: 0.1065 - acc: 0.995 - ETA: 1s - loss: 0.1059 - acc: 0.989 - ETA: 1s - loss: 0.1242 - acc: 0.977 - ETA: 1s - loss: 0.1185 - acc: 0.980 - ETA: 1s - loss: 0.1239 - acc: 0.976 - ETA: 1s - loss: 0.1201 - acc: 0.979 - ETA: 1s - loss: 0.1168 - acc: 0.979 - ETA: 0s - loss: 0.1234 - acc: 0.975 - ETA: 0s - loss: 0.1210 - acc: 0.974 - ETA: 0s - loss: 0.1213 - acc: 0.975 - ETA: 0s - loss: 0.1209 - acc: 0.976 - ETA: 0s - loss: 0.1183 - acc: 0.977 - ETA: 0s - loss: 0.1165 - acc: 0.978 - ETA: 0s - loss: 0.1183 - acc: 0.978 - ETA: 0s - loss: 0.1197 - acc: 0.978 - ETA: 0s - loss: 0.1193 - acc: 0.979 - ETA: 0s - loss: 0.1179 - acc: 0.978 - ETA: 0s - loss: 0.1159 - acc: 0.979 - ETA: 0s - loss: 0.1145 - acc: 0.979 - ETA: 0s - loss: 0.1154 - acc: 0.979 - ETA: 0s - loss: 0.1141 - acc: 0.979 - ETA: 0s - loss: 0.1155 - acc: 0.978 - ETA: 0s - loss: 0.1152 - acc: 0.978 - ETA: 0s - loss: 0.1161 - acc: 0.977 - 2s 900us/step - loss: 0.1154 - acc: 0.9773 - val_loss: 1.3443 - val_acc: 0.5802\n",
      "\n",
      "Epoch 00005: val_acc did not improve from 0.62447\n",
      "Epoch 6/10\n",
      "1896/1896 [==============================] - ETA: 1s - loss: 0.0370 - acc: 1.000 - ETA: 1s - loss: 0.0384 - acc: 1.000 - ETA: 1s - loss: 0.0486 - acc: 1.000 - ETA: 1s - loss: 0.0490 - acc: 0.995 - ETA: 1s - loss: 0.0477 - acc: 0.996 - ETA: 1s - loss: 0.0491 - acc: 0.997 - ETA: 1s - loss: 0.0493 - acc: 0.997 - ETA: 1s - loss: 0.0471 - acc: 0.997 - ETA: 1s - loss: 0.0463 - acc: 0.998 - ETA: 1s - loss: 0.0462 - acc: 0.996 - ETA: 1s - loss: 0.0439 - acc: 0.997 - ETA: 1s - loss: 0.0434 - acc: 0.997 - ETA: 0s - loss: 0.0447 - acc: 0.996 - ETA: 0s - loss: 0.0453 - acc: 0.996 - ETA: 0s - loss: 0.0440 - acc: 0.996 - ETA: 0s - loss: 0.0429 - acc: 0.997 - ETA: 0s - loss: 0.0422 - acc: 0.997 - ETA: 0s - loss: 0.0444 - acc: 0.994 - ETA: 0s - loss: 0.0444 - acc: 0.994 - ETA: 0s - loss: 0.0441 - acc: 0.995 - ETA: 0s - loss: 0.0436 - acc: 0.995 - ETA: 0s - loss: 0.0445 - acc: 0.994 - ETA: 0s - loss: 0.0441 - acc: 0.995 - ETA: 0s - loss: 0.0437 - acc: 0.995 - ETA: 0s - loss: 0.0437 - acc: 0.995 - ETA: 0s - loss: 0.0428 - acc: 0.995 - ETA: 0s - loss: 0.0423 - acc: 0.995 - ETA: 0s - loss: 0.0423 - acc: 0.996 - ETA: 0s - loss: 0.0432 - acc: 0.995 - ETA: 0s - loss: 0.0435 - acc: 0.995 - 2s 897us/step - loss: 0.0434 - acc: 0.9953 - val_loss: 1.3178 - val_acc: 0.6013\n",
      "\n",
      "Epoch 00006: val_acc did not improve from 0.62447\n",
      "Epoch 7/10\n"
     ]
    },
    {
     "name": "stdout",
     "output_type": "stream",
     "text": [
      "1896/1896 [==============================] - ETA: 1s - loss: 0.0171 - acc: 1.000 - ETA: 1s - loss: 0.0232 - acc: 1.000 - ETA: 1s - loss: 0.0207 - acc: 1.000 - ETA: 1s - loss: 0.0216 - acc: 1.000 - ETA: 1s - loss: 0.0215 - acc: 1.000 - ETA: 1s - loss: 0.0209 - acc: 1.000 - ETA: 1s - loss: 0.0203 - acc: 1.000 - ETA: 1s - loss: 0.0197 - acc: 1.000 - ETA: 1s - loss: 0.0195 - acc: 1.000 - ETA: 1s - loss: 0.0193 - acc: 1.000 - ETA: 1s - loss: 0.0206 - acc: 0.998 - ETA: 1s - loss: 0.0201 - acc: 0.998 - ETA: 0s - loss: 0.0209 - acc: 0.998 - ETA: 0s - loss: 0.0211 - acc: 0.997 - ETA: 0s - loss: 0.0213 - acc: 0.997 - ETA: 0s - loss: 0.0206 - acc: 0.998 - ETA: 0s - loss: 0.0206 - acc: 0.998 - ETA: 0s - loss: 0.0205 - acc: 0.998 - ETA: 0s - loss: 0.0198 - acc: 0.998 - ETA: 0s - loss: 0.0193 - acc: 0.998 - ETA: 0s - loss: 0.0191 - acc: 0.998 - ETA: 0s - loss: 0.0188 - acc: 0.998 - ETA: 0s - loss: 0.0187 - acc: 0.998 - ETA: 0s - loss: 0.0184 - acc: 0.998 - ETA: 0s - loss: 0.0181 - acc: 0.998 - ETA: 0s - loss: 0.0179 - acc: 0.998 - ETA: 0s - loss: 0.0175 - acc: 0.998 - ETA: 0s - loss: 0.0178 - acc: 0.998 - ETA: 0s - loss: 0.0176 - acc: 0.998 - ETA: 0s - loss: 0.0177 - acc: 0.998 - 2s 898us/step - loss: 0.0177 - acc: 0.9989 - val_loss: 1.5031 - val_acc: 0.5675\n",
      "\n",
      "Epoch 00007: val_acc did not improve from 0.62447\n",
      "Epoch 8/10\n",
      "1896/1896 [==============================] - ETA: 1s - loss: 0.0115 - acc: 1.000 - ETA: 1s - loss: 0.0094 - acc: 1.000 - ETA: 1s - loss: 0.0118 - acc: 1.000 - ETA: 1s - loss: 0.0104 - acc: 1.000 - ETA: 1s - loss: 0.0103 - acc: 1.000 - ETA: 1s - loss: 0.0098 - acc: 1.000 - ETA: 1s - loss: 0.0096 - acc: 1.000 - ETA: 1s - loss: 0.0095 - acc: 1.000 - ETA: 1s - loss: 0.0094 - acc: 1.000 - ETA: 1s - loss: 0.0089 - acc: 1.000 - ETA: 1s - loss: 0.0087 - acc: 1.000 - ETA: 0s - loss: 0.0084 - acc: 1.000 - ETA: 0s - loss: 0.0084 - acc: 1.000 - ETA: 0s - loss: 0.0094 - acc: 1.000 - ETA: 0s - loss: 0.0100 - acc: 1.000 - ETA: 0s - loss: 0.0100 - acc: 1.000 - ETA: 0s - loss: 0.0099 - acc: 1.000 - ETA: 0s - loss: 0.0098 - acc: 1.000 - ETA: 0s - loss: 0.0096 - acc: 1.000 - ETA: 0s - loss: 0.0095 - acc: 1.000 - ETA: 0s - loss: 0.0094 - acc: 1.000 - ETA: 0s - loss: 0.0092 - acc: 1.000 - ETA: 0s - loss: 0.0091 - acc: 1.000 - ETA: 0s - loss: 0.0093 - acc: 1.000 - ETA: 0s - loss: 0.0091 - acc: 1.000 - ETA: 0s - loss: 0.0091 - acc: 1.000 - ETA: 0s - loss: 0.0091 - acc: 1.000 - ETA: 0s - loss: 0.0089 - acc: 1.000 - 2s 909us/step - loss: 0.0089 - acc: 1.0000 - val_loss: 1.5033 - val_acc: 0.6118\n",
      "\n",
      "Epoch 00008: val_acc did not improve from 0.62447\n",
      "Epoch 9/10\n",
      "1896/1896 [==============================] - ETA: 1s - loss: 0.0073 - acc: 1.000 - ETA: 1s - loss: 0.0076 - acc: 1.000 - ETA: 1s - loss: 0.0069 - acc: 1.000 - ETA: 1s - loss: 0.0065 - acc: 1.000 - ETA: 1s - loss: 0.0059 - acc: 1.000 - ETA: 1s - loss: 0.0072 - acc: 1.000 - ETA: 1s - loss: 0.0072 - acc: 1.000 - ETA: 1s - loss: 0.0069 - acc: 1.000 - ETA: 1s - loss: 0.0067 - acc: 1.000 - ETA: 1s - loss: 0.0065 - acc: 1.000 - ETA: 1s - loss: 0.0062 - acc: 1.000 - ETA: 0s - loss: 0.0059 - acc: 1.000 - ETA: 0s - loss: 0.0058 - acc: 1.000 - ETA: 0s - loss: 0.0058 - acc: 1.000 - ETA: 0s - loss: 0.0057 - acc: 1.000 - ETA: 0s - loss: 0.0058 - acc: 1.000 - ETA: 0s - loss: 0.0058 - acc: 1.000 - ETA: 0s - loss: 0.0058 - acc: 1.000 - ETA: 0s - loss: 0.0057 - acc: 1.000 - ETA: 0s - loss: 0.0057 - acc: 1.000 - ETA: 0s - loss: 0.0057 - acc: 1.000 - ETA: 0s - loss: 0.0056 - acc: 1.000 - ETA: 0s - loss: 0.0054 - acc: 1.000 - ETA: 0s - loss: 0.0053 - acc: 1.000 - ETA: 0s - loss: 0.0053 - acc: 1.000 - ETA: 0s - loss: 0.0052 - acc: 1.000 - 2s 898us/step - loss: 0.0052 - acc: 1.0000 - val_loss: 1.6081 - val_acc: 0.5992\n",
      "\n",
      "Epoch 00009: val_acc did not improve from 0.62447\n",
      "Epoch 10/10\n",
      "1896/1896 [==============================] - ETA: 1s - loss: 0.0021 - acc: 1.000 - ETA: 1s - loss: 0.0039 - acc: 1.000 - ETA: 1s - loss: 0.0035 - acc: 1.000 - ETA: 1s - loss: 0.0030 - acc: 1.000 - ETA: 1s - loss: 0.0033 - acc: 1.000 - ETA: 1s - loss: 0.0035 - acc: 1.000 - ETA: 1s - loss: 0.0033 - acc: 1.000 - ETA: 1s - loss: 0.0034 - acc: 1.000 - ETA: 1s - loss: 0.0034 - acc: 1.000 - ETA: 1s - loss: 0.0034 - acc: 1.000 - ETA: 1s - loss: 0.0033 - acc: 1.000 - ETA: 1s - loss: 0.0032 - acc: 1.000 - ETA: 0s - loss: 0.0033 - acc: 1.000 - ETA: 0s - loss: 0.0032 - acc: 1.000 - ETA: 0s - loss: 0.0032 - acc: 1.000 - ETA: 0s - loss: 0.0031 - acc: 1.000 - ETA: 0s - loss: 0.0031 - acc: 1.000 - ETA: 0s - loss: 0.0032 - acc: 1.000 - ETA: 0s - loss: 0.0032 - acc: 1.000 - ETA: 0s - loss: 0.0032 - acc: 1.000 - ETA: 0s - loss: 0.0032 - acc: 1.000 - ETA: 0s - loss: 0.0032 - acc: 1.000 - ETA: 0s - loss: 0.0035 - acc: 1.000 - ETA: 0s - loss: 0.0035 - acc: 1.000 - ETA: 0s - loss: 0.0035 - acc: 1.000 - ETA: 0s - loss: 0.0034 - acc: 1.000 - ETA: 0s - loss: 0.0034 - acc: 1.000 - ETA: 0s - loss: 0.0033 - acc: 1.000 - ETA: 0s - loss: 0.0033 - acc: 1.000 - 2s 902us/step - loss: 0.0033 - acc: 1.0000 - val_loss: 1.6645 - val_acc: 0.5992\n",
      "\n",
      "Epoch 00010: val_acc did not improve from 0.62447\n"
     ]
    }
   ],
   "source": [
    "from keras.callbacks import ModelCheckpoint\n",
    "\n",
    "seed = 42\n",
    "np.random.seed(seed)\n",
    "\n",
    "filepath=\"CNN_best_weights.{epoch:02d}-{val_acc:.4f}.hdf5\"\n",
    "checkpoint = ModelCheckpoint(filepath, monitor='val_acc', verbose=1, save_best_only=True, mode='max')\n",
    "\n",
    "history=model.fit(X_train_seq, y_train, batch_size=32,shuffle=True, epochs=10, validation_data = (X_val_seq,y_validation), callbacks = [checkpoint])"
   ]
  },
  {
   "cell_type": "code",
   "execution_count": 120,
   "metadata": {},
   "outputs": [],
   "source": [
    "from keras.models import load_model\n",
    "loaded_CNN_model = load_model('CNN_best_weights.03-0.6245.hdf5')"
   ]
  },
  {
   "cell_type": "code",
   "execution_count": 121,
   "metadata": {},
   "outputs": [
    {
     "name": "stdout",
     "output_type": "stream",
     "text": [
      "id       213\n",
      "tweet    213\n",
      "dtype: int64\n",
      "<class 'pandas.core.frame.DataFrame'>\n",
      "RangeIndex: 213 entries, 0 to 212\n",
      "Data columns (total 2 columns):\n",
      "id       213 non-null int64\n",
      "tweet    213 non-null object\n",
      "dtypes: int64(1), object(1)\n",
      "memory usage: 3.4+ KB\n",
      "None\n",
      "      id                                              tweet\n",
      "0  15923  #WhoIsQ #WheresTheServer #DumpNike #DECLASFISA...\n",
      "1  60133  #NoPasaran: Unity demo to oppose the far-right...\n",
      "2  83681           . . . What the fuck did he do this time?\n",
      "3  65507  @USER Do you get the feeling he is kissing @US...\n",
      "4  34263  #StopKavanaugh he is liar like the rest of the...\n"
     ]
    }
   ],
   "source": [
    "\n",
    "\n",
    "############# USE THIS AFTER YOU GET THE TEST DATA #####################\n",
    "\n",
    "\n",
    "import pandas as pd\n",
    "test_dataset = pd.read_csv(\"test_set_taskc.tsv\", usecols = ['id','tweet'], sep='\\t')\n",
    "test_dataset.dropna(inplace = True)\n",
    "test_dataset.reset_index(drop = True, inplace = True)\n",
    "print(test_dataset.count())\n",
    "print(test_dataset.info())\n",
    "print(test_dataset.head())"
   ]
  },
  {
   "cell_type": "code",
   "execution_count": 122,
   "metadata": {},
   "outputs": [
    {
     "name": "stdout",
     "output_type": "stream",
     "text": [
      "Reading twitter - 1grams ...\n",
      "Reading twitter - 2grams ...\n"
     ]
    }
   ],
   "source": [
    "from keras.preprocessing.text import Tokenizer\n",
    "from keras.preprocessing.sequence import pad_sequences\n",
    "\n",
    "\n",
    "#################  USE THIS AFTER YOU GET THE TEST DATA #####################\n",
    "\n",
    "\n",
    "X_test = test_dataset.tweet\n",
    "#y_test = encode_labels(test_dataset.sentiment)\n",
    "X_test = pp.clean_HTML(X_test)\n",
    "X_test = pp.clean_emoticons(X_test)\n",
    "X_test = pp.clean_emojis(X_test)\n",
    "X_test = pp.clean_tokens(X_test)\n",
    "X_test = pp.clean_mentions(X_test)\n",
    "X_test = pp.clean_hashtags(X_test)\n",
    "X_test = pp.expand_contractions(X_test)\n",
    "X_test = pp.lemmatize(X_test)\n",
    "# X_test = pp.remove_stop_words(X_test)\n",
    "X_test = pp.clean_censored_words(X_test)\n",
    "X_test = pp.remove_punctuators(X_test)"
   ]
  },
  {
   "cell_type": "code",
   "execution_count": 124,
   "metadata": {},
   "outputs": [],
   "source": [
    "\n",
    "\n",
    "sequences_test = tokenizer.texts_to_sequences(X_test)\n",
    "X_test_seq = pad_sequences(sequences_test, maxlen=max_len)"
   ]
  },
  {
   "cell_type": "code",
   "execution_count": 127,
   "metadata": {},
   "outputs": [
    {
     "name": "stdout",
     "output_type": "stream",
     "text": [
      "1    106\n",
      "0    103\n",
      "2      4\n",
      "Name: prediction, dtype: int64\n"
     ]
    }
   ],
   "source": [
    "\n",
    "yhat_cnn = loaded_CNN_model.predict(X_test_seq)\n",
    "y_pred = np.argmax(yhat_cnn, axis=1)\n",
    "test_dataset['prediction'] = y_pred\n",
    "print(test_dataset.prediction.value_counts())"
   ]
  },
  {
   "cell_type": "code",
   "execution_count": 91,
   "metadata": {
    "scrolled": true
   },
   "outputs": [
    {
     "name": "stdout",
     "output_type": "stream",
     "text": [
      "237/237 [==============================] - ETA:  - 0s 2ms/step\n"
     ]
    },
    {
     "data": {
      "text/plain": [
       "[0.9175746481126874, 0.6413502119764497]"
      ]
     },
     "execution_count": 91,
     "metadata": {},
     "output_type": "execute_result"
    }
   ],
   "source": [
    "###### USING OUR TEST DATA #######\n",
    "#sequences_test = tokenizer.texts_to_sequences(X_test)\n",
    "#X_test_seq = pad_sequences(sequences_test, maxlen=max_len)\n",
    "\n",
    "y_test = keras.utils.to_categorical(y_test)\n",
    "loaded_CNN_model.evaluate(x=X_test_seq, y=y_test)"
   ]
  },
  {
   "cell_type": "code",
   "execution_count": 97,
   "metadata": {},
   "outputs": [
    {
     "name": "stdout",
     "output_type": "stream",
     "text": [
      "[[1. 0. 0.]\n",
      " [1. 0. 0.]\n",
      " [1. 0. 0.]\n",
      " [0. 0. 1.]\n",
      " [1. 0. 0.]]\n",
      "[0 0 0 2 0 0 0 0 0 1 1 0 0 0 0 0 1 0 1 1 0 1 2 1 1 2 2 1 0 0 0 1 1 2 2 1 1\n",
      " 0 0 0 1 1 0 0 2 2 0 2 1 0 2 0 1 0 2 1 0 0 1 2 2 1 0 1 0 1 2 1 0 1 2 0 1 0\n",
      " 2 1 1 0 1 1 1 1 0 0 2 1 0 0 0 1 0 1 1 1 1 0 2 1 2 0 0 1 1 1 0 0 0 2 0 0 0\n",
      " 0 0 0 0 0 1 0 2 1 0 2 0 0 2 0 0 0 0 0 1 0 0 2 0 2 1 1 0 1 0 2 0 2 0 0 2 0\n",
      " 2 1 0 2 2 1 2 0 1 2 2 0 0 1 1 0 0 0 1 0 1 0 0 1 2 0 2 0 1 2 2 1 0 1 2 0 2\n",
      " 1 2 0 0 0 1 0 0 2 1 0 0 1 0 0 0 2 1 1 0 1 0 0 2 2 0 0 1 0 2 2 0 1 2 0 0 1\n",
      " 2 1 1 1 0 0 2 1 0 1 0 2 0 0 0]\n"
     ]
    }
   ],
   "source": [
    "print(y_test[:5])\n",
    "print(np.argmax(y_test,axis=1))"
   ]
  },
  {
   "cell_type": "code",
   "execution_count": 98,
   "metadata": {},
   "outputs": [
    {
     "data": {
      "text/plain": [
       "0.5248952110144457"
      ]
     },
     "execution_count": 98,
     "metadata": {},
     "output_type": "execute_result"
    }
   ],
   "source": [
    "from sklearn.metrics import f1_score\n",
    "yhat_cnn = loaded_CNN_model.predict(X_test_seq)\n",
    "f1_score(y_true=np.argmax(y_test,axis=1), y_pred=np.argmax(yhat_cnn,axis=1), average='macro')\n",
    "#print(yhat_cnn[:10] > 0.5)\n",
    "#print((y_test[:10]),(yhat_cnn[:10]))"
   ]
  },
  {
   "cell_type": "code",
   "execution_count": 63,
   "metadata": {},
   "outputs": [],
   "source": [
    "import itertools\n",
    "import matplotlib.pyplot as plt\n",
    "from sklearn.metrics import confusion_matrix\n",
    "from sklearn.metrics import f1_score\n",
    "\n",
    "\n",
    "\n",
    "def plot_confusion_matrix(cm, classes, normalize=False, title='Confusion matrix', cmap=plt.cm.Blues):\n",
    "    \"\"\"\n",
    "    This function prints and plots the confusion matrix.\n",
    "    Normalization can be applied by setting `normalize=True`.\n",
    "    \"\"\"\n",
    "    if normalize:\n",
    "        cm = cm.astype('float') / cm.sum(axis=1)[:, np.newaxis]\n",
    "        print(\"Normalized confusion matrix\")\n",
    "    else:\n",
    "        print('Confusion matrix, without normalization')\n",
    "\n",
    "    print(cm)\n",
    "\n",
    "    plt.imshow(cm, interpolation='nearest', cmap=cmap)\n",
    "    plt.title(title)\n",
    "    plt.colorbar()\n",
    "    tick_marks = np.arange(len(classes))\n",
    "    plt.xticks(tick_marks, classes, rotation=45)\n",
    "    plt.yticks(tick_marks, classes)\n",
    "\n",
    "    fmt = '.2f' if normalize else 'd'\n",
    "    thresh = cm.max() / 2.\n",
    "    for i, j in itertools.product(range(cm.shape[0]), range(cm.shape[1])):\n",
    "        plt.text(j, i, format(cm[i, j], fmt),\n",
    "                 horizontalalignment=\"center\",\n",
    "                 color=\"white\" if cm[i, j] > thresh else \"black\")\n",
    "\n",
    "    plt.ylabel('True label')\n",
    "    plt.xlabel('Predicted label')\n",
    "    plt.tight_layout()\n"
   ]
  },
  {
   "cell_type": "code",
   "execution_count": 133,
   "metadata": {},
   "outputs": [
    {
     "name": "stdout",
     "output_type": "stream",
     "text": [
      "GRP    106\n",
      "IND    103\n",
      "OTH      4\n",
      "Name: predictions, dtype: int64\n",
      "      id                                              tweet  prediction  \\\n",
      "0  15923  #WhoIsQ #WheresTheServer #DumpNike #DECLASFISA...           1   \n",
      "1  60133  #NoPasaran: Unity demo to oppose the far-right...           1   \n",
      "2  83681           . . . What the fuck did he do this time?           0   \n",
      "3  65507  @USER Do you get the feeling he is kissing @US...           0   \n",
      "4  34263  #StopKavanaugh he is liar like the rest of the...           0   \n",
      "\n",
      "  predictions  \n",
      "0         GRP  \n",
      "1         GRP  \n",
      "2         IND  \n",
      "3         IND  \n",
      "4         IND  \n"
     ]
    }
   ],
   "source": [
    "\n",
    "# y_pred = (yhat_cnn > 0.5)\n",
    "decode = lambda x: \"IND\" if x == 0 else (\"GRP\" if x == 1 else \"OTH\") \n",
    "\n",
    "# if x<2 else (x**2 if x<4 else x+10)\n",
    "test_dataset['predictions'] = np.array([decode(y) for y in y_pred])\n",
    "print(test_dataset.predictions.value_counts())\n",
    "# cn_matrix = confusion_matrix(y_test, y_pred)\n",
    "# print(cn_matrix)\n",
    "\n",
    "# plot_confusion_matrix(cn_matrix, ['UNTARGETED', 'TARGETED'])\n",
    "print(test_dataset.head())"
   ]
  },
  {
   "cell_type": "code",
   "execution_count": 134,
   "metadata": {},
   "outputs": [
    {
     "name": "stdout",
     "output_type": "stream",
     "text": [
      "      id predictions\n",
      "0  15923         GRP\n",
      "1  60133         GRP\n",
      "2  83681         IND\n",
      "3  65507         IND\n",
      "4  34263         IND\n",
      "id             213\n",
      "predictions    213\n",
      "dtype: int64\n"
     ]
    }
   ],
   "source": [
    "test_dataset.drop(columns=['tweet','prediction'], inplace=True)\n",
    "print(test_dataset.head())\n",
    "print(test_dataset.count())\n",
    "\n",
    "test_dataset.to_csv(\"Subtask_B_CNN_Word2Vec.csv\", header = False, index = False)\n",
    "# print(f1_score(y_true=y_test, y_pred=y_pred, average='macro'))"
   ]
  },
  {
   "cell_type": "markdown",
   "metadata": {},
   "source": [
    "### Model 2"
   ]
  },
  {
   "cell_type": "code",
   "execution_count": 99,
   "metadata": {},
   "outputs": [],
   "source": [
    "import os\n",
    "\n",
    "# I am trying Google's pre-trained word embeddings. Let's see how it performs. I hope it does well.\n",
    "model_ggl_w2v = gensim.models.KeyedVectors.load_word2vec_format(\"../Datasets/GoogleNews-vectors-negative300.bin\", binary=True)  \n"
   ]
  },
  {
   "cell_type": "code",
   "execution_count": 100,
   "metadata": {},
   "outputs": [
    {
     "name": "stdout",
     "output_type": "stream",
     "text": [
      "There are 3000000 words with that many vectors..\n"
     ]
    }
   ],
   "source": [
    "ggl_embedding_index= {}\n",
    "\n",
    "for w in model_ggl_w2v.vocab.keys():\n",
    "    ggl_embedding_index[w] = model_ggl_w2v[w]\n",
    "\n",
    "print(\"There are {number} words with that many vectors..\".format(number=len(ggl_embedding_index)))"
   ]
  },
  {
   "cell_type": "code",
   "execution_count": 101,
   "metadata": {},
   "outputs": [],
   "source": [
    "ggl_num_words = 30000\n",
    "ggl_embedding_dimension = 300\n",
    "ggl_embedding_matrix = np.zeros((ggl_num_words, ggl_embedding_dimension))\n",
    "for word, i in tokenizer.word_index.items():\n",
    "    if i >= ggl_num_words:\n",
    "        continue\n",
    "    embedding_vector = ggl_embedding_index.get(word)\n",
    "    if embedding_vector is not None:\n",
    "        ggl_embedding_matrix[i] = embedding_vector"
   ]
  },
  {
   "cell_type": "code",
   "execution_count": 103,
   "metadata": {},
   "outputs": [
    {
     "name": "stdout",
     "output_type": "stream",
     "text": [
      "__________________________________________________________________________________________________\n",
      "Layer (type)                    Output Shape         Param #     Connected to                     \n",
      "==================================================================================================\n",
      "input_11 (InputLayer)           (None, 62)           0                                            \n",
      "__________________________________________________________________________________________________\n",
      "embedding_14 (Embedding)        (None, 62, 300)      9000000     input_11[0][0]                   \n",
      "__________________________________________________________________________________________________\n",
      "conv1d_29 (Conv1D)              (None, 61, 100)      60100       embedding_14[0][0]               \n",
      "__________________________________________________________________________________________________\n",
      "conv1d_30 (Conv1D)              (None, 60, 100)      90100       embedding_14[0][0]               \n",
      "__________________________________________________________________________________________________\n",
      "conv1d_31 (Conv1D)              (None, 59, 100)      120100      embedding_14[0][0]               \n",
      "__________________________________________________________________________________________________\n",
      "global_max_pooling1d_29 (Global (None, 100)          0           conv1d_29[0][0]                  \n",
      "__________________________________________________________________________________________________\n",
      "global_max_pooling1d_30 (Global (None, 100)          0           conv1d_30[0][0]                  \n",
      "__________________________________________________________________________________________________\n",
      "global_max_pooling1d_31 (Global (None, 100)          0           conv1d_31[0][0]                  \n",
      "__________________________________________________________________________________________________\n",
      "concatenate_9 (Concatenate)     (None, 300)          0           global_max_pooling1d_29[0][0]    \n",
      "                                                                 global_max_pooling1d_30[0][0]    \n",
      "                                                                 global_max_pooling1d_31[0][0]    \n",
      "__________________________________________________________________________________________________\n",
      "dense_25 (Dense)                (None, 256)          77056       concatenate_9[0][0]              \n",
      "__________________________________________________________________________________________________\n",
      "dropout_10 (Dropout)            (None, 256)          0           dense_25[0][0]                   \n",
      "__________________________________________________________________________________________________\n",
      "dense_26 (Dense)                (None, 3)            771         dropout_10[0][0]                 \n",
      "__________________________________________________________________________________________________\n",
      "activation_5 (Activation)       (None, 3)            0           dense_26[0][0]                   \n",
      "==================================================================================================\n",
      "Total params: 9,348,127\n",
      "Trainable params: 9,348,127\n",
      "Non-trainable params: 0\n",
      "__________________________________________________________________________________________________\n"
     ]
    },
    {
     "data": {
      "text/plain": [
       "\"\\nfrom keras.optimizers import Adam\\n\\ntweet_input = Input(shape=(max_len,), dtype='int32')\\n\\ntweet_encoder = Embedding(ggl_num_words, ggl_embedding_dimension, weights=[ggl_embedding_matrix], input_length=max_len, trainable=True)(tweet_input)\\nbigram_branch = Conv1D(filters=100, kernel_size=2, padding='valid', activation='relu', strides=1)(tweet_encoder)\\nbigram_branch = GlobalMaxPooling1D()(bigram_branch)\\ntrigram_branch = Conv1D(filters=100, kernel_size=3, padding='valid', activation='relu', strides=1)(tweet_encoder)\\ntrigram_branch = GlobalMaxPooling1D()(trigram_branch)\\nfourgram_branch = Conv1D(filters=100, kernel_size=4, padding='valid', activation='relu', strides=1)(tweet_encoder)\\nfourgram_branch = GlobalMaxPooling1D()(fourgram_branch)\\nmerged = concatenate([bigram_branch, trigram_branch, fourgram_branch], axis=1)\\n\\nmerged = Dense(256, activation='relu')(merged)\\nmerged = Dropout(0.2)(merged)\\nmerged = Dense(2)(merged)\\noutput = Activation('softmax')(merged)\\nmodel = Model(inputs=[tweet_input], outputs=[output])\\nmodel.compile(loss='categorical_crossentropy',\\n                  optimizer=Adam(lr=1e-3),\\n                  metrics=['acc'])\\nmodel.summary()\\n\\n\\n\""
      ]
     },
     "execution_count": 103,
     "metadata": {},
     "output_type": "execute_result"
    }
   ],
   "source": [
    "tweet_input = Input(shape=(max_len,), dtype='int32')\n",
    "tweet_encoder = Embedding(ggl_num_words, ggl_embedding_dimension, weights=[ggl_embedding_matrix], input_length=max_len, trainable=True)(tweet_input)\n",
    "bigram_branch = Conv1D(filters=100, kernel_size=2, padding='valid', activation='relu', strides=1)(tweet_encoder)\n",
    "bigram_branch = GlobalMaxPooling1D()(bigram_branch)\n",
    "trigram_branch = Conv1D(filters=100, kernel_size=3, padding='valid', activation='relu', strides=1)(tweet_encoder)\n",
    "trigram_branch = GlobalMaxPooling1D()(trigram_branch)\n",
    "fourgram_branch = Conv1D(filters=100, kernel_size=4, padding='valid', activation='relu', strides=1)(tweet_encoder)\n",
    "fourgram_branch = GlobalMaxPooling1D()(fourgram_branch)\n",
    "merged = concatenate([bigram_branch, trigram_branch, fourgram_branch], axis=1)\n",
    "\n",
    "merged = Dense(256, activation='relu')(merged)\n",
    "merged = Dropout(0.2)(merged)\n",
    "merged = Dense(3)(merged)\n",
    "output = Activation('sigmoid')(merged)\n",
    "model = Model(inputs=[tweet_input], outputs=[output])\n",
    "model.compile(loss='categorical_crossentropy',\n",
    "                  optimizer='adam',\n",
    "                  metrics=['accuracy'])\n",
    "model.summary()\n",
    "\n",
    "\n",
    "'''\n",
    "from keras.optimizers import Adam\n",
    "\n",
    "tweet_input = Input(shape=(max_len,), dtype='int32')\n",
    "\n",
    "tweet_encoder = Embedding(ggl_num_words, ggl_embedding_dimension, weights=[ggl_embedding_matrix], input_length=max_len, trainable=True)(tweet_input)\n",
    "bigram_branch = Conv1D(filters=100, kernel_size=2, padding='valid', activation='relu', strides=1)(tweet_encoder)\n",
    "bigram_branch = GlobalMaxPooling1D()(bigram_branch)\n",
    "trigram_branch = Conv1D(filters=100, kernel_size=3, padding='valid', activation='relu', strides=1)(tweet_encoder)\n",
    "trigram_branch = GlobalMaxPooling1D()(trigram_branch)\n",
    "fourgram_branch = Conv1D(filters=100, kernel_size=4, padding='valid', activation='relu', strides=1)(tweet_encoder)\n",
    "fourgram_branch = GlobalMaxPooling1D()(fourgram_branch)\n",
    "merged = concatenate([bigram_branch, trigram_branch, fourgram_branch], axis=1)\n",
    "\n",
    "merged = Dense(256, activation='relu')(merged)\n",
    "merged = Dropout(0.2)(merged)\n",
    "merged = Dense(2)(merged)\n",
    "output = Activation('softmax')(merged)\n",
    "model = Model(inputs=[tweet_input], outputs=[output])\n",
    "model.compile(loss='categorical_crossentropy',\n",
    "                  optimizer=Adam(lr=1e-3),\n",
    "                  metrics=['acc'])\n",
    "model.summary()\n",
    "\n",
    "\n",
    "'''\n"
   ]
  },
  {
   "cell_type": "code",
   "execution_count": 104,
   "metadata": {},
   "outputs": [
    {
     "name": "stdout",
     "output_type": "stream",
     "text": [
      "Train on 1896 samples, validate on 237 samples\n",
      "Epoch 1/10\n",
      "1896/1896 [==============================] - ETA: 2:21 - loss: 1.1164 - acc: 0.281 - ETA: 1:11 - loss: 1.1114 - acc: 0.250 - ETA: 47s - loss: 1.0828 - acc: 0.343 - ETA: 36s - loss: 1.0476 - acc: 0.37 - ETA: 29s - loss: 1.0466 - acc: 0.40 - ETA: 24s - loss: 1.0521 - acc: 0.40 - ETA: 20s - loss: 1.0386 - acc: 0.43 - ETA: 18s - loss: 1.0389 - acc: 0.43 - ETA: 16s - loss: 1.0359 - acc: 0.43 - ETA: 14s - loss: 1.0238 - acc: 0.45 - ETA: 13s - loss: 1.0336 - acc: 0.45 - ETA: 12s - loss: 1.0205 - acc: 0.46 - ETA: 11s - loss: 1.0262 - acc: 0.45 - ETA: 9s - loss: 1.0145 - acc: 0.4688 - ETA: 9s - loss: 1.0142 - acc: 0.468 - ETA: 8s - loss: 1.0115 - acc: 0.468 - ETA: 7s - loss: 1.0100 - acc: 0.474 - ETA: 7s - loss: 1.0085 - acc: 0.477 - ETA: 7s - loss: 1.0105 - acc: 0.478 - ETA: 6s - loss: 1.0125 - acc: 0.480 - ETA: 6s - loss: 1.0082 - acc: 0.485 - ETA: 5s - loss: 1.0053 - acc: 0.487 - ETA: 5s - loss: 0.9998 - acc: 0.492 - ETA: 5s - loss: 1.0010 - acc: 0.491 - ETA: 5s - loss: 1.0033 - acc: 0.486 - ETA: 4s - loss: 0.9947 - acc: 0.494 - ETA: 4s - loss: 0.9958 - acc: 0.492 - ETA: 4s - loss: 0.9949 - acc: 0.491 - ETA: 4s - loss: 0.9947 - acc: 0.493 - ETA: 3s - loss: 0.9934 - acc: 0.496 - ETA: 3s - loss: 0.9957 - acc: 0.492 - ETA: 3s - loss: 0.9960 - acc: 0.492 - ETA: 3s - loss: 0.9931 - acc: 0.495 - ETA: 3s - loss: 0.9876 - acc: 0.499 - ETA: 2s - loss: 0.9811 - acc: 0.503 - ETA: 2s - loss: 0.9770 - acc: 0.505 - ETA: 2s - loss: 0.9714 - acc: 0.511 - ETA: 2s - loss: 0.9646 - acc: 0.514 - ETA: 2s - loss: 0.9624 - acc: 0.514 - ETA: 2s - loss: 0.9648 - acc: 0.514 - ETA: 1s - loss: 0.9651 - acc: 0.516 - ETA: 1s - loss: 0.9628 - acc: 0.519 - ETA: 1s - loss: 0.9618 - acc: 0.521 - ETA: 1s - loss: 0.9589 - acc: 0.524 - ETA: 1s - loss: 0.9562 - acc: 0.526 - ETA: 1s - loss: 0.9556 - acc: 0.529 - ETA: 1s - loss: 0.9557 - acc: 0.530 - ETA: 1s - loss: 0.9530 - acc: 0.533 - ETA: 0s - loss: 0.9514 - acc: 0.534 - ETA: 0s - loss: 0.9497 - acc: 0.536 - ETA: 0s - loss: 0.9522 - acc: 0.534 - ETA: 0s - loss: 0.9522 - acc: 0.536 - ETA: 0s - loss: 0.9491 - acc: 0.538 - ETA: 0s - loss: 0.9522 - acc: 0.536 - ETA: 0s - loss: 0.9519 - acc: 0.536 - ETA: 0s - loss: 0.9490 - acc: 0.539 - ETA: 0s - loss: 0.9482 - acc: 0.540 - 6s 3ms/step - loss: 0.9480 - acc: 0.5411 - val_loss: 0.8795 - val_acc: 0.6203\n",
      "Epoch 2/10\n",
      "1896/1896 [==============================] - ETA: 3s - loss: 0.6749 - acc: 0.750 - ETA: 3s - loss: 0.7066 - acc: 0.703 - ETA: 3s - loss: 0.7150 - acc: 0.687 - ETA: 3s - loss: 0.7170 - acc: 0.693 - ETA: 3s - loss: 0.7397 - acc: 0.683 - ETA: 3s - loss: 0.7536 - acc: 0.683 - ETA: 2s - loss: 0.7582 - acc: 0.680 - ETA: 2s - loss: 0.7723 - acc: 0.661 - ETA: 2s - loss: 0.7788 - acc: 0.658 - ETA: 2s - loss: 0.7684 - acc: 0.661 - ETA: 2s - loss: 0.7891 - acc: 0.640 - ETA: 2s - loss: 0.7778 - acc: 0.652 - ETA: 2s - loss: 0.7646 - acc: 0.662 - ETA: 2s - loss: 0.7655 - acc: 0.663 - ETA: 2s - loss: 0.7522 - acc: 0.671 - ETA: 2s - loss: 0.7445 - acc: 0.677 - ETA: 2s - loss: 0.7370 - acc: 0.678 - ETA: 2s - loss: 0.7426 - acc: 0.672 - ETA: 2s - loss: 0.7366 - acc: 0.677 - ETA: 2s - loss: 0.7331 - acc: 0.682 - ETA: 2s - loss: 0.7324 - acc: 0.681 - ETA: 2s - loss: 0.7314 - acc: 0.681 - ETA: 1s - loss: 0.7311 - acc: 0.681 - ETA: 1s - loss: 0.7332 - acc: 0.679 - ETA: 1s - loss: 0.7243 - acc: 0.685 - ETA: 1s - loss: 0.7236 - acc: 0.685 - ETA: 1s - loss: 0.7205 - acc: 0.686 - ETA: 1s - loss: 0.7189 - acc: 0.686 - ETA: 1s - loss: 0.7164 - acc: 0.689 - ETA: 1s - loss: 0.7233 - acc: 0.685 - ETA: 1s - loss: 0.7186 - acc: 0.690 - ETA: 1s - loss: 0.7133 - acc: 0.693 - ETA: 1s - loss: 0.7128 - acc: 0.696 - ETA: 1s - loss: 0.7116 - acc: 0.697 - ETA: 1s - loss: 0.7126 - acc: 0.695 - ETA: 1s - loss: 0.7135 - acc: 0.695 - ETA: 1s - loss: 0.7102 - acc: 0.696 - ETA: 1s - loss: 0.7083 - acc: 0.698 - ETA: 1s - loss: 0.7067 - acc: 0.699 - ETA: 0s - loss: 0.7079 - acc: 0.698 - ETA: 0s - loss: 0.7043 - acc: 0.699 - ETA: 0s - loss: 0.7017 - acc: 0.700 - ETA: 0s - loss: 0.6963 - acc: 0.703 - ETA: 0s - loss: 0.6967 - acc: 0.702 - ETA: 0s - loss: 0.6954 - acc: 0.701 - ETA: 0s - loss: 0.6963 - acc: 0.702 - ETA: 0s - loss: 0.6986 - acc: 0.701 - ETA: 0s - loss: 0.6974 - acc: 0.702 - ETA: 0s - loss: 0.6999 - acc: 0.698 - ETA: 0s - loss: 0.6982 - acc: 0.701 - ETA: 0s - loss: 0.7009 - acc: 0.698 - ETA: 0s - loss: 0.7025 - acc: 0.698 - ETA: 0s - loss: 0.7025 - acc: 0.699 - ETA: 0s - loss: 0.6993 - acc: 0.702 - ETA: 0s - loss: 0.7005 - acc: 0.701 - ETA: 0s - loss: 0.6996 - acc: 0.700 - 4s 2ms/step - loss: 0.6994 - acc: 0.7004 - val_loss: 0.9510 - val_acc: 0.6245\n",
      "Epoch 3/10\n",
      "1896/1896 [==============================] - ETA: 3s - loss: 0.3510 - acc: 0.843 - ETA: 3s - loss: 0.4014 - acc: 0.812 - ETA: 3s - loss: 0.4376 - acc: 0.833 - ETA: 3s - loss: 0.4612 - acc: 0.804 - ETA: 3s - loss: 0.4482 - acc: 0.818 - ETA: 3s - loss: 0.4533 - acc: 0.817 - ETA: 3s - loss: 0.4630 - acc: 0.808 - ETA: 3s - loss: 0.4572 - acc: 0.816 - ETA: 2s - loss: 0.4518 - acc: 0.819 - ETA: 2s - loss: 0.4423 - acc: 0.825 - ETA: 2s - loss: 0.4393 - acc: 0.823 - ETA: 2s - loss: 0.4368 - acc: 0.825 - ETA: 2s - loss: 0.4331 - acc: 0.829 - ETA: 2s - loss: 0.4243 - acc: 0.839 - ETA: 2s - loss: 0.4190 - acc: 0.843 - ETA: 2s - loss: 0.4131 - acc: 0.843 - ETA: 2s - loss: 0.4136 - acc: 0.843 - ETA: 2s - loss: 0.4055 - acc: 0.850 - ETA: 2s - loss: 0.3992 - acc: 0.855 - ETA: 2s - loss: 0.4073 - acc: 0.851 - ETA: 2s - loss: 0.4070 - acc: 0.852 - ETA: 2s - loss: 0.4033 - acc: 0.852 - ETA: 2s - loss: 0.3967 - acc: 0.853 - ETA: 2s - loss: 0.3889 - acc: 0.856 - ETA: 2s - loss: 0.3861 - acc: 0.858 - ETA: 1s - loss: 0.3853 - acc: 0.858 - ETA: 1s - loss: 0.3814 - acc: 0.860 - ETA: 1s - loss: 0.3761 - acc: 0.863 - ETA: 1s - loss: 0.3706 - acc: 0.867 - ETA: 1s - loss: 0.3722 - acc: 0.866 - ETA: 1s - loss: 0.3721 - acc: 0.866 - ETA: 1s - loss: 0.3673 - acc: 0.870 - ETA: 1s - loss: 0.3649 - acc: 0.869 - ETA: 1s - loss: 0.3613 - acc: 0.871 - ETA: 1s - loss: 0.3632 - acc: 0.867 - ETA: 1s - loss: 0.3611 - acc: 0.869 - ETA: 1s - loss: 0.3556 - acc: 0.872 - ETA: 1s - loss: 0.3556 - acc: 0.872 - ETA: 1s - loss: 0.3548 - acc: 0.873 - ETA: 1s - loss: 0.3543 - acc: 0.873 - ETA: 1s - loss: 0.3577 - acc: 0.872 - ETA: 0s - loss: 0.3549 - acc: 0.872 - ETA: 0s - loss: 0.3535 - acc: 0.872 - ETA: 0s - loss: 0.3509 - acc: 0.873 - ETA: 0s - loss: 0.3500 - acc: 0.875 - ETA: 0s - loss: 0.3509 - acc: 0.874 - ETA: 0s - loss: 0.3493 - acc: 0.875 - ETA: 0s - loss: 0.3470 - acc: 0.876 - ETA: 0s - loss: 0.3490 - acc: 0.875 - ETA: 0s - loss: 0.3496 - acc: 0.874 - ETA: 0s - loss: 0.3529 - acc: 0.872 - ETA: 0s - loss: 0.3540 - acc: 0.871 - ETA: 0s - loss: 0.3529 - acc: 0.872 - ETA: 0s - loss: 0.3517 - acc: 0.873 - ETA: 0s - loss: 0.3578 - acc: 0.872 - ETA: 0s - loss: 0.3560 - acc: 0.872 - 4s 2ms/step - loss: 0.3527 - acc: 0.8745 - val_loss: 1.0752 - val_acc: 0.6076\n",
      "Epoch 4/10\n"
     ]
    },
    {
     "name": "stdout",
     "output_type": "stream",
     "text": [
      "1896/1896 [==============================] - ETA: 3s - loss: 0.0946 - acc: 1.000 - ETA: 3s - loss: 0.1287 - acc: 0.984 - ETA: 3s - loss: 0.1073 - acc: 0.989 - ETA: 3s - loss: 0.1149 - acc: 0.984 - ETA: 3s - loss: 0.1056 - acc: 0.987 - ETA: 3s - loss: 0.1164 - acc: 0.979 - ETA: 3s - loss: 0.1156 - acc: 0.982 - ETA: 3s - loss: 0.1103 - acc: 0.984 - ETA: 2s - loss: 0.1085 - acc: 0.982 - ETA: 2s - loss: 0.1035 - acc: 0.984 - ETA: 2s - loss: 0.1001 - acc: 0.985 - ETA: 2s - loss: 0.0978 - acc: 0.987 - ETA: 2s - loss: 0.0981 - acc: 0.985 - ETA: 2s - loss: 0.1003 - acc: 0.984 - ETA: 2s - loss: 0.1028 - acc: 0.983 - ETA: 2s - loss: 0.1077 - acc: 0.980 - ETA: 2s - loss: 0.1038 - acc: 0.981 - ETA: 2s - loss: 0.0992 - acc: 0.982 - ETA: 2s - loss: 0.1011 - acc: 0.981 - ETA: 2s - loss: 0.1017 - acc: 0.979 - ETA: 2s - loss: 0.1011 - acc: 0.980 - ETA: 2s - loss: 0.1037 - acc: 0.980 - ETA: 2s - loss: 0.1033 - acc: 0.981 - ETA: 2s - loss: 0.1030 - acc: 0.981 - ETA: 2s - loss: 0.1003 - acc: 0.982 - ETA: 1s - loss: 0.0997 - acc: 0.983 - ETA: 1s - loss: 0.0985 - acc: 0.983 - ETA: 1s - loss: 0.0955 - acc: 0.984 - ETA: 1s - loss: 0.0941 - acc: 0.985 - ETA: 1s - loss: 0.0937 - acc: 0.984 - ETA: 1s - loss: 0.0927 - acc: 0.985 - ETA: 1s - loss: 0.0922 - acc: 0.984 - ETA: 1s - loss: 0.0904 - acc: 0.985 - ETA: 1s - loss: 0.0901 - acc: 0.984 - ETA: 1s - loss: 0.0912 - acc: 0.984 - ETA: 1s - loss: 0.0911 - acc: 0.984 - ETA: 1s - loss: 0.0904 - acc: 0.984 - ETA: 1s - loss: 0.0896 - acc: 0.984 - ETA: 1s - loss: 0.0892 - acc: 0.985 - ETA: 1s - loss: 0.0880 - acc: 0.985 - ETA: 1s - loss: 0.0881 - acc: 0.985 - ETA: 0s - loss: 0.0876 - acc: 0.985 - ETA: 0s - loss: 0.0907 - acc: 0.983 - ETA: 0s - loss: 0.0901 - acc: 0.983 - ETA: 0s - loss: 0.0872 - acc: 0.984 - ETA: 0s - loss: 0.0904 - acc: 0.982 - ETA: 0s - loss: 0.0892 - acc: 0.982 - ETA: 0s - loss: 0.0892 - acc: 0.982 - ETA: 0s - loss: 0.0887 - acc: 0.982 - ETA: 0s - loss: 0.0889 - acc: 0.982 - ETA: 0s - loss: 0.0878 - acc: 0.982 - ETA: 0s - loss: 0.0874 - acc: 0.983 - ETA: 0s - loss: 0.0873 - acc: 0.983 - ETA: 0s - loss: 0.0863 - acc: 0.983 - ETA: 0s - loss: 0.0853 - acc: 0.983 - ETA: 0s - loss: 0.0869 - acc: 0.983 - 4s 2ms/step - loss: 0.0867 - acc: 0.9836 - val_loss: 1.2523 - val_acc: 0.6034\n",
      "Epoch 5/10\n",
      "1896/1896 [==============================] - ETA: 2s - loss: 0.0175 - acc: 1.000 - ETA: 3s - loss: 0.0368 - acc: 0.984 - ETA: 3s - loss: 0.0392 - acc: 0.989 - ETA: 3s - loss: 0.0382 - acc: 0.992 - ETA: 3s - loss: 0.0366 - acc: 0.993 - ETA: 2s - loss: 0.0358 - acc: 0.994 - ETA: 3s - loss: 0.0342 - acc: 0.995 - ETA: 2s - loss: 0.0320 - acc: 0.996 - ETA: 2s - loss: 0.0300 - acc: 0.996 - ETA: 2s - loss: 0.0282 - acc: 0.997 - ETA: 2s - loss: 0.0273 - acc: 0.997 - ETA: 2s - loss: 0.0267 - acc: 0.997 - ETA: 2s - loss: 0.0256 - acc: 0.997 - ETA: 2s - loss: 0.0258 - acc: 0.997 - ETA: 2s - loss: 0.0258 - acc: 0.998 - ETA: 2s - loss: 0.0264 - acc: 0.996 - ETA: 2s - loss: 0.0261 - acc: 0.996 - ETA: 2s - loss: 0.0262 - acc: 0.996 - ETA: 2s - loss: 0.0267 - acc: 0.996 - ETA: 2s - loss: 0.0260 - acc: 0.997 - ETA: 2s - loss: 0.0263 - acc: 0.997 - ETA: 2s - loss: 0.0264 - acc: 0.997 - ETA: 2s - loss: 0.0257 - acc: 0.997 - ETA: 2s - loss: 0.0250 - acc: 0.997 - ETA: 1s - loss: 0.0262 - acc: 0.996 - ETA: 1s - loss: 0.0256 - acc: 0.996 - ETA: 1s - loss: 0.0250 - acc: 0.996 - ETA: 1s - loss: 0.0249 - acc: 0.996 - ETA: 1s - loss: 0.0247 - acc: 0.996 - ETA: 1s - loss: 0.0243 - acc: 0.997 - ETA: 1s - loss: 0.0238 - acc: 0.997 - ETA: 1s - loss: 0.0236 - acc: 0.997 - ETA: 1s - loss: 0.0233 - acc: 0.997 - ETA: 1s - loss: 0.0226 - acc: 0.997 - ETA: 1s - loss: 0.0222 - acc: 0.997 - ETA: 1s - loss: 0.0219 - acc: 0.997 - ETA: 1s - loss: 0.0223 - acc: 0.997 - ETA: 1s - loss: 0.0219 - acc: 0.997 - ETA: 1s - loss: 0.0218 - acc: 0.997 - ETA: 1s - loss: 0.0218 - acc: 0.997 - ETA: 0s - loss: 0.0215 - acc: 0.997 - ETA: 0s - loss: 0.0217 - acc: 0.997 - ETA: 0s - loss: 0.0215 - acc: 0.997 - ETA: 0s - loss: 0.0214 - acc: 0.998 - ETA: 0s - loss: 0.0213 - acc: 0.998 - ETA: 0s - loss: 0.0217 - acc: 0.997 - ETA: 0s - loss: 0.0215 - acc: 0.997 - ETA: 0s - loss: 0.0212 - acc: 0.997 - ETA: 0s - loss: 0.0209 - acc: 0.997 - ETA: 0s - loss: 0.0207 - acc: 0.997 - ETA: 0s - loss: 0.0206 - acc: 0.997 - ETA: 0s - loss: 0.0205 - acc: 0.997 - ETA: 0s - loss: 0.0204 - acc: 0.997 - ETA: 0s - loss: 0.0203 - acc: 0.997 - ETA: 0s - loss: 0.0211 - acc: 0.997 - ETA: 0s - loss: 0.0209 - acc: 0.997 - ETA: 0s - loss: 0.0207 - acc: 0.997 - 4s 2ms/step - loss: 0.0206 - acc: 0.9974 - val_loss: 1.5204 - val_acc: 0.6160\n",
      "Epoch 6/10\n",
      "1896/1896 [==============================] - ETA: 3s - loss: 0.0078 - acc: 1.000 - ETA: 3s - loss: 0.0185 - acc: 0.984 - ETA: 3s - loss: 0.0138 - acc: 0.989 - ETA: 3s - loss: 0.0122 - acc: 0.992 - ETA: 3s - loss: 0.0123 - acc: 0.993 - ETA: 3s - loss: 0.0119 - acc: 0.994 - ETA: 3s - loss: 0.0109 - acc: 0.995 - ETA: 2s - loss: 0.0103 - acc: 0.996 - ETA: 2s - loss: 0.0098 - acc: 0.996 - ETA: 2s - loss: 0.0094 - acc: 0.997 - ETA: 2s - loss: 0.0087 - acc: 0.997 - ETA: 2s - loss: 0.0086 - acc: 0.997 - ETA: 2s - loss: 0.0084 - acc: 0.997 - ETA: 2s - loss: 0.0080 - acc: 0.998 - ETA: 2s - loss: 0.0077 - acc: 0.998 - ETA: 2s - loss: 0.0077 - acc: 0.998 - ETA: 2s - loss: 0.0074 - acc: 0.998 - ETA: 2s - loss: 0.0077 - acc: 0.998 - ETA: 2s - loss: 0.0075 - acc: 0.998 - ETA: 2s - loss: 0.0073 - acc: 0.998 - ETA: 2s - loss: 0.0077 - acc: 0.998 - ETA: 1s - loss: 0.0075 - acc: 0.998 - ETA: 1s - loss: 0.0081 - acc: 0.998 - ETA: 1s - loss: 0.0082 - acc: 0.998 - ETA: 1s - loss: 0.0090 - acc: 0.997 - ETA: 1s - loss: 0.0089 - acc: 0.997 - ETA: 1s - loss: 0.0094 - acc: 0.998 - ETA: 1s - loss: 0.0095 - acc: 0.998 - ETA: 1s - loss: 0.0098 - acc: 0.998 - ETA: 1s - loss: 0.0096 - acc: 0.998 - ETA: 1s - loss: 0.0095 - acc: 0.998 - ETA: 1s - loss: 0.0093 - acc: 0.998 - ETA: 1s - loss: 0.0092 - acc: 0.998 - ETA: 1s - loss: 0.0090 - acc: 0.998 - ETA: 1s - loss: 0.0089 - acc: 0.998 - ETA: 1s - loss: 0.0088 - acc: 0.998 - ETA: 1s - loss: 0.0087 - acc: 0.998 - ETA: 0s - loss: 0.0088 - acc: 0.998 - ETA: 0s - loss: 0.0087 - acc: 0.998 - ETA: 0s - loss: 0.0085 - acc: 0.998 - ETA: 0s - loss: 0.0084 - acc: 0.998 - ETA: 0s - loss: 0.0083 - acc: 0.998 - ETA: 0s - loss: 0.0082 - acc: 0.998 - ETA: 0s - loss: 0.0082 - acc: 0.998 - ETA: 0s - loss: 0.0081 - acc: 0.998 - ETA: 0s - loss: 0.0080 - acc: 0.998 - ETA: 0s - loss: 0.0079 - acc: 0.998 - ETA: 0s - loss: 0.0078 - acc: 0.998 - ETA: 0s - loss: 0.0077 - acc: 0.998 - ETA: 0s - loss: 0.0077 - acc: 0.998 - ETA: 0s - loss: 0.0076 - acc: 0.998 - ETA: 0s - loss: 0.0075 - acc: 0.998 - 4s 2ms/step - loss: 0.0075 - acc: 0.9989 - val_loss: 1.6318 - val_acc: 0.5949\n",
      "Epoch 7/10\n"
     ]
    },
    {
     "name": "stdout",
     "output_type": "stream",
     "text": [
      "1896/1896 [==============================] - ETA: 3s - loss: 8.5684e-04 - acc: 1.000 - ETA: 3s - loss: 0.0029 - acc: 1.0000    - ETA: 3s - loss: 0.0032 - acc: 1.000 - ETA: 3s - loss: 0.0033 - acc: 1.000 - ETA: 3s - loss: 0.0029 - acc: 1.000 - ETA: 3s - loss: 0.0027 - acc: 1.000 - ETA: 3s - loss: 0.0029 - acc: 1.000 - ETA: 3s - loss: 0.0029 - acc: 1.000 - ETA: 2s - loss: 0.0050 - acc: 1.000 - ETA: 2s - loss: 0.0048 - acc: 1.000 - ETA: 2s - loss: 0.0045 - acc: 1.000 - ETA: 2s - loss: 0.0047 - acc: 1.000 - ETA: 2s - loss: 0.0046 - acc: 1.000 - ETA: 2s - loss: 0.0045 - acc: 1.000 - ETA: 2s - loss: 0.0043 - acc: 1.000 - ETA: 2s - loss: 0.0042 - acc: 1.000 - ETA: 2s - loss: 0.0041 - acc: 1.000 - ETA: 2s - loss: 0.0041 - acc: 1.000 - ETA: 2s - loss: 0.0039 - acc: 1.000 - ETA: 2s - loss: 0.0038 - acc: 1.000 - ETA: 2s - loss: 0.0037 - acc: 1.000 - ETA: 2s - loss: 0.0036 - acc: 1.000 - ETA: 2s - loss: 0.0035 - acc: 1.000 - ETA: 2s - loss: 0.0035 - acc: 1.000 - ETA: 1s - loss: 0.0035 - acc: 1.000 - ETA: 1s - loss: 0.0036 - acc: 1.000 - ETA: 1s - loss: 0.0035 - acc: 1.000 - ETA: 1s - loss: 0.0041 - acc: 1.000 - ETA: 1s - loss: 0.0041 - acc: 1.000 - ETA: 1s - loss: 0.0040 - acc: 1.000 - ETA: 1s - loss: 0.0039 - acc: 1.000 - ETA: 1s - loss: 0.0039 - acc: 1.000 - ETA: 1s - loss: 0.0038 - acc: 1.000 - ETA: 1s - loss: 0.0038 - acc: 1.000 - ETA: 1s - loss: 0.0038 - acc: 1.000 - ETA: 1s - loss: 0.0038 - acc: 1.000 - ETA: 1s - loss: 0.0037 - acc: 1.000 - ETA: 1s - loss: 0.0037 - acc: 1.000 - ETA: 1s - loss: 0.0036 - acc: 1.000 - ETA: 1s - loss: 0.0036 - acc: 1.000 - ETA: 0s - loss: 0.0036 - acc: 1.000 - ETA: 0s - loss: 0.0036 - acc: 1.000 - ETA: 0s - loss: 0.0036 - acc: 1.000 - ETA: 0s - loss: 0.0036 - acc: 1.000 - ETA: 0s - loss: 0.0040 - acc: 1.000 - ETA: 0s - loss: 0.0039 - acc: 1.000 - ETA: 0s - loss: 0.0039 - acc: 1.000 - ETA: 0s - loss: 0.0039 - acc: 1.000 - ETA: 0s - loss: 0.0039 - acc: 1.000 - ETA: 0s - loss: 0.0039 - acc: 1.000 - ETA: 0s - loss: 0.0039 - acc: 1.000 - ETA: 0s - loss: 0.0038 - acc: 1.000 - ETA: 0s - loss: 0.0038 - acc: 1.000 - ETA: 0s - loss: 0.0039 - acc: 1.000 - ETA: 0s - loss: 0.0038 - acc: 1.000 - ETA: 0s - loss: 0.0038 - acc: 1.000 - ETA: 0s - loss: 0.0040 - acc: 1.000 - 4s 2ms/step - loss: 0.0040 - acc: 1.0000 - val_loss: 1.6537 - val_acc: 0.6203\n",
      "Epoch 8/10\n",
      "1896/1896 [==============================] - ETA: 3s - loss: 0.0015 - acc: 1.000 - ETA: 3s - loss: 0.0020 - acc: 1.000 - ETA: 3s - loss: 0.0020 - acc: 1.000 - ETA: 3s - loss: 0.0022 - acc: 1.000 - ETA: 3s - loss: 0.0021 - acc: 1.000 - ETA: 3s - loss: 0.0021 - acc: 1.000 - ETA: 3s - loss: 0.0020 - acc: 1.000 - ETA: 3s - loss: 0.0034 - acc: 1.000 - ETA: 3s - loss: 0.0031 - acc: 1.000 - ETA: 2s - loss: 0.0031 - acc: 1.000 - ETA: 2s - loss: 0.0029 - acc: 1.000 - ETA: 2s - loss: 0.0028 - acc: 1.000 - ETA: 2s - loss: 0.0027 - acc: 1.000 - ETA: 2s - loss: 0.0026 - acc: 1.000 - ETA: 2s - loss: 0.0025 - acc: 1.000 - ETA: 2s - loss: 0.0024 - acc: 1.000 - ETA: 2s - loss: 0.0028 - acc: 1.000 - ETA: 2s - loss: 0.0027 - acc: 1.000 - ETA: 2s - loss: 0.0027 - acc: 1.000 - ETA: 2s - loss: 0.0026 - acc: 1.000 - ETA: 2s - loss: 0.0027 - acc: 1.000 - ETA: 2s - loss: 0.0026 - acc: 1.000 - ETA: 2s - loss: 0.0026 - acc: 1.000 - ETA: 2s - loss: 0.0026 - acc: 1.000 - ETA: 2s - loss: 0.0025 - acc: 1.000 - ETA: 2s - loss: 0.0025 - acc: 1.000 - ETA: 1s - loss: 0.0024 - acc: 1.000 - ETA: 1s - loss: 0.0024 - acc: 1.000 - ETA: 1s - loss: 0.0023 - acc: 1.000 - ETA: 1s - loss: 0.0023 - acc: 1.000 - ETA: 1s - loss: 0.0022 - acc: 1.000 - ETA: 1s - loss: 0.0023 - acc: 1.000 - ETA: 1s - loss: 0.0022 - acc: 1.000 - ETA: 1s - loss: 0.0023 - acc: 1.000 - ETA: 1s - loss: 0.0024 - acc: 1.000 - ETA: 1s - loss: 0.0024 - acc: 1.000 - ETA: 1s - loss: 0.0026 - acc: 1.000 - ETA: 1s - loss: 0.0026 - acc: 1.000 - ETA: 1s - loss: 0.0025 - acc: 1.000 - ETA: 1s - loss: 0.0025 - acc: 1.000 - ETA: 1s - loss: 0.0025 - acc: 1.000 - ETA: 0s - loss: 0.0024 - acc: 1.000 - ETA: 0s - loss: 0.0024 - acc: 1.000 - ETA: 0s - loss: 0.0024 - acc: 1.000 - ETA: 0s - loss: 0.0024 - acc: 1.000 - ETA: 0s - loss: 0.0024 - acc: 1.000 - ETA: 0s - loss: 0.0024 - acc: 1.000 - ETA: 0s - loss: 0.0023 - acc: 1.000 - ETA: 0s - loss: 0.0023 - acc: 1.000 - ETA: 0s - loss: 0.0024 - acc: 1.000 - ETA: 0s - loss: 0.0023 - acc: 1.000 - ETA: 0s - loss: 0.0023 - acc: 1.000 - ETA: 0s - loss: 0.0023 - acc: 1.000 - ETA: 0s - loss: 0.0023 - acc: 1.000 - ETA: 0s - loss: 0.0023 - acc: 1.000 - ETA: 0s - loss: 0.0022 - acc: 1.000 - ETA: 0s - loss: 0.0022 - acc: 1.000 - ETA: 0s - loss: 0.0022 - acc: 1.000 - 4s 2ms/step - loss: 0.0022 - acc: 1.0000 - val_loss: 1.7219 - val_acc: 0.6287\n",
      "Epoch 9/10\n",
      "1896/1896 [==============================] - ETA: 2s - loss: 0.0014 - acc: 1.000 - ETA: 3s - loss: 0.0011 - acc: 1.000 - ETA: 3s - loss: 0.0013 - acc: 1.000 - ETA: 3s - loss: 0.0012 - acc: 1.000 - ETA: 3s - loss: 0.0013 - acc: 1.000 - ETA: 3s - loss: 0.0013 - acc: 1.000 - ETA: 3s - loss: 0.0017 - acc: 1.000 - ETA: 3s - loss: 0.0016 - acc: 1.000 - ETA: 2s - loss: 0.0017 - acc: 1.000 - ETA: 2s - loss: 0.0017 - acc: 1.000 - ETA: 2s - loss: 0.0018 - acc: 1.000 - ETA: 2s - loss: 0.0017 - acc: 1.000 - ETA: 2s - loss: 0.0017 - acc: 1.000 - ETA: 2s - loss: 0.0016 - acc: 1.000 - ETA: 2s - loss: 0.0016 - acc: 1.000 - ETA: 2s - loss: 0.0016 - acc: 1.000 - ETA: 2s - loss: 0.0016 - acc: 1.000 - ETA: 2s - loss: 0.0016 - acc: 1.000 - ETA: 2s - loss: 0.0016 - acc: 1.000 - ETA: 2s - loss: 0.0015 - acc: 1.000 - ETA: 2s - loss: 0.0015 - acc: 1.000 - ETA: 2s - loss: 0.0015 - acc: 1.000 - ETA: 2s - loss: 0.0015 - acc: 1.000 - ETA: 2s - loss: 0.0015 - acc: 1.000 - ETA: 2s - loss: 0.0015 - acc: 1.000 - ETA: 1s - loss: 0.0014 - acc: 1.000 - ETA: 1s - loss: 0.0014 - acc: 1.000 - ETA: 1s - loss: 0.0014 - acc: 1.000 - ETA: 1s - loss: 0.0014 - acc: 1.000 - ETA: 1s - loss: 0.0014 - acc: 1.000 - ETA: 1s - loss: 0.0014 - acc: 1.000 - ETA: 1s - loss: 0.0015 - acc: 1.000 - ETA: 1s - loss: 0.0015 - acc: 1.000 - ETA: 1s - loss: 0.0015 - acc: 1.000 - ETA: 1s - loss: 0.0015 - acc: 1.000 - ETA: 1s - loss: 0.0015 - acc: 1.000 - ETA: 1s - loss: 0.0016 - acc: 1.000 - ETA: 1s - loss: 0.0017 - acc: 1.000 - ETA: 1s - loss: 0.0016 - acc: 1.000 - ETA: 1s - loss: 0.0016 - acc: 1.000 - ETA: 1s - loss: 0.0016 - acc: 1.000 - ETA: 0s - loss: 0.0016 - acc: 1.000 - ETA: 0s - loss: 0.0016 - acc: 1.000 - ETA: 0s - loss: 0.0016 - acc: 1.000 - ETA: 0s - loss: 0.0016 - acc: 1.000 - ETA: 0s - loss: 0.0015 - acc: 1.000 - ETA: 0s - loss: 0.0016 - acc: 1.000 - ETA: 0s - loss: 0.0016 - acc: 1.000 - ETA: 0s - loss: 0.0016 - acc: 1.000 - ETA: 0s - loss: 0.0016 - acc: 1.000 - ETA: 0s - loss: 0.0016 - acc: 1.000 - ETA: 0s - loss: 0.0016 - acc: 1.000 - ETA: 0s - loss: 0.0016 - acc: 1.000 - ETA: 0s - loss: 0.0016 - acc: 1.000 - ETA: 0s - loss: 0.0015 - acc: 1.000 - ETA: 0s - loss: 0.0015 - acc: 1.000 - ETA: 0s - loss: 0.0015 - acc: 1.000 - ETA: 0s - loss: 0.0015 - acc: 1.000 - 4s 2ms/step - loss: 0.0015 - acc: 1.0000 - val_loss: 1.8058 - val_acc: 0.6203\n",
      "Epoch 10/10\n"
     ]
    },
    {
     "name": "stdout",
     "output_type": "stream",
     "text": [
      "1896/1896 [==============================] - ETA: 2s - loss: 9.3126e-04 - acc: 1.000 - ETA: 3s - loss: 0.0013 - acc: 1.0000    - ETA: 3s - loss: 0.0011 - acc: 1.000 - ETA: 3s - loss: 9.2909e-04 - acc: 1.000 - ETA: 3s - loss: 9.7651e-04 - acc: 1.000 - ETA: 3s - loss: 9.4563e-04 - acc: 1.000 - ETA: 3s - loss: 8.5760e-04 - acc: 1.000 - ETA: 3s - loss: 9.3056e-04 - acc: 1.000 - ETA: 2s - loss: 9.4113e-04 - acc: 1.000 - ETA: 2s - loss: 9.5808e-04 - acc: 1.000 - ETA: 2s - loss: 9.6583e-04 - acc: 1.000 - ETA: 2s - loss: 9.0528e-04 - acc: 1.000 - ETA: 2s - loss: 8.7832e-04 - acc: 1.000 - ETA: 2s - loss: 8.7828e-04 - acc: 1.000 - ETA: 2s - loss: 8.6623e-04 - acc: 1.000 - ETA: 2s - loss: 8.6854e-04 - acc: 1.000 - ETA: 2s - loss: 8.5449e-04 - acc: 1.000 - ETA: 2s - loss: 8.4871e-04 - acc: 1.000 - ETA: 2s - loss: 8.3552e-04 - acc: 1.000 - ETA: 2s - loss: 8.4250e-04 - acc: 1.000 - ETA: 2s - loss: 8.5180e-04 - acc: 1.000 - ETA: 2s - loss: 8.7145e-04 - acc: 1.000 - ETA: 2s - loss: 9.1788e-04 - acc: 1.000 - ETA: 1s - loss: 0.0011 - acc: 1.0000    - ETA: 1s - loss: 0.0011 - acc: 1.000 - ETA: 1s - loss: 0.0011 - acc: 1.000 - ETA: 1s - loss: 0.0011 - acc: 1.000 - ETA: 1s - loss: 0.0011 - acc: 1.000 - ETA: 1s - loss: 0.0011 - acc: 1.000 - ETA: 1s - loss: 0.0010 - acc: 1.000 - ETA: 1s - loss: 0.0010 - acc: 1.000 - ETA: 1s - loss: 0.0011 - acc: 1.000 - ETA: 1s - loss: 0.0011 - acc: 1.000 - ETA: 1s - loss: 0.0010 - acc: 1.000 - ETA: 1s - loss: 0.0011 - acc: 1.000 - ETA: 1s - loss: 0.0011 - acc: 1.000 - ETA: 1s - loss: 0.0011 - acc: 1.000 - ETA: 1s - loss: 0.0010 - acc: 1.000 - ETA: 1s - loss: 0.0010 - acc: 1.000 - ETA: 0s - loss: 0.0010 - acc: 1.000 - ETA: 0s - loss: 0.0011 - acc: 1.000 - ETA: 0s - loss: 0.0011 - acc: 1.000 - ETA: 0s - loss: 0.0011 - acc: 1.000 - ETA: 0s - loss: 0.0011 - acc: 1.000 - ETA: 0s - loss: 0.0011 - acc: 1.000 - ETA: 0s - loss: 0.0011 - acc: 1.000 - ETA: 0s - loss: 0.0011 - acc: 1.000 - ETA: 0s - loss: 0.0011 - acc: 1.000 - ETA: 0s - loss: 0.0011 - acc: 1.000 - ETA: 0s - loss: 0.0010 - acc: 1.000 - ETA: 0s - loss: 0.0010 - acc: 1.000 - ETA: 0s - loss: 0.0010 - acc: 1.000 - ETA: 0s - loss: 0.0010 - acc: 1.000 - ETA: 0s - loss: 0.0010 - acc: 1.000 - ETA: 0s - loss: 0.0010 - acc: 1.000 - 4s 2ms/step - loss: 0.0010 - acc: 1.0000 - val_loss: 1.8380 - val_acc: 0.6203\n"
     ]
    },
    {
     "data": {
      "text/plain": [
       "<keras.callbacks.History at 0x2a0d2807cc0>"
      ]
     },
     "execution_count": 104,
     "metadata": {},
     "output_type": "execute_result"
    }
   ],
   "source": [
    "filepath=\"CNN_ggl_best_weights.{epoch:02d}-{val_acc:.4f}.hdf5\"\n",
    "checkpoint = ModelCheckpoint(filepath, monitor='val_acc', verbose=0, save_best_only=True, mode='max')\n",
    "\n",
    "model.fit(X_train_seq, y_train, batch_size=32, epochs=10, validation_data=(X_val_seq, y_validation), callbacks = [checkpoint])"
   ]
  },
  {
   "cell_type": "code",
   "execution_count": 139,
   "metadata": {},
   "outputs": [],
   "source": [
    "from keras.models import load_model\n",
    "loaded_CNN_model = load_model('CNN_ggl_best_weights.08-0.6287.hdf5')\n",
    "#loaded_CNN_model.evaluate(x=X_test_seq, y=y_test)\n",
    "yhat_cnn = loaded_CNN_model.predict(X_test_seq)\n",
    "y_pred = np.argmax(yhat_cnn, axis=1)\n",
    "# f1_score(y_true=np.argmax(y_test,axis=1), y_pred=np.argmax(yhat_cnn,axis=1), average='macro')\n",
    "#(loaded_CNN_model.evaluate(x=X_test_seq, y=y_test))"
   ]
  },
  {
   "cell_type": "code",
   "execution_count": 141,
   "metadata": {},
   "outputs": [
    {
     "name": "stdout",
     "output_type": "stream",
     "text": [
      "      id predictions predictions_ggl\n",
      "0  15923         GRP             GRP\n",
      "1  60133         GRP             GRP\n",
      "2  83681         IND             IND\n",
      "3  65507         IND             IND\n",
      "4  34263         IND             IND\n",
      "IND    112\n",
      "GRP     86\n",
      "OTH     15\n",
      "Name: predictions_ggl, dtype: int64\n"
     ]
    }
   ],
   "source": [
    "\n",
    "# decode = lambda x: \"INT\" if x == 1 else \"UNT\"\n",
    "test_dataset['predictions_ggl'] = np.array([decode(y) for y in y_pred])\n",
    "#test_dataset.drop(columns=['tweet'], inplace=True)\n",
    "print(test_dataset.head())\n",
    "print(test_dataset.predictions_ggl.value_counts())\n",
    "\n",
    "# test_dataset.to_csv(\"Subtask_B_CNN_GloVe.csv\", header = False, index = False)"
   ]
  },
  {
   "cell_type": "code",
   "execution_count": 29,
   "metadata": {},
   "outputs": [],
   "source": [
    "decode = lambda x: \"INT\" if x == 1 else \"UNT\"\n",
    "test_dataset['predictions'] = np.array([decode(y) for y in y_pred])"
   ]
  },
  {
   "cell_type": "code",
   "execution_count": 30,
   "metadata": {},
   "outputs": [],
   "source": [
    "test_dataset['prob 0'] = yhat_cnn\n",
    "test_dataset['prob 1'] = 1 - yhat_cnn\n",
    "\n",
    "badwords = pd.read_csv(\"../badwords_list.csv\")\n",
    "badwordslist = badwords['Words']\n",
    "\n",
    "\n",
    "for i in range(len(test_dataset)):\n",
    "    if((test_dataset.loc[i,'prob 0']>=0.70) or test_dataset.loc[i,'prob 1']>=0.70):\n",
    "        j=0\n",
    "    else:\n",
    "        line = test_dataset.loc[i,'tweet']\n",
    "        if(line==\"\" or type(line)!=str):\n",
    "            test_dataset.loc[i,\"predictions\"]='NOT'\n",
    "            continue                       \n",
    "        flag =False\n",
    "        for word in badwordslist:\n",
    "            if word in line.split():\n",
    "                flag=True\n",
    "                test_dataset.loc[i,\"predictions\"]='OFF'\n",
    "                break\n",
    "        if(flag==False):\n",
    "            test_dataset.loc[i,\"predictions\"]='NOT'\n"
   ]
  },
  {
   "cell_type": "code",
   "execution_count": 31,
   "metadata": {},
   "outputs": [],
   "source": [
    "y_pred = encode_labels(test_dataset['predictions'])"
   ]
  },
  {
   "cell_type": "code",
   "execution_count": 73,
   "metadata": {},
   "outputs": [
    {
     "name": "stdout",
     "output_type": "stream",
     "text": [
      "[[265  91]\n",
      " [100 372]]\n",
      "Confusion matrix, without normalization\n",
      "[[265  91]\n",
      " [100 372]]\n",
      "0.7654060388497852\n"
     ]
    },
    {
     "data": {
      "image/png": "[encoded data removed]",
      "text/plain": [
       "<Figure size 432x288 with 2 Axes>"
      ]
     },
     "metadata": {
      "needs_background": "light"
     },
     "output_type": "display_data"
    }
   ],
   "source": [
    "cn_matrix = confusion_matrix(y_test, y_pred)\n",
    "\n",
    "print(cn_matrix)\n",
    "\n",
    "plot_confusion_matrix(cn_matrix, ['Not Targeted', 'Targeted'])\n",
    "print(f1_score(y_true=y_test, y_pred=y_pred, average='macro'))"
   ]
  },
  {
   "cell_type": "code",
   "execution_count": 148,
   "metadata": {},
   "outputs": [
    {
     "name": "stdout",
     "output_type": "stream",
     "text": [
      "[[623  56]\n",
      " [ 80 103]]\n",
      "Confusion matrix, without normalization\n",
      "[[623  56]\n",
      " [ 80 103]]\n",
      "0.7519655385448667\n"
     ]
    },
    {
     "data": {
      "image/png": "[encoded data removed]",
      "text/plain": [
       "<Figure size 432x288 with 2 Axes>"
      ]
     },
     "metadata": {
      "needs_background": "light"
     },
     "output_type": "display_data"
    }
   ],
   "source": [
    "yhat_cnn = loaded_CNN_model.predict(X_test_seq)\n",
    "\n",
    "y_pred = (yhat_cnn > 0.5)\n",
    "test_dataset['label'] = y_pred\n",
    "cn_matrix = confusion_matrix(y_test, y_pred)\n",
    "\n",
    "print(cn_matrix)\n",
    "\n",
    "plot_confusion_matrix(cn_matrix, ['Not Offensive', 'Offensive'])\n",
    "print(f1_score(y_true=y_test, y_pred=y_pred, average='macro'))"
   ]
  },
  {
   "cell_type": "code",
   "execution_count": 142,
   "metadata": {},
   "outputs": [
    {
     "name": "stdout",
     "output_type": "stream",
     "text": [
      "      id predictions_ggl\n",
      "0  15923             GRP\n",
      "1  60133             GRP\n",
      "2  83681             IND\n",
      "3  65507             IND\n",
      "4  34263             IND\n",
      "id                 213\n",
      "predictions_ggl    213\n",
      "dtype: int64\n"
     ]
    }
   ],
   "source": [
    "test_result = test_dataset.copy()\n",
    "test_result.drop(columns = ['predictions'], inplace = True)\n",
    "\n",
    "    \n",
    "# decode = lambda x: \"OFF\" if x == 1 else \"NOT\"\n",
    "# test_result['label'] = np.array([decode(y) for y in y_pred])\n",
    "\n",
    "# print(y_pred[:5])\n",
    "print(test_result.head())\n",
    "print(test_result.count())\n",
    "test_result.to_csv(\"Subtask_C_CNN_GloVe.csv\", header = False, index = False)"
   ]
  },
  {
   "cell_type": "code",
   "execution_count": 135,
   "metadata": {},
   "outputs": [
    {
     "name": "stdout",
     "output_type": "stream",
     "text": [
      "__________________________________________________________________________________________________\n",
      "Layer (type)                    Output Shape         Param #     Connected to                     \n",
      "==================================================================================================\n",
      "input_6 (InputLayer)            (None, 57)           0                                            \n",
      "__________________________________________________________________________________________________\n",
      "embedding_5 (Embedding)         (None, 57, 300)      9000000     input_6[0][0]                    \n",
      "__________________________________________________________________________________________________\n",
      "conv1d_13 (Conv1D)              (None, 56, 100)      60100       embedding_5[0][0]                \n",
      "__________________________________________________________________________________________________\n",
      "conv1d_14 (Conv1D)              (None, 55, 100)      90100       embedding_5[0][0]                \n",
      "__________________________________________________________________________________________________\n",
      "conv1d_15 (Conv1D)              (None, 54, 100)      120100      embedding_5[0][0]                \n",
      "__________________________________________________________________________________________________\n",
      "max_pooling1d_7 (MaxPooling1D)  (None, 28, 100)      0           conv1d_13[0][0]                  \n",
      "__________________________________________________________________________________________________\n",
      "max_pooling1d_8 (MaxPooling1D)  (None, 27, 100)      0           conv1d_14[0][0]                  \n",
      "__________________________________________________________________________________________________\n",
      "max_pooling1d_9 (MaxPooling1D)  (None, 27, 100)      0           conv1d_15[0][0]                  \n",
      "__________________________________________________________________________________________________\n",
      "concatenate_5 (Concatenate)     (None, 82, 100)      0           max_pooling1d_7[0][0]            \n",
      "                                                                 max_pooling1d_8[0][0]            \n",
      "                                                                 max_pooling1d_9[0][0]            \n",
      "__________________________________________________________________________________________________\n",
      "lstm_2 (LSTM)                   (None, 64)           42240       concatenate_5[0][0]              \n",
      "__________________________________________________________________________________________________\n",
      "dropout_5 (Dropout)             (None, 64)           0           lstm_2[0][0]                     \n",
      "__________________________________________________________________________________________________\n",
      "dense_7 (Dense)                 (None, 1)            65          dropout_5[0][0]                  \n",
      "__________________________________________________________________________________________________\n",
      "activation_5 (Activation)       (None, 1)            0           dense_7[0][0]                    \n",
      "==================================================================================================\n",
      "Total params: 9,312,605\n",
      "Trainable params: 9,312,605\n",
      "Non-trainable params: 0\n",
      "__________________________________________________________________________________________________\n"
     ]
    }
   ],
   "source": [
    "from keras.layers import LSTM, GRU, MaxPooling1D\n",
    "\n",
    "tweet_input = Input(shape=(max_len,), dtype='int32')\n",
    "\n",
    "tweet_encoder = Embedding(ggl_num_words, ggl_embedding_dimension, weights=[ggl_embedding_matrix], input_length=max_len, trainable=True)(tweet_input)\n",
    "bigram_branch = Conv1D(filters=100, kernel_size=2, padding='valid', activation='relu', strides=1)(tweet_encoder)\n",
    "bigram_branch = MaxPooling1D()(bigram_branch)\n",
    "trigram_branch = Conv1D(filters=100, kernel_size=3, padding='valid', activation='relu', strides=1)(tweet_encoder)\n",
    "trigram_branch = MaxPooling1D()(trigram_branch)\n",
    "fourgram_branch = Conv1D(filters=100, kernel_size=4, padding='valid', activation='relu', strides=1)(tweet_encoder)\n",
    "fourgram_branch = MaxPooling1D()(fourgram_branch)\n",
    "merged = concatenate([bigram_branch, trigram_branch, fourgram_branch], axis=1)\n",
    "lstm = LSTM(64)(merged)\n",
    "lstm = Dropout(0.2)(lstm)\n",
    "lstm = Dense(1)(lstm)\n",
    "output = Activation('sigmoid')(lstm)\n",
    "model = Model(inputs=[tweet_input], outputs=[output])\n",
    "model.compile(loss='binary_crossentropy',\n",
    "                  optimizer='adam',\n",
    "                  metrics=['accuracy'])\n",
    "model.summary()"
   ]
  },
  {
   "cell_type": "code",
   "execution_count": 136,
   "metadata": {},
   "outputs": [
    {
     "name": "stdout",
     "output_type": "stream",
     "text": [
      "Train on 10586 samples, validate on 2647 samples\n",
      "Epoch 1/10\n",
      " 6496/10586 [=================>............] - ETA: 25:10 - loss: 0.6950 - acc: 0.56 - ETA: 13:41 - loss: 0.7036 - acc: 0.53 - ETA: 9:46 - loss: 0.6913 - acc: 0.5625 - ETA: 7:51 - loss: 0.6929 - acc: 0.554 - ETA: 6:42 - loss: 0.6990 - acc: 0.537 - ETA: 5:57 - loss: 0.6963 - acc: 0.536 - ETA: 5:23 - loss: 0.6911 - acc: 0.558 - ETA: 4:57 - loss: 0.6872 - acc: 0.578 - ETA: 4:38 - loss: 0.6830 - acc: 0.593 - ETA: 4:23 - loss: 0.6825 - acc: 0.593 - ETA: 4:10 - loss: 0.6790 - acc: 0.605 - ETA: 3:58 - loss: 0.6735 - acc: 0.617 - ETA: 3:49 - loss: 0.6764 - acc: 0.610 - ETA: 3:42 - loss: 0.6687 - acc: 0.625 - ETA: 3:35 - loss: 0.6666 - acc: 0.631 - ETA: 3:30 - loss: 0.6662 - acc: 0.632 - ETA: 3:24 - loss: 0.6609 - acc: 0.637 - ETA: 3:19 - loss: 0.6571 - acc: 0.642 - ETA: 3:14 - loss: 0.6576 - acc: 0.643 - ETA: 3:11 - loss: 0.6607 - acc: 0.640 - ETA: 3:09 - loss: 0.6605 - acc: 0.639 - ETA: 3:05 - loss: 0.6609 - acc: 0.639 - ETA: 3:01 - loss: 0.6645 - acc: 0.633 - ETA: 2:58 - loss: 0.6632 - acc: 0.634 - ETA: 2:55 - loss: 0.6634 - acc: 0.632 - ETA: 2:52 - loss: 0.6623 - acc: 0.633 - ETA: 2:50 - loss: 0.6597 - acc: 0.636 - ETA: 2:48 - loss: 0.6595 - acc: 0.636 - ETA: 2:46 - loss: 0.6593 - acc: 0.633 - ETA: 2:44 - loss: 0.6583 - acc: 0.635 - ETA: 2:41 - loss: 0.6560 - acc: 0.641 - ETA: 2:40 - loss: 0.6548 - acc: 0.643 - ETA: 2:38 - loss: 0.6533 - acc: 0.643 - ETA: 2:36 - loss: 0.6529 - acc: 0.645 - ETA: 2:35 - loss: 0.6533 - acc: 0.642 - ETA: 2:34 - loss: 0.6524 - acc: 0.641 - ETA: 2:33 - loss: 0.6520 - acc: 0.642 - ETA: 2:31 - loss: 0.6516 - acc: 0.642 - ETA: 2:30 - loss: 0.6498 - acc: 0.645 - ETA: 2:28 - loss: 0.6493 - acc: 0.643 - ETA: 2:28 - loss: 0.6477 - acc: 0.645 - ETA: 2:26 - loss: 0.6445 - acc: 0.648 - ETA: 2:25 - loss: 0.6432 - acc: 0.649 - ETA: 2:24 - loss: 0.6430 - acc: 0.647 - ETA: 2:23 - loss: 0.6416 - acc: 0.648 - ETA: 2:21 - loss: 0.6391 - acc: 0.650 - ETA: 2:20 - loss: 0.6386 - acc: 0.650 - ETA: 2:19 - loss: 0.6393 - acc: 0.649 - ETA: 2:18 - loss: 0.6386 - acc: 0.650 - ETA: 2:17 - loss: 0.6366 - acc: 0.651 - ETA: 2:16 - loss: 0.6354 - acc: 0.651 - ETA: 2:16 - loss: 0.6349 - acc: 0.650 - ETA: 2:15 - loss: 0.6331 - acc: 0.653 - ETA: 2:14 - loss: 0.6312 - acc: 0.655 - ETA: 2:14 - loss: 0.6306 - acc: 0.655 - ETA: 2:13 - loss: 0.6294 - acc: 0.655 - ETA: 2:12 - loss: 0.6294 - acc: 0.654 - ETA: 2:11 - loss: 0.6282 - acc: 0.655 - ETA: 2:10 - loss: 0.6284 - acc: 0.655 - ETA: 2:09 - loss: 0.6275 - acc: 0.655 - ETA: 2:09 - loss: 0.6236 - acc: 0.658 - ETA: 2:08 - loss: 0.6236 - acc: 0.658 - ETA: 2:07 - loss: 0.6231 - acc: 0.658 - ETA: 2:07 - loss: 0.6206 - acc: 0.661 - ETA: 2:06 - loss: 0.6190 - acc: 0.663 - ETA: 2:05 - loss: 0.6188 - acc: 0.662 - ETA: 2:04 - loss: 0.6170 - acc: 0.663 - ETA: 2:03 - loss: 0.6173 - acc: 0.662 - ETA: 2:03 - loss: 0.6146 - acc: 0.665 - ETA: 2:02 - loss: 0.6141 - acc: 0.665 - ETA: 2:02 - loss: 0.6143 - acc: 0.665 - ETA: 2:01 - loss: 0.6139 - acc: 0.665 - ETA: 2:00 - loss: 0.6131 - acc: 0.666 - ETA: 2:00 - loss: 0.6127 - acc: 0.667 - ETA: 1:59 - loss: 0.6113 - acc: 0.668 - ETA: 1:58 - loss: 0.6097 - acc: 0.669 - ETA: 1:58 - loss: 0.6083 - acc: 0.670 - ETA: 1:57 - loss: 0.6071 - acc: 0.670 - ETA: 1:56 - loss: 0.6072 - acc: 0.670 - ETA: 1:56 - loss: 0.6063 - acc: 0.671 - ETA: 1:55 - loss: 0.6046 - acc: 0.672 - ETA: 1:54 - loss: 0.6040 - acc: 0.673 - ETA: 1:54 - loss: 0.6042 - acc: 0.672 - ETA: 1:53 - loss: 0.6029 - acc: 0.674 - ETA: 1:53 - loss: 0.6011 - acc: 0.675 - ETA: 1:52 - loss: 0.6021 - acc: 0.675 - ETA: 1:51 - loss: 0.6019 - acc: 0.675 - ETA: 1:51 - loss: 0.6007 - acc: 0.676 - ETA: 1:50 - loss: 0.5994 - acc: 0.677 - ETA: 1:49 - loss: 0.6008 - acc: 0.676 - ETA: 1:49 - loss: 0.6009 - acc: 0.677 - ETA: 1:48 - loss: 0.5993 - acc: 0.679 - ETA: 1:48 - loss: 0.5988 - acc: 0.679 - ETA: 1:47 - loss: 0.5983 - acc: 0.680 - ETA: 1:47 - loss: 0.5977 - acc: 0.680 - ETA: 1:46 - loss: 0.5964 - acc: 0.682 - ETA: 1:45 - loss: 0.5960 - acc: 0.682 - ETA: 1:45 - loss: 0.5953 - acc: 0.683 - ETA: 1:44 - loss: 0.5935 - acc: 0.684 - ETA: 1:44 - loss: 0.5922 - acc: 0.685 - ETA: 1:43 - loss: 0.5909 - acc: 0.687 - ETA: 1:43 - loss: 0.5920 - acc: 0.686 - ETA: 1:42 - loss: 0.5923 - acc: 0.687 - ETA: 1:41 - loss: 0.5917 - acc: 0.687 - ETA: 1:41 - loss: 0.5901 - acc: 0.689 - ETA: 1:40 - loss: 0.5909 - acc: 0.688 - ETA: 1:40 - loss: 0.5896 - acc: 0.689 - ETA: 1:39 - loss: 0.5894 - acc: 0.690 - ETA: 1:39 - loss: 0.5889 - acc: 0.690 - ETA: 1:38 - loss: 0.5879 - acc: 0.691 - ETA: 1:38 - loss: 0.5875 - acc: 0.692 - ETA: 1:37 - loss: 0.5874 - acc: 0.692 - ETA: 1:36 - loss: 0.5872 - acc: 0.692 - ETA: 1:36 - loss: 0.5861 - acc: 0.692 - ETA: 1:35 - loss: 0.5845 - acc: 0.693 - ETA: 1:35 - loss: 0.5840 - acc: 0.694 - ETA: 1:34 - loss: 0.5839 - acc: 0.693 - ETA: 1:34 - loss: 0.5833 - acc: 0.693 - ETA: 1:33 - loss: 0.5826 - acc: 0.694 - ETA: 1:33 - loss: 0.5819 - acc: 0.695 - ETA: 1:32 - loss: 0.5801 - acc: 0.696 - ETA: 1:32 - loss: 0.5799 - acc: 0.696 - ETA: 1:31 - loss: 0.5799 - acc: 0.696 - ETA: 1:31 - loss: 0.5804 - acc: 0.696 - ETA: 1:30 - loss: 0.5801 - acc: 0.696 - ETA: 1:30 - loss: 0.5803 - acc: 0.696 - ETA: 1:29 - loss: 0.5796 - acc: 0.696 - ETA: 1:29 - loss: 0.5788 - acc: 0.697 - ETA: 1:28 - loss: 0.5772 - acc: 0.698 - ETA: 1:28 - loss: 0.5776 - acc: 0.698 - ETA: 1:27 - loss: 0.5758 - acc: 0.699 - ETA: 1:27 - loss: 0.5757 - acc: 0.699 - ETA: 1:26 - loss: 0.5748 - acc: 0.700 - ETA: 1:26 - loss: 0.5749 - acc: 0.700 - ETA: 1:25 - loss: 0.5745 - acc: 0.700 - ETA: 1:25 - loss: 0.5734 - acc: 0.701 - ETA: 1:24 - loss: 0.5722 - acc: 0.701 - ETA: 1:24 - loss: 0.5708 - acc: 0.703 - ETA: 1:23 - loss: 0.5700 - acc: 0.703 - ETA: 1:23 - loss: 0.5706 - acc: 0.703 - ETA: 1:23 - loss: 0.5716 - acc: 0.702 - ETA: 1:22 - loss: 0.5696 - acc: 0.703 - ETA: 1:22 - loss: 0.5690 - acc: 0.704 - ETA: 1:21 - loss: 0.5693 - acc: 0.704 - ETA: 1:21 - loss: 0.5686 - acc: 0.705 - ETA: 1:20 - loss: 0.5678 - acc: 0.705 - ETA: 1:20 - loss: 0.5662 - acc: 0.707 - ETA: 1:19 - loss: 0.5651 - acc: 0.708 - ETA: 1:19 - loss: 0.5635 - acc: 0.709 - ETA: 1:18 - loss: 0.5633 - acc: 0.709 - ETA: 1:18 - loss: 0.5632 - acc: 0.709 - ETA: 1:17 - loss: 0.5622 - acc: 0.710 - ETA: 1:17 - loss: 0.5630 - acc: 0.710 - ETA: 1:17 - loss: 0.5626 - acc: 0.710 - ETA: 1:16 - loss: 0.5623 - acc: 0.711 - ETA: 1:16 - loss: 0.5616 - acc: 0.711 - ETA: 1:15 - loss: 0.5617 - acc: 0.711 - ETA: 1:15 - loss: 0.5618 - acc: 0.711 - ETA: 1:14 - loss: 0.5614 - acc: 0.711 - ETA: 1:14 - loss: 0.5621 - acc: 0.710 - ETA: 1:13 - loss: 0.5619 - acc: 0.711 - ETA: 1:13 - loss: 0.5613 - acc: 0.711 - ETA: 1:13 - loss: 0.5613 - acc: 0.711 - ETA: 1:12 - loss: 0.5613 - acc: 0.711 - ETA: 1:12 - loss: 0.5608 - acc: 0.711 - ETA: 1:11 - loss: 0.5603 - acc: 0.712 - ETA: 1:11 - loss: 0.5600 - acc: 0.712 - ETA: 1:10 - loss: 0.5596 - acc: 0.712 - ETA: 1:10 - loss: 0.5595 - acc: 0.712 - ETA: 1:09 - loss: 0.5596 - acc: 0.712 - ETA: 1:09 - loss: 0.5600 - acc: 0.712 - ETA: 1:08 - loss: 0.5594 - acc: 0.712 - ETA: 1:08 - loss: 0.5597 - acc: 0.712 - ETA: 1:07 - loss: 0.5586 - acc: 0.713 - ETA: 1:07 - loss: 0.5579 - acc: 0.714 - ETA: 1:06 - loss: 0.5576 - acc: 0.714 - ETA: 1:06 - loss: 0.5570 - acc: 0.714 - ETA: 1:06 - loss: 0.5563 - acc: 0.715 - ETA: 1:05 - loss: 0.5559 - acc: 0.715 - ETA: 1:05 - loss: 0.5554 - acc: 0.716 - ETA: 1:04 - loss: 0.5545 - acc: 0.717 - ETA: 1:04 - loss: 0.5539 - acc: 0.717 - ETA: 1:03 - loss: 0.5527 - acc: 0.718 - ETA: 1:03 - loss: 0.5519 - acc: 0.718 - ETA: 1:02 - loss: 0.5508 - acc: 0.719 - ETA: 1:02 - loss: 0.5501 - acc: 0.719 - ETA: 1:01 - loss: 0.5492 - acc: 0.720 - ETA: 1:01 - loss: 0.5492 - acc: 0.720 - ETA: 1:01 - loss: 0.5491 - acc: 0.720 - ETA: 1:00 - loss: 0.5478 - acc: 0.721 - ETA: 1:00 - loss: 0.5476 - acc: 0.721 - ETA: 59s - loss: 0.5483 - acc: 0.721 - ETA: 59s - loss: 0.5480 - acc: 0.72 - ETA: 58s - loss: 0.5471 - acc: 0.72 - ETA: 58s - loss: 0.5466 - acc: 0.72 - ETA: 57s - loss: 0.5459 - acc: 0.72 - ETA: 57s - loss: 0.5454 - acc: 0.72 - ETA: 57s - loss: 0.5447 - acc: 0.72 - ETA: 56s - loss: 0.5443 - acc: 0.72 - ETA: 56s - loss: 0.5442 - acc: 0.72 - ETA: 55s - loss: 0.5434 - acc: 0.72 - ETA: 55s - loss: 0.5434 - acc: 0.72 - ETA: 54s - loss: 0.5431 - acc: 0.7210586/10586 [==============================] - ETA: 54s - loss: 0.5427 - acc: 0.72 - ETA: 54s - loss: 0.5421 - acc: 0.72 - ETA: 53s - loss: 0.5414 - acc: 0.72 - ETA: 53s - loss: 0.5424 - acc: 0.72 - ETA: 52s - loss: 0.5429 - acc: 0.72 - ETA: 52s - loss: 0.5432 - acc: 0.72 - ETA: 51s - loss: 0.5435 - acc: 0.72 - ETA: 51s - loss: 0.5424 - acc: 0.72 - ETA: 50s - loss: 0.5426 - acc: 0.72 - ETA: 50s - loss: 0.5428 - acc: 0.72 - ETA: 50s - loss: 0.5421 - acc: 0.72 - ETA: 49s - loss: 0.5422 - acc: 0.72 - ETA: 49s - loss: 0.5421 - acc: 0.72 - ETA: 48s - loss: 0.5425 - acc: 0.72 - ETA: 48s - loss: 0.5422 - acc: 0.72 - ETA: 47s - loss: 0.5420 - acc: 0.72 - ETA: 47s - loss: 0.5416 - acc: 0.72 - ETA: 46s - loss: 0.5410 - acc: 0.72 - ETA: 46s - loss: 0.5416 - acc: 0.72 - ETA: 46s - loss: 0.5409 - acc: 0.72 - ETA: 45s - loss: 0.5407 - acc: 0.72 - ETA: 45s - loss: 0.5398 - acc: 0.72 - ETA: 44s - loss: 0.5395 - acc: 0.72 - ETA: 44s - loss: 0.5398 - acc: 0.72 - ETA: 43s - loss: 0.5396 - acc: 0.72 - ETA: 43s - loss: 0.5395 - acc: 0.72 - ETA: 42s - loss: 0.5401 - acc: 0.72 - ETA: 42s - loss: 0.5403 - acc: 0.72 - ETA: 42s - loss: 0.5407 - acc: 0.72 - ETA: 41s - loss: 0.5409 - acc: 0.72 - ETA: 41s - loss: 0.5402 - acc: 0.72 - ETA: 40s - loss: 0.5400 - acc: 0.72 - ETA: 40s - loss: 0.5396 - acc: 0.72 - ETA: 39s - loss: 0.5390 - acc: 0.72 - ETA: 39s - loss: 0.5392 - acc: 0.72 - ETA: 39s - loss: 0.5389 - acc: 0.72 - ETA: 38s - loss: 0.5385 - acc: 0.72 - ETA: 38s - loss: 0.5383 - acc: 0.72 - ETA: 37s - loss: 0.5377 - acc: 0.73 - ETA: 37s - loss: 0.5378 - acc: 0.73 - ETA: 36s - loss: 0.5371 - acc: 0.73 - ETA: 36s - loss: 0.5367 - acc: 0.73 - ETA: 36s - loss: 0.5369 - acc: 0.73 - ETA: 35s - loss: 0.5367 - acc: 0.73 - ETA: 35s - loss: 0.5369 - acc: 0.73 - ETA: 34s - loss: 0.5362 - acc: 0.73 - ETA: 34s - loss: 0.5361 - acc: 0.73 - ETA: 33s - loss: 0.5363 - acc: 0.73 - ETA: 33s - loss: 0.5359 - acc: 0.73 - ETA: 33s - loss: 0.5359 - acc: 0.73 - ETA: 32s - loss: 0.5353 - acc: 0.73 - ETA: 32s - loss: 0.5354 - acc: 0.73 - ETA: 31s - loss: 0.5356 - acc: 0.73 - ETA: 31s - loss: 0.5351 - acc: 0.73 - ETA: 30s - loss: 0.5347 - acc: 0.73 - ETA: 30s - loss: 0.5347 - acc: 0.73 - ETA: 30s - loss: 0.5341 - acc: 0.73 - ETA: 29s - loss: 0.5341 - acc: 0.73 - ETA: 29s - loss: 0.5338 - acc: 0.73 - ETA: 28s - loss: 0.5343 - acc: 0.73 - ETA: 28s - loss: 0.5339 - acc: 0.73 - ETA: 27s - loss: 0.5333 - acc: 0.73 - ETA: 27s - loss: 0.5334 - acc: 0.73 - ETA: 27s - loss: 0.5333 - acc: 0.73 - ETA: 26s - loss: 0.5338 - acc: 0.73 - ETA: 26s - loss: 0.5340 - acc: 0.73 - ETA: 25s - loss: 0.5336 - acc: 0.73 - ETA: 25s - loss: 0.5335 - acc: 0.73 - ETA: 24s - loss: 0.5331 - acc: 0.73 - ETA: 24s - loss: 0.5329 - acc: 0.73 - ETA: 24s - loss: 0.5328 - acc: 0.73 - ETA: 23s - loss: 0.5321 - acc: 0.73 - ETA: 23s - loss: 0.5318 - acc: 0.73 - ETA: 22s - loss: 0.5314 - acc: 0.73 - ETA: 22s - loss: 0.5309 - acc: 0.73 - ETA: 21s - loss: 0.5307 - acc: 0.73 - ETA: 21s - loss: 0.5307 - acc: 0.73 - ETA: 21s - loss: 0.5298 - acc: 0.73 - ETA: 20s - loss: 0.5293 - acc: 0.73 - ETA: 20s - loss: 0.5291 - acc: 0.73 - ETA: 19s - loss: 0.5287 - acc: 0.73 - ETA: 19s - loss: 0.5284 - acc: 0.73 - ETA: 18s - loss: 0.5284 - acc: 0.73 - ETA: 18s - loss: 0.5287 - acc: 0.73 - ETA: 18s - loss: 0.5281 - acc: 0.73 - ETA: 17s - loss: 0.5275 - acc: 0.73 - ETA: 17s - loss: 0.5275 - acc: 0.73 - ETA: 16s - loss: 0.5278 - acc: 0.73 - ETA: 16s - loss: 0.5272 - acc: 0.73 - ETA: 15s - loss: 0.5269 - acc: 0.73 - ETA: 15s - loss: 0.5268 - acc: 0.73 - ETA: 15s - loss: 0.5271 - acc: 0.73 - ETA: 14s - loss: 0.5275 - acc: 0.73 - ETA: 14s - loss: 0.5276 - acc: 0.73 - ETA: 13s - loss: 0.5278 - acc: 0.73 - ETA: 13s - loss: 0.5276 - acc: 0.73 - ETA: 12s - loss: 0.5277 - acc: 0.73 - ETA: 12s - loss: 0.5279 - acc: 0.73 - ETA: 12s - loss: 0.5280 - acc: 0.73 - ETA: 11s - loss: 0.5278 - acc: 0.73 - ETA: 11s - loss: 0.5275 - acc: 0.73 - ETA: 10s - loss: 0.5273 - acc: 0.73 - ETA: 10s - loss: 0.5271 - acc: 0.73 - ETA: 10s - loss: 0.5264 - acc: 0.73 - ETA: 9s - loss: 0.5263 - acc: 0.7398 - ETA: 9s - loss: 0.5258 - acc: 0.740 - ETA: 8s - loss: 0.5259 - acc: 0.740 - ETA: 8s - loss: 0.5258 - acc: 0.740 - ETA: 7s - loss: 0.5252 - acc: 0.740 - ETA: 7s - loss: 0.5251 - acc: 0.740 - ETA: 7s - loss: 0.5257 - acc: 0.740 - ETA: 6s - loss: 0.5254 - acc: 0.740 - ETA: 6s - loss: 0.5248 - acc: 0.740 - ETA: 5s - loss: 0.5248 - acc: 0.740 - ETA: 5s - loss: 0.5247 - acc: 0.740 - ETA: 4s - loss: 0.5244 - acc: 0.740 - ETA: 4s - loss: 0.5246 - acc: 0.740 - ETA: 4s - loss: 0.5240 - acc: 0.740 - ETA: 3s - loss: 0.5240 - acc: 0.740 - ETA: 3s - loss: 0.5238 - acc: 0.740 - ETA: 2s - loss: 0.5237 - acc: 0.740 - ETA: 2s - loss: 0.5233 - acc: 0.741 - ETA: 2s - loss: 0.5234 - acc: 0.741 - ETA: 1s - loss: 0.5235 - acc: 0.741 - ETA: 1s - loss: 0.5232 - acc: 0.741 - ETA: 0s - loss: 0.5232 - acc: 0.741 - ETA: 0s - loss: 0.5231 - acc: 0.741 - 154s 15ms/step - loss: 0.5230 - acc: 0.7415 - val_loss: 0.4647 - val_acc: 0.7869\n",
      "Epoch 2/10\n"
     ]
    },
    {
     "name": "stdout",
     "output_type": "stream",
     "text": [
      " 6560/10586 [=================>............] - ETA: 1:44 - loss: 0.4178 - acc: 0.781 - ETA: 1:54 - loss: 0.3728 - acc: 0.859 - ETA: 1:59 - loss: 0.3456 - acc: 0.895 - ETA: 2:06 - loss: 0.3693 - acc: 0.859 - ETA: 2:06 - loss: 0.3703 - acc: 0.850 - ETA: 2:07 - loss: 0.3605 - acc: 0.859 - ETA: 2:08 - loss: 0.3423 - acc: 0.866 - ETA: 2:08 - loss: 0.3630 - acc: 0.839 - ETA: 2:07 - loss: 0.3577 - acc: 0.840 - ETA: 2:07 - loss: 0.3571 - acc: 0.843 - ETA: 2:07 - loss: 0.3504 - acc: 0.849 - ETA: 2:06 - loss: 0.3515 - acc: 0.846 - ETA: 2:06 - loss: 0.3587 - acc: 0.843 - ETA: 2:05 - loss: 0.3507 - acc: 0.846 - ETA: 2:05 - loss: 0.3516 - acc: 0.845 - ETA: 2:05 - loss: 0.3483 - acc: 0.849 - ETA: 2:05 - loss: 0.3351 - acc: 0.856 - ETA: 2:04 - loss: 0.3400 - acc: 0.855 - ETA: 2:04 - loss: 0.3435 - acc: 0.855 - ETA: 2:04 - loss: 0.3424 - acc: 0.857 - ETA: 2:04 - loss: 0.3511 - acc: 0.852 - ETA: 2:05 - loss: 0.3493 - acc: 0.855 - ETA: 2:06 - loss: 0.3424 - acc: 0.858 - ETA: 2:06 - loss: 0.3382 - acc: 0.860 - ETA: 2:05 - loss: 0.3381 - acc: 0.860 - ETA: 2:04 - loss: 0.3355 - acc: 0.859 - ETA: 2:03 - loss: 0.3368 - acc: 0.855 - ETA: 2:03 - loss: 0.3301 - acc: 0.859 - ETA: 2:03 - loss: 0.3339 - acc: 0.858 - ETA: 2:02 - loss: 0.3309 - acc: 0.860 - ETA: 2:02 - loss: 0.3309 - acc: 0.859 - ETA: 2:02 - loss: 0.3273 - acc: 0.861 - ETA: 2:01 - loss: 0.3258 - acc: 0.860 - ETA: 2:00 - loss: 0.3283 - acc: 0.861 - ETA: 2:00 - loss: 0.3358 - acc: 0.857 - ETA: 1:59 - loss: 0.3370 - acc: 0.855 - ETA: 1:59 - loss: 0.3421 - acc: 0.853 - ETA: 1:58 - loss: 0.3432 - acc: 0.852 - ETA: 1:58 - loss: 0.3430 - acc: 0.851 - ETA: 1:57 - loss: 0.3412 - acc: 0.852 - ETA: 1:57 - loss: 0.3400 - acc: 0.852 - ETA: 1:57 - loss: 0.3435 - acc: 0.851 - ETA: 1:56 - loss: 0.3413 - acc: 0.852 - ETA: 1:56 - loss: 0.3408 - acc: 0.851 - ETA: 1:55 - loss: 0.3403 - acc: 0.852 - ETA: 1:55 - loss: 0.3389 - acc: 0.853 - ETA: 1:54 - loss: 0.3398 - acc: 0.853 - ETA: 1:54 - loss: 0.3434 - acc: 0.850 - ETA: 1:53 - loss: 0.3415 - acc: 0.852 - ETA: 1:53 - loss: 0.3406 - acc: 0.853 - ETA: 1:52 - loss: 0.3411 - acc: 0.852 - ETA: 1:52 - loss: 0.3425 - acc: 0.852 - ETA: 1:51 - loss: 0.3473 - acc: 0.849 - ETA: 1:51 - loss: 0.3518 - acc: 0.846 - ETA: 1:51 - loss: 0.3530 - acc: 0.845 - ETA: 1:50 - loss: 0.3519 - acc: 0.846 - ETA: 1:50 - loss: 0.3503 - acc: 0.847 - ETA: 1:49 - loss: 0.3525 - acc: 0.845 - ETA: 1:49 - loss: 0.3509 - acc: 0.846 - ETA: 1:48 - loss: 0.3532 - acc: 0.845 - ETA: 1:48 - loss: 0.3536 - acc: 0.844 - ETA: 1:47 - loss: 0.3551 - acc: 0.843 - ETA: 1:47 - loss: 0.3547 - acc: 0.844 - ETA: 1:46 - loss: 0.3540 - acc: 0.844 - ETA: 1:46 - loss: 0.3555 - acc: 0.843 - ETA: 1:46 - loss: 0.3548 - acc: 0.844 - ETA: 1:46 - loss: 0.3556 - acc: 0.845 - ETA: 1:45 - loss: 0.3575 - acc: 0.844 - ETA: 1:45 - loss: 0.3564 - acc: 0.845 - ETA: 1:44 - loss: 0.3556 - acc: 0.846 - ETA: 1:44 - loss: 0.3577 - acc: 0.845 - ETA: 1:43 - loss: 0.3585 - acc: 0.844 - ETA: 1:43 - loss: 0.3587 - acc: 0.843 - ETA: 1:43 - loss: 0.3564 - acc: 0.844 - ETA: 1:42 - loss: 0.3582 - acc: 0.842 - ETA: 1:42 - loss: 0.3577 - acc: 0.843 - ETA: 1:41 - loss: 0.3559 - acc: 0.845 - ETA: 1:41 - loss: 0.3539 - acc: 0.846 - ETA: 1:41 - loss: 0.3558 - acc: 0.845 - ETA: 1:40 - loss: 0.3561 - acc: 0.844 - ETA: 1:40 - loss: 0.3563 - acc: 0.844 - ETA: 1:39 - loss: 0.3555 - acc: 0.843 - ETA: 1:39 - loss: 0.3574 - acc: 0.843 - ETA: 1:39 - loss: 0.3557 - acc: 0.844 - ETA: 1:38 - loss: 0.3558 - acc: 0.844 - ETA: 1:38 - loss: 0.3555 - acc: 0.844 - ETA: 1:37 - loss: 0.3555 - acc: 0.844 - ETA: 1:37 - loss: 0.3564 - acc: 0.844 - ETA: 1:37 - loss: 0.3575 - acc: 0.844 - ETA: 1:36 - loss: 0.3560 - acc: 0.845 - ETA: 1:36 - loss: 0.3555 - acc: 0.845 - ETA: 1:36 - loss: 0.3553 - acc: 0.845 - ETA: 1:35 - loss: 0.3557 - acc: 0.845 - ETA: 1:35 - loss: 0.3559 - acc: 0.845 - ETA: 1:34 - loss: 0.3554 - acc: 0.845 - ETA: 1:34 - loss: 0.3545 - acc: 0.845 - ETA: 1:34 - loss: 0.3548 - acc: 0.845 - ETA: 1:33 - loss: 0.3549 - acc: 0.845 - ETA: 1:33 - loss: 0.3543 - acc: 0.845 - ETA: 1:33 - loss: 0.3535 - acc: 0.845 - ETA: 1:32 - loss: 0.3549 - acc: 0.845 - ETA: 1:32 - loss: 0.3537 - acc: 0.845 - ETA: 1:32 - loss: 0.3541 - acc: 0.845 - ETA: 1:31 - loss: 0.3534 - acc: 0.845 - ETA: 1:31 - loss: 0.3532 - acc: 0.846 - ETA: 1:30 - loss: 0.3535 - acc: 0.846 - ETA: 1:30 - loss: 0.3521 - acc: 0.847 - ETA: 1:29 - loss: 0.3515 - acc: 0.847 - ETA: 1:29 - loss: 0.3514 - acc: 0.847 - ETA: 1:29 - loss: 0.3510 - acc: 0.847 - ETA: 1:28 - loss: 0.3515 - acc: 0.847 - ETA: 1:28 - loss: 0.3507 - acc: 0.848 - ETA: 1:27 - loss: 0.3508 - acc: 0.848 - ETA: 1:27 - loss: 0.3508 - acc: 0.848 - ETA: 1:26 - loss: 0.3503 - acc: 0.849 - ETA: 1:26 - loss: 0.3489 - acc: 0.849 - ETA: 1:26 - loss: 0.3500 - acc: 0.849 - ETA: 1:25 - loss: 0.3497 - acc: 0.849 - ETA: 1:25 - loss: 0.3477 - acc: 0.850 - ETA: 1:24 - loss: 0.3484 - acc: 0.850 - ETA: 1:24 - loss: 0.3480 - acc: 0.851 - ETA: 1:24 - loss: 0.3481 - acc: 0.850 - ETA: 1:23 - loss: 0.3489 - acc: 0.850 - ETA: 1:23 - loss: 0.3474 - acc: 0.851 - ETA: 1:23 - loss: 0.3483 - acc: 0.851 - ETA: 1:22 - loss: 0.3489 - acc: 0.850 - ETA: 1:22 - loss: 0.3495 - acc: 0.850 - ETA: 1:21 - loss: 0.3490 - acc: 0.850 - ETA: 1:21 - loss: 0.3475 - acc: 0.851 - ETA: 1:20 - loss: 0.3472 - acc: 0.851 - ETA: 1:20 - loss: 0.3461 - acc: 0.852 - ETA: 1:20 - loss: 0.3459 - acc: 0.852 - ETA: 1:19 - loss: 0.3464 - acc: 0.852 - ETA: 1:19 - loss: 0.3465 - acc: 0.852 - ETA: 1:19 - loss: 0.3464 - acc: 0.851 - ETA: 1:18 - loss: 0.3462 - acc: 0.851 - ETA: 1:18 - loss: 0.3474 - acc: 0.851 - ETA: 1:17 - loss: 0.3474 - acc: 0.851 - ETA: 1:17 - loss: 0.3471 - acc: 0.850 - ETA: 1:16 - loss: 0.3475 - acc: 0.850 - ETA: 1:16 - loss: 0.3468 - acc: 0.851 - ETA: 1:16 - loss: 0.3469 - acc: 0.850 - ETA: 1:15 - loss: 0.3468 - acc: 0.850 - ETA: 1:15 - loss: 0.3467 - acc: 0.850 - ETA: 1:14 - loss: 0.3468 - acc: 0.850 - ETA: 1:14 - loss: 0.3471 - acc: 0.850 - ETA: 1:14 - loss: 0.3468 - acc: 0.850 - ETA: 1:13 - loss: 0.3465 - acc: 0.850 - ETA: 1:13 - loss: 0.3459 - acc: 0.851 - ETA: 1:12 - loss: 0.3453 - acc: 0.852 - ETA: 1:12 - loss: 0.3453 - acc: 0.852 - ETA: 1:12 - loss: 0.3445 - acc: 0.852 - ETA: 1:11 - loss: 0.3438 - acc: 0.852 - ETA: 1:11 - loss: 0.3448 - acc: 0.851 - ETA: 1:10 - loss: 0.3443 - acc: 0.852 - ETA: 1:10 - loss: 0.3445 - acc: 0.852 - ETA: 1:09 - loss: 0.3437 - acc: 0.852 - ETA: 1:09 - loss: 0.3436 - acc: 0.852 - ETA: 1:09 - loss: 0.3441 - acc: 0.852 - ETA: 1:08 - loss: 0.3436 - acc: 0.852 - ETA: 1:08 - loss: 0.3430 - acc: 0.852 - ETA: 1:07 - loss: 0.3429 - acc: 0.852 - ETA: 1:07 - loss: 0.3428 - acc: 0.852 - ETA: 1:07 - loss: 0.3428 - acc: 0.852 - ETA: 1:06 - loss: 0.3422 - acc: 0.853 - ETA: 1:06 - loss: 0.3425 - acc: 0.853 - ETA: 1:05 - loss: 0.3431 - acc: 0.852 - ETA: 1:05 - loss: 0.3425 - acc: 0.853 - ETA: 1:05 - loss: 0.3438 - acc: 0.852 - ETA: 1:04 - loss: 0.3451 - acc: 0.852 - ETA: 1:04 - loss: 0.3456 - acc: 0.852 - ETA: 1:03 - loss: 0.3457 - acc: 0.852 - ETA: 1:03 - loss: 0.3453 - acc: 0.852 - ETA: 1:02 - loss: 0.3463 - acc: 0.851 - ETA: 1:02 - loss: 0.3464 - acc: 0.851 - ETA: 1:02 - loss: 0.3465 - acc: 0.851 - ETA: 1:01 - loss: 0.3470 - acc: 0.851 - ETA: 1:01 - loss: 0.3470 - acc: 0.851 - ETA: 1:00 - loss: 0.3466 - acc: 0.851 - ETA: 1:00 - loss: 0.3464 - acc: 0.851 - ETA: 1:00 - loss: 0.3459 - acc: 0.851 - ETA: 59s - loss: 0.3456 - acc: 0.852 - ETA: 59s - loss: 0.3461 - acc: 0.85 - ETA: 58s - loss: 0.3457 - acc: 0.85 - ETA: 58s - loss: 0.3459 - acc: 0.85 - ETA: 58s - loss: 0.3468 - acc: 0.85 - ETA: 57s - loss: 0.3467 - acc: 0.85 - ETA: 57s - loss: 0.3470 - acc: 0.85 - ETA: 56s - loss: 0.3466 - acc: 0.85 - ETA: 56s - loss: 0.3470 - acc: 0.85 - ETA: 56s - loss: 0.3470 - acc: 0.85 - ETA: 55s - loss: 0.3462 - acc: 0.85 - ETA: 55s - loss: 0.3459 - acc: 0.85 - ETA: 54s - loss: 0.3458 - acc: 0.85 - ETA: 54s - loss: 0.3459 - acc: 0.85 - ETA: 54s - loss: 0.3462 - acc: 0.85 - ETA: 53s - loss: 0.3462 - acc: 0.85 - ETA: 53s - loss: 0.3471 - acc: 0.85 - ETA: 53s - loss: 0.3465 - acc: 0.85 - ETA: 52s - loss: 0.3462 - acc: 0.85 - ETA: 52s - loss: 0.3459 - acc: 0.85 - ETA: 51s - loss: 0.3456 - acc: 0.85 - ETA: 51s - loss: 0.3454 - acc: 0.85 - ETA: 50s - loss: 0.3458 - acc: 0.85 - ETA: 50s - loss: 0.3457 - acc: 0.8523"
     ]
    },
    {
     "name": "stdout",
     "output_type": "stream",
     "text": [
      "10586/10586 [==============================] - ETA: 50s - loss: 0.3461 - acc: 0.85 - ETA: 49s - loss: 0.3459 - acc: 0.85 - ETA: 49s - loss: 0.3462 - acc: 0.85 - ETA: 49s - loss: 0.3465 - acc: 0.85 - ETA: 48s - loss: 0.3473 - acc: 0.85 - ETA: 48s - loss: 0.3476 - acc: 0.85 - ETA: 47s - loss: 0.3486 - acc: 0.85 - ETA: 47s - loss: 0.3487 - acc: 0.85 - ETA: 47s - loss: 0.3483 - acc: 0.85 - ETA: 46s - loss: 0.3491 - acc: 0.85 - ETA: 46s - loss: 0.3490 - acc: 0.85 - ETA: 45s - loss: 0.3496 - acc: 0.85 - ETA: 45s - loss: 0.3494 - acc: 0.85 - ETA: 44s - loss: 0.3491 - acc: 0.85 - ETA: 44s - loss: 0.3489 - acc: 0.85 - ETA: 44s - loss: 0.3487 - acc: 0.85 - ETA: 43s - loss: 0.3485 - acc: 0.85 - ETA: 43s - loss: 0.3486 - acc: 0.85 - ETA: 42s - loss: 0.3481 - acc: 0.85 - ETA: 42s - loss: 0.3481 - acc: 0.85 - ETA: 42s - loss: 0.3482 - acc: 0.85 - ETA: 41s - loss: 0.3485 - acc: 0.85 - ETA: 41s - loss: 0.3483 - acc: 0.85 - ETA: 40s - loss: 0.3479 - acc: 0.85 - ETA: 40s - loss: 0.3489 - acc: 0.85 - ETA: 40s - loss: 0.3489 - acc: 0.85 - ETA: 39s - loss: 0.3494 - acc: 0.85 - ETA: 39s - loss: 0.3493 - acc: 0.85 - ETA: 38s - loss: 0.3494 - acc: 0.85 - ETA: 38s - loss: 0.3495 - acc: 0.85 - ETA: 38s - loss: 0.3495 - acc: 0.85 - ETA: 37s - loss: 0.3493 - acc: 0.85 - ETA: 37s - loss: 0.3492 - acc: 0.85 - ETA: 36s - loss: 0.3485 - acc: 0.85 - ETA: 36s - loss: 0.3481 - acc: 0.85 - ETA: 36s - loss: 0.3481 - acc: 0.85 - ETA: 35s - loss: 0.3484 - acc: 0.85 - ETA: 35s - loss: 0.3488 - acc: 0.85 - ETA: 34s - loss: 0.3478 - acc: 0.85 - ETA: 34s - loss: 0.3478 - acc: 0.85 - ETA: 34s - loss: 0.3482 - acc: 0.85 - ETA: 33s - loss: 0.3482 - acc: 0.85 - ETA: 33s - loss: 0.3479 - acc: 0.85 - ETA: 32s - loss: 0.3481 - acc: 0.85 - ETA: 32s - loss: 0.3483 - acc: 0.85 - ETA: 32s - loss: 0.3480 - acc: 0.85 - ETA: 31s - loss: 0.3488 - acc: 0.85 - ETA: 31s - loss: 0.3495 - acc: 0.84 - ETA: 30s - loss: 0.3502 - acc: 0.84 - ETA: 30s - loss: 0.3498 - acc: 0.84 - ETA: 30s - loss: 0.3496 - acc: 0.84 - ETA: 29s - loss: 0.3494 - acc: 0.84 - ETA: 29s - loss: 0.3496 - acc: 0.84 - ETA: 28s - loss: 0.3493 - acc: 0.84 - ETA: 28s - loss: 0.3498 - acc: 0.84 - ETA: 28s - loss: 0.3494 - acc: 0.84 - ETA: 27s - loss: 0.3491 - acc: 0.84 - ETA: 27s - loss: 0.3490 - acc: 0.84 - ETA: 26s - loss: 0.3489 - acc: 0.84 - ETA: 26s - loss: 0.3488 - acc: 0.84 - ETA: 26s - loss: 0.3497 - acc: 0.84 - ETA: 25s - loss: 0.3498 - acc: 0.84 - ETA: 25s - loss: 0.3502 - acc: 0.84 - ETA: 24s - loss: 0.3495 - acc: 0.84 - ETA: 24s - loss: 0.3497 - acc: 0.84 - ETA: 24s - loss: 0.3501 - acc: 0.84 - ETA: 23s - loss: 0.3496 - acc: 0.84 - ETA: 23s - loss: 0.3501 - acc: 0.84 - ETA: 22s - loss: 0.3506 - acc: 0.84 - ETA: 22s - loss: 0.3506 - acc: 0.84 - ETA: 22s - loss: 0.3508 - acc: 0.84 - ETA: 21s - loss: 0.3503 - acc: 0.84 - ETA: 21s - loss: 0.3505 - acc: 0.84 - ETA: 20s - loss: 0.3501 - acc: 0.84 - ETA: 20s - loss: 0.3499 - acc: 0.84 - ETA: 20s - loss: 0.3505 - acc: 0.84 - ETA: 19s - loss: 0.3501 - acc: 0.84 - ETA: 19s - loss: 0.3509 - acc: 0.84 - ETA: 18s - loss: 0.3518 - acc: 0.84 - ETA: 18s - loss: 0.3522 - acc: 0.84 - ETA: 18s - loss: 0.3522 - acc: 0.84 - ETA: 17s - loss: 0.3525 - acc: 0.84 - ETA: 17s - loss: 0.3523 - acc: 0.84 - ETA: 16s - loss: 0.3520 - acc: 0.84 - ETA: 16s - loss: 0.3514 - acc: 0.84 - ETA: 16s - loss: 0.3514 - acc: 0.84 - ETA: 15s - loss: 0.3516 - acc: 0.84 - ETA: 15s - loss: 0.3517 - acc: 0.84 - ETA: 14s - loss: 0.3514 - acc: 0.84 - ETA: 14s - loss: 0.3517 - acc: 0.84 - ETA: 14s - loss: 0.3514 - acc: 0.84 - ETA: 13s - loss: 0.3515 - acc: 0.84 - ETA: 13s - loss: 0.3513 - acc: 0.84 - ETA: 12s - loss: 0.3514 - acc: 0.84 - ETA: 12s - loss: 0.3516 - acc: 0.84 - ETA: 12s - loss: 0.3519 - acc: 0.84 - ETA: 11s - loss: 0.3522 - acc: 0.84 - ETA: 11s - loss: 0.3521 - acc: 0.84 - ETA: 10s - loss: 0.3520 - acc: 0.84 - ETA: 10s - loss: 0.3525 - acc: 0.84 - ETA: 9s - loss: 0.3525 - acc: 0.8480 - ETA: 9s - loss: 0.3525 - acc: 0.848 - ETA: 9s - loss: 0.3525 - acc: 0.848 - ETA: 8s - loss: 0.3521 - acc: 0.848 - ETA: 8s - loss: 0.3522 - acc: 0.848 - ETA: 7s - loss: 0.3522 - acc: 0.848 - ETA: 7s - loss: 0.3526 - acc: 0.848 - ETA: 7s - loss: 0.3527 - acc: 0.847 - ETA: 6s - loss: 0.3529 - acc: 0.847 - ETA: 6s - loss: 0.3531 - acc: 0.847 - ETA: 5s - loss: 0.3532 - acc: 0.847 - ETA: 5s - loss: 0.3530 - acc: 0.847 - ETA: 5s - loss: 0.3532 - acc: 0.847 - ETA: 4s - loss: 0.3533 - acc: 0.847 - ETA: 4s - loss: 0.3532 - acc: 0.847 - ETA: 3s - loss: 0.3535 - acc: 0.847 - ETA: 3s - loss: 0.3535 - acc: 0.847 - ETA: 3s - loss: 0.3541 - acc: 0.847 - ETA: 2s - loss: 0.3541 - acc: 0.847 - ETA: 2s - loss: 0.3538 - acc: 0.847 - ETA: 1s - loss: 0.3538 - acc: 0.847 - ETA: 1s - loss: 0.3544 - acc: 0.847 - ETA: 1s - loss: 0.3546 - acc: 0.847 - ETA: 0s - loss: 0.3548 - acc: 0.847 - ETA: 0s - loss: 0.3548 - acc: 0.847 - 147s 14ms/step - loss: 0.3543 - acc: 0.8473 - val_loss: 0.4813 - val_acc: 0.7903\n",
      "Epoch 3/10\n",
      " 6560/10586 [=================>............] - ETA: 2:06 - loss: 0.2377 - acc: 0.937 - ETA: 2:08 - loss: 0.1960 - acc: 0.968 - ETA: 2:09 - loss: 0.2007 - acc: 0.968 - ETA: 2:07 - loss: 0.2203 - acc: 0.953 - ETA: 2:09 - loss: 0.2131 - acc: 0.937 - ETA: 2:09 - loss: 0.2252 - acc: 0.932 - ETA: 2:11 - loss: 0.2152 - acc: 0.937 - ETA: 2:11 - loss: 0.2099 - acc: 0.937 - ETA: 2:10 - loss: 0.1956 - acc: 0.944 - ETA: 2:09 - loss: 0.1929 - acc: 0.946 - ETA: 2:08 - loss: 0.1939 - acc: 0.943 - ETA: 2:08 - loss: 0.1887 - acc: 0.945 - ETA: 2:08 - loss: 0.2008 - acc: 0.942 - ETA: 2:10 - loss: 0.2148 - acc: 0.933 - ETA: 2:09 - loss: 0.2080 - acc: 0.935 - ETA: 2:08 - loss: 0.2053 - acc: 0.935 - ETA: 2:08 - loss: 0.2036 - acc: 0.935 - ETA: 2:07 - loss: 0.2088 - acc: 0.934 - ETA: 2:06 - loss: 0.2081 - acc: 0.930 - ETA: 2:06 - loss: 0.2097 - acc: 0.928 - ETA: 2:06 - loss: 0.2050 - acc: 0.928 - ETA: 2:06 - loss: 0.2124 - acc: 0.924 - ETA: 2:05 - loss: 0.2139 - acc: 0.923 - ETA: 2:05 - loss: 0.2103 - acc: 0.924 - ETA: 2:04 - loss: 0.2074 - acc: 0.926 - ETA: 2:03 - loss: 0.2018 - acc: 0.929 - ETA: 2:03 - loss: 0.1994 - acc: 0.929 - ETA: 2:02 - loss: 0.1998 - acc: 0.930 - ETA: 2:02 - loss: 0.1987 - acc: 0.932 - ETA: 2:01 - loss: 0.1942 - acc: 0.934 - ETA: 2:02 - loss: 0.1970 - acc: 0.932 - ETA: 2:01 - loss: 0.2010 - acc: 0.928 - ETA: 2:01 - loss: 0.1963 - acc: 0.930 - ETA: 2:00 - loss: 0.1960 - acc: 0.931 - ETA: 2:00 - loss: 0.1942 - acc: 0.932 - ETA: 1:59 - loss: 0.1912 - acc: 0.934 - ETA: 1:58 - loss: 0.1936 - acc: 0.932 - ETA: 1:58 - loss: 0.1939 - acc: 0.930 - ETA: 1:57 - loss: 0.1916 - acc: 0.932 - ETA: 1:57 - loss: 0.1910 - acc: 0.932 - ETA: 1:56 - loss: 0.1888 - acc: 0.933 - ETA: 1:55 - loss: 0.1870 - acc: 0.933 - ETA: 1:55 - loss: 0.1900 - acc: 0.933 - ETA: 1:55 - loss: 0.1937 - acc: 0.931 - ETA: 1:54 - loss: 0.1913 - acc: 0.932 - ETA: 1:54 - loss: 0.1912 - acc: 0.932 - ETA: 1:53 - loss: 0.1892 - acc: 0.932 - ETA: 1:53 - loss: 0.1890 - acc: 0.932 - ETA: 1:53 - loss: 0.1876 - acc: 0.933 - ETA: 1:52 - loss: 0.1878 - acc: 0.933 - ETA: 1:52 - loss: 0.1856 - acc: 0.933 - ETA: 1:51 - loss: 0.1838 - acc: 0.934 - ETA: 1:51 - loss: 0.1836 - acc: 0.935 - ETA: 1:50 - loss: 0.1847 - acc: 0.934 - ETA: 1:50 - loss: 0.1838 - acc: 0.934 - ETA: 1:50 - loss: 0.1846 - acc: 0.933 - ETA: 1:49 - loss: 0.1837 - acc: 0.934 - ETA: 1:48 - loss: 0.1817 - acc: 0.934 - ETA: 1:48 - loss: 0.1810 - acc: 0.934 - ETA: 1:48 - loss: 0.1812 - acc: 0.934 - ETA: 1:47 - loss: 0.1809 - acc: 0.934 - ETA: 1:47 - loss: 0.1806 - acc: 0.934 - ETA: 1:46 - loss: 0.1812 - acc: 0.934 - ETA: 1:46 - loss: 0.1795 - acc: 0.934 - ETA: 1:46 - loss: 0.1806 - acc: 0.933 - ETA: 1:45 - loss: 0.1785 - acc: 0.934 - ETA: 1:45 - loss: 0.1796 - acc: 0.934 - ETA: 1:44 - loss: 0.1786 - acc: 0.934 - ETA: 1:44 - loss: 0.1773 - acc: 0.934 - ETA: 1:43 - loss: 0.1777 - acc: 0.933 - ETA: 1:43 - loss: 0.1817 - acc: 0.932 - ETA: 1:43 - loss: 0.1806 - acc: 0.933 - ETA: 1:42 - loss: 0.1788 - acc: 0.934 - ETA: 1:42 - loss: 0.1780 - acc: 0.934 - ETA: 1:41 - loss: 0.1777 - acc: 0.934 - ETA: 1:41 - loss: 0.1797 - acc: 0.933 - ETA: 1:40 - loss: 0.1796 - acc: 0.933 - ETA: 1:40 - loss: 0.1815 - acc: 0.932 - ETA: 1:40 - loss: 0.1835 - acc: 0.931 - ETA: 1:39 - loss: 0.1828 - acc: 0.931 - ETA: 1:39 - loss: 0.1825 - acc: 0.931 - ETA: 1:38 - loss: 0.1818 - acc: 0.931 - ETA: 1:38 - loss: 0.1813 - acc: 0.931 - ETA: 1:38 - loss: 0.1821 - acc: 0.931 - ETA: 1:37 - loss: 0.1817 - acc: 0.931 - ETA: 1:37 - loss: 0.1811 - acc: 0.931 - ETA: 1:36 - loss: 0.1804 - acc: 0.931 - ETA: 1:36 - loss: 0.1802 - acc: 0.931 - ETA: 1:36 - loss: 0.1802 - acc: 0.931 - ETA: 1:35 - loss: 0.1801 - acc: 0.931 - ETA: 1:35 - loss: 0.1808 - acc: 0.931 - ETA: 1:34 - loss: 0.1807 - acc: 0.931 - ETA: 1:34 - loss: 0.1797 - acc: 0.932 - ETA: 1:34 - loss: 0.1796 - acc: 0.932 - ETA: 1:33 - loss: 0.1798 - acc: 0.932 - ETA: 1:33 - loss: 0.1794 - acc: 0.932 - ETA: 1:32 - loss: 0.1786 - acc: 0.933 - ETA: 1:32 - loss: 0.1797 - acc: 0.932 - ETA: 1:32 - loss: 0.1811 - acc: 0.931 - ETA: 1:31 - loss: 0.1807 - acc: 0.931 - ETA: 1:31 - loss: 0.1797 - acc: 0.931 - ETA: 1:30 - loss: 0.1800 - acc: 0.931 - ETA: 1:30 - loss: 0.1823 - acc: 0.930 - ETA: 1:30 - loss: 0.1829 - acc: 0.930 - ETA: 1:29 - loss: 0.1829 - acc: 0.930 - ETA: 1:29 - loss: 0.1817 - acc: 0.930 - ETA: 1:29 - loss: 0.1815 - acc: 0.930 - ETA: 1:28 - loss: 0.1820 - acc: 0.930 - ETA: 1:28 - loss: 0.1810 - acc: 0.930 - ETA: 1:27 - loss: 0.1798 - acc: 0.931 - ETA: 1:27 - loss: 0.1792 - acc: 0.931 - ETA: 1:26 - loss: 0.1798 - acc: 0.931 - ETA: 1:26 - loss: 0.1809 - acc: 0.931 - ETA: 1:26 - loss: 0.1811 - acc: 0.931 - ETA: 1:25 - loss: 0.1822 - acc: 0.930 - ETA: 1:25 - loss: 0.1816 - acc: 0.931 - ETA: 1:25 - loss: 0.1812 - acc: 0.931 - ETA: 1:24 - loss: 0.1830 - acc: 0.930 - ETA: 1:24 - loss: 0.1823 - acc: 0.930 - ETA: 1:23 - loss: 0.1819 - acc: 0.931 - ETA: 1:23 - loss: 0.1822 - acc: 0.930 - ETA: 1:23 - loss: 0.1819 - acc: 0.931 - ETA: 1:22 - loss: 0.1830 - acc: 0.930 - ETA: 1:22 - loss: 0.1829 - acc: 0.930 - ETA: 1:21 - loss: 0.1834 - acc: 0.930 - ETA: 1:21 - loss: 0.1827 - acc: 0.930 - ETA: 1:20 - loss: 0.1833 - acc: 0.930 - ETA: 1:20 - loss: 0.1830 - acc: 0.930 - ETA: 1:20 - loss: 0.1836 - acc: 0.930 - ETA: 1:19 - loss: 0.1836 - acc: 0.930 - ETA: 1:19 - loss: 0.1839 - acc: 0.930 - ETA: 1:18 - loss: 0.1852 - acc: 0.930 - ETA: 1:18 - loss: 0.1851 - acc: 0.930 - ETA: 1:18 - loss: 0.1847 - acc: 0.930 - ETA: 1:17 - loss: 0.1853 - acc: 0.930 - ETA: 1:17 - loss: 0.1848 - acc: 0.930 - ETA: 1:16 - loss: 0.1847 - acc: 0.930 - ETA: 1:16 - loss: 0.1843 - acc: 0.930 - ETA: 1:16 - loss: 0.1844 - acc: 0.930 - ETA: 1:15 - loss: 0.1840 - acc: 0.930 - ETA: 1:15 - loss: 0.1840 - acc: 0.931 - ETA: 1:14 - loss: 0.1844 - acc: 0.930 - ETA: 1:14 - loss: 0.1854 - acc: 0.930 - ETA: 1:13 - loss: 0.1856 - acc: 0.930 - ETA: 1:13 - loss: 0.1852 - acc: 0.930 - ETA: 1:13 - loss: 0.1854 - acc: 0.930 - ETA: 1:12 - loss: 0.1856 - acc: 0.930 - ETA: 1:12 - loss: 0.1869 - acc: 0.929 - ETA: 1:12 - loss: 0.1868 - acc: 0.929 - ETA: 1:11 - loss: 0.1870 - acc: 0.929 - ETA: 1:11 - loss: 0.1866 - acc: 0.929 - ETA: 1:10 - loss: 0.1875 - acc: 0.928 - ETA: 1:10 - loss: 0.1888 - acc: 0.928 - ETA: 1:10 - loss: 0.1884 - acc: 0.928 - ETA: 1:09 - loss: 0.1885 - acc: 0.928 - ETA: 1:09 - loss: 0.1889 - acc: 0.927 - ETA: 1:08 - loss: 0.1885 - acc: 0.927 - ETA: 1:08 - loss: 0.1883 - acc: 0.928 - ETA: 1:07 - loss: 0.1873 - acc: 0.928 - ETA: 1:07 - loss: 0.1873 - acc: 0.928 - ETA: 1:07 - loss: 0.1888 - acc: 0.928 - ETA: 1:06 - loss: 0.1889 - acc: 0.928 - ETA: 1:06 - loss: 0.1886 - acc: 0.928 - ETA: 1:05 - loss: 0.1886 - acc: 0.928 - ETA: 1:05 - loss: 0.1884 - acc: 0.929 - ETA: 1:05 - loss: 0.1891 - acc: 0.928 - ETA: 1:04 - loss: 0.1891 - acc: 0.928 - ETA: 1:04 - loss: 0.1891 - acc: 0.928 - ETA: 1:03 - loss: 0.1890 - acc: 0.929 - ETA: 1:03 - loss: 0.1887 - acc: 0.929 - ETA: 1:03 - loss: 0.1895 - acc: 0.928 - ETA: 1:02 - loss: 0.1902 - acc: 0.928 - ETA: 1:02 - loss: 0.1900 - acc: 0.928 - ETA: 1:01 - loss: 0.1903 - acc: 0.928 - ETA: 1:01 - loss: 0.1908 - acc: 0.928 - ETA: 1:01 - loss: 0.1906 - acc: 0.927 - ETA: 1:00 - loss: 0.1910 - acc: 0.927 - ETA: 1:00 - loss: 0.1906 - acc: 0.927 - ETA: 59s - loss: 0.1905 - acc: 0.927 - ETA: 59s - loss: 0.1900 - acc: 0.92 - ETA: 59s - loss: 0.1898 - acc: 0.92 - ETA: 58s - loss: 0.1902 - acc: 0.92 - ETA: 58s - loss: 0.1898 - acc: 0.92 - ETA: 57s - loss: 0.1899 - acc: 0.92 - ETA: 57s - loss: 0.1899 - acc: 0.92 - ETA: 57s - loss: 0.1907 - acc: 0.92 - ETA: 56s - loss: 0.1904 - acc: 0.92 - ETA: 56s - loss: 0.1907 - acc: 0.92 - ETA: 56s - loss: 0.1905 - acc: 0.92 - ETA: 55s - loss: 0.1901 - acc: 0.92 - ETA: 55s - loss: 0.1893 - acc: 0.92 - ETA: 54s - loss: 0.1890 - acc: 0.92 - ETA: 54s - loss: 0.1885 - acc: 0.92 - ETA: 54s - loss: 0.1892 - acc: 0.92 - ETA: 53s - loss: 0.1898 - acc: 0.92 - ETA: 53s - loss: 0.1900 - acc: 0.92 - ETA: 52s - loss: 0.1899 - acc: 0.92 - ETA: 52s - loss: 0.1909 - acc: 0.92 - ETA: 52s - loss: 0.1910 - acc: 0.92 - ETA: 51s - loss: 0.1909 - acc: 0.92 - ETA: 51s - loss: 0.1916 - acc: 0.92 - ETA: 50s - loss: 0.1916 - acc: 0.92 - ETA: 50s - loss: 0.1922 - acc: 0.92 - ETA: 50s - loss: 0.1927 - acc: 0.92 - ETA: 49s - loss: 0.1930 - acc: 0.925510586/10586 [==============================] - ETA: 49s - loss: 0.1931 - acc: 0.92 - ETA: 48s - loss: 0.1929 - acc: 0.92 - ETA: 48s - loss: 0.1946 - acc: 0.92 - ETA: 48s - loss: 0.1945 - acc: 0.92 - ETA: 47s - loss: 0.1947 - acc: 0.92 - ETA: 47s - loss: 0.1956 - acc: 0.92 - ETA: 47s - loss: 0.1952 - acc: 0.92 - ETA: 46s - loss: 0.1947 - acc: 0.92 - ETA: 46s - loss: 0.1949 - acc: 0.92 - ETA: 45s - loss: 0.1949 - acc: 0.92 - ETA: 45s - loss: 0.1946 - acc: 0.92 - ETA: 45s - loss: 0.1947 - acc: 0.92 - ETA: 44s - loss: 0.1946 - acc: 0.92 - ETA: 44s - loss: 0.1953 - acc: 0.92 - ETA: 43s - loss: 0.1950 - acc: 0.92 - ETA: 43s - loss: 0.1950 - acc: 0.92 - ETA: 43s - loss: 0.1952 - acc: 0.92 - ETA: 42s - loss: 0.1962 - acc: 0.92 - ETA: 42s - loss: 0.1958 - acc: 0.92 - ETA: 41s - loss: 0.1957 - acc: 0.92 - ETA: 41s - loss: 0.1955 - acc: 0.92 - ETA: 41s - loss: 0.1953 - acc: 0.92 - ETA: 40s - loss: 0.1953 - acc: 0.92 - ETA: 40s - loss: 0.1956 - acc: 0.92 - ETA: 39s - loss: 0.1956 - acc: 0.92 - ETA: 39s - loss: 0.1961 - acc: 0.92 - ETA: 39s - loss: 0.1962 - acc: 0.92 - ETA: 38s - loss: 0.1961 - acc: 0.92 - ETA: 38s - loss: 0.1960 - acc: 0.92 - ETA: 37s - loss: 0.1965 - acc: 0.92 - ETA: 37s - loss: 0.1966 - acc: 0.92 - ETA: 37s - loss: 0.1968 - acc: 0.92 - ETA: 36s - loss: 0.1965 - acc: 0.92 - ETA: 36s - loss: 0.1963 - acc: 0.92 - ETA: 35s - loss: 0.1958 - acc: 0.92 - ETA: 35s - loss: 0.1955 - acc: 0.92 - ETA: 35s - loss: 0.1959 - acc: 0.92 - ETA: 34s - loss: 0.1963 - acc: 0.92 - ETA: 34s - loss: 0.1965 - acc: 0.92 - ETA: 34s - loss: 0.1962 - acc: 0.92 - ETA: 33s - loss: 0.1957 - acc: 0.92 - ETA: 33s - loss: 0.1955 - acc: 0.92 - ETA: 32s - loss: 0.1959 - acc: 0.92 - ETA: 32s - loss: 0.1956 - acc: 0.92 - ETA: 32s - loss: 0.1953 - acc: 0.92 - ETA: 31s - loss: 0.1950 - acc: 0.92 - ETA: 31s - loss: 0.1956 - acc: 0.92 - ETA: 30s - loss: 0.1953 - acc: 0.92 - ETA: 30s - loss: 0.1949 - acc: 0.92 - ETA: 30s - loss: 0.1950 - acc: 0.92 - ETA: 29s - loss: 0.1946 - acc: 0.92 - ETA: 29s - loss: 0.1949 - acc: 0.92 - ETA: 28s - loss: 0.1949 - acc: 0.92 - ETA: 28s - loss: 0.1943 - acc: 0.92 - ETA: 28s - loss: 0.1946 - acc: 0.92 - ETA: 27s - loss: 0.1948 - acc: 0.92 - ETA: 27s - loss: 0.1951 - acc: 0.92 - ETA: 26s - loss: 0.1952 - acc: 0.92 - ETA: 26s - loss: 0.1951 - acc: 0.92 - ETA: 26s - loss: 0.1947 - acc: 0.92 - ETA: 25s - loss: 0.1945 - acc: 0.92 - ETA: 25s - loss: 0.1954 - acc: 0.92 - ETA: 24s - loss: 0.1951 - acc: 0.92 - ETA: 24s - loss: 0.1948 - acc: 0.92 - ETA: 24s - loss: 0.1947 - acc: 0.92 - ETA: 23s - loss: 0.1943 - acc: 0.92 - ETA: 23s - loss: 0.1943 - acc: 0.92 - ETA: 22s - loss: 0.1944 - acc: 0.92 - ETA: 22s - loss: 0.1943 - acc: 0.92 - ETA: 22s - loss: 0.1945 - acc: 0.92 - ETA: 21s - loss: 0.1948 - acc: 0.92 - ETA: 21s - loss: 0.1945 - acc: 0.92 - ETA: 20s - loss: 0.1945 - acc: 0.92 - ETA: 20s - loss: 0.1941 - acc: 0.92 - ETA: 20s - loss: 0.1944 - acc: 0.92 - ETA: 19s - loss: 0.1946 - acc: 0.92 - ETA: 19s - loss: 0.1950 - acc: 0.92 - ETA: 18s - loss: 0.1957 - acc: 0.92 - ETA: 18s - loss: 0.1958 - acc: 0.92 - ETA: 18s - loss: 0.1963 - acc: 0.92 - ETA: 17s - loss: 0.1959 - acc: 0.92 - ETA: 17s - loss: 0.1957 - acc: 0.92 - ETA: 16s - loss: 0.1960 - acc: 0.92 - ETA: 16s - loss: 0.1958 - acc: 0.92 - ETA: 16s - loss: 0.1958 - acc: 0.92 - ETA: 15s - loss: 0.1958 - acc: 0.92 - ETA: 15s - loss: 0.1958 - acc: 0.92 - ETA: 15s - loss: 0.1956 - acc: 0.92 - ETA: 14s - loss: 0.1955 - acc: 0.92 - ETA: 14s - loss: 0.1955 - acc: 0.92 - ETA: 13s - loss: 0.1958 - acc: 0.92 - ETA: 13s - loss: 0.1959 - acc: 0.92 - ETA: 13s - loss: 0.1957 - acc: 0.92 - ETA: 12s - loss: 0.1953 - acc: 0.92 - ETA: 12s - loss: 0.1956 - acc: 0.92 - ETA: 11s - loss: 0.1956 - acc: 0.92 - ETA: 11s - loss: 0.1957 - acc: 0.92 - ETA: 11s - loss: 0.1958 - acc: 0.92 - ETA: 10s - loss: 0.1955 - acc: 0.92 - ETA: 10s - loss: 0.1952 - acc: 0.92 - ETA: 9s - loss: 0.1957 - acc: 0.9239 - ETA: 9s - loss: 0.1955 - acc: 0.924 - ETA: 9s - loss: 0.1954 - acc: 0.924 - ETA: 8s - loss: 0.1957 - acc: 0.923 - ETA: 8s - loss: 0.1958 - acc: 0.923 - ETA: 7s - loss: 0.1961 - acc: 0.923 - ETA: 7s - loss: 0.1959 - acc: 0.923 - ETA: 7s - loss: 0.1958 - acc: 0.923 - ETA: 6s - loss: 0.1955 - acc: 0.923 - ETA: 6s - loss: 0.1952 - acc: 0.923 - ETA: 5s - loss: 0.1952 - acc: 0.923 - ETA: 5s - loss: 0.1952 - acc: 0.923 - ETA: 5s - loss: 0.1951 - acc: 0.923 - ETA: 4s - loss: 0.1951 - acc: 0.923 - ETA: 4s - loss: 0.1952 - acc: 0.923 - ETA: 3s - loss: 0.1950 - acc: 0.923 - ETA: 3s - loss: 0.1950 - acc: 0.923 - ETA: 3s - loss: 0.1950 - acc: 0.923 - ETA: 2s - loss: 0.1952 - acc: 0.923 - ETA: 2s - loss: 0.1950 - acc: 0.923 - ETA: 1s - loss: 0.1949 - acc: 0.923 - ETA: 1s - loss: 0.1947 - acc: 0.923 - ETA: 1s - loss: 0.1948 - acc: 0.923 - ETA: 0s - loss: 0.1944 - acc: 0.923 - ETA: 0s - loss: 0.1947 - acc: 0.923 - 146s 14ms/step - loss: 0.1948 - acc: 0.9235 - val_loss: 0.6555 - val_acc: 0.7692\n",
      "Epoch 4/10\n"
     ]
    },
    {
     "name": "stdout",
     "output_type": "stream",
     "text": [
      " 6560/10586 [=================>............] - ETA: 3:07 - loss: 0.1467 - acc: 0.937 - ETA: 2:39 - loss: 0.1038 - acc: 0.953 - ETA: 2:29 - loss: 0.0860 - acc: 0.968 - ETA: 2:24 - loss: 0.0767 - acc: 0.976 - ETA: 2:21 - loss: 0.0681 - acc: 0.981 - ETA: 2:18 - loss: 0.0669 - acc: 0.984 - ETA: 2:16 - loss: 0.0782 - acc: 0.977 - ETA: 2:15 - loss: 0.0813 - acc: 0.976 - ETA: 2:13 - loss: 0.0806 - acc: 0.979 - ETA: 2:12 - loss: 0.0778 - acc: 0.981 - ETA: 2:11 - loss: 0.0773 - acc: 0.980 - ETA: 2:10 - loss: 0.0728 - acc: 0.981 - ETA: 2:09 - loss: 0.0717 - acc: 0.983 - ETA: 2:08 - loss: 0.0699 - acc: 0.982 - ETA: 2:08 - loss: 0.0704 - acc: 0.983 - ETA: 2:07 - loss: 0.0721 - acc: 0.982 - ETA: 2:07 - loss: 0.0764 - acc: 0.979 - ETA: 2:07 - loss: 0.0763 - acc: 0.979 - ETA: 2:05 - loss: 0.0770 - acc: 0.977 - ETA: 2:06 - loss: 0.0754 - acc: 0.978 - ETA: 2:05 - loss: 0.0723 - acc: 0.979 - ETA: 2:05 - loss: 0.0737 - acc: 0.978 - ETA: 2:04 - loss: 0.0744 - acc: 0.976 - ETA: 2:03 - loss: 0.0736 - acc: 0.976 - ETA: 2:02 - loss: 0.0721 - acc: 0.976 - ETA: 2:02 - loss: 0.0723 - acc: 0.974 - ETA: 2:01 - loss: 0.0818 - acc: 0.969 - ETA: 2:01 - loss: 0.0811 - acc: 0.969 - ETA: 2:00 - loss: 0.0793 - acc: 0.970 - ETA: 2:00 - loss: 0.0788 - acc: 0.970 - ETA: 1:59 - loss: 0.0816 - acc: 0.969 - ETA: 1:59 - loss: 0.0855 - acc: 0.968 - ETA: 1:59 - loss: 0.0832 - acc: 0.969 - ETA: 1:58 - loss: 0.0901 - acc: 0.966 - ETA: 1:58 - loss: 0.0888 - acc: 0.967 - ETA: 1:57 - loss: 0.0874 - acc: 0.968 - ETA: 1:57 - loss: 0.0855 - acc: 0.969 - ETA: 1:56 - loss: 0.0839 - acc: 0.970 - ETA: 1:56 - loss: 0.0829 - acc: 0.971 - ETA: 1:56 - loss: 0.0811 - acc: 0.971 - ETA: 1:55 - loss: 0.0830 - acc: 0.971 - ETA: 1:55 - loss: 0.0817 - acc: 0.971 - ETA: 1:54 - loss: 0.0819 - acc: 0.970 - ETA: 1:54 - loss: 0.0807 - acc: 0.971 - ETA: 1:54 - loss: 0.0802 - acc: 0.971 - ETA: 1:53 - loss: 0.0791 - acc: 0.972 - ETA: 1:53 - loss: 0.0783 - acc: 0.972 - ETA: 1:53 - loss: 0.0777 - acc: 0.972 - ETA: 1:52 - loss: 0.0788 - acc: 0.972 - ETA: 1:52 - loss: 0.0780 - acc: 0.972 - ETA: 1:51 - loss: 0.0772 - acc: 0.973 - ETA: 1:51 - loss: 0.0778 - acc: 0.973 - ETA: 1:51 - loss: 0.0769 - acc: 0.973 - ETA: 1:50 - loss: 0.0762 - acc: 0.974 - ETA: 1:50 - loss: 0.0753 - acc: 0.974 - ETA: 1:49 - loss: 0.0752 - acc: 0.974 - ETA: 1:49 - loss: 0.0759 - acc: 0.973 - ETA: 1:48 - loss: 0.0774 - acc: 0.973 - ETA: 1:48 - loss: 0.0763 - acc: 0.973 - ETA: 1:48 - loss: 0.0755 - acc: 0.974 - ETA: 1:47 - loss: 0.0750 - acc: 0.973 - ETA: 1:47 - loss: 0.0743 - acc: 0.974 - ETA: 1:46 - loss: 0.0740 - acc: 0.974 - ETA: 1:46 - loss: 0.0746 - acc: 0.974 - ETA: 1:45 - loss: 0.0736 - acc: 0.974 - ETA: 1:45 - loss: 0.0750 - acc: 0.974 - ETA: 1:45 - loss: 0.0747 - acc: 0.973 - ETA: 1:44 - loss: 0.0742 - acc: 0.973 - ETA: 1:44 - loss: 0.0744 - acc: 0.973 - ETA: 1:44 - loss: 0.0754 - acc: 0.972 - ETA: 1:43 - loss: 0.0748 - acc: 0.973 - ETA: 1:43 - loss: 0.0740 - acc: 0.973 - ETA: 1:42 - loss: 0.0740 - acc: 0.973 - ETA: 1:42 - loss: 0.0754 - acc: 0.973 - ETA: 1:41 - loss: 0.0747 - acc: 0.973 - ETA: 1:41 - loss: 0.0743 - acc: 0.973 - ETA: 1:41 - loss: 0.0746 - acc: 0.973 - ETA: 1:40 - loss: 0.0744 - acc: 0.973 - ETA: 1:40 - loss: 0.0744 - acc: 0.973 - ETA: 1:39 - loss: 0.0777 - acc: 0.971 - ETA: 1:39 - loss: 0.0769 - acc: 0.971 - ETA: 1:39 - loss: 0.0765 - acc: 0.972 - ETA: 1:38 - loss: 0.0760 - acc: 0.972 - ETA: 1:38 - loss: 0.0756 - acc: 0.972 - ETA: 1:38 - loss: 0.0748 - acc: 0.972 - ETA: 1:37 - loss: 0.0746 - acc: 0.973 - ETA: 1:37 - loss: 0.0751 - acc: 0.973 - ETA: 1:36 - loss: 0.0745 - acc: 0.973 - ETA: 1:36 - loss: 0.0742 - acc: 0.973 - ETA: 1:35 - loss: 0.0738 - acc: 0.973 - ETA: 1:35 - loss: 0.0749 - acc: 0.973 - ETA: 1:34 - loss: 0.0755 - acc: 0.973 - ETA: 1:34 - loss: 0.0758 - acc: 0.973 - ETA: 1:33 - loss: 0.0756 - acc: 0.973 - ETA: 1:33 - loss: 0.0752 - acc: 0.973 - ETA: 1:32 - loss: 0.0763 - acc: 0.973 - ETA: 1:32 - loss: 0.0759 - acc: 0.973 - ETA: 1:32 - loss: 0.0757 - acc: 0.973 - ETA: 1:32 - loss: 0.0762 - acc: 0.973 - ETA: 1:31 - loss: 0.0759 - acc: 0.973 - ETA: 1:31 - loss: 0.0752 - acc: 0.974 - ETA: 1:30 - loss: 0.0752 - acc: 0.974 - ETA: 1:30 - loss: 0.0747 - acc: 0.974 - ETA: 1:29 - loss: 0.0754 - acc: 0.974 - ETA: 1:29 - loss: 0.0750 - acc: 0.974 - ETA: 1:29 - loss: 0.0748 - acc: 0.974 - ETA: 1:28 - loss: 0.0747 - acc: 0.974 - ETA: 1:28 - loss: 0.0764 - acc: 0.973 - ETA: 1:27 - loss: 0.0768 - acc: 0.973 - ETA: 1:27 - loss: 0.0764 - acc: 0.973 - ETA: 1:27 - loss: 0.0768 - acc: 0.973 - ETA: 1:26 - loss: 0.0768 - acc: 0.973 - ETA: 1:26 - loss: 0.0781 - acc: 0.973 - ETA: 1:26 - loss: 0.0789 - acc: 0.972 - ETA: 1:25 - loss: 0.0787 - acc: 0.972 - ETA: 1:25 - loss: 0.0783 - acc: 0.973 - ETA: 1:25 - loss: 0.0780 - acc: 0.973 - ETA: 1:24 - loss: 0.0777 - acc: 0.973 - ETA: 1:24 - loss: 0.0777 - acc: 0.973 - ETA: 1:24 - loss: 0.0783 - acc: 0.972 - ETA: 1:23 - loss: 0.0782 - acc: 0.972 - ETA: 1:23 - loss: 0.0779 - acc: 0.972 - ETA: 1:22 - loss: 0.0779 - acc: 0.972 - ETA: 1:22 - loss: 0.0781 - acc: 0.972 - ETA: 1:22 - loss: 0.0784 - acc: 0.972 - ETA: 1:21 - loss: 0.0785 - acc: 0.972 - ETA: 1:21 - loss: 0.0786 - acc: 0.972 - ETA: 1:20 - loss: 0.0783 - acc: 0.972 - ETA: 1:20 - loss: 0.0781 - acc: 0.972 - ETA: 1:20 - loss: 0.0777 - acc: 0.972 - ETA: 1:19 - loss: 0.0774 - acc: 0.972 - ETA: 1:19 - loss: 0.0772 - acc: 0.973 - ETA: 1:18 - loss: 0.0769 - acc: 0.973 - ETA: 1:18 - loss: 0.0764 - acc: 0.973 - ETA: 1:18 - loss: 0.0764 - acc: 0.973 - ETA: 1:17 - loss: 0.0774 - acc: 0.973 - ETA: 1:17 - loss: 0.0771 - acc: 0.973 - ETA: 1:16 - loss: 0.0771 - acc: 0.973 - ETA: 1:16 - loss: 0.0768 - acc: 0.973 - ETA: 1:15 - loss: 0.0765 - acc: 0.973 - ETA: 1:15 - loss: 0.0766 - acc: 0.973 - ETA: 1:15 - loss: 0.0768 - acc: 0.973 - ETA: 1:14 - loss: 0.0764 - acc: 0.973 - ETA: 1:14 - loss: 0.0761 - acc: 0.974 - ETA: 1:13 - loss: 0.0768 - acc: 0.973 - ETA: 1:13 - loss: 0.0765 - acc: 0.974 - ETA: 1:13 - loss: 0.0761 - acc: 0.974 - ETA: 1:12 - loss: 0.0759 - acc: 0.974 - ETA: 1:12 - loss: 0.0754 - acc: 0.974 - ETA: 1:11 - loss: 0.0757 - acc: 0.974 - ETA: 1:11 - loss: 0.0760 - acc: 0.974 - ETA: 1:11 - loss: 0.0768 - acc: 0.973 - ETA: 1:10 - loss: 0.0766 - acc: 0.974 - ETA: 1:10 - loss: 0.0762 - acc: 0.974 - ETA: 1:10 - loss: 0.0758 - acc: 0.974 - ETA: 1:09 - loss: 0.0760 - acc: 0.974 - ETA: 1:09 - loss: 0.0768 - acc: 0.973 - ETA: 1:08 - loss: 0.0771 - acc: 0.973 - ETA: 1:08 - loss: 0.0778 - acc: 0.973 - ETA: 1:08 - loss: 0.0778 - acc: 0.973 - ETA: 1:07 - loss: 0.0778 - acc: 0.973 - ETA: 1:07 - loss: 0.0775 - acc: 0.973 - ETA: 1:06 - loss: 0.0773 - acc: 0.973 - ETA: 1:06 - loss: 0.0769 - acc: 0.973 - ETA: 1:06 - loss: 0.0768 - acc: 0.973 - ETA: 1:05 - loss: 0.0767 - acc: 0.973 - ETA: 1:05 - loss: 0.0767 - acc: 0.973 - ETA: 1:04 - loss: 0.0763 - acc: 0.973 - ETA: 1:04 - loss: 0.0766 - acc: 0.973 - ETA: 1:04 - loss: 0.0770 - acc: 0.973 - ETA: 1:03 - loss: 0.0775 - acc: 0.973 - ETA: 1:03 - loss: 0.0772 - acc: 0.973 - ETA: 1:02 - loss: 0.0776 - acc: 0.973 - ETA: 1:02 - loss: 0.0778 - acc: 0.973 - ETA: 1:02 - loss: 0.0785 - acc: 0.973 - ETA: 1:01 - loss: 0.0781 - acc: 0.973 - ETA: 1:01 - loss: 0.0778 - acc: 0.973 - ETA: 1:00 - loss: 0.0776 - acc: 0.973 - ETA: 1:00 - loss: 0.0774 - acc: 0.973 - ETA: 1:00 - loss: 0.0772 - acc: 0.973 - ETA: 59s - loss: 0.0768 - acc: 0.973 - ETA: 59s - loss: 0.0769 - acc: 0.97 - ETA: 58s - loss: 0.0770 - acc: 0.97 - ETA: 58s - loss: 0.0768 - acc: 0.97 - ETA: 58s - loss: 0.0766 - acc: 0.97 - ETA: 57s - loss: 0.0771 - acc: 0.97 - ETA: 57s - loss: 0.0772 - acc: 0.97 - ETA: 56s - loss: 0.0770 - acc: 0.97 - ETA: 56s - loss: 0.0771 - acc: 0.97 - ETA: 56s - loss: 0.0768 - acc: 0.97 - ETA: 55s - loss: 0.0771 - acc: 0.97 - ETA: 55s - loss: 0.0774 - acc: 0.97 - ETA: 54s - loss: 0.0780 - acc: 0.97 - ETA: 54s - loss: 0.0781 - acc: 0.97 - ETA: 54s - loss: 0.0778 - acc: 0.97 - ETA: 53s - loss: 0.0787 - acc: 0.97 - ETA: 53s - loss: 0.0785 - acc: 0.97 - ETA: 52s - loss: 0.0781 - acc: 0.97 - ETA: 52s - loss: 0.0780 - acc: 0.97 - ETA: 52s - loss: 0.0777 - acc: 0.97 - ETA: 51s - loss: 0.0777 - acc: 0.97 - ETA: 51s - loss: 0.0776 - acc: 0.97 - ETA: 50s - loss: 0.0774 - acc: 0.97 - ETA: 50s - loss: 0.0775 - acc: 0.97 - ETA: 50s - loss: 0.0772 - acc: 0.9738"
     ]
    },
    {
     "name": "stdout",
     "output_type": "stream",
     "text": [
      "10586/10586 [==============================] - ETA: 49s - loss: 0.0768 - acc: 0.97 - ETA: 49s - loss: 0.0768 - acc: 0.97 - ETA: 48s - loss: 0.0767 - acc: 0.97 - ETA: 48s - loss: 0.0766 - acc: 0.97 - ETA: 48s - loss: 0.0764 - acc: 0.97 - ETA: 47s - loss: 0.0768 - acc: 0.97 - ETA: 47s - loss: 0.0765 - acc: 0.97 - ETA: 46s - loss: 0.0768 - acc: 0.97 - ETA: 46s - loss: 0.0765 - acc: 0.97 - ETA: 46s - loss: 0.0762 - acc: 0.97 - ETA: 45s - loss: 0.0760 - acc: 0.97 - ETA: 45s - loss: 0.0759 - acc: 0.97 - ETA: 44s - loss: 0.0758 - acc: 0.97 - ETA: 44s - loss: 0.0757 - acc: 0.97 - ETA: 44s - loss: 0.0755 - acc: 0.97 - ETA: 43s - loss: 0.0758 - acc: 0.97 - ETA: 43s - loss: 0.0762 - acc: 0.97 - ETA: 42s - loss: 0.0763 - acc: 0.97 - ETA: 42s - loss: 0.0772 - acc: 0.97 - ETA: 42s - loss: 0.0770 - acc: 0.97 - ETA: 41s - loss: 0.0769 - acc: 0.97 - ETA: 41s - loss: 0.0770 - acc: 0.97 - ETA: 40s - loss: 0.0768 - acc: 0.97 - ETA: 40s - loss: 0.0765 - acc: 0.97 - ETA: 40s - loss: 0.0764 - acc: 0.97 - ETA: 39s - loss: 0.0765 - acc: 0.97 - ETA: 39s - loss: 0.0769 - acc: 0.97 - ETA: 38s - loss: 0.0767 - acc: 0.97 - ETA: 38s - loss: 0.0764 - acc: 0.97 - ETA: 38s - loss: 0.0765 - acc: 0.97 - ETA: 37s - loss: 0.0763 - acc: 0.97 - ETA: 37s - loss: 0.0763 - acc: 0.97 - ETA: 36s - loss: 0.0764 - acc: 0.97 - ETA: 36s - loss: 0.0763 - acc: 0.97 - ETA: 36s - loss: 0.0766 - acc: 0.97 - ETA: 35s - loss: 0.0766 - acc: 0.97 - ETA: 35s - loss: 0.0770 - acc: 0.97 - ETA: 34s - loss: 0.0775 - acc: 0.97 - ETA: 34s - loss: 0.0774 - acc: 0.97 - ETA: 34s - loss: 0.0775 - acc: 0.97 - ETA: 33s - loss: 0.0773 - acc: 0.97 - ETA: 33s - loss: 0.0773 - acc: 0.97 - ETA: 32s - loss: 0.0774 - acc: 0.97 - ETA: 32s - loss: 0.0771 - acc: 0.97 - ETA: 32s - loss: 0.0772 - acc: 0.97 - ETA: 31s - loss: 0.0776 - acc: 0.97 - ETA: 31s - loss: 0.0776 - acc: 0.97 - ETA: 30s - loss: 0.0779 - acc: 0.97 - ETA: 30s - loss: 0.0782 - acc: 0.97 - ETA: 30s - loss: 0.0783 - acc: 0.97 - ETA: 29s - loss: 0.0782 - acc: 0.97 - ETA: 29s - loss: 0.0779 - acc: 0.97 - ETA: 28s - loss: 0.0782 - acc: 0.97 - ETA: 28s - loss: 0.0785 - acc: 0.97 - ETA: 28s - loss: 0.0785 - acc: 0.97 - ETA: 27s - loss: 0.0785 - acc: 0.97 - ETA: 27s - loss: 0.0786 - acc: 0.97 - ETA: 26s - loss: 0.0786 - acc: 0.97 - ETA: 26s - loss: 0.0789 - acc: 0.97 - ETA: 26s - loss: 0.0788 - acc: 0.97 - ETA: 25s - loss: 0.0792 - acc: 0.97 - ETA: 25s - loss: 0.0790 - acc: 0.97 - ETA: 25s - loss: 0.0788 - acc: 0.97 - ETA: 24s - loss: 0.0790 - acc: 0.97 - ETA: 24s - loss: 0.0799 - acc: 0.97 - ETA: 23s - loss: 0.0801 - acc: 0.97 - ETA: 23s - loss: 0.0800 - acc: 0.97 - ETA: 23s - loss: 0.0800 - acc: 0.97 - ETA: 22s - loss: 0.0802 - acc: 0.97 - ETA: 22s - loss: 0.0801 - acc: 0.97 - ETA: 21s - loss: 0.0801 - acc: 0.97 - ETA: 21s - loss: 0.0802 - acc: 0.97 - ETA: 21s - loss: 0.0803 - acc: 0.97 - ETA: 20s - loss: 0.0806 - acc: 0.97 - ETA: 20s - loss: 0.0811 - acc: 0.97 - ETA: 19s - loss: 0.0811 - acc: 0.97 - ETA: 19s - loss: 0.0813 - acc: 0.97 - ETA: 19s - loss: 0.0814 - acc: 0.97 - ETA: 18s - loss: 0.0818 - acc: 0.97 - ETA: 18s - loss: 0.0819 - acc: 0.97 - ETA: 17s - loss: 0.0818 - acc: 0.97 - ETA: 17s - loss: 0.0825 - acc: 0.97 - ETA: 17s - loss: 0.0827 - acc: 0.97 - ETA: 16s - loss: 0.0830 - acc: 0.97 - ETA: 16s - loss: 0.0830 - acc: 0.97 - ETA: 15s - loss: 0.0829 - acc: 0.97 - ETA: 15s - loss: 0.0829 - acc: 0.97 - ETA: 15s - loss: 0.0828 - acc: 0.97 - ETA: 14s - loss: 0.0831 - acc: 0.97 - ETA: 14s - loss: 0.0830 - acc: 0.97 - ETA: 13s - loss: 0.0828 - acc: 0.97 - ETA: 13s - loss: 0.0833 - acc: 0.97 - ETA: 13s - loss: 0.0831 - acc: 0.97 - ETA: 12s - loss: 0.0833 - acc: 0.97 - ETA: 12s - loss: 0.0831 - acc: 0.97 - ETA: 11s - loss: 0.0833 - acc: 0.97 - ETA: 11s - loss: 0.0830 - acc: 0.97 - ETA: 11s - loss: 0.0830 - acc: 0.97 - ETA: 10s - loss: 0.0830 - acc: 0.97 - ETA: 10s - loss: 0.0832 - acc: 0.97 - ETA: 9s - loss: 0.0832 - acc: 0.9708 - ETA: 9s - loss: 0.0830 - acc: 0.970 - ETA: 9s - loss: 0.0829 - acc: 0.970 - ETA: 8s - loss: 0.0831 - acc: 0.970 - ETA: 8s - loss: 0.0829 - acc: 0.971 - ETA: 7s - loss: 0.0830 - acc: 0.971 - ETA: 7s - loss: 0.0832 - acc: 0.971 - ETA: 7s - loss: 0.0831 - acc: 0.971 - ETA: 6s - loss: 0.0835 - acc: 0.970 - ETA: 6s - loss: 0.0841 - acc: 0.970 - ETA: 5s - loss: 0.0847 - acc: 0.970 - ETA: 5s - loss: 0.0849 - acc: 0.970 - ETA: 5s - loss: 0.0849 - acc: 0.970 - ETA: 4s - loss: 0.0849 - acc: 0.970 - ETA: 4s - loss: 0.0848 - acc: 0.970 - ETA: 3s - loss: 0.0849 - acc: 0.970 - ETA: 3s - loss: 0.0855 - acc: 0.970 - ETA: 3s - loss: 0.0858 - acc: 0.970 - ETA: 2s - loss: 0.0860 - acc: 0.970 - ETA: 2s - loss: 0.0860 - acc: 0.970 - ETA: 1s - loss: 0.0863 - acc: 0.969 - ETA: 1s - loss: 0.0862 - acc: 0.970 - ETA: 1s - loss: 0.0861 - acc: 0.970 - ETA: 0s - loss: 0.0861 - acc: 0.970 - ETA: 0s - loss: 0.0860 - acc: 0.970 - 146s 14ms/step - loss: 0.0859 - acc: 0.9701 - val_loss: 0.9072 - val_acc: 0.7594\n",
      "Epoch 5/10\n",
      " 6560/10586 [=================>............] - ETA: 2:39 - loss: 0.0351 - acc: 1.000 - ETA: 2:22 - loss: 0.0830 - acc: 0.968 - ETA: 2:20 - loss: 0.0883 - acc: 0.958 - ETA: 2:15 - loss: 0.0832 - acc: 0.960 - ETA: 2:13 - loss: 0.0686 - acc: 0.968 - ETA: 2:11 - loss: 0.0660 - acc: 0.968 - ETA: 2:11 - loss: 0.0598 - acc: 0.973 - ETA: 2:10 - loss: 0.0560 - acc: 0.976 - ETA: 2:10 - loss: 0.0535 - acc: 0.979 - ETA: 2:11 - loss: 0.0551 - acc: 0.978 - ETA: 2:10 - loss: 0.0614 - acc: 0.977 - ETA: 2:10 - loss: 0.0578 - acc: 0.979 - ETA: 2:08 - loss: 0.0607 - acc: 0.978 - ETA: 2:07 - loss: 0.0577 - acc: 0.979 - ETA: 2:06 - loss: 0.0543 - acc: 0.981 - ETA: 2:06 - loss: 0.0523 - acc: 0.982 - ETA: 2:05 - loss: 0.0521 - acc: 0.981 - ETA: 2:05 - loss: 0.0510 - acc: 0.980 - ETA: 2:04 - loss: 0.0488 - acc: 0.981 - ETA: 2:04 - loss: 0.0514 - acc: 0.981 - ETA: 2:03 - loss: 0.0508 - acc: 0.982 - ETA: 2:03 - loss: 0.0498 - acc: 0.983 - ETA: 2:03 - loss: 0.0487 - acc: 0.983 - ETA: 2:03 - loss: 0.0473 - acc: 0.984 - ETA: 2:02 - loss: 0.0460 - acc: 0.985 - ETA: 2:01 - loss: 0.0446 - acc: 0.985 - ETA: 2:01 - loss: 0.0439 - acc: 0.986 - ETA: 2:01 - loss: 0.0455 - acc: 0.985 - ETA: 2:00 - loss: 0.0448 - acc: 0.986 - ETA: 2:00 - loss: 0.0446 - acc: 0.985 - ETA: 1:59 - loss: 0.0451 - acc: 0.984 - ETA: 1:59 - loss: 0.0441 - acc: 0.985 - ETA: 1:58 - loss: 0.0459 - acc: 0.984 - ETA: 1:58 - loss: 0.0449 - acc: 0.985 - ETA: 1:57 - loss: 0.0452 - acc: 0.984 - ETA: 1:57 - loss: 0.0446 - acc: 0.985 - ETA: 1:56 - loss: 0.0463 - acc: 0.984 - ETA: 1:56 - loss: 0.0456 - acc: 0.984 - ETA: 1:55 - loss: 0.0452 - acc: 0.984 - ETA: 1:55 - loss: 0.0443 - acc: 0.985 - ETA: 1:54 - loss: 0.0435 - acc: 0.985 - ETA: 1:54 - loss: 0.0427 - acc: 0.985 - ETA: 1:54 - loss: 0.0425 - acc: 0.986 - ETA: 1:53 - loss: 0.0432 - acc: 0.985 - ETA: 1:53 - loss: 0.0446 - acc: 0.985 - ETA: 1:52 - loss: 0.0438 - acc: 0.985 - ETA: 1:52 - loss: 0.0446 - acc: 0.985 - ETA: 1:52 - loss: 0.0440 - acc: 0.985 - ETA: 1:51 - loss: 0.0433 - acc: 0.986 - ETA: 1:51 - loss: 0.0429 - acc: 0.986 - ETA: 1:51 - loss: 0.0422 - acc: 0.986 - ETA: 1:50 - loss: 0.0415 - acc: 0.986 - ETA: 1:50 - loss: 0.0409 - acc: 0.987 - ETA: 1:49 - loss: 0.0405 - acc: 0.987 - ETA: 1:49 - loss: 0.0406 - acc: 0.987 - ETA: 1:49 - loss: 0.0408 - acc: 0.987 - ETA: 1:49 - loss: 0.0401 - acc: 0.987 - ETA: 1:48 - loss: 0.0395 - acc: 0.987 - ETA: 1:48 - loss: 0.0389 - acc: 0.987 - ETA: 1:47 - loss: 0.0385 - acc: 0.988 - ETA: 1:47 - loss: 0.0380 - acc: 0.988 - ETA: 1:47 - loss: 0.0375 - acc: 0.988 - ETA: 1:46 - loss: 0.0373 - acc: 0.988 - ETA: 1:46 - loss: 0.0367 - acc: 0.988 - ETA: 1:45 - loss: 0.0373 - acc: 0.988 - ETA: 1:45 - loss: 0.0372 - acc: 0.988 - ETA: 1:44 - loss: 0.0374 - acc: 0.988 - ETA: 1:44 - loss: 0.0369 - acc: 0.988 - ETA: 1:43 - loss: 0.0366 - acc: 0.988 - ETA: 1:43 - loss: 0.0364 - acc: 0.988 - ETA: 1:43 - loss: 0.0360 - acc: 0.989 - ETA: 1:42 - loss: 0.0356 - acc: 0.989 - ETA: 1:42 - loss: 0.0356 - acc: 0.988 - ETA: 1:42 - loss: 0.0354 - acc: 0.989 - ETA: 1:41 - loss: 0.0359 - acc: 0.988 - ETA: 1:41 - loss: 0.0367 - acc: 0.988 - ETA: 1:40 - loss: 0.0363 - acc: 0.988 - ETA: 1:40 - loss: 0.0368 - acc: 0.988 - ETA: 1:40 - loss: 0.0365 - acc: 0.988 - ETA: 1:39 - loss: 0.0361 - acc: 0.988 - ETA: 1:39 - loss: 0.0380 - acc: 0.988 - ETA: 1:38 - loss: 0.0397 - acc: 0.987 - ETA: 1:38 - loss: 0.0393 - acc: 0.987 - ETA: 1:37 - loss: 0.0396 - acc: 0.987 - ETA: 1:37 - loss: 0.0415 - acc: 0.986 - ETA: 1:37 - loss: 0.0410 - acc: 0.986 - ETA: 1:36 - loss: 0.0406 - acc: 0.986 - ETA: 1:36 - loss: 0.0407 - acc: 0.986 - ETA: 1:35 - loss: 0.0403 - acc: 0.986 - ETA: 1:35 - loss: 0.0400 - acc: 0.986 - ETA: 1:35 - loss: 0.0397 - acc: 0.986 - ETA: 1:34 - loss: 0.0393 - acc: 0.986 - ETA: 1:34 - loss: 0.0390 - acc: 0.986 - ETA: 1:34 - loss: 0.0389 - acc: 0.987 - ETA: 1:33 - loss: 0.0399 - acc: 0.986 - ETA: 1:33 - loss: 0.0399 - acc: 0.986 - ETA: 1:32 - loss: 0.0414 - acc: 0.985 - ETA: 1:32 - loss: 0.0411 - acc: 0.986 - ETA: 1:32 - loss: 0.0424 - acc: 0.985 - ETA: 1:31 - loss: 0.0421 - acc: 0.985 - ETA: 1:31 - loss: 0.0431 - acc: 0.985 - ETA: 1:30 - loss: 0.0434 - acc: 0.985 - ETA: 1:30 - loss: 0.0431 - acc: 0.985 - ETA: 1:30 - loss: 0.0432 - acc: 0.985 - ETA: 1:29 - loss: 0.0436 - acc: 0.984 - ETA: 1:29 - loss: 0.0434 - acc: 0.985 - ETA: 1:28 - loss: 0.0432 - acc: 0.985 - ETA: 1:28 - loss: 0.0430 - acc: 0.985 - ETA: 1:28 - loss: 0.0428 - acc: 0.985 - ETA: 1:27 - loss: 0.0426 - acc: 0.985 - ETA: 1:27 - loss: 0.0423 - acc: 0.985 - ETA: 1:26 - loss: 0.0421 - acc: 0.985 - ETA: 1:26 - loss: 0.0426 - acc: 0.985 - ETA: 1:26 - loss: 0.0428 - acc: 0.985 - ETA: 1:25 - loss: 0.0425 - acc: 0.985 - ETA: 1:25 - loss: 0.0425 - acc: 0.985 - ETA: 1:24 - loss: 0.0422 - acc: 0.985 - ETA: 1:24 - loss: 0.0421 - acc: 0.985 - ETA: 1:24 - loss: 0.0418 - acc: 0.985 - ETA: 1:23 - loss: 0.0416 - acc: 0.985 - ETA: 1:23 - loss: 0.0414 - acc: 0.986 - ETA: 1:22 - loss: 0.0414 - acc: 0.986 - ETA: 1:22 - loss: 0.0413 - acc: 0.986 - ETA: 1:22 - loss: 0.0417 - acc: 0.986 - ETA: 1:21 - loss: 0.0423 - acc: 0.985 - ETA: 1:21 - loss: 0.0421 - acc: 0.985 - ETA: 1:20 - loss: 0.0419 - acc: 0.986 - ETA: 1:20 - loss: 0.0418 - acc: 0.985 - ETA: 1:20 - loss: 0.0415 - acc: 0.985 - ETA: 1:19 - loss: 0.0415 - acc: 0.985 - ETA: 1:19 - loss: 0.0414 - acc: 0.985 - ETA: 1:18 - loss: 0.0413 - acc: 0.985 - ETA: 1:18 - loss: 0.0412 - acc: 0.985 - ETA: 1:18 - loss: 0.0411 - acc: 0.985 - ETA: 1:17 - loss: 0.0409 - acc: 0.985 - ETA: 1:17 - loss: 0.0406 - acc: 0.986 - ETA: 1:16 - loss: 0.0407 - acc: 0.986 - ETA: 1:16 - loss: 0.0404 - acc: 0.986 - ETA: 1:16 - loss: 0.0410 - acc: 0.986 - ETA: 1:15 - loss: 0.0417 - acc: 0.985 - ETA: 1:15 - loss: 0.0416 - acc: 0.985 - ETA: 1:14 - loss: 0.0413 - acc: 0.985 - ETA: 1:14 - loss: 0.0412 - acc: 0.986 - ETA: 1:14 - loss: 0.0412 - acc: 0.986 - ETA: 1:13 - loss: 0.0410 - acc: 0.986 - ETA: 1:13 - loss: 0.0407 - acc: 0.986 - ETA: 1:12 - loss: 0.0411 - acc: 0.986 - ETA: 1:12 - loss: 0.0410 - acc: 0.986 - ETA: 1:12 - loss: 0.0409 - acc: 0.986 - ETA: 1:11 - loss: 0.0406 - acc: 0.986 - ETA: 1:11 - loss: 0.0404 - acc: 0.986 - ETA: 1:10 - loss: 0.0401 - acc: 0.986 - ETA: 1:10 - loss: 0.0399 - acc: 0.986 - ETA: 1:10 - loss: 0.0409 - acc: 0.986 - ETA: 1:09 - loss: 0.0407 - acc: 0.986 - ETA: 1:09 - loss: 0.0405 - acc: 0.986 - ETA: 1:08 - loss: 0.0404 - acc: 0.986 - ETA: 1:08 - loss: 0.0409 - acc: 0.986 - ETA: 1:08 - loss: 0.0408 - acc: 0.986 - ETA: 1:07 - loss: 0.0406 - acc: 0.986 - ETA: 1:07 - loss: 0.0406 - acc: 0.986 - ETA: 1:06 - loss: 0.0408 - acc: 0.986 - ETA: 1:06 - loss: 0.0410 - acc: 0.985 - ETA: 1:06 - loss: 0.0424 - acc: 0.985 - ETA: 1:05 - loss: 0.0432 - acc: 0.985 - ETA: 1:05 - loss: 0.0430 - acc: 0.985 - ETA: 1:05 - loss: 0.0430 - acc: 0.985 - ETA: 1:04 - loss: 0.0432 - acc: 0.985 - ETA: 1:04 - loss: 0.0432 - acc: 0.985 - ETA: 1:03 - loss: 0.0432 - acc: 0.985 - ETA: 1:03 - loss: 0.0431 - acc: 0.985 - ETA: 1:02 - loss: 0.0429 - acc: 0.985 - ETA: 1:02 - loss: 0.0430 - acc: 0.985 - ETA: 1:02 - loss: 0.0428 - acc: 0.985 - ETA: 1:01 - loss: 0.0429 - acc: 0.985 - ETA: 1:01 - loss: 0.0431 - acc: 0.985 - ETA: 1:01 - loss: 0.0430 - acc: 0.985 - ETA: 1:00 - loss: 0.0428 - acc: 0.985 - ETA: 1:00 - loss: 0.0427 - acc: 0.985 - ETA: 59s - loss: 0.0426 - acc: 0.985 - ETA: 59s - loss: 0.0425 - acc: 0.98 - ETA: 59s - loss: 0.0423 - acc: 0.98 - ETA: 58s - loss: 0.0421 - acc: 0.98 - ETA: 58s - loss: 0.0419 - acc: 0.98 - ETA: 57s - loss: 0.0418 - acc: 0.98 - ETA: 57s - loss: 0.0418 - acc: 0.98 - ETA: 57s - loss: 0.0423 - acc: 0.98 - ETA: 56s - loss: 0.0421 - acc: 0.98 - ETA: 56s - loss: 0.0424 - acc: 0.98 - ETA: 55s - loss: 0.0422 - acc: 0.98 - ETA: 55s - loss: 0.0431 - acc: 0.98 - ETA: 55s - loss: 0.0432 - acc: 0.98 - ETA: 54s - loss: 0.0433 - acc: 0.98 - ETA: 54s - loss: 0.0431 - acc: 0.98 - ETA: 53s - loss: 0.0430 - acc: 0.98 - ETA: 53s - loss: 0.0433 - acc: 0.98 - ETA: 53s - loss: 0.0438 - acc: 0.98 - ETA: 52s - loss: 0.0436 - acc: 0.98 - ETA: 52s - loss: 0.0435 - acc: 0.98 - ETA: 51s - loss: 0.0434 - acc: 0.98 - ETA: 51s - loss: 0.0440 - acc: 0.98 - ETA: 51s - loss: 0.0441 - acc: 0.98 - ETA: 50s - loss: 0.0440 - acc: 0.98 - ETA: 50s - loss: 0.0439 - acc: 0.98 - ETA: 49s - loss: 0.0437 - acc: 0.984910586/10586 [==============================] - ETA: 49s - loss: 0.0436 - acc: 0.98 - ETA: 49s - loss: 0.0435 - acc: 0.98 - ETA: 48s - loss: 0.0439 - acc: 0.98 - ETA: 48s - loss: 0.0438 - acc: 0.98 - ETA: 47s - loss: 0.0436 - acc: 0.98 - ETA: 47s - loss: 0.0434 - acc: 0.98 - ETA: 47s - loss: 0.0433 - acc: 0.98 - ETA: 46s - loss: 0.0433 - acc: 0.98 - ETA: 46s - loss: 0.0432 - acc: 0.98 - ETA: 45s - loss: 0.0434 - acc: 0.98 - ETA: 45s - loss: 0.0432 - acc: 0.98 - ETA: 45s - loss: 0.0437 - acc: 0.98 - ETA: 44s - loss: 0.0438 - acc: 0.98 - ETA: 44s - loss: 0.0436 - acc: 0.98 - ETA: 43s - loss: 0.0443 - acc: 0.98 - ETA: 43s - loss: 0.0443 - acc: 0.98 - ETA: 43s - loss: 0.0442 - acc: 0.98 - ETA: 42s - loss: 0.0441 - acc: 0.98 - ETA: 42s - loss: 0.0439 - acc: 0.98 - ETA: 42s - loss: 0.0439 - acc: 0.98 - ETA: 41s - loss: 0.0438 - acc: 0.98 - ETA: 41s - loss: 0.0437 - acc: 0.98 - ETA: 40s - loss: 0.0441 - acc: 0.98 - ETA: 40s - loss: 0.0439 - acc: 0.98 - ETA: 40s - loss: 0.0445 - acc: 0.98 - ETA: 39s - loss: 0.0443 - acc: 0.98 - ETA: 39s - loss: 0.0442 - acc: 0.98 - ETA: 38s - loss: 0.0440 - acc: 0.98 - ETA: 38s - loss: 0.0440 - acc: 0.98 - ETA: 38s - loss: 0.0440 - acc: 0.98 - ETA: 37s - loss: 0.0440 - acc: 0.98 - ETA: 37s - loss: 0.0447 - acc: 0.98 - ETA: 36s - loss: 0.0452 - acc: 0.98 - ETA: 36s - loss: 0.0453 - acc: 0.98 - ETA: 36s - loss: 0.0452 - acc: 0.98 - ETA: 35s - loss: 0.0453 - acc: 0.98 - ETA: 35s - loss: 0.0452 - acc: 0.98 - ETA: 34s - loss: 0.0451 - acc: 0.98 - ETA: 34s - loss: 0.0450 - acc: 0.98 - ETA: 34s - loss: 0.0449 - acc: 0.98 - ETA: 33s - loss: 0.0453 - acc: 0.98 - ETA: 33s - loss: 0.0452 - acc: 0.98 - ETA: 32s - loss: 0.0452 - acc: 0.98 - ETA: 32s - loss: 0.0451 - acc: 0.98 - ETA: 32s - loss: 0.0449 - acc: 0.98 - ETA: 31s - loss: 0.0452 - acc: 0.98 - ETA: 31s - loss: 0.0450 - acc: 0.98 - ETA: 30s - loss: 0.0454 - acc: 0.98 - ETA: 30s - loss: 0.0453 - acc: 0.98 - ETA: 30s - loss: 0.0452 - acc: 0.98 - ETA: 29s - loss: 0.0452 - acc: 0.98 - ETA: 29s - loss: 0.0451 - acc: 0.98 - ETA: 28s - loss: 0.0451 - acc: 0.98 - ETA: 28s - loss: 0.0449 - acc: 0.98 - ETA: 28s - loss: 0.0448 - acc: 0.98 - ETA: 27s - loss: 0.0449 - acc: 0.98 - ETA: 27s - loss: 0.0448 - acc: 0.98 - ETA: 26s - loss: 0.0448 - acc: 0.98 - ETA: 26s - loss: 0.0447 - acc: 0.98 - ETA: 26s - loss: 0.0448 - acc: 0.98 - ETA: 25s - loss: 0.0447 - acc: 0.98 - ETA: 25s - loss: 0.0448 - acc: 0.98 - ETA: 24s - loss: 0.0446 - acc: 0.98 - ETA: 24s - loss: 0.0446 - acc: 0.98 - ETA: 24s - loss: 0.0445 - acc: 0.98 - ETA: 23s - loss: 0.0443 - acc: 0.98 - ETA: 23s - loss: 0.0448 - acc: 0.98 - ETA: 22s - loss: 0.0447 - acc: 0.98 - ETA: 22s - loss: 0.0447 - acc: 0.98 - ETA: 22s - loss: 0.0446 - acc: 0.98 - ETA: 21s - loss: 0.0445 - acc: 0.98 - ETA: 21s - loss: 0.0444 - acc: 0.98 - ETA: 21s - loss: 0.0444 - acc: 0.98 - ETA: 20s - loss: 0.0444 - acc: 0.98 - ETA: 20s - loss: 0.0444 - acc: 0.98 - ETA: 19s - loss: 0.0442 - acc: 0.98 - ETA: 19s - loss: 0.0443 - acc: 0.98 - ETA: 19s - loss: 0.0443 - acc: 0.98 - ETA: 18s - loss: 0.0441 - acc: 0.98 - ETA: 18s - loss: 0.0443 - acc: 0.98 - ETA: 17s - loss: 0.0444 - acc: 0.98 - ETA: 17s - loss: 0.0451 - acc: 0.98 - ETA: 17s - loss: 0.0457 - acc: 0.98 - ETA: 16s - loss: 0.0456 - acc: 0.98 - ETA: 16s - loss: 0.0454 - acc: 0.98 - ETA: 15s - loss: 0.0453 - acc: 0.98 - ETA: 15s - loss: 0.0457 - acc: 0.98 - ETA: 15s - loss: 0.0456 - acc: 0.98 - ETA: 14s - loss: 0.0456 - acc: 0.98 - ETA: 14s - loss: 0.0456 - acc: 0.98 - ETA: 13s - loss: 0.0455 - acc: 0.98 - ETA: 13s - loss: 0.0454 - acc: 0.98 - ETA: 13s - loss: 0.0453 - acc: 0.98 - ETA: 12s - loss: 0.0455 - acc: 0.98 - ETA: 12s - loss: 0.0455 - acc: 0.98 - ETA: 11s - loss: 0.0453 - acc: 0.98 - ETA: 11s - loss: 0.0453 - acc: 0.98 - ETA: 11s - loss: 0.0452 - acc: 0.98 - ETA: 10s - loss: 0.0456 - acc: 0.98 - ETA: 10s - loss: 0.0455 - acc: 0.98 - ETA: 9s - loss: 0.0453 - acc: 0.9836 - ETA: 9s - loss: 0.0454 - acc: 0.983 - ETA: 9s - loss: 0.0454 - acc: 0.983 - ETA: 8s - loss: 0.0453 - acc: 0.983 - ETA: 8s - loss: 0.0451 - acc: 0.983 - ETA: 7s - loss: 0.0450 - acc: 0.983 - ETA: 7s - loss: 0.0449 - acc: 0.983 - ETA: 7s - loss: 0.0450 - acc: 0.983 - ETA: 6s - loss: 0.0455 - acc: 0.983 - ETA: 6s - loss: 0.0459 - acc: 0.983 - ETA: 5s - loss: 0.0459 - acc: 0.983 - ETA: 5s - loss: 0.0458 - acc: 0.983 - ETA: 5s - loss: 0.0457 - acc: 0.983 - ETA: 4s - loss: 0.0455 - acc: 0.983 - ETA: 4s - loss: 0.0454 - acc: 0.983 - ETA: 3s - loss: 0.0454 - acc: 0.983 - ETA: 3s - loss: 0.0455 - acc: 0.983 - ETA: 3s - loss: 0.0455 - acc: 0.983 - ETA: 2s - loss: 0.0461 - acc: 0.983 - ETA: 2s - loss: 0.0460 - acc: 0.983 - ETA: 1s - loss: 0.0460 - acc: 0.983 - ETA: 1s - loss: 0.0458 - acc: 0.983 - ETA: 1s - loss: 0.0458 - acc: 0.983 - ETA: 0s - loss: 0.0457 - acc: 0.983 - ETA: 0s - loss: 0.0461 - acc: 0.983 - 145s 14ms/step - loss: 0.0461 - acc: 0.9835 - val_loss: 1.0857 - val_acc: 0.7386\n",
      "Epoch 6/10\n"
     ]
    },
    {
     "name": "stdout",
     "output_type": "stream",
     "text": [
      " 6592/10586 [=================>............] - ETA: 2:52 - loss: 0.0259 - acc: 1.000 - ETA: 2:34 - loss: 0.0214 - acc: 1.000 - ETA: 2:23 - loss: 0.0156 - acc: 1.000 - ETA: 2:21 - loss: 0.0168 - acc: 1.000 - ETA: 2:15 - loss: 0.0156 - acc: 1.000 - ETA: 2:14 - loss: 0.0143 - acc: 1.000 - ETA: 2:13 - loss: 0.0135 - acc: 1.000 - ETA: 2:13 - loss: 0.0185 - acc: 0.996 - ETA: 2:11 - loss: 0.0207 - acc: 0.993 - ETA: 2:10 - loss: 0.0191 - acc: 0.993 - ETA: 2:10 - loss: 0.0180 - acc: 0.994 - ETA: 2:09 - loss: 0.0217 - acc: 0.992 - ETA: 2:08 - loss: 0.0239 - acc: 0.990 - ETA: 2:09 - loss: 0.0229 - acc: 0.991 - ETA: 2:08 - loss: 0.0222 - acc: 0.991 - ETA: 2:08 - loss: 0.0286 - acc: 0.990 - ETA: 2:07 - loss: 0.0271 - acc: 0.990 - ETA: 2:07 - loss: 0.0258 - acc: 0.991 - ETA: 2:07 - loss: 0.0246 - acc: 0.991 - ETA: 2:06 - loss: 0.0253 - acc: 0.992 - ETA: 2:05 - loss: 0.0245 - acc: 0.992 - ETA: 2:04 - loss: 0.0238 - acc: 0.992 - ETA: 2:04 - loss: 0.0229 - acc: 0.993 - ETA: 2:04 - loss: 0.0249 - acc: 0.992 - ETA: 2:03 - loss: 0.0245 - acc: 0.992 - ETA: 2:03 - loss: 0.0240 - acc: 0.992 - ETA: 2:02 - loss: 0.0234 - acc: 0.993 - ETA: 2:02 - loss: 0.0226 - acc: 0.993 - ETA: 2:01 - loss: 0.0223 - acc: 0.993 - ETA: 2:01 - loss: 0.0245 - acc: 0.992 - ETA: 2:00 - loss: 0.0252 - acc: 0.991 - ETA: 2:00 - loss: 0.0270 - acc: 0.991 - ETA: 1:59 - loss: 0.0263 - acc: 0.991 - ETA: 1:59 - loss: 0.0258 - acc: 0.991 - ETA: 1:59 - loss: 0.0253 - acc: 0.992 - ETA: 1:58 - loss: 0.0251 - acc: 0.992 - ETA: 1:58 - loss: 0.0252 - acc: 0.992 - ETA: 1:57 - loss: 0.0248 - acc: 0.992 - ETA: 1:57 - loss: 0.0242 - acc: 0.992 - ETA: 1:57 - loss: 0.0237 - acc: 0.993 - ETA: 1:57 - loss: 0.0234 - acc: 0.993 - ETA: 1:56 - loss: 0.0249 - acc: 0.992 - ETA: 1:56 - loss: 0.0246 - acc: 0.992 - ETA: 1:56 - loss: 0.0244 - acc: 0.992 - ETA: 1:55 - loss: 0.0240 - acc: 0.993 - ETA: 1:54 - loss: 0.0260 - acc: 0.992 - ETA: 1:54 - loss: 0.0262 - acc: 0.992 - ETA: 1:53 - loss: 0.0260 - acc: 0.992 - ETA: 1:53 - loss: 0.0257 - acc: 0.992 - ETA: 1:53 - loss: 0.0256 - acc: 0.992 - ETA: 1:52 - loss: 0.0252 - acc: 0.992 - ETA: 1:52 - loss: 0.0248 - acc: 0.992 - ETA: 1:51 - loss: 0.0244 - acc: 0.992 - ETA: 1:51 - loss: 0.0240 - acc: 0.993 - ETA: 1:50 - loss: 0.0236 - acc: 0.993 - ETA: 1:50 - loss: 0.0237 - acc: 0.992 - ETA: 1:50 - loss: 0.0250 - acc: 0.992 - ETA: 1:49 - loss: 0.0246 - acc: 0.992 - ETA: 1:49 - loss: 0.0243 - acc: 0.992 - ETA: 1:48 - loss: 0.0242 - acc: 0.992 - ETA: 1:48 - loss: 0.0238 - acc: 0.992 - ETA: 1:47 - loss: 0.0249 - acc: 0.991 - ETA: 1:47 - loss: 0.0252 - acc: 0.991 - ETA: 1:46 - loss: 0.0248 - acc: 0.991 - ETA: 1:46 - loss: 0.0246 - acc: 0.991 - ETA: 1:46 - loss: 0.0244 - acc: 0.992 - ETA: 1:45 - loss: 0.0241 - acc: 0.992 - ETA: 1:45 - loss: 0.0238 - acc: 0.992 - ETA: 1:44 - loss: 0.0239 - acc: 0.991 - ETA: 1:44 - loss: 0.0236 - acc: 0.992 - ETA: 1:43 - loss: 0.0233 - acc: 0.992 - ETA: 1:43 - loss: 0.0230 - acc: 0.992 - ETA: 1:43 - loss: 0.0237 - acc: 0.991 - ETA: 1:42 - loss: 0.0255 - acc: 0.991 - ETA: 1:42 - loss: 0.0252 - acc: 0.991 - ETA: 1:42 - loss: 0.0250 - acc: 0.991 - ETA: 1:41 - loss: 0.0251 - acc: 0.991 - ETA: 1:41 - loss: 0.0250 - acc: 0.991 - ETA: 1:40 - loss: 0.0249 - acc: 0.991 - ETA: 1:40 - loss: 0.0250 - acc: 0.991 - ETA: 1:39 - loss: 0.0247 - acc: 0.991 - ETA: 1:39 - loss: 0.0245 - acc: 0.991 - ETA: 1:39 - loss: 0.0242 - acc: 0.991 - ETA: 1:38 - loss: 0.0240 - acc: 0.991 - ETA: 1:38 - loss: 0.0237 - acc: 0.991 - ETA: 1:37 - loss: 0.0235 - acc: 0.992 - ETA: 1:37 - loss: 0.0234 - acc: 0.992 - ETA: 1:37 - loss: 0.0232 - acc: 0.992 - ETA: 1:36 - loss: 0.0231 - acc: 0.992 - ETA: 1:36 - loss: 0.0229 - acc: 0.992 - ETA: 1:35 - loss: 0.0227 - acc: 0.992 - ETA: 1:35 - loss: 0.0225 - acc: 0.992 - ETA: 1:35 - loss: 0.0223 - acc: 0.992 - ETA: 1:34 - loss: 0.0222 - acc: 0.992 - ETA: 1:34 - loss: 0.0220 - acc: 0.992 - ETA: 1:34 - loss: 0.0218 - acc: 0.992 - ETA: 1:33 - loss: 0.0224 - acc: 0.992 - ETA: 1:33 - loss: 0.0221 - acc: 0.992 - ETA: 1:32 - loss: 0.0219 - acc: 0.992 - ETA: 1:32 - loss: 0.0217 - acc: 0.992 - ETA: 1:32 - loss: 0.0216 - acc: 0.992 - ETA: 1:31 - loss: 0.0217 - acc: 0.992 - ETA: 1:31 - loss: 0.0215 - acc: 0.992 - ETA: 1:31 - loss: 0.0213 - acc: 0.992 - ETA: 1:30 - loss: 0.0217 - acc: 0.992 - ETA: 1:30 - loss: 0.0215 - acc: 0.992 - ETA: 1:29 - loss: 0.0217 - acc: 0.992 - ETA: 1:29 - loss: 0.0217 - acc: 0.992 - ETA: 1:29 - loss: 0.0216 - acc: 0.992 - ETA: 1:28 - loss: 0.0226 - acc: 0.992 - ETA: 1:28 - loss: 0.0224 - acc: 0.992 - ETA: 1:27 - loss: 0.0223 - acc: 0.992 - ETA: 1:27 - loss: 0.0221 - acc: 0.992 - ETA: 1:27 - loss: 0.0226 - acc: 0.992 - ETA: 1:26 - loss: 0.0225 - acc: 0.992 - ETA: 1:26 - loss: 0.0224 - acc: 0.992 - ETA: 1:25 - loss: 0.0223 - acc: 0.992 - ETA: 1:25 - loss: 0.0228 - acc: 0.992 - ETA: 1:25 - loss: 0.0226 - acc: 0.992 - ETA: 1:24 - loss: 0.0225 - acc: 0.992 - ETA: 1:23 - loss: 0.0224 - acc: 0.992 - ETA: 1:23 - loss: 0.0223 - acc: 0.992 - ETA: 1:23 - loss: 0.0221 - acc: 0.992 - ETA: 1:22 - loss: 0.0220 - acc: 0.992 - ETA: 1:22 - loss: 0.0218 - acc: 0.992 - ETA: 1:21 - loss: 0.0230 - acc: 0.992 - ETA: 1:21 - loss: 0.0230 - acc: 0.992 - ETA: 1:20 - loss: 0.0228 - acc: 0.992 - ETA: 1:20 - loss: 0.0236 - acc: 0.991 - ETA: 1:19 - loss: 0.0235 - acc: 0.991 - ETA: 1:19 - loss: 0.0234 - acc: 0.991 - ETA: 1:19 - loss: 0.0235 - acc: 0.992 - ETA: 1:18 - loss: 0.0233 - acc: 0.992 - ETA: 1:18 - loss: 0.0233 - acc: 0.992 - ETA: 1:17 - loss: 0.0231 - acc: 0.992 - ETA: 1:17 - loss: 0.0231 - acc: 0.992 - ETA: 1:16 - loss: 0.0230 - acc: 0.992 - ETA: 1:16 - loss: 0.0229 - acc: 0.992 - ETA: 1:15 - loss: 0.0228 - acc: 0.992 - ETA: 1:15 - loss: 0.0227 - acc: 0.992 - ETA: 1:14 - loss: 0.0229 - acc: 0.992 - ETA: 1:14 - loss: 0.0227 - acc: 0.992 - ETA: 1:14 - loss: 0.0233 - acc: 0.992 - ETA: 1:13 - loss: 0.0232 - acc: 0.992 - ETA: 1:13 - loss: 0.0232 - acc: 0.992 - ETA: 1:12 - loss: 0.0233 - acc: 0.992 - ETA: 1:12 - loss: 0.0231 - acc: 0.992 - ETA: 1:11 - loss: 0.0231 - acc: 0.992 - ETA: 1:11 - loss: 0.0234 - acc: 0.992 - ETA: 1:11 - loss: 0.0235 - acc: 0.992 - ETA: 1:10 - loss: 0.0235 - acc: 0.992 - ETA: 1:10 - loss: 0.0234 - acc: 0.992 - ETA: 1:09 - loss: 0.0233 - acc: 0.992 - ETA: 1:09 - loss: 0.0236 - acc: 0.992 - ETA: 1:08 - loss: 0.0235 - acc: 0.992 - ETA: 1:08 - loss: 0.0233 - acc: 0.992 - ETA: 1:07 - loss: 0.0232 - acc: 0.992 - ETA: 1:07 - loss: 0.0230 - acc: 0.992 - ETA: 1:07 - loss: 0.0229 - acc: 0.992 - ETA: 1:06 - loss: 0.0228 - acc: 0.992 - ETA: 1:06 - loss: 0.0227 - acc: 0.992 - ETA: 1:05 - loss: 0.0226 - acc: 0.992 - ETA: 1:05 - loss: 0.0225 - acc: 0.992 - ETA: 1:05 - loss: 0.0224 - acc: 0.992 - ETA: 1:04 - loss: 0.0223 - acc: 0.992 - ETA: 1:04 - loss: 0.0222 - acc: 0.992 - ETA: 1:03 - loss: 0.0224 - acc: 0.992 - ETA: 1:03 - loss: 0.0228 - acc: 0.992 - ETA: 1:03 - loss: 0.0227 - acc: 0.992 - ETA: 1:02 - loss: 0.0226 - acc: 0.992 - ETA: 1:02 - loss: 0.0225 - acc: 0.992 - ETA: 1:01 - loss: 0.0228 - acc: 0.992 - ETA: 1:01 - loss: 0.0227 - acc: 0.992 - ETA: 1:01 - loss: 0.0228 - acc: 0.992 - ETA: 1:00 - loss: 0.0233 - acc: 0.992 - ETA: 1:00 - loss: 0.0233 - acc: 0.992 - ETA: 59s - loss: 0.0233 - acc: 0.992 - ETA: 59s - loss: 0.0233 - acc: 0.99 - ETA: 58s - loss: 0.0233 - acc: 0.99 - ETA: 58s - loss: 0.0234 - acc: 0.99 - ETA: 58s - loss: 0.0237 - acc: 0.99 - ETA: 57s - loss: 0.0236 - acc: 0.99 - ETA: 57s - loss: 0.0236 - acc: 0.99 - ETA: 56s - loss: 0.0235 - acc: 0.99 - ETA: 56s - loss: 0.0239 - acc: 0.99 - ETA: 56s - loss: 0.0238 - acc: 0.99 - ETA: 55s - loss: 0.0237 - acc: 0.99 - ETA: 55s - loss: 0.0243 - acc: 0.99 - ETA: 54s - loss: 0.0242 - acc: 0.99 - ETA: 54s - loss: 0.0242 - acc: 0.99 - ETA: 54s - loss: 0.0241 - acc: 0.99 - ETA: 53s - loss: 0.0240 - acc: 0.99 - ETA: 53s - loss: 0.0240 - acc: 0.99 - ETA: 52s - loss: 0.0240 - acc: 0.99 - ETA: 52s - loss: 0.0239 - acc: 0.99 - ETA: 52s - loss: 0.0238 - acc: 0.99 - ETA: 51s - loss: 0.0240 - acc: 0.99 - ETA: 51s - loss: 0.0239 - acc: 0.99 - ETA: 50s - loss: 0.0238 - acc: 0.99 - ETA: 50s - loss: 0.0237 - acc: 0.99 - ETA: 50s - loss: 0.0238 - acc: 0.99 - ETA: 49s - loss: 0.0238 - acc: 0.99 - ETA: 49s - loss: 0.0237 - acc: 0.99 - ETA: 48s - loss: 0.0237 - acc: 0.99 - ETA: 48s - loss: 0.0236 - acc: 0.99 - ETA: 48s - loss: 0.0236 - acc: 0.9923"
     ]
    },
    {
     "name": "stdout",
     "output_type": "stream",
     "text": [
      "10586/10586 [==============================] - ETA: 47s - loss: 0.0235 - acc: 0.99 - ETA: 47s - loss: 0.0239 - acc: 0.99 - ETA: 46s - loss: 0.0240 - acc: 0.99 - ETA: 46s - loss: 0.0241 - acc: 0.99 - ETA: 46s - loss: 0.0243 - acc: 0.99 - ETA: 45s - loss: 0.0250 - acc: 0.99 - ETA: 45s - loss: 0.0256 - acc: 0.99 - ETA: 45s - loss: 0.0255 - acc: 0.99 - ETA: 44s - loss: 0.0254 - acc: 0.99 - ETA: 44s - loss: 0.0257 - acc: 0.99 - ETA: 43s - loss: 0.0259 - acc: 0.99 - ETA: 43s - loss: 0.0258 - acc: 0.99 - ETA: 43s - loss: 0.0257 - acc: 0.99 - ETA: 42s - loss: 0.0256 - acc: 0.99 - ETA: 42s - loss: 0.0255 - acc: 0.99 - ETA: 41s - loss: 0.0255 - acc: 0.99 - ETA: 41s - loss: 0.0256 - acc: 0.99 - ETA: 41s - loss: 0.0257 - acc: 0.99 - ETA: 40s - loss: 0.0256 - acc: 0.99 - ETA: 40s - loss: 0.0256 - acc: 0.99 - ETA: 39s - loss: 0.0255 - acc: 0.99 - ETA: 39s - loss: 0.0254 - acc: 0.99 - ETA: 39s - loss: 0.0254 - acc: 0.99 - ETA: 38s - loss: 0.0253 - acc: 0.99 - ETA: 38s - loss: 0.0253 - acc: 0.99 - ETA: 37s - loss: 0.0252 - acc: 0.99 - ETA: 37s - loss: 0.0252 - acc: 0.99 - ETA: 36s - loss: 0.0251 - acc: 0.99 - ETA: 36s - loss: 0.0250 - acc: 0.99 - ETA: 36s - loss: 0.0253 - acc: 0.99 - ETA: 35s - loss: 0.0252 - acc: 0.99 - ETA: 35s - loss: 0.0259 - acc: 0.99 - ETA: 34s - loss: 0.0260 - acc: 0.99 - ETA: 34s - loss: 0.0260 - acc: 0.99 - ETA: 33s - loss: 0.0260 - acc: 0.99 - ETA: 33s - loss: 0.0259 - acc: 0.99 - ETA: 33s - loss: 0.0258 - acc: 0.99 - ETA: 32s - loss: 0.0258 - acc: 0.99 - ETA: 32s - loss: 0.0260 - acc: 0.99 - ETA: 31s - loss: 0.0259 - acc: 0.99 - ETA: 31s - loss: 0.0260 - acc: 0.99 - ETA: 31s - loss: 0.0259 - acc: 0.99 - ETA: 30s - loss: 0.0258 - acc: 0.99 - ETA: 30s - loss: 0.0257 - acc: 0.99 - ETA: 29s - loss: 0.0258 - acc: 0.99 - ETA: 29s - loss: 0.0257 - acc: 0.99 - ETA: 28s - loss: 0.0257 - acc: 0.99 - ETA: 28s - loss: 0.0259 - acc: 0.99 - ETA: 28s - loss: 0.0258 - acc: 0.99 - ETA: 27s - loss: 0.0258 - acc: 0.99 - ETA: 27s - loss: 0.0265 - acc: 0.99 - ETA: 26s - loss: 0.0266 - acc: 0.99 - ETA: 26s - loss: 0.0266 - acc: 0.99 - ETA: 26s - loss: 0.0266 - acc: 0.99 - ETA: 25s - loss: 0.0265 - acc: 0.99 - ETA: 25s - loss: 0.0267 - acc: 0.99 - ETA: 24s - loss: 0.0266 - acc: 0.99 - ETA: 24s - loss: 0.0265 - acc: 0.99 - ETA: 24s - loss: 0.0264 - acc: 0.99 - ETA: 23s - loss: 0.0264 - acc: 0.99 - ETA: 23s - loss: 0.0263 - acc: 0.99 - ETA: 23s - loss: 0.0262 - acc: 0.99 - ETA: 22s - loss: 0.0262 - acc: 0.99 - ETA: 22s - loss: 0.0261 - acc: 0.99 - ETA: 21s - loss: 0.0260 - acc: 0.99 - ETA: 21s - loss: 0.0263 - acc: 0.99 - ETA: 21s - loss: 0.0262 - acc: 0.99 - ETA: 20s - loss: 0.0262 - acc: 0.99 - ETA: 20s - loss: 0.0261 - acc: 0.99 - ETA: 20s - loss: 0.0260 - acc: 0.99 - ETA: 19s - loss: 0.0259 - acc: 0.99 - ETA: 19s - loss: 0.0260 - acc: 0.99 - ETA: 19s - loss: 0.0262 - acc: 0.99 - ETA: 18s - loss: 0.0262 - acc: 0.99 - ETA: 18s - loss: 0.0262 - acc: 0.99 - ETA: 17s - loss: 0.0261 - acc: 0.99 - ETA: 17s - loss: 0.0261 - acc: 0.99 - ETA: 17s - loss: 0.0261 - acc: 0.99 - ETA: 16s - loss: 0.0260 - acc: 0.99 - ETA: 16s - loss: 0.0261 - acc: 0.99 - ETA: 16s - loss: 0.0261 - acc: 0.99 - ETA: 15s - loss: 0.0261 - acc: 0.99 - ETA: 15s - loss: 0.0260 - acc: 0.99 - ETA: 14s - loss: 0.0262 - acc: 0.99 - ETA: 14s - loss: 0.0261 - acc: 0.99 - ETA: 14s - loss: 0.0261 - acc: 0.99 - ETA: 13s - loss: 0.0263 - acc: 0.99 - ETA: 13s - loss: 0.0262 - acc: 0.99 - ETA: 13s - loss: 0.0261 - acc: 0.99 - ETA: 12s - loss: 0.0261 - acc: 0.99 - ETA: 12s - loss: 0.0261 - acc: 0.99 - ETA: 12s - loss: 0.0260 - acc: 0.99 - ETA: 11s - loss: 0.0260 - acc: 0.99 - ETA: 11s - loss: 0.0261 - acc: 0.99 - ETA: 10s - loss: 0.0261 - acc: 0.99 - ETA: 10s - loss: 0.0260 - acc: 0.99 - ETA: 10s - loss: 0.0263 - acc: 0.99 - ETA: 9s - loss: 0.0263 - acc: 0.9912 - ETA: 9s - loss: 0.0262 - acc: 0.991 - ETA: 9s - loss: 0.0262 - acc: 0.991 - ETA: 8s - loss: 0.0261 - acc: 0.991 - ETA: 8s - loss: 0.0261 - acc: 0.991 - ETA: 7s - loss: 0.0260 - acc: 0.991 - ETA: 7s - loss: 0.0259 - acc: 0.991 - ETA: 7s - loss: 0.0259 - acc: 0.991 - ETA: 6s - loss: 0.0262 - acc: 0.991 - ETA: 6s - loss: 0.0263 - acc: 0.991 - ETA: 6s - loss: 0.0263 - acc: 0.991 - ETA: 5s - loss: 0.0262 - acc: 0.991 - ETA: 5s - loss: 0.0262 - acc: 0.991 - ETA: 5s - loss: 0.0265 - acc: 0.991 - ETA: 4s - loss: 0.0264 - acc: 0.991 - ETA: 4s - loss: 0.0263 - acc: 0.991 - ETA: 3s - loss: 0.0263 - acc: 0.991 - ETA: 3s - loss: 0.0262 - acc: 0.991 - ETA: 3s - loss: 0.0261 - acc: 0.991 - ETA: 2s - loss: 0.0261 - acc: 0.991 - ETA: 2s - loss: 0.0260 - acc: 0.991 - ETA: 2s - loss: 0.0261 - acc: 0.991 - ETA: 1s - loss: 0.0260 - acc: 0.991 - ETA: 1s - loss: 0.0259 - acc: 0.991 - ETA: 1s - loss: 0.0259 - acc: 0.991 - ETA: 0s - loss: 0.0260 - acc: 0.991 - ETA: 0s - loss: 0.0259 - acc: 0.991 - 131s 12ms/step - loss: 0.0259 - acc: 0.9913 - val_loss: 1.3035 - val_acc: 0.7495\n",
      "Epoch 7/10\n",
      " 6592/10586 [=================>............] - ETA: 2:08 - loss: 0.0848 - acc: 0.968 - ETA: 1:56 - loss: 0.0703 - acc: 0.968 - ETA: 1:53 - loss: 0.0474 - acc: 0.979 - ETA: 1:55 - loss: 0.0363 - acc: 0.984 - ETA: 1:56 - loss: 0.0298 - acc: 0.987 - ETA: 1:57 - loss: 0.0251 - acc: 0.989 - ETA: 1:55 - loss: 0.0218 - acc: 0.991 - ETA: 1:57 - loss: 0.0194 - acc: 0.992 - ETA: 1:56 - loss: 0.0213 - acc: 0.993 - ETA: 1:53 - loss: 0.0200 - acc: 0.993 - ETA: 1:52 - loss: 0.0183 - acc: 0.994 - ETA: 1:53 - loss: 0.0185 - acc: 0.994 - ETA: 1:53 - loss: 0.0187 - acc: 0.995 - ETA: 1:54 - loss: 0.0178 - acc: 0.995 - ETA: 1:54 - loss: 0.0171 - acc: 0.995 - ETA: 1:53 - loss: 0.0167 - acc: 0.996 - ETA: 1:53 - loss: 0.0158 - acc: 0.996 - ETA: 1:53 - loss: 0.0196 - acc: 0.994 - ETA: 1:53 - loss: 0.0186 - acc: 0.995 - ETA: 1:53 - loss: 0.0184 - acc: 0.995 - ETA: 1:52 - loss: 0.0180 - acc: 0.995 - ETA: 1:51 - loss: 0.0173 - acc: 0.995 - ETA: 1:51 - loss: 0.0186 - acc: 0.994 - ETA: 1:51 - loss: 0.0181 - acc: 0.994 - ETA: 1:50 - loss: 0.0174 - acc: 0.995 - ETA: 1:50 - loss: 0.0170 - acc: 0.995 - ETA: 1:50 - loss: 0.0168 - acc: 0.995 - ETA: 1:49 - loss: 0.0163 - acc: 0.995 - ETA: 1:48 - loss: 0.0157 - acc: 0.995 - ETA: 1:48 - loss: 0.0154 - acc: 0.995 - ETA: 1:47 - loss: 0.0184 - acc: 0.995 - ETA: 1:47 - loss: 0.0178 - acc: 0.995 - ETA: 1:47 - loss: 0.0176 - acc: 0.995 - ETA: 1:47 - loss: 0.0172 - acc: 0.995 - ETA: 1:47 - loss: 0.0168 - acc: 0.995 - ETA: 1:46 - loss: 0.0164 - acc: 0.995 - ETA: 1:46 - loss: 0.0160 - acc: 0.995 - ETA: 1:46 - loss: 0.0168 - acc: 0.995 - ETA: 1:45 - loss: 0.0167 - acc: 0.995 - ETA: 1:45 - loss: 0.0164 - acc: 0.995 - ETA: 1:45 - loss: 0.0163 - acc: 0.995 - ETA: 1:45 - loss: 0.0161 - acc: 0.995 - ETA: 1:44 - loss: 0.0158 - acc: 0.995 - ETA: 1:43 - loss: 0.0155 - acc: 0.995 - ETA: 1:43 - loss: 0.0161 - acc: 0.995 - ETA: 1:43 - loss: 0.0172 - acc: 0.994 - ETA: 1:42 - loss: 0.0170 - acc: 0.994 - ETA: 1:42 - loss: 0.0179 - acc: 0.994 - ETA: 1:42 - loss: 0.0175 - acc: 0.994 - ETA: 1:41 - loss: 0.0172 - acc: 0.994 - ETA: 1:41 - loss: 0.0170 - acc: 0.994 - ETA: 1:41 - loss: 0.0168 - acc: 0.994 - ETA: 1:40 - loss: 0.0167 - acc: 0.994 - ETA: 1:40 - loss: 0.0164 - acc: 0.994 - ETA: 1:40 - loss: 0.0161 - acc: 0.994 - ETA: 1:39 - loss: 0.0193 - acc: 0.994 - ETA: 1:39 - loss: 0.0190 - acc: 0.994 - ETA: 1:39 - loss: 0.0189 - acc: 0.994 - ETA: 1:39 - loss: 0.0187 - acc: 0.994 - ETA: 1:38 - loss: 0.0188 - acc: 0.994 - ETA: 1:38 - loss: 0.0187 - acc: 0.994 - ETA: 1:37 - loss: 0.0186 - acc: 0.994 - ETA: 1:37 - loss: 0.0183 - acc: 0.994 - ETA: 1:37 - loss: 0.0181 - acc: 0.994 - ETA: 1:37 - loss: 0.0179 - acc: 0.994 - ETA: 1:36 - loss: 0.0177 - acc: 0.994 - ETA: 1:36 - loss: 0.0174 - acc: 0.994 - ETA: 1:36 - loss: 0.0172 - acc: 0.994 - ETA: 1:35 - loss: 0.0170 - acc: 0.995 - ETA: 1:35 - loss: 0.0169 - acc: 0.995 - ETA: 1:35 - loss: 0.0167 - acc: 0.995 - ETA: 1:34 - loss: 0.0165 - acc: 0.995 - ETA: 1:34 - loss: 0.0167 - acc: 0.994 - ETA: 1:34 - loss: 0.0165 - acc: 0.994 - ETA: 1:33 - loss: 0.0163 - acc: 0.995 - ETA: 1:33 - loss: 0.0166 - acc: 0.994 - ETA: 1:32 - loss: 0.0164 - acc: 0.994 - ETA: 1:32 - loss: 0.0166 - acc: 0.994 - ETA: 1:32 - loss: 0.0165 - acc: 0.994 - ETA: 1:31 - loss: 0.0163 - acc: 0.994 - ETA: 1:31 - loss: 0.0162 - acc: 0.994 - ETA: 1:31 - loss: 0.0163 - acc: 0.994 - ETA: 1:30 - loss: 0.0162 - acc: 0.994 - ETA: 1:30 - loss: 0.0162 - acc: 0.994 - ETA: 1:30 - loss: 0.0161 - acc: 0.994 - ETA: 1:29 - loss: 0.0159 - acc: 0.994 - ETA: 1:29 - loss: 0.0158 - acc: 0.995 - ETA: 1:29 - loss: 0.0156 - acc: 0.995 - ETA: 1:28 - loss: 0.0155 - acc: 0.995 - ETA: 1:28 - loss: 0.0155 - acc: 0.995 - ETA: 1:27 - loss: 0.0154 - acc: 0.995 - ETA: 1:27 - loss: 0.0153 - acc: 0.995 - ETA: 1:27 - loss: 0.0151 - acc: 0.995 - ETA: 1:27 - loss: 0.0150 - acc: 0.995 - ETA: 1:26 - loss: 0.0149 - acc: 0.995 - ETA: 1:26 - loss: 0.0147 - acc: 0.995 - ETA: 1:25 - loss: 0.0147 - acc: 0.995 - ETA: 1:25 - loss: 0.0146 - acc: 0.995 - ETA: 1:25 - loss: 0.0147 - acc: 0.995 - ETA: 1:24 - loss: 0.0146 - acc: 0.995 - ETA: 1:24 - loss: 0.0147 - acc: 0.995 - ETA: 1:23 - loss: 0.0145 - acc: 0.995 - ETA: 1:23 - loss: 0.0144 - acc: 0.995 - ETA: 1:23 - loss: 0.0143 - acc: 0.995 - ETA: 1:22 - loss: 0.0142 - acc: 0.995 - ETA: 1:22 - loss: 0.0141 - acc: 0.995 - ETA: 1:21 - loss: 0.0141 - acc: 0.995 - ETA: 1:21 - loss: 0.0140 - acc: 0.995 - ETA: 1:20 - loss: 0.0139 - acc: 0.995 - ETA: 1:20 - loss: 0.0138 - acc: 0.995 - ETA: 1:20 - loss: 0.0137 - acc: 0.995 - ETA: 1:19 - loss: 0.0137 - acc: 0.995 - ETA: 1:19 - loss: 0.0143 - acc: 0.995 - ETA: 1:19 - loss: 0.0144 - acc: 0.995 - ETA: 1:18 - loss: 0.0143 - acc: 0.995 - ETA: 1:18 - loss: 0.0142 - acc: 0.995 - ETA: 1:18 - loss: 0.0141 - acc: 0.995 - ETA: 1:18 - loss: 0.0140 - acc: 0.995 - ETA: 1:17 - loss: 0.0139 - acc: 0.995 - ETA: 1:17 - loss: 0.0138 - acc: 0.995 - ETA: 1:17 - loss: 0.0137 - acc: 0.995 - ETA: 1:17 - loss: 0.0147 - acc: 0.995 - ETA: 1:16 - loss: 0.0146 - acc: 0.995 - ETA: 1:16 - loss: 0.0145 - acc: 0.995 - ETA: 1:16 - loss: 0.0144 - acc: 0.995 - ETA: 1:15 - loss: 0.0147 - acc: 0.995 - ETA: 1:15 - loss: 0.0146 - acc: 0.995 - ETA: 1:15 - loss: 0.0146 - acc: 0.995 - ETA: 1:15 - loss: 0.0145 - acc: 0.995 - ETA: 1:14 - loss: 0.0144 - acc: 0.995 - ETA: 1:14 - loss: 0.0144 - acc: 0.995 - ETA: 1:13 - loss: 0.0144 - acc: 0.995 - ETA: 1:13 - loss: 0.0144 - acc: 0.995 - ETA: 1:13 - loss: 0.0145 - acc: 0.995 - ETA: 1:12 - loss: 0.0150 - acc: 0.995 - ETA: 1:12 - loss: 0.0154 - acc: 0.994 - ETA: 1:12 - loss: 0.0153 - acc: 0.995 - ETA: 1:11 - loss: 0.0158 - acc: 0.994 - ETA: 1:11 - loss: 0.0157 - acc: 0.994 - ETA: 1:11 - loss: 0.0156 - acc: 0.994 - ETA: 1:10 - loss: 0.0155 - acc: 0.994 - ETA: 1:10 - loss: 0.0154 - acc: 0.994 - ETA: 1:10 - loss: 0.0162 - acc: 0.994 - ETA: 1:09 - loss: 0.0164 - acc: 0.994 - ETA: 1:09 - loss: 0.0166 - acc: 0.994 - ETA: 1:09 - loss: 0.0165 - acc: 0.994 - ETA: 1:08 - loss: 0.0164 - acc: 0.994 - ETA: 1:08 - loss: 0.0165 - acc: 0.994 - ETA: 1:08 - loss: 0.0165 - acc: 0.994 - ETA: 1:07 - loss: 0.0165 - acc: 0.994 - ETA: 1:07 - loss: 0.0165 - acc: 0.994 - ETA: 1:07 - loss: 0.0169 - acc: 0.994 - ETA: 1:06 - loss: 0.0168 - acc: 0.994 - ETA: 1:06 - loss: 0.0167 - acc: 0.994 - ETA: 1:05 - loss: 0.0167 - acc: 0.994 - ETA: 1:05 - loss: 0.0166 - acc: 0.994 - ETA: 1:05 - loss: 0.0168 - acc: 0.994 - ETA: 1:04 - loss: 0.0167 - acc: 0.994 - ETA: 1:04 - loss: 0.0166 - acc: 0.994 - ETA: 1:04 - loss: 0.0169 - acc: 0.994 - ETA: 1:03 - loss: 0.0168 - acc: 0.994 - ETA: 1:03 - loss: 0.0169 - acc: 0.994 - ETA: 1:03 - loss: 0.0174 - acc: 0.993 - ETA: 1:02 - loss: 0.0174 - acc: 0.993 - ETA: 1:02 - loss: 0.0173 - acc: 0.993 - ETA: 1:01 - loss: 0.0172 - acc: 0.993 - ETA: 1:01 - loss: 0.0172 - acc: 0.993 - ETA: 1:01 - loss: 0.0171 - acc: 0.993 - ETA: 1:00 - loss: 0.0170 - acc: 0.993 - ETA: 1:00 - loss: 0.0181 - acc: 0.993 - ETA: 1:00 - loss: 0.0181 - acc: 0.993 - ETA: 59s - loss: 0.0182 - acc: 0.993 - ETA: 59s - loss: 0.0193 - acc: 0.99 - ETA: 59s - loss: 0.0193 - acc: 0.99 - ETA: 58s - loss: 0.0192 - acc: 0.99 - ETA: 58s - loss: 0.0191 - acc: 0.99 - ETA: 58s - loss: 0.0193 - acc: 0.99 - ETA: 57s - loss: 0.0200 - acc: 0.99 - ETA: 57s - loss: 0.0200 - acc: 0.99 - ETA: 56s - loss: 0.0199 - acc: 0.99 - ETA: 56s - loss: 0.0201 - acc: 0.99 - ETA: 56s - loss: 0.0200 - acc: 0.99 - ETA: 55s - loss: 0.0200 - acc: 0.99 - ETA: 55s - loss: 0.0199 - acc: 0.99 - ETA: 55s - loss: 0.0198 - acc: 0.99 - ETA: 54s - loss: 0.0197 - acc: 0.99 - ETA: 54s - loss: 0.0196 - acc: 0.99 - ETA: 54s - loss: 0.0197 - acc: 0.99 - ETA: 53s - loss: 0.0196 - acc: 0.99 - ETA: 53s - loss: 0.0196 - acc: 0.99 - ETA: 52s - loss: 0.0198 - acc: 0.99 - ETA: 52s - loss: 0.0199 - acc: 0.99 - ETA: 52s - loss: 0.0198 - acc: 0.99 - ETA: 51s - loss: 0.0197 - acc: 0.99 - ETA: 51s - loss: 0.0196 - acc: 0.99 - ETA: 51s - loss: 0.0201 - acc: 0.99 - ETA: 50s - loss: 0.0201 - acc: 0.99 - ETA: 50s - loss: 0.0202 - acc: 0.99 - ETA: 50s - loss: 0.0201 - acc: 0.99 - ETA: 49s - loss: 0.0205 - acc: 0.99 - ETA: 49s - loss: 0.0205 - acc: 0.99 - ETA: 48s - loss: 0.0204 - acc: 0.99 - ETA: 48s - loss: 0.0206 - acc: 0.99 - ETA: 48s - loss: 0.0208 - acc: 0.99 - ETA: 47s - loss: 0.0209 - acc: 0.99 - ETA: 47s - loss: 0.0209 - acc: 0.991810586/10586 [==============================] - ETA: 47s - loss: 0.0209 - acc: 0.99 - ETA: 46s - loss: 0.0208 - acc: 0.99 - ETA: 46s - loss: 0.0209 - acc: 0.99 - ETA: 45s - loss: 0.0209 - acc: 0.99 - ETA: 45s - loss: 0.0208 - acc: 0.99 - ETA: 45s - loss: 0.0207 - acc: 0.99 - ETA: 44s - loss: 0.0207 - acc: 0.99 - ETA: 44s - loss: 0.0206 - acc: 0.99 - ETA: 44s - loss: 0.0205 - acc: 0.99 - ETA: 43s - loss: 0.0205 - acc: 0.99 - ETA: 43s - loss: 0.0205 - acc: 0.99 - ETA: 43s - loss: 0.0204 - acc: 0.99 - ETA: 42s - loss: 0.0203 - acc: 0.99 - ETA: 42s - loss: 0.0204 - acc: 0.99 - ETA: 41s - loss: 0.0204 - acc: 0.99 - ETA: 41s - loss: 0.0204 - acc: 0.99 - ETA: 41s - loss: 0.0204 - acc: 0.99 - ETA: 40s - loss: 0.0203 - acc: 0.99 - ETA: 40s - loss: 0.0202 - acc: 0.99 - ETA: 40s - loss: 0.0201 - acc: 0.99 - ETA: 39s - loss: 0.0200 - acc: 0.99 - ETA: 39s - loss: 0.0200 - acc: 0.99 - ETA: 38s - loss: 0.0199 - acc: 0.99 - ETA: 38s - loss: 0.0199 - acc: 0.99 - ETA: 38s - loss: 0.0199 - acc: 0.99 - ETA: 37s - loss: 0.0199 - acc: 0.99 - ETA: 37s - loss: 0.0198 - acc: 0.99 - ETA: 37s - loss: 0.0198 - acc: 0.99 - ETA: 36s - loss: 0.0197 - acc: 0.99 - ETA: 36s - loss: 0.0196 - acc: 0.99 - ETA: 35s - loss: 0.0197 - acc: 0.99 - ETA: 35s - loss: 0.0196 - acc: 0.99 - ETA: 35s - loss: 0.0196 - acc: 0.99 - ETA: 34s - loss: 0.0195 - acc: 0.99 - ETA: 34s - loss: 0.0195 - acc: 0.99 - ETA: 34s - loss: 0.0194 - acc: 0.99 - ETA: 33s - loss: 0.0200 - acc: 0.99 - ETA: 33s - loss: 0.0199 - acc: 0.99 - ETA: 32s - loss: 0.0199 - acc: 0.99 - ETA: 32s - loss: 0.0198 - acc: 0.99 - ETA: 32s - loss: 0.0197 - acc: 0.99 - ETA: 31s - loss: 0.0196 - acc: 0.99 - ETA: 31s - loss: 0.0196 - acc: 0.99 - ETA: 30s - loss: 0.0197 - acc: 0.99 - ETA: 30s - loss: 0.0196 - acc: 0.99 - ETA: 30s - loss: 0.0196 - acc: 0.99 - ETA: 29s - loss: 0.0195 - acc: 0.99 - ETA: 29s - loss: 0.0195 - acc: 0.99 - ETA: 29s - loss: 0.0199 - acc: 0.99 - ETA: 28s - loss: 0.0198 - acc: 0.99 - ETA: 28s - loss: 0.0197 - acc: 0.99 - ETA: 27s - loss: 0.0197 - acc: 0.99 - ETA: 27s - loss: 0.0196 - acc: 0.99 - ETA: 27s - loss: 0.0199 - acc: 0.99 - ETA: 26s - loss: 0.0202 - acc: 0.99 - ETA: 26s - loss: 0.0202 - acc: 0.99 - ETA: 26s - loss: 0.0201 - acc: 0.99 - ETA: 25s - loss: 0.0201 - acc: 0.99 - ETA: 25s - loss: 0.0200 - acc: 0.99 - ETA: 24s - loss: 0.0200 - acc: 0.99 - ETA: 24s - loss: 0.0199 - acc: 0.99 - ETA: 24s - loss: 0.0200 - acc: 0.99 - ETA: 23s - loss: 0.0200 - acc: 0.99 - ETA: 23s - loss: 0.0199 - acc: 0.99 - ETA: 22s - loss: 0.0201 - acc: 0.99 - ETA: 22s - loss: 0.0200 - acc: 0.99 - ETA: 22s - loss: 0.0200 - acc: 0.99 - ETA: 21s - loss: 0.0203 - acc: 0.99 - ETA: 21s - loss: 0.0203 - acc: 0.99 - ETA: 21s - loss: 0.0202 - acc: 0.99 - ETA: 20s - loss: 0.0202 - acc: 0.99 - ETA: 20s - loss: 0.0202 - acc: 0.99 - ETA: 19s - loss: 0.0202 - acc: 0.99 - ETA: 19s - loss: 0.0201 - acc: 0.99 - ETA: 19s - loss: 0.0200 - acc: 0.99 - ETA: 18s - loss: 0.0201 - acc: 0.99 - ETA: 18s - loss: 0.0201 - acc: 0.99 - ETA: 18s - loss: 0.0202 - acc: 0.99 - ETA: 17s - loss: 0.0210 - acc: 0.99 - ETA: 17s - loss: 0.0209 - acc: 0.99 - ETA: 16s - loss: 0.0214 - acc: 0.99 - ETA: 16s - loss: 0.0216 - acc: 0.99 - ETA: 16s - loss: 0.0217 - acc: 0.99 - ETA: 15s - loss: 0.0216 - acc: 0.99 - ETA: 15s - loss: 0.0217 - acc: 0.99 - ETA: 14s - loss: 0.0216 - acc: 0.99 - ETA: 14s - loss: 0.0216 - acc: 0.99 - ETA: 14s - loss: 0.0221 - acc: 0.99 - ETA: 13s - loss: 0.0222 - acc: 0.99 - ETA: 13s - loss: 0.0223 - acc: 0.99 - ETA: 13s - loss: 0.0225 - acc: 0.99 - ETA: 12s - loss: 0.0225 - acc: 0.99 - ETA: 12s - loss: 0.0224 - acc: 0.99 - ETA: 11s - loss: 0.0225 - acc: 0.99 - ETA: 11s - loss: 0.0225 - acc: 0.99 - ETA: 11s - loss: 0.0226 - acc: 0.99 - ETA: 10s - loss: 0.0226 - acc: 0.99 - ETA: 10s - loss: 0.0225 - acc: 0.99 - ETA: 9s - loss: 0.0227 - acc: 0.9914 - ETA: 9s - loss: 0.0227 - acc: 0.991 - ETA: 9s - loss: 0.0227 - acc: 0.991 - ETA: 8s - loss: 0.0226 - acc: 0.991 - ETA: 8s - loss: 0.0227 - acc: 0.991 - ETA: 8s - loss: 0.0226 - acc: 0.991 - ETA: 7s - loss: 0.0228 - acc: 0.991 - ETA: 7s - loss: 0.0229 - acc: 0.991 - ETA: 6s - loss: 0.0229 - acc: 0.991 - ETA: 6s - loss: 0.0228 - acc: 0.991 - ETA: 6s - loss: 0.0229 - acc: 0.991 - ETA: 5s - loss: 0.0229 - acc: 0.991 - ETA: 5s - loss: 0.0229 - acc: 0.991 - ETA: 4s - loss: 0.0228 - acc: 0.991 - ETA: 4s - loss: 0.0228 - acc: 0.991 - ETA: 4s - loss: 0.0229 - acc: 0.991 - ETA: 3s - loss: 0.0232 - acc: 0.991 - ETA: 3s - loss: 0.0233 - acc: 0.991 - ETA: 3s - loss: 0.0234 - acc: 0.991 - ETA: 2s - loss: 0.0233 - acc: 0.991 - ETA: 2s - loss: 0.0233 - acc: 0.991 - ETA: 1s - loss: 0.0233 - acc: 0.991 - ETA: 1s - loss: 0.0232 - acc: 0.991 - ETA: 1s - loss: 0.0232 - acc: 0.991 - ETA: 0s - loss: 0.0233 - acc: 0.991 - ETA: 0s - loss: 0.0232 - acc: 0.991 - 143s 13ms/step - loss: 0.0232 - acc: 0.9912 - val_loss: 1.2214 - val_acc: 0.7355\n",
      "Epoch 8/10\n"
     ]
    },
    {
     "name": "stdout",
     "output_type": "stream",
     "text": [
      " 6560/10586 [=================>............] - ETA: 2:44 - loss: 0.0022 - acc: 1.000 - ETA: 2:40 - loss: 0.0194 - acc: 0.984 - ETA: 2:30 - loss: 0.0158 - acc: 0.989 - ETA: 2:22 - loss: 0.0147 - acc: 0.992 - ETA: 2:20 - loss: 0.0153 - acc: 0.993 - ETA: 2:18 - loss: 0.0134 - acc: 0.994 - ETA: 2:18 - loss: 0.0128 - acc: 0.995 - ETA: 2:16 - loss: 0.0177 - acc: 0.992 - ETA: 2:14 - loss: 0.0176 - acc: 0.993 - ETA: 2:14 - loss: 0.0162 - acc: 0.993 - ETA: 2:14 - loss: 0.0151 - acc: 0.994 - ETA: 2:13 - loss: 0.0142 - acc: 0.994 - ETA: 2:12 - loss: 0.0134 - acc: 0.995 - ETA: 2:11 - loss: 0.0136 - acc: 0.995 - ETA: 2:10 - loss: 0.0135 - acc: 0.995 - ETA: 2:09 - loss: 0.0129 - acc: 0.996 - ETA: 2:08 - loss: 0.0126 - acc: 0.996 - ETA: 2:08 - loss: 0.0120 - acc: 0.996 - ETA: 2:07 - loss: 0.0120 - acc: 0.996 - ETA: 2:07 - loss: 0.0147 - acc: 0.995 - ETA: 2:06 - loss: 0.0141 - acc: 0.995 - ETA: 2:06 - loss: 0.0150 - acc: 0.995 - ETA: 2:05 - loss: 0.0161 - acc: 0.994 - ETA: 2:04 - loss: 0.0161 - acc: 0.994 - ETA: 2:04 - loss: 0.0157 - acc: 0.995 - ETA: 2:03 - loss: 0.0161 - acc: 0.994 - ETA: 2:03 - loss: 0.0160 - acc: 0.994 - ETA: 2:02 - loss: 0.0156 - acc: 0.994 - ETA: 2:02 - loss: 0.0155 - acc: 0.994 - ETA: 2:01 - loss: 0.0150 - acc: 0.994 - ETA: 2:01 - loss: 0.0146 - acc: 0.995 - ETA: 2:00 - loss: 0.0147 - acc: 0.995 - ETA: 2:00 - loss: 0.0145 - acc: 0.995 - ETA: 1:59 - loss: 0.0142 - acc: 0.995 - ETA: 1:59 - loss: 0.0142 - acc: 0.995 - ETA: 1:58 - loss: 0.0139 - acc: 0.995 - ETA: 1:58 - loss: 0.0136 - acc: 0.995 - ETA: 1:58 - loss: 0.0135 - acc: 0.995 - ETA: 1:57 - loss: 0.0149 - acc: 0.995 - ETA: 1:57 - loss: 0.0146 - acc: 0.995 - ETA: 1:56 - loss: 0.0149 - acc: 0.994 - ETA: 1:56 - loss: 0.0146 - acc: 0.994 - ETA: 1:55 - loss: 0.0146 - acc: 0.994 - ETA: 1:55 - loss: 0.0144 - acc: 0.995 - ETA: 1:55 - loss: 0.0143 - acc: 0.995 - ETA: 1:54 - loss: 0.0141 - acc: 0.995 - ETA: 1:54 - loss: 0.0170 - acc: 0.994 - ETA: 1:54 - loss: 0.0172 - acc: 0.994 - ETA: 1:53 - loss: 0.0177 - acc: 0.993 - ETA: 1:53 - loss: 0.0184 - acc: 0.993 - ETA: 1:52 - loss: 0.0182 - acc: 0.993 - ETA: 1:52 - loss: 0.0179 - acc: 0.993 - ETA: 1:51 - loss: 0.0176 - acc: 0.993 - ETA: 1:51 - loss: 0.0172 - acc: 0.993 - ETA: 1:50 - loss: 0.0170 - acc: 0.993 - ETA: 1:50 - loss: 0.0167 - acc: 0.993 - ETA: 1:50 - loss: 0.0176 - acc: 0.993 - ETA: 1:49 - loss: 0.0194 - acc: 0.993 - ETA: 1:49 - loss: 0.0201 - acc: 0.992 - ETA: 1:48 - loss: 0.0198 - acc: 0.992 - ETA: 1:48 - loss: 0.0195 - acc: 0.992 - ETA: 1:47 - loss: 0.0193 - acc: 0.992 - ETA: 1:47 - loss: 0.0191 - acc: 0.993 - ETA: 1:47 - loss: 0.0190 - acc: 0.993 - ETA: 1:46 - loss: 0.0191 - acc: 0.993 - ETA: 1:46 - loss: 0.0191 - acc: 0.993 - ETA: 1:46 - loss: 0.0189 - acc: 0.993 - ETA: 1:45 - loss: 0.0188 - acc: 0.993 - ETA: 1:45 - loss: 0.0185 - acc: 0.993 - ETA: 1:44 - loss: 0.0184 - acc: 0.993 - ETA: 1:44 - loss: 0.0182 - acc: 0.993 - ETA: 1:44 - loss: 0.0183 - acc: 0.993 - ETA: 1:43 - loss: 0.0183 - acc: 0.994 - ETA: 1:43 - loss: 0.0187 - acc: 0.993 - ETA: 1:42 - loss: 0.0185 - acc: 0.993 - ETA: 1:42 - loss: 0.0185 - acc: 0.993 - ETA: 1:42 - loss: 0.0185 - acc: 0.993 - ETA: 1:41 - loss: 0.0183 - acc: 0.994 - ETA: 1:41 - loss: 0.0181 - acc: 0.994 - ETA: 1:41 - loss: 0.0181 - acc: 0.994 - ETA: 1:40 - loss: 0.0179 - acc: 0.994 - ETA: 1:40 - loss: 0.0178 - acc: 0.994 - ETA: 1:39 - loss: 0.0178 - acc: 0.994 - ETA: 1:39 - loss: 0.0177 - acc: 0.994 - ETA: 1:38 - loss: 0.0175 - acc: 0.994 - ETA: 1:38 - loss: 0.0187 - acc: 0.994 - ETA: 1:38 - loss: 0.0187 - acc: 0.994 - ETA: 1:37 - loss: 0.0185 - acc: 0.994 - ETA: 1:37 - loss: 0.0184 - acc: 0.994 - ETA: 1:36 - loss: 0.0189 - acc: 0.994 - ETA: 1:36 - loss: 0.0187 - acc: 0.994 - ETA: 1:35 - loss: 0.0186 - acc: 0.994 - ETA: 1:35 - loss: 0.0185 - acc: 0.994 - ETA: 1:34 - loss: 0.0183 - acc: 0.994 - ETA: 1:34 - loss: 0.0182 - acc: 0.994 - ETA: 1:34 - loss: 0.0181 - acc: 0.994 - ETA: 1:34 - loss: 0.0179 - acc: 0.994 - ETA: 1:33 - loss: 0.0178 - acc: 0.994 - ETA: 1:33 - loss: 0.0185 - acc: 0.994 - ETA: 1:32 - loss: 0.0184 - acc: 0.994 - ETA: 1:32 - loss: 0.0182 - acc: 0.994 - ETA: 1:31 - loss: 0.0183 - acc: 0.994 - ETA: 1:31 - loss: 0.0182 - acc: 0.994 - ETA: 1:31 - loss: 0.0181 - acc: 0.994 - ETA: 1:31 - loss: 0.0181 - acc: 0.994 - ETA: 1:30 - loss: 0.0186 - acc: 0.994 - ETA: 1:30 - loss: 0.0184 - acc: 0.994 - ETA: 1:29 - loss: 0.0185 - acc: 0.994 - ETA: 1:29 - loss: 0.0189 - acc: 0.994 - ETA: 1:29 - loss: 0.0187 - acc: 0.994 - ETA: 1:28 - loss: 0.0186 - acc: 0.994 - ETA: 1:28 - loss: 0.0185 - acc: 0.994 - ETA: 1:27 - loss: 0.0184 - acc: 0.994 - ETA: 1:27 - loss: 0.0182 - acc: 0.994 - ETA: 1:27 - loss: 0.0181 - acc: 0.994 - ETA: 1:26 - loss: 0.0179 - acc: 0.994 - ETA: 1:26 - loss: 0.0178 - acc: 0.994 - ETA: 1:25 - loss: 0.0181 - acc: 0.994 - ETA: 1:25 - loss: 0.0180 - acc: 0.994 - ETA: 1:24 - loss: 0.0178 - acc: 0.994 - ETA: 1:24 - loss: 0.0177 - acc: 0.994 - ETA: 1:24 - loss: 0.0176 - acc: 0.994 - ETA: 1:23 - loss: 0.0177 - acc: 0.994 - ETA: 1:23 - loss: 0.0176 - acc: 0.994 - ETA: 1:22 - loss: 0.0175 - acc: 0.994 - ETA: 1:22 - loss: 0.0174 - acc: 0.994 - ETA: 1:22 - loss: 0.0172 - acc: 0.994 - ETA: 1:21 - loss: 0.0172 - acc: 0.994 - ETA: 1:21 - loss: 0.0172 - acc: 0.994 - ETA: 1:20 - loss: 0.0171 - acc: 0.994 - ETA: 1:20 - loss: 0.0173 - acc: 0.994 - ETA: 1:20 - loss: 0.0172 - acc: 0.994 - ETA: 1:19 - loss: 0.0171 - acc: 0.994 - ETA: 1:19 - loss: 0.0170 - acc: 0.994 - ETA: 1:18 - loss: 0.0169 - acc: 0.994 - ETA: 1:18 - loss: 0.0169 - acc: 0.994 - ETA: 1:17 - loss: 0.0167 - acc: 0.994 - ETA: 1:17 - loss: 0.0166 - acc: 0.994 - ETA: 1:17 - loss: 0.0165 - acc: 0.994 - ETA: 1:16 - loss: 0.0164 - acc: 0.994 - ETA: 1:16 - loss: 0.0163 - acc: 0.994 - ETA: 1:15 - loss: 0.0162 - acc: 0.994 - ETA: 1:15 - loss: 0.0163 - acc: 0.994 - ETA: 1:15 - loss: 0.0164 - acc: 0.994 - ETA: 1:14 - loss: 0.0166 - acc: 0.994 - ETA: 1:14 - loss: 0.0165 - acc: 0.994 - ETA: 1:13 - loss: 0.0164 - acc: 0.994 - ETA: 1:13 - loss: 0.0163 - acc: 0.994 - ETA: 1:13 - loss: 0.0162 - acc: 0.994 - ETA: 1:12 - loss: 0.0161 - acc: 0.994 - ETA: 1:12 - loss: 0.0161 - acc: 0.994 - ETA: 1:12 - loss: 0.0160 - acc: 0.994 - ETA: 1:11 - loss: 0.0161 - acc: 0.994 - ETA: 1:11 - loss: 0.0161 - acc: 0.994 - ETA: 1:11 - loss: 0.0160 - acc: 0.994 - ETA: 1:10 - loss: 0.0161 - acc: 0.994 - ETA: 1:10 - loss: 0.0161 - acc: 0.994 - ETA: 1:10 - loss: 0.0167 - acc: 0.994 - ETA: 1:09 - loss: 0.0166 - acc: 0.994 - ETA: 1:09 - loss: 0.0167 - acc: 0.994 - ETA: 1:09 - loss: 0.0167 - acc: 0.994 - ETA: 1:08 - loss: 0.0166 - acc: 0.994 - ETA: 1:08 - loss: 0.0166 - acc: 0.994 - ETA: 1:07 - loss: 0.0165 - acc: 0.994 - ETA: 1:07 - loss: 0.0169 - acc: 0.994 - ETA: 1:07 - loss: 0.0173 - acc: 0.994 - ETA: 1:06 - loss: 0.0172 - acc: 0.994 - ETA: 1:06 - loss: 0.0171 - acc: 0.994 - ETA: 1:05 - loss: 0.0170 - acc: 0.994 - ETA: 1:05 - loss: 0.0169 - acc: 0.994 - ETA: 1:04 - loss: 0.0169 - acc: 0.994 - ETA: 1:04 - loss: 0.0168 - acc: 0.994 - ETA: 1:04 - loss: 0.0167 - acc: 0.994 - ETA: 1:03 - loss: 0.0167 - acc: 0.994 - ETA: 1:03 - loss: 0.0166 - acc: 0.994 - ETA: 1:02 - loss: 0.0166 - acc: 0.994 - ETA: 1:02 - loss: 0.0165 - acc: 0.994 - ETA: 1:02 - loss: 0.0164 - acc: 0.994 - ETA: 1:01 - loss: 0.0164 - acc: 0.994 - ETA: 1:01 - loss: 0.0163 - acc: 0.994 - ETA: 1:00 - loss: 0.0162 - acc: 0.994 - ETA: 1:00 - loss: 0.0161 - acc: 0.994 - ETA: 59s - loss: 0.0160 - acc: 0.994 - ETA: 59s - loss: 0.0160 - acc: 0.99 - ETA: 59s - loss: 0.0159 - acc: 0.99 - ETA: 58s - loss: 0.0159 - acc: 0.99 - ETA: 58s - loss: 0.0161 - acc: 0.99 - ETA: 57s - loss: 0.0164 - acc: 0.99 - ETA: 57s - loss: 0.0163 - acc: 0.99 - ETA: 57s - loss: 0.0162 - acc: 0.99 - ETA: 56s - loss: 0.0162 - acc: 0.99 - ETA: 56s - loss: 0.0161 - acc: 0.99 - ETA: 55s - loss: 0.0161 - acc: 0.99 - ETA: 55s - loss: 0.0160 - acc: 0.99 - ETA: 55s - loss: 0.0159 - acc: 0.99 - ETA: 54s - loss: 0.0159 - acc: 0.99 - ETA: 54s - loss: 0.0159 - acc: 0.99 - ETA: 53s - loss: 0.0159 - acc: 0.99 - ETA: 53s - loss: 0.0163 - acc: 0.99 - ETA: 53s - loss: 0.0162 - acc: 0.99 - ETA: 52s - loss: 0.0163 - acc: 0.99 - ETA: 52s - loss: 0.0163 - acc: 0.99 - ETA: 51s - loss: 0.0162 - acc: 0.99 - ETA: 51s - loss: 0.0162 - acc: 0.99 - ETA: 50s - loss: 0.0161 - acc: 0.9947"
     ]
    },
    {
     "name": "stdout",
     "output_type": "stream",
     "text": [
      "10586/10586 [==============================] - ETA: 50s - loss: 0.0160 - acc: 0.99 - ETA: 50s - loss: 0.0160 - acc: 0.99 - ETA: 49s - loss: 0.0159 - acc: 0.99 - ETA: 49s - loss: 0.0159 - acc: 0.99 - ETA: 48s - loss: 0.0158 - acc: 0.99 - ETA: 48s - loss: 0.0157 - acc: 0.99 - ETA: 48s - loss: 0.0157 - acc: 0.99 - ETA: 47s - loss: 0.0156 - acc: 0.99 - ETA: 47s - loss: 0.0156 - acc: 0.99 - ETA: 46s - loss: 0.0156 - acc: 0.99 - ETA: 46s - loss: 0.0156 - acc: 0.99 - ETA: 46s - loss: 0.0157 - acc: 0.99 - ETA: 45s - loss: 0.0158 - acc: 0.99 - ETA: 45s - loss: 0.0158 - acc: 0.99 - ETA: 44s - loss: 0.0157 - acc: 0.99 - ETA: 44s - loss: 0.0157 - acc: 0.99 - ETA: 44s - loss: 0.0156 - acc: 0.99 - ETA: 43s - loss: 0.0156 - acc: 0.99 - ETA: 43s - loss: 0.0156 - acc: 0.99 - ETA: 42s - loss: 0.0161 - acc: 0.99 - ETA: 42s - loss: 0.0161 - acc: 0.99 - ETA: 41s - loss: 0.0161 - acc: 0.99 - ETA: 41s - loss: 0.0161 - acc: 0.99 - ETA: 41s - loss: 0.0163 - acc: 0.99 - ETA: 40s - loss: 0.0163 - acc: 0.99 - ETA: 40s - loss: 0.0162 - acc: 0.99 - ETA: 39s - loss: 0.0166 - acc: 0.99 - ETA: 39s - loss: 0.0165 - acc: 0.99 - ETA: 39s - loss: 0.0164 - acc: 0.99 - ETA: 38s - loss: 0.0164 - acc: 0.99 - ETA: 38s - loss: 0.0163 - acc: 0.99 - ETA: 37s - loss: 0.0162 - acc: 0.99 - ETA: 37s - loss: 0.0162 - acc: 0.99 - ETA: 37s - loss: 0.0162 - acc: 0.99 - ETA: 36s - loss: 0.0161 - acc: 0.99 - ETA: 36s - loss: 0.0161 - acc: 0.99 - ETA: 35s - loss: 0.0168 - acc: 0.99 - ETA: 35s - loss: 0.0170 - acc: 0.99 - ETA: 35s - loss: 0.0171 - acc: 0.99 - ETA: 34s - loss: 0.0174 - acc: 0.99 - ETA: 34s - loss: 0.0175 - acc: 0.99 - ETA: 33s - loss: 0.0175 - acc: 0.99 - ETA: 33s - loss: 0.0175 - acc: 0.99 - ETA: 33s - loss: 0.0179 - acc: 0.99 - ETA: 32s - loss: 0.0178 - acc: 0.99 - ETA: 32s - loss: 0.0178 - acc: 0.99 - ETA: 31s - loss: 0.0177 - acc: 0.99 - ETA: 31s - loss: 0.0177 - acc: 0.99 - ETA: 31s - loss: 0.0176 - acc: 0.99 - ETA: 30s - loss: 0.0176 - acc: 0.99 - ETA: 30s - loss: 0.0176 - acc: 0.99 - ETA: 29s - loss: 0.0175 - acc: 0.99 - ETA: 29s - loss: 0.0175 - acc: 0.99 - ETA: 29s - loss: 0.0175 - acc: 0.99 - ETA: 28s - loss: 0.0174 - acc: 0.99 - ETA: 28s - loss: 0.0181 - acc: 0.99 - ETA: 27s - loss: 0.0181 - acc: 0.99 - ETA: 27s - loss: 0.0180 - acc: 0.99 - ETA: 26s - loss: 0.0180 - acc: 0.99 - ETA: 26s - loss: 0.0179 - acc: 0.99 - ETA: 26s - loss: 0.0179 - acc: 0.99 - ETA: 25s - loss: 0.0178 - acc: 0.99 - ETA: 25s - loss: 0.0178 - acc: 0.99 - ETA: 24s - loss: 0.0177 - acc: 0.99 - ETA: 24s - loss: 0.0176 - acc: 0.99 - ETA: 24s - loss: 0.0176 - acc: 0.99 - ETA: 23s - loss: 0.0175 - acc: 0.99 - ETA: 23s - loss: 0.0176 - acc: 0.99 - ETA: 22s - loss: 0.0181 - acc: 0.99 - ETA: 22s - loss: 0.0181 - acc: 0.99 - ETA: 22s - loss: 0.0180 - acc: 0.99 - ETA: 21s - loss: 0.0181 - acc: 0.99 - ETA: 21s - loss: 0.0181 - acc: 0.99 - ETA: 20s - loss: 0.0186 - acc: 0.99 - ETA: 20s - loss: 0.0186 - acc: 0.99 - ETA: 20s - loss: 0.0185 - acc: 0.99 - ETA: 19s - loss: 0.0185 - acc: 0.99 - ETA: 19s - loss: 0.0185 - acc: 0.99 - ETA: 18s - loss: 0.0184 - acc: 0.99 - ETA: 18s - loss: 0.0184 - acc: 0.99 - ETA: 18s - loss: 0.0184 - acc: 0.99 - ETA: 17s - loss: 0.0184 - acc: 0.99 - ETA: 17s - loss: 0.0184 - acc: 0.99 - ETA: 16s - loss: 0.0184 - acc: 0.99 - ETA: 16s - loss: 0.0184 - acc: 0.99 - ETA: 16s - loss: 0.0183 - acc: 0.99 - ETA: 15s - loss: 0.0183 - acc: 0.99 - ETA: 15s - loss: 0.0183 - acc: 0.99 - ETA: 14s - loss: 0.0182 - acc: 0.99 - ETA: 14s - loss: 0.0183 - acc: 0.99 - ETA: 14s - loss: 0.0183 - acc: 0.99 - ETA: 13s - loss: 0.0182 - acc: 0.99 - ETA: 13s - loss: 0.0186 - acc: 0.99 - ETA: 12s - loss: 0.0185 - acc: 0.99 - ETA: 12s - loss: 0.0189 - acc: 0.99 - ETA: 12s - loss: 0.0189 - acc: 0.99 - ETA: 11s - loss: 0.0188 - acc: 0.99 - ETA: 11s - loss: 0.0188 - acc: 0.99 - ETA: 10s - loss: 0.0188 - acc: 0.99 - ETA: 10s - loss: 0.0189 - acc: 0.99 - ETA: 9s - loss: 0.0188 - acc: 0.9942 - ETA: 9s - loss: 0.0188 - acc: 0.994 - ETA: 9s - loss: 0.0187 - acc: 0.994 - ETA: 8s - loss: 0.0192 - acc: 0.994 - ETA: 8s - loss: 0.0192 - acc: 0.994 - ETA: 7s - loss: 0.0192 - acc: 0.994 - ETA: 7s - loss: 0.0191 - acc: 0.994 - ETA: 7s - loss: 0.0191 - acc: 0.994 - ETA: 6s - loss: 0.0191 - acc: 0.994 - ETA: 6s - loss: 0.0192 - acc: 0.994 - ETA: 5s - loss: 0.0192 - acc: 0.994 - ETA: 5s - loss: 0.0191 - acc: 0.994 - ETA: 5s - loss: 0.0192 - acc: 0.994 - ETA: 4s - loss: 0.0192 - acc: 0.994 - ETA: 4s - loss: 0.0191 - acc: 0.994 - ETA: 3s - loss: 0.0191 - acc: 0.994 - ETA: 3s - loss: 0.0198 - acc: 0.994 - ETA: 3s - loss: 0.0198 - acc: 0.994 - ETA: 2s - loss: 0.0197 - acc: 0.994 - ETA: 2s - loss: 0.0197 - acc: 0.994 - ETA: 1s - loss: 0.0196 - acc: 0.994 - ETA: 1s - loss: 0.0197 - acc: 0.994 - ETA: 1s - loss: 0.0196 - acc: 0.994 - ETA: 0s - loss: 0.0196 - acc: 0.994 - ETA: 0s - loss: 0.0196 - acc: 0.994 - 145s 14ms/step - loss: 0.0195 - acc: 0.9942 - val_loss: 1.2726 - val_acc: 0.7412\n",
      "Epoch 9/10\n",
      " 6336/10586 [================>.............] - ETA: 2:41 - loss: 0.0065 - acc: 1.000 - ETA: 2:33 - loss: 0.0039 - acc: 1.000 - ETA: 2:24 - loss: 0.0034 - acc: 1.000 - ETA: 2:20 - loss: 0.0029 - acc: 1.000 - ETA: 2:16 - loss: 0.0035 - acc: 1.000 - ETA: 2:15 - loss: 0.0042 - acc: 1.000 - ETA: 2:13 - loss: 0.0037 - acc: 1.000 - ETA: 2:12 - loss: 0.0034 - acc: 1.000 - ETA: 2:10 - loss: 0.0106 - acc: 0.996 - ETA: 2:10 - loss: 0.0098 - acc: 0.996 - ETA: 2:08 - loss: 0.0094 - acc: 0.997 - ETA: 2:08 - loss: 0.0099 - acc: 0.997 - ETA: 2:07 - loss: 0.0094 - acc: 0.997 - ETA: 2:06 - loss: 0.0105 - acc: 0.995 - ETA: 2:06 - loss: 0.0099 - acc: 0.995 - ETA: 2:06 - loss: 0.0097 - acc: 0.996 - ETA: 2:05 - loss: 0.0105 - acc: 0.994 - ETA: 2:04 - loss: 0.0103 - acc: 0.994 - ETA: 2:03 - loss: 0.0132 - acc: 0.993 - ETA: 2:02 - loss: 0.0137 - acc: 0.993 - ETA: 2:01 - loss: 0.0132 - acc: 0.994 - ETA: 2:02 - loss: 0.0139 - acc: 0.992 - ETA: 2:01 - loss: 0.0135 - acc: 0.993 - ETA: 2:01 - loss: 0.0131 - acc: 0.993 - ETA: 2:01 - loss: 0.0126 - acc: 0.993 - ETA: 2:00 - loss: 0.0127 - acc: 0.994 - ETA: 2:00 - loss: 0.0123 - acc: 0.994 - ETA: 2:00 - loss: 0.0122 - acc: 0.994 - ETA: 1:59 - loss: 0.0120 - acc: 0.994 - ETA: 1:59 - loss: 0.0117 - acc: 0.994 - ETA: 1:59 - loss: 0.0114 - acc: 0.995 - ETA: 1:58 - loss: 0.0112 - acc: 0.995 - ETA: 1:57 - loss: 0.0123 - acc: 0.994 - ETA: 1:57 - loss: 0.0122 - acc: 0.994 - ETA: 1:56 - loss: 0.0119 - acc: 0.994 - ETA: 1:56 - loss: 0.0116 - acc: 0.994 - ETA: 1:55 - loss: 0.0114 - acc: 0.994 - ETA: 1:55 - loss: 0.0111 - acc: 0.995 - ETA: 1:55 - loss: 0.0109 - acc: 0.995 - ETA: 1:54 - loss: 0.0107 - acc: 0.995 - ETA: 1:54 - loss: 0.0105 - acc: 0.995 - ETA: 1:53 - loss: 0.0103 - acc: 0.995 - ETA: 1:53 - loss: 0.0101 - acc: 0.995 - ETA: 1:53 - loss: 0.0099 - acc: 0.995 - ETA: 1:53 - loss: 0.0098 - acc: 0.995 - ETA: 1:52 - loss: 0.0096 - acc: 0.995 - ETA: 1:52 - loss: 0.0096 - acc: 0.996 - ETA: 1:52 - loss: 0.0095 - acc: 0.996 - ETA: 1:51 - loss: 0.0096 - acc: 0.996 - ETA: 1:51 - loss: 0.0095 - acc: 0.996 - ETA: 1:51 - loss: 0.0094 - acc: 0.996 - ETA: 1:51 - loss: 0.0093 - acc: 0.996 - ETA: 1:50 - loss: 0.0091 - acc: 0.996 - ETA: 1:50 - loss: 0.0124 - acc: 0.995 - ETA: 1:49 - loss: 0.0122 - acc: 0.995 - ETA: 1:49 - loss: 0.0121 - acc: 0.995 - ETA: 1:48 - loss: 0.0119 - acc: 0.995 - ETA: 1:48 - loss: 0.0126 - acc: 0.995 - ETA: 1:47 - loss: 0.0135 - acc: 0.994 - ETA: 1:47 - loss: 0.0137 - acc: 0.994 - ETA: 1:47 - loss: 0.0137 - acc: 0.994 - ETA: 1:46 - loss: 0.0135 - acc: 0.995 - ETA: 1:46 - loss: 0.0140 - acc: 0.994 - ETA: 1:45 - loss: 0.0138 - acc: 0.994 - ETA: 1:45 - loss: 0.0136 - acc: 0.994 - ETA: 1:44 - loss: 0.0135 - acc: 0.994 - ETA: 1:43 - loss: 0.0133 - acc: 0.994 - ETA: 1:42 - loss: 0.0135 - acc: 0.994 - ETA: 1:41 - loss: 0.0133 - acc: 0.994 - ETA: 1:41 - loss: 0.0132 - acc: 0.994 - ETA: 8:25:11 - loss: 0.0131 - acc: 0.99 - ETA: 8:16:16 - loss: 0.0130 - acc: 0.99 - ETA: 8:07:35 - loss: 0.0128 - acc: 0.99 - ETA: 7:59:09 - loss: 0.0127 - acc: 0.99 - ETA: 7:50:57 - loss: 0.0126 - acc: 0.99 - ETA: 7:42:57 - loss: 0.0127 - acc: 0.99 - ETA: 7:35:11 - loss: 0.0127 - acc: 0.99 - ETA: 7:27:36 - loss: 0.0136 - acc: 0.99 - ETA: 7:20:12 - loss: 0.0134 - acc: 0.99 - ETA: 7:12:59 - loss: 0.0139 - acc: 0.99 - ETA: 7:05:57 - loss: 0.0138 - acc: 0.99 - ETA: 6:59:05 - loss: 0.0137 - acc: 0.99 - ETA: 6:52:23 - loss: 0.0142 - acc: 0.99 - ETA: 6:45:51 - loss: 0.0141 - acc: 0.99 - ETA: 6:39:27 - loss: 0.0139 - acc: 0.99 - ETA: 6:33:13 - loss: 0.0138 - acc: 0.99 - ETA: 6:27:07 - loss: 0.0137 - acc: 0.99 - ETA: 6:21:10 - loss: 0.0135 - acc: 0.99 - ETA: 6:15:20 - loss: 0.0134 - acc: 0.99 - ETA: 6:09:39 - loss: 0.0133 - acc: 0.99 - ETA: 6:04:05 - loss: 0.0132 - acc: 0.99 - ETA: 5:58:38 - loss: 0.0131 - acc: 0.99 - ETA: 5:53:18 - loss: 0.0136 - acc: 0.99 - ETA: 5:48:05 - loss: 0.0137 - acc: 0.99 - ETA: 5:42:59 - loss: 0.0135 - acc: 0.99 - ETA: 5:37:58 - loss: 0.0134 - acc: 0.99 - ETA: 5:33:04 - loss: 0.0134 - acc: 0.99 - ETA: 5:28:17 - loss: 0.0132 - acc: 0.99 - ETA: 5:23:34 - loss: 0.0132 - acc: 0.99 - ETA: 5:18:58 - loss: 0.0132 - acc: 0.99 - ETA: 5:14:27 - loss: 0.0131 - acc: 0.99 - ETA: 5:10:01 - loss: 0.0130 - acc: 0.99 - ETA: 5:05:41 - loss: 0.0129 - acc: 0.99 - ETA: 5:01:25 - loss: 0.0128 - acc: 0.99 - ETA: 4:57:14 - loss: 0.0130 - acc: 0.99 - ETA: 4:53:08 - loss: 0.0129 - acc: 0.99 - ETA: 4:49:07 - loss: 0.0136 - acc: 0.99 - ETA: 4:45:10 - loss: 0.0135 - acc: 0.99 - ETA: 4:41:18 - loss: 0.0134 - acc: 0.99 - ETA: 4:37:29 - loss: 0.0141 - acc: 0.99 - ETA: 4:33:45 - loss: 0.0141 - acc: 0.99 - ETA: 4:30:05 - loss: 0.0140 - acc: 0.99 - ETA: 4:26:28 - loss: 0.0141 - acc: 0.99 - ETA: 4:22:56 - loss: 0.0140 - acc: 0.99 - ETA: 4:19:27 - loss: 0.0139 - acc: 0.99 - ETA: 4:16:02 - loss: 0.0138 - acc: 0.99 - ETA: 4:12:40 - loss: 0.0147 - acc: 0.99 - ETA: 4:09:22 - loss: 0.0148 - acc: 0.99 - ETA: 4:06:07 - loss: 0.0149 - acc: 0.99 - ETA: 4:02:55 - loss: 0.0147 - acc: 0.99 - ETA: 3:59:46 - loss: 0.0146 - acc: 0.99 - ETA: 3:56:41 - loss: 0.0145 - acc: 0.99 - ETA: 3:53:38 - loss: 0.0144 - acc: 0.99 - ETA: 3:50:39 - loss: 0.0143 - acc: 0.99 - ETA: 3:47:42 - loss: 0.0147 - acc: 0.99 - ETA: 3:44:48 - loss: 0.0146 - acc: 0.99 - ETA: 3:41:57 - loss: 0.0145 - acc: 0.99 - ETA: 3:39:08 - loss: 0.0148 - acc: 0.99 - ETA: 3:36:23 - loss: 0.0149 - acc: 0.99 - ETA: 3:33:39 - loss: 0.0149 - acc: 0.99 - ETA: 3:30:58 - loss: 0.0148 - acc: 0.99 - ETA: 3:28:20 - loss: 0.0147 - acc: 0.99 - ETA: 3:25:44 - loss: 0.0146 - acc: 0.99 - ETA: 3:23:10 - loss: 0.0145 - acc: 0.99 - ETA: 3:20:39 - loss: 0.0145 - acc: 0.99 - ETA: 3:18:10 - loss: 0.0144 - acc: 0.99 - ETA: 3:15:43 - loss: 0.0143 - acc: 0.99 - ETA: 3:13:18 - loss: 0.0142 - acc: 0.99 - ETA: 3:10:55 - loss: 0.0141 - acc: 0.99 - ETA: 3:08:35 - loss: 0.0142 - acc: 0.99 - ETA: 3:06:16 - loss: 0.0141 - acc: 0.99 - ETA: 3:03:59 - loss: 0.0142 - acc: 0.99 - ETA: 3:01:44 - loss: 0.0141 - acc: 0.99 - ETA: 2:59:31 - loss: 0.0141 - acc: 0.99 - ETA: 2:57:20 - loss: 0.0142 - acc: 0.99 - ETA: 2:55:11 - loss: 0.0141 - acc: 0.99 - ETA: 2:53:03 - loss: 0.0145 - acc: 0.99 - ETA: 2:50:57 - loss: 0.0145 - acc: 0.99 - ETA: 2:48:53 - loss: 0.0144 - acc: 0.99 - ETA: 2:46:50 - loss: 0.0145 - acc: 0.99 - ETA: 2:44:49 - loss: 0.0150 - acc: 0.99 - ETA: 2:42:50 - loss: 0.0150 - acc: 0.99 - ETA: 2:40:52 - loss: 0.0149 - acc: 0.99 - ETA: 2:38:55 - loss: 0.0149 - acc: 0.99 - ETA: 2:37:01 - loss: 0.0150 - acc: 0.99 - ETA: 2:35:07 - loss: 0.0149 - acc: 0.99 - ETA: 2:33:15 - loss: 0.0149 - acc: 0.99 - ETA: 2:31:25 - loss: 0.0148 - acc: 0.99 - ETA: 2:29:36 - loss: 0.0147 - acc: 0.99 - ETA: 2:27:48 - loss: 0.0146 - acc: 0.99 - ETA: 2:26:01 - loss: 0.0146 - acc: 0.99 - ETA: 2:24:16 - loss: 0.0145 - acc: 0.99 - ETA: 2:22:32 - loss: 0.0145 - acc: 0.99 - ETA: 2:20:50 - loss: 0.0149 - acc: 0.99 - ETA: 2:19:09 - loss: 0.0152 - acc: 0.99 - ETA: 2:17:28 - loss: 0.0151 - acc: 0.99 - ETA: 2:15:49 - loss: 0.0150 - acc: 0.99 - ETA: 2:14:12 - loss: 0.0150 - acc: 0.99 - ETA: 2:12:35 - loss: 0.0151 - acc: 0.99 - ETA: 2:11:00 - loss: 0.0150 - acc: 0.99 - ETA: 2:09:25 - loss: 0.0149 - acc: 0.99 - ETA: 2:07:52 - loss: 0.0149 - acc: 0.99 - ETA: 2:06:20 - loss: 0.0150 - acc: 0.99 - ETA: 2:04:49 - loss: 0.0150 - acc: 0.99 - ETA: 2:03:19 - loss: 0.0149 - acc: 0.99 - ETA: 2:01:50 - loss: 0.0149 - acc: 0.99 - ETA: 2:00:22 - loss: 0.0149 - acc: 0.99 - ETA: 1:58:55 - loss: 0.0149 - acc: 0.99 - ETA: 1:57:29 - loss: 0.0148 - acc: 0.99 - ETA: 1:56:03 - loss: 0.0147 - acc: 0.99 - ETA: 1:54:39 - loss: 0.0146 - acc: 0.99 - ETA: 1:53:16 - loss: 0.0146 - acc: 0.99 - ETA: 1:51:54 - loss: 0.0147 - acc: 0.99 - ETA: 1:50:32 - loss: 0.0148 - acc: 0.99 - ETA: 1:49:12 - loss: 0.0148 - acc: 0.99 - ETA: 1:47:52 - loss: 0.0148 - acc: 0.99 - ETA: 1:46:33 - loss: 0.0148 - acc: 0.99 - ETA: 1:45:15 - loss: 0.0147 - acc: 0.99 - ETA: 1:43:58 - loss: 0.0148 - acc: 0.99 - ETA: 1:42:41 - loss: 0.0148 - acc: 0.99 - ETA: 1:41:26 - loss: 0.0147 - acc: 0.99 - ETA: 1:40:11 - loss: 0.0146 - acc: 0.99 - ETA: 1:38:57 - loss: 0.0149 - acc: 0.99 - ETA: 1:37:44 - loss: 0.0148 - acc: 0.99 - ETA: 1:36:31 - loss: 0.0148 - acc: 0.99 - ETA: 1:35:19 - loss: 0.0147 - acc: 0.99 - ETA: 1:34:08 - loss: 0.0147 - acc: 0.99 - ETA: 1:32:58 - loss: 0.0146 - acc: 0.994310586/10586 [==============================] - ETA: 1:31:48 - loss: 0.0145 - acc: 0.99 - ETA: 1:30:39 - loss: 0.0146 - acc: 0.99 - ETA: 1:29:31 - loss: 0.0150 - acc: 0.99 - ETA: 1:28:23 - loss: 0.0150 - acc: 0.99 - ETA: 1:27:16 - loss: 0.0150 - acc: 0.99 - ETA: 1:26:10 - loss: 0.0149 - acc: 0.99 - ETA: 1:25:04 - loss: 0.0148 - acc: 0.99 - ETA: 1:23:59 - loss: 0.0152 - acc: 0.99 - ETA: 1:22:55 - loss: 0.0153 - acc: 0.99 - ETA: 1:21:51 - loss: 0.0153 - acc: 0.99 - ETA: 1:20:48 - loss: 0.0153 - acc: 0.99 - ETA: 1:19:46 - loss: 0.0152 - acc: 0.99 - ETA: 1:18:44 - loss: 0.0151 - acc: 0.99 - ETA: 1:17:42 - loss: 0.0151 - acc: 0.99 - ETA: 1:16:42 - loss: 0.0151 - acc: 0.99 - ETA: 1:15:41 - loss: 0.0153 - acc: 0.99 - ETA: 1:14:42 - loss: 0.0152 - acc: 0.99 - ETA: 1:13:43 - loss: 0.0152 - acc: 0.99 - ETA: 1:12:44 - loss: 0.0154 - acc: 0.99 - ETA: 1:11:46 - loss: 0.0154 - acc: 0.99 - ETA: 1:10:48 - loss: 0.0153 - acc: 0.99 - ETA: 1:09:51 - loss: 0.0153 - acc: 0.99 - ETA: 1:08:55 - loss: 0.0153 - acc: 0.99 - ETA: 1:07:59 - loss: 0.0152 - acc: 0.99 - ETA: 1:07:04 - loss: 0.0153 - acc: 0.99 - ETA: 1:06:09 - loss: 0.0152 - acc: 0.99 - ETA: 1:05:14 - loss: 0.0152 - acc: 0.99 - ETA: 1:04:20 - loss: 0.0151 - acc: 0.99 - ETA: 1:03:26 - loss: 0.0151 - acc: 0.99 - ETA: 1:02:33 - loss: 0.0151 - acc: 0.99 - ETA: 1:01:41 - loss: 0.0151 - acc: 0.99 - ETA: 1:00:49 - loss: 0.0150 - acc: 0.99 - ETA: 59:57 - loss: 0.0154 - acc: 0.9938 - ETA: 59:06 - loss: 0.0154 - acc: 0.99 - ETA: 58:15 - loss: 0.0153 - acc: 0.99 - ETA: 57:24 - loss: 0.0153 - acc: 0.99 - ETA: 56:34 - loss: 0.0152 - acc: 0.99 - ETA: 55:45 - loss: 0.0152 - acc: 0.99 - ETA: 54:56 - loss: 0.0152 - acc: 0.99 - ETA: 54:07 - loss: 0.0151 - acc: 0.99 - ETA: 53:19 - loss: 0.0151 - acc: 0.99 - ETA: 52:31 - loss: 0.0150 - acc: 0.99 - ETA: 51:43 - loss: 0.0150 - acc: 0.99 - ETA: 50:56 - loss: 0.0149 - acc: 0.99 - ETA: 50:09 - loss: 0.0149 - acc: 0.99 - ETA: 49:23 - loss: 0.0152 - acc: 0.99 - ETA: 48:37 - loss: 0.0152 - acc: 0.99 - ETA: 47:51 - loss: 0.0151 - acc: 0.99 - ETA: 47:06 - loss: 0.0151 - acc: 0.99 - ETA: 46:21 - loss: 0.0151 - acc: 0.99 - ETA: 45:37 - loss: 0.0150 - acc: 0.99 - ETA: 44:53 - loss: 0.0150 - acc: 0.99 - ETA: 44:09 - loss: 0.0149 - acc: 0.99 - ETA: 43:25 - loss: 0.0149 - acc: 0.99 - ETA: 42:42 - loss: 0.0153 - acc: 0.99 - ETA: 41:59 - loss: 0.0152 - acc: 0.99 - ETA: 41:17 - loss: 0.0152 - acc: 0.99 - ETA: 40:35 - loss: 0.0152 - acc: 0.99 - ETA: 39:53 - loss: 0.0152 - acc: 0.99 - ETA: 39:11 - loss: 0.0151 - acc: 0.99 - ETA: 38:30 - loss: 0.0155 - acc: 0.99 - ETA: 37:49 - loss: 0.0154 - acc: 0.99 - ETA: 37:09 - loss: 0.0154 - acc: 0.99 - ETA: 36:29 - loss: 0.0154 - acc: 0.99 - ETA: 35:49 - loss: 0.0153 - acc: 0.99 - ETA: 35:09 - loss: 0.0153 - acc: 0.99 - ETA: 34:30 - loss: 0.0154 - acc: 0.99 - ETA: 33:51 - loss: 0.0154 - acc: 0.99 - ETA: 33:12 - loss: 0.0153 - acc: 0.99 - ETA: 32:33 - loss: 0.0157 - acc: 0.99 - ETA: 31:55 - loss: 0.0157 - acc: 0.99 - ETA: 31:17 - loss: 0.0156 - acc: 0.99 - ETA: 30:39 - loss: 0.0156 - acc: 0.99 - ETA: 30:02 - loss: 0.0155 - acc: 0.99 - ETA: 29:25 - loss: 0.0155 - acc: 0.99 - ETA: 28:48 - loss: 0.0155 - acc: 0.99 - ETA: 28:12 - loss: 0.0154 - acc: 0.99 - ETA: 27:35 - loss: 0.0154 - acc: 0.99 - ETA: 26:59 - loss: 0.0154 - acc: 0.99 - ETA: 26:24 - loss: 0.0155 - acc: 0.99 - ETA: 25:48 - loss: 0.0155 - acc: 0.99 - ETA: 25:13 - loss: 0.0155 - acc: 0.99 - ETA: 24:38 - loss: 0.0154 - acc: 0.99 - ETA: 24:03 - loss: 0.0154 - acc: 0.99 - ETA: 23:28 - loss: 0.0154 - acc: 0.99 - ETA: 22:54 - loss: 0.0155 - acc: 0.99 - ETA: 22:20 - loss: 0.0155 - acc: 0.99 - ETA: 21:46 - loss: 0.0154 - acc: 0.99 - ETA: 21:13 - loss: 0.0154 - acc: 0.99 - ETA: 20:39 - loss: 0.0153 - acc: 0.99 - ETA: 20:06 - loss: 0.0153 - acc: 0.99 - ETA: 19:33 - loss: 0.0153 - acc: 0.99 - ETA: 19:01 - loss: 0.0152 - acc: 0.99 - ETA: 18:28 - loss: 0.0152 - acc: 0.99 - ETA: 17:56 - loss: 0.0151 - acc: 0.99 - ETA: 17:24 - loss: 0.0151 - acc: 0.99 - ETA: 16:52 - loss: 0.0156 - acc: 0.99 - ETA: 16:21 - loss: 0.0156 - acc: 0.99 - ETA: 15:49 - loss: 0.0155 - acc: 0.99 - ETA: 15:18 - loss: 0.0155 - acc: 0.99 - ETA: 14:47 - loss: 0.0155 - acc: 0.99 - ETA: 14:16 - loss: 0.0154 - acc: 0.99 - ETA: 13:46 - loss: 0.0154 - acc: 0.99 - ETA: 13:16 - loss: 0.0153 - acc: 0.99 - ETA: 12:45 - loss: 0.0156 - acc: 0.99 - ETA: 12:15 - loss: 0.0155 - acc: 0.99 - ETA: 11:46 - loss: 0.0155 - acc: 0.99 - ETA: 11:16 - loss: 0.0155 - acc: 0.99 - ETA: 10:47 - loss: 0.0157 - acc: 0.99 - ETA: 10:18 - loss: 0.0159 - acc: 0.99 - ETA: 9:49 - loss: 0.0158 - acc: 0.9940 - ETA: 9:20 - loss: 0.0158 - acc: 0.994 - ETA: 8:51 - loss: 0.0157 - acc: 0.994 - ETA: 8:23 - loss: 0.0157 - acc: 0.994 - ETA: 7:54 - loss: 0.0157 - acc: 0.994 - ETA: 7:26 - loss: 0.0156 - acc: 0.994 - ETA: 6:59 - loss: 0.0156 - acc: 0.994 - ETA: 6:31 - loss: 0.0155 - acc: 0.994 - ETA: 6:03 - loss: 0.0156 - acc: 0.994 - ETA: 5:36 - loss: 0.0155 - acc: 0.994 - ETA: 5:09 - loss: 0.0155 - acc: 0.994 - ETA: 4:42 - loss: 0.0158 - acc: 0.994 - ETA: 4:15 - loss: 0.0158 - acc: 0.994 - ETA: 3:48 - loss: 0.0160 - acc: 0.994 - ETA: 3:21 - loss: 0.0160 - acc: 0.994 - ETA: 2:55 - loss: 0.0160 - acc: 0.994 - ETA: 2:29 - loss: 0.0159 - acc: 0.994 - ETA: 2:03 - loss: 0.0160 - acc: 0.994 - ETA: 1:37 - loss: 0.0160 - acc: 0.994 - ETA: 1:11 - loss: 0.0159 - acc: 0.994 - ETA: 46s - loss: 0.0160 - acc: 0.993 - ETA: 20s - loss: 0.0160 - acc: 0.99 - 8356s 789ms/step - loss: 0.0162 - acc: 0.9939 - val_loss: 1.3671 - val_acc: 0.7457\n",
      "Epoch 10/10\n"
     ]
    },
    {
     "name": "stdout",
     "output_type": "stream",
     "text": [
      " 7136/10586 [===================>..........] - ETA: 1:06 - loss: 5.1514e-04 - acc: 1.000 - ETA: 1:11 - loss: 0.0012 - acc: 1.0000    - ETA: 1:13 - loss: 0.0011 - acc: 1.000 - ETA: 1:14 - loss: 0.0010 - acc: 1.000 - ETA: 1:14 - loss: 0.0022 - acc: 1.000 - ETA: 1:15 - loss: 0.0022 - acc: 1.000 - ETA: 1:18 - loss: 0.0028 - acc: 1.000 - ETA: 1:18 - loss: 0.0026 - acc: 1.000 - ETA: 1:17 - loss: 0.0026 - acc: 1.000 - ETA: 1:16 - loss: 0.0035 - acc: 1.000 - ETA: 1:15 - loss: 0.0034 - acc: 1.000 - ETA: 1:14 - loss: 0.0033 - acc: 1.000 - ETA: 1:14 - loss: 0.0130 - acc: 0.997 - ETA: 1:13 - loss: 0.0125 - acc: 0.997 - ETA: 1:13 - loss: 0.0129 - acc: 0.997 - ETA: 1:12 - loss: 0.0123 - acc: 0.998 - ETA: 1:12 - loss: 0.0117 - acc: 0.998 - ETA: 1:12 - loss: 0.0118 - acc: 0.998 - ETA: 1:11 - loss: 0.0112 - acc: 0.998 - ETA: 1:11 - loss: 0.0107 - acc: 0.998 - ETA: 1:10 - loss: 0.0106 - acc: 0.998 - ETA: 1:10 - loss: 0.0104 - acc: 0.998 - ETA: 1:10 - loss: 0.0101 - acc: 0.998 - ETA: 1:10 - loss: 0.0098 - acc: 0.998 - ETA: 1:10 - loss: 0.0094 - acc: 0.998 - ETA: 1:10 - loss: 0.0115 - acc: 0.997 - ETA: 1:10 - loss: 0.0111 - acc: 0.997 - ETA: 1:09 - loss: 0.0113 - acc: 0.997 - ETA: 1:09 - loss: 0.0110 - acc: 0.997 - ETA: 1:08 - loss: 0.0107 - acc: 0.997 - ETA: 1:08 - loss: 0.0104 - acc: 0.998 - ETA: 1:08 - loss: 0.0102 - acc: 0.998 - ETA: 1:07 - loss: 0.0110 - acc: 0.997 - ETA: 1:07 - loss: 0.0107 - acc: 0.997 - ETA: 1:07 - loss: 0.0112 - acc: 0.997 - ETA: 1:06 - loss: 0.0110 - acc: 0.997 - ETA: 1:06 - loss: 0.0111 - acc: 0.997 - ETA: 1:06 - loss: 0.0109 - acc: 0.997 - ETA: 1:05 - loss: 0.0107 - acc: 0.997 - ETA: 1:05 - loss: 0.0108 - acc: 0.997 - ETA: 1:05 - loss: 0.0106 - acc: 0.997 - ETA: 1:04 - loss: 0.0105 - acc: 0.997 - ETA: 1:04 - loss: 0.0103 - acc: 0.997 - ETA: 1:04 - loss: 0.0101 - acc: 0.997 - ETA: 1:03 - loss: 0.0103 - acc: 0.997 - ETA: 1:03 - loss: 0.0105 - acc: 0.998 - ETA: 1:03 - loss: 0.0104 - acc: 0.998 - ETA: 1:03 - loss: 0.0102 - acc: 0.998 - ETA: 1:02 - loss: 0.0116 - acc: 0.997 - ETA: 1:02 - loss: 0.0115 - acc: 0.997 - ETA: 1:02 - loss: 0.0113 - acc: 0.997 - ETA: 1:01 - loss: 0.0111 - acc: 0.997 - ETA: 1:01 - loss: 0.0109 - acc: 0.997 - ETA: 1:01 - loss: 0.0107 - acc: 0.997 - ETA: 1:00 - loss: 0.0105 - acc: 0.997 - ETA: 1:00 - loss: 0.0105 - acc: 0.997 - ETA: 1:00 - loss: 0.0103 - acc: 0.997 - ETA: 1:00 - loss: 0.0115 - acc: 0.997 - ETA: 59s - loss: 0.0125 - acc: 0.996 - ETA: 59s - loss: 0.0123 - acc: 0.99 - ETA: 59s - loss: 0.0121 - acc: 0.99 - ETA: 59s - loss: 0.0119 - acc: 0.99 - ETA: 58s - loss: 0.0120 - acc: 0.99 - ETA: 58s - loss: 0.0118 - acc: 0.99 - ETA: 58s - loss: 0.0117 - acc: 0.99 - ETA: 58s - loss: 0.0115 - acc: 0.99 - ETA: 57s - loss: 0.0115 - acc: 0.99 - ETA: 57s - loss: 0.0115 - acc: 0.99 - ETA: 57s - loss: 0.0114 - acc: 0.99 - ETA: 57s - loss: 0.0115 - acc: 0.99 - ETA: 56s - loss: 0.0113 - acc: 0.99 - ETA: 56s - loss: 0.0112 - acc: 0.99 - ETA: 56s - loss: 0.0110 - acc: 0.99 - ETA: 56s - loss: 0.0109 - acc: 0.99 - ETA: 55s - loss: 0.0108 - acc: 0.99 - ETA: 55s - loss: 0.0111 - acc: 0.99 - ETA: 55s - loss: 0.0110 - acc: 0.99 - ETA: 55s - loss: 0.0113 - acc: 0.99 - ETA: 54s - loss: 0.0115 - acc: 0.99 - ETA: 54s - loss: 0.0113 - acc: 0.99 - ETA: 54s - loss: 0.0112 - acc: 0.99 - ETA: 54s - loss: 0.0114 - acc: 0.99 - ETA: 53s - loss: 0.0113 - acc: 0.99 - ETA: 53s - loss: 0.0112 - acc: 0.99 - ETA: 53s - loss: 0.0110 - acc: 0.99 - ETA: 53s - loss: 0.0109 - acc: 0.99 - ETA: 52s - loss: 0.0109 - acc: 0.99 - ETA: 52s - loss: 0.0108 - acc: 0.99 - ETA: 52s - loss: 0.0106 - acc: 0.99 - ETA: 52s - loss: 0.0106 - acc: 0.99 - ETA: 52s - loss: 0.0105 - acc: 0.99 - ETA: 51s - loss: 0.0103 - acc: 0.99 - ETA: 51s - loss: 0.0102 - acc: 0.99 - ETA: 51s - loss: 0.0101 - acc: 0.99 - ETA: 51s - loss: 0.0100 - acc: 0.99 - ETA: 51s - loss: 0.0100 - acc: 0.99 - ETA: 51s - loss: 0.0100 - acc: 0.99 - ETA: 51s - loss: 0.0099 - acc: 0.99 - ETA: 51s - loss: 0.0098 - acc: 0.99 - ETA: 51s - loss: 0.0098 - acc: 0.99 - ETA: 51s - loss: 0.0097 - acc: 0.99 - ETA: 51s - loss: 0.0097 - acc: 0.99 - ETA: 51s - loss: 0.0101 - acc: 0.99 - ETA: 50s - loss: 0.0100 - acc: 0.99 - ETA: 50s - loss: 0.0101 - acc: 0.99 - ETA: 50s - loss: 0.0100 - acc: 0.99 - ETA: 50s - loss: 0.0099 - acc: 0.99 - ETA: 50s - loss: 0.0098 - acc: 0.99 - ETA: 50s - loss: 0.0098 - acc: 0.99 - ETA: 50s - loss: 0.0097 - acc: 0.99 - ETA: 49s - loss: 0.0097 - acc: 0.99 - ETA: 49s - loss: 0.0097 - acc: 0.99 - ETA: 49s - loss: 0.0099 - acc: 0.99 - ETA: 49s - loss: 0.0098 - acc: 0.99 - ETA: 48s - loss: 0.0097 - acc: 0.99 - ETA: 48s - loss: 0.0097 - acc: 0.99 - ETA: 48s - loss: 0.0096 - acc: 0.99 - ETA: 48s - loss: 0.0096 - acc: 0.99 - ETA: 47s - loss: 0.0095 - acc: 0.99 - ETA: 47s - loss: 0.0095 - acc: 0.99 - ETA: 47s - loss: 0.0094 - acc: 0.99 - ETA: 47s - loss: 0.0093 - acc: 0.99 - ETA: 46s - loss: 0.0092 - acc: 0.99 - ETA: 46s - loss: 0.0092 - acc: 0.99 - ETA: 46s - loss: 0.0091 - acc: 0.99 - ETA: 46s - loss: 0.0091 - acc: 0.99 - ETA: 45s - loss: 0.0090 - acc: 0.99 - ETA: 45s - loss: 0.0089 - acc: 0.99 - ETA: 45s - loss: 0.0089 - acc: 0.99 - ETA: 45s - loss: 0.0088 - acc: 0.99 - ETA: 44s - loss: 0.0088 - acc: 0.99 - ETA: 44s - loss: 0.0087 - acc: 0.99 - ETA: 44s - loss: 0.0087 - acc: 0.99 - ETA: 44s - loss: 0.0094 - acc: 0.99 - ETA: 44s - loss: 0.0093 - acc: 0.99 - ETA: 43s - loss: 0.0092 - acc: 0.99 - ETA: 43s - loss: 0.0092 - acc: 0.99 - ETA: 43s - loss: 0.0091 - acc: 0.99 - ETA: 43s - loss: 0.0092 - acc: 0.99 - ETA: 42s - loss: 0.0091 - acc: 0.99 - ETA: 42s - loss: 0.0092 - acc: 0.99 - ETA: 42s - loss: 0.0091 - acc: 0.99 - ETA: 42s - loss: 0.0090 - acc: 0.99 - ETA: 42s - loss: 0.0092 - acc: 0.99 - ETA: 41s - loss: 0.0091 - acc: 0.99 - ETA: 41s - loss: 0.0090 - acc: 0.99 - ETA: 41s - loss: 0.0090 - acc: 0.99 - ETA: 36s - loss: 0.0089 - acc: 0.99 - ETA: 35s - loss: 0.0090 - acc: 0.99 - ETA: 35s - loss: 0.0089 - acc: 0.99 - ETA: 35s - loss: 0.0093 - acc: 0.99 - ETA: 35s - loss: 0.0092 - acc: 0.99 - ETA: 35s - loss: 0.0093 - acc: 0.99 - ETA: 34s - loss: 0.0094 - acc: 0.99 - ETA: 34s - loss: 0.0093 - acc: 0.99 - ETA: 34s - loss: 0.0095 - acc: 0.99 - ETA: 34s - loss: 0.0094 - acc: 0.99 - ETA: 34s - loss: 0.0094 - acc: 0.99 - ETA: 33s - loss: 0.0094 - acc: 0.99 - ETA: 33s - loss: 0.0093 - acc: 0.99 - ETA: 33s - loss: 0.0098 - acc: 0.99 - ETA: 33s - loss: 0.0097 - acc: 0.99 - ETA: 33s - loss: 0.0099 - acc: 0.99 - ETA: 32s - loss: 0.0099 - acc: 0.99 - ETA: 32s - loss: 0.0099 - acc: 0.99 - ETA: 32s - loss: 0.0101 - acc: 0.99 - ETA: 32s - loss: 0.0101 - acc: 0.99 - ETA: 32s - loss: 0.0100 - acc: 0.99 - ETA: 31s - loss: 0.0102 - acc: 0.99 - ETA: 31s - loss: 0.0101 - acc: 0.99 - ETA: 31s - loss: 0.0101 - acc: 0.99 - ETA: 31s - loss: 0.0100 - acc: 0.99 - ETA: 31s - loss: 0.0100 - acc: 0.99 - ETA: 30s - loss: 0.0100 - acc: 0.99 - ETA: 30s - loss: 0.0099 - acc: 0.99 - ETA: 30s - loss: 0.0106 - acc: 0.99 - ETA: 30s - loss: 0.0106 - acc: 0.99 - ETA: 29s - loss: 0.0107 - acc: 0.99 - ETA: 29s - loss: 0.0107 - acc: 0.99 - ETA: 29s - loss: 0.0107 - acc: 0.99 - ETA: 29s - loss: 0.0106 - acc: 0.99 - ETA: 29s - loss: 0.0107 - acc: 0.99 - ETA: 28s - loss: 0.0106 - acc: 0.99 - ETA: 28s - loss: 0.0106 - acc: 0.99 - ETA: 28s - loss: 0.0106 - acc: 0.99 - ETA: 28s - loss: 0.0106 - acc: 0.99 - ETA: 28s - loss: 0.0106 - acc: 0.99 - ETA: 27s - loss: 0.0105 - acc: 0.99 - ETA: 27s - loss: 0.0105 - acc: 0.99 - ETA: 27s - loss: 0.0111 - acc: 0.99 - ETA: 27s - loss: 0.0112 - acc: 0.99 - ETA: 26s - loss: 0.0112 - acc: 0.99 - ETA: 26s - loss: 0.0113 - acc: 0.99 - ETA: 26s - loss: 0.0113 - acc: 0.99 - ETA: 26s - loss: 0.0112 - acc: 0.99 - ETA: 26s - loss: 0.0112 - acc: 0.99 - ETA: 25s - loss: 0.0111 - acc: 0.99 - ETA: 25s - loss: 0.0111 - acc: 0.99 - ETA: 25s - loss: 0.0115 - acc: 0.99 - ETA: 25s - loss: 0.0114 - acc: 0.99 - ETA: 25s - loss: 0.0114 - acc: 0.99 - ETA: 24s - loss: 0.0114 - acc: 0.99 - ETA: 24s - loss: 0.0114 - acc: 0.99 - ETA: 24s - loss: 0.0114 - acc: 0.99 - ETA: 24s - loss: 0.0113 - acc: 0.99 - ETA: 24s - loss: 0.0113 - acc: 0.99 - ETA: 23s - loss: 0.0113 - acc: 0.99 - ETA: 23s - loss: 0.0113 - acc: 0.99 - ETA: 23s - loss: 0.0115 - acc: 0.99 - ETA: 23s - loss: 0.0114 - acc: 0.99 - ETA: 23s - loss: 0.0114 - acc: 0.99 - ETA: 22s - loss: 0.0113 - acc: 0.9958"
     ]
    },
    {
     "name": "stdout",
     "output_type": "stream",
     "text": [
      "10586/10586 [==============================] - ETA: 22s - loss: 0.0113 - acc: 0.99 - ETA: 22s - loss: 0.0113 - acc: 0.99 - ETA: 22s - loss: 0.0113 - acc: 0.99 - ETA: 21s - loss: 0.0112 - acc: 0.99 - ETA: 21s - loss: 0.0112 - acc: 0.99 - ETA: 21s - loss: 0.0112 - acc: 0.99 - ETA: 21s - loss: 0.0111 - acc: 0.99 - ETA: 21s - loss: 0.0111 - acc: 0.99 - ETA: 20s - loss: 0.0111 - acc: 0.99 - ETA: 20s - loss: 0.0110 - acc: 0.99 - ETA: 20s - loss: 0.0110 - acc: 0.99 - ETA: 20s - loss: 0.0110 - acc: 0.99 - ETA: 20s - loss: 0.0109 - acc: 0.99 - ETA: 19s - loss: 0.0110 - acc: 0.99 - ETA: 19s - loss: 0.0110 - acc: 0.99 - ETA: 19s - loss: 0.0110 - acc: 0.99 - ETA: 19s - loss: 0.0109 - acc: 0.99 - ETA: 18s - loss: 0.0109 - acc: 0.99 - ETA: 18s - loss: 0.0109 - acc: 0.99 - ETA: 18s - loss: 0.0109 - acc: 0.99 - ETA: 18s - loss: 0.0108 - acc: 0.99 - ETA: 18s - loss: 0.0108 - acc: 0.99 - ETA: 17s - loss: 0.0108 - acc: 0.99 - ETA: 17s - loss: 0.0108 - acc: 0.99 - ETA: 17s - loss: 0.0108 - acc: 0.99 - ETA: 17s - loss: 0.0108 - acc: 0.99 - ETA: 17s - loss: 0.0108 - acc: 0.99 - ETA: 16s - loss: 0.0107 - acc: 0.99 - ETA: 16s - loss: 0.0108 - acc: 0.99 - ETA: 16s - loss: 0.0108 - acc: 0.99 - ETA: 16s - loss: 0.0107 - acc: 0.99 - ETA: 16s - loss: 0.0107 - acc: 0.99 - ETA: 15s - loss: 0.0107 - acc: 0.99 - ETA: 15s - loss: 0.0107 - acc: 0.99 - ETA: 15s - loss: 0.0107 - acc: 0.99 - ETA: 15s - loss: 0.0107 - acc: 0.99 - ETA: 14s - loss: 0.0108 - acc: 0.99 - ETA: 14s - loss: 0.0108 - acc: 0.99 - ETA: 14s - loss: 0.0107 - acc: 0.99 - ETA: 14s - loss: 0.0107 - acc: 0.99 - ETA: 14s - loss: 0.0107 - acc: 0.99 - ETA: 13s - loss: 0.0106 - acc: 0.99 - ETA: 13s - loss: 0.0110 - acc: 0.99 - ETA: 13s - loss: 0.0109 - acc: 0.99 - ETA: 13s - loss: 0.0109 - acc: 0.99 - ETA: 13s - loss: 0.0109 - acc: 0.99 - ETA: 12s - loss: 0.0108 - acc: 0.99 - ETA: 12s - loss: 0.0108 - acc: 0.99 - ETA: 12s - loss: 0.0108 - acc: 0.99 - ETA: 12s - loss: 0.0107 - acc: 0.99 - ETA: 12s - loss: 0.0107 - acc: 0.99 - ETA: 11s - loss: 0.0107 - acc: 0.99 - ETA: 11s - loss: 0.0106 - acc: 0.99 - ETA: 11s - loss: 0.0107 - acc: 0.99 - ETA: 11s - loss: 0.0106 - acc: 0.99 - ETA: 10s - loss: 0.0106 - acc: 0.99 - ETA: 10s - loss: 0.0108 - acc: 0.99 - ETA: 10s - loss: 0.0109 - acc: 0.99 - ETA: 10s - loss: 0.0109 - acc: 0.99 - ETA: 10s - loss: 0.0109 - acc: 0.99 - ETA: 9s - loss: 0.0109 - acc: 0.9959 - ETA: 9s - loss: 0.0108 - acc: 0.995 - ETA: 9s - loss: 0.0108 - acc: 0.996 - ETA: 9s - loss: 0.0108 - acc: 0.996 - ETA: 9s - loss: 0.0107 - acc: 0.996 - ETA: 8s - loss: 0.0107 - acc: 0.996 - ETA: 8s - loss: 0.0109 - acc: 0.995 - ETA: 8s - loss: 0.0112 - acc: 0.995 - ETA: 8s - loss: 0.0114 - acc: 0.995 - ETA: 8s - loss: 0.0113 - acc: 0.995 - ETA: 7s - loss: 0.0113 - acc: 0.995 - ETA: 7s - loss: 0.0113 - acc: 0.995 - ETA: 7s - loss: 0.0112 - acc: 0.995 - ETA: 7s - loss: 0.0112 - acc: 0.995 - ETA: 7s - loss: 0.0114 - acc: 0.995 - ETA: 6s - loss: 0.0113 - acc: 0.995 - ETA: 6s - loss: 0.0115 - acc: 0.995 - ETA: 6s - loss: 0.0115 - acc: 0.995 - ETA: 6s - loss: 0.0114 - acc: 0.995 - ETA: 5s - loss: 0.0114 - acc: 0.995 - ETA: 5s - loss: 0.0114 - acc: 0.995 - ETA: 5s - loss: 0.0113 - acc: 0.995 - ETA: 5s - loss: 0.0113 - acc: 0.995 - ETA: 5s - loss: 0.0113 - acc: 0.995 - ETA: 4s - loss: 0.0115 - acc: 0.995 - ETA: 4s - loss: 0.0115 - acc: 0.995 - ETA: 4s - loss: 0.0115 - acc: 0.995 - ETA: 4s - loss: 0.0114 - acc: 0.995 - ETA: 4s - loss: 0.0116 - acc: 0.995 - ETA: 3s - loss: 0.0115 - acc: 0.995 - ETA: 3s - loss: 0.0115 - acc: 0.995 - ETA: 3s - loss: 0.0115 - acc: 0.995 - ETA: 3s - loss: 0.0115 - acc: 0.995 - ETA: 2s - loss: 0.0115 - acc: 0.995 - ETA: 2s - loss: 0.0115 - acc: 0.995 - ETA: 2s - loss: 0.0114 - acc: 0.995 - ETA: 2s - loss: 0.0114 - acc: 0.995 - ETA: 2s - loss: 0.0114 - acc: 0.995 - ETA: 1s - loss: 0.0114 - acc: 0.995 - ETA: 1s - loss: 0.0114 - acc: 0.995 - ETA: 1s - loss: 0.0114 - acc: 0.995 - ETA: 1s - loss: 0.0113 - acc: 0.995 - ETA: 1s - loss: 0.0113 - acc: 0.995 - ETA: 0s - loss: 0.0113 - acc: 0.995 - ETA: 0s - loss: 0.0113 - acc: 0.995 - ETA: 0s - loss: 0.0112 - acc: 0.995 - ETA: 0s - loss: 0.0112 - acc: 0.995 - 77s 7ms/step - loss: 0.0112 - acc: 0.9957 - val_loss: 1.5185 - val_acc: 0.7374\n"
     ]
    },
    {
     "data": {
      "text/plain": [
       "<keras.callbacks.History at 0x19c35bd9780>"
      ]
     },
     "execution_count": 136,
     "metadata": {},
     "output_type": "execute_result"
    }
   ],
   "source": [
    "# filepath=\"CNN_LSTM_ggl_best_weights.{epoch:02d}-{val_acc:.4f}.hdf5\"\n",
    "filepath=\"CNN_LSTM_ggl_best_weights_2.{epoch:02d}-{val_acc:.4f}.hdf5\"\n",
    "\n",
    "checkpoint = ModelCheckpoint(filepath, monitor='val_acc', verbose=0, save_best_only=True, mode='max')\n",
    "\n",
    "model.fit(x_train_seq, y_train, batch_size=32, epochs=10, validation_split = 0.2, callbacks = [checkpoint])"
   ]
  },
  {
   "cell_type": "code",
   "execution_count": 130,
   "metadata": {},
   "outputs": [
    {
     "name": "stdout",
     "output_type": "stream",
     "text": [
      "862/862 [==============================] - ETA: 17 - ETA: 10 - ETA: 7 - ETA:  - ETA:  - ETA:  - ETA:  - ETA:  - ETA:  - ETA:  - ETA:  - ETA:  - ETA:  - ETA:  - ETA:  - ETA:  - ETA:  - ETA:  - ETA:  - ETA:  - ETA:  - ETA:  - ETA:  - ETA:  - ETA:  - ETA:  - 4s 5ms/step\n"
     ]
    },
    {
     "data": {
      "text/plain": [
       "[0.40089999868808934, 0.8399071928519937]"
      ]
     },
     "execution_count": 130,
     "metadata": {},
     "output_type": "execute_result"
    }
   ],
   "source": [
    "loaded_CNN_model = load_model('CNN_LSTM_ggl_best_weights.01-0.7839.hdf5')\n",
    "loaded_CNN_model.evaluate(x=X_test_seq, y=y_test)"
   ]
  },
  {
   "cell_type": "code",
   "execution_count": 132,
   "metadata": {},
   "outputs": [
    {
     "name": "stdout",
     "output_type": "stream",
     "text": [
      "[[629  50]\n",
      " [ 88  95]]\n",
      "Confusion matrix, without normalization\n",
      "[[629  50]\n",
      " [ 88  95]]\n",
      "0.7402072122440422\n"
     ]
    },
    {
     "data": {
      "image/png": "[encoded data removed]",
      "text/plain": [
       "<Figure size 432x288 with 2 Axes>"
      ]
     },
     "metadata": {
      "needs_background": "light"
     },
     "output_type": "display_data"
    }
   ],
   "source": [
    "\n",
    "cn_matrix = confusion_matrix(y_test, y_pred)\n",
    "print(cn_matrix)\n",
    "\n",
    "plot_confusion_matrix(cn_matrix, ['Not Offensive', 'Offensive'])\n",
    "print(f1_score(y_true=y_test, y_pred=y_pred, average='macro'))"
   ]
  },
  {
   "cell_type": "code",
   "execution_count": 71,
   "metadata": {},
   "outputs": [
    {
     "name": "stdout",
     "output_type": "stream",
     "text": [
      "__________________________________________________________________________________________________\n",
      "Layer (type)                    Output Shape         Param #     Connected to                     \n",
      "==================================================================================================\n",
      "input_17 (InputLayer)           (None, 57)           0                                            \n",
      "__________________________________________________________________________________________________\n",
      "embedding_14 (Embedding)        (None, 57, 200)      4000000     input_17[0][0]                   \n",
      "__________________________________________________________________________________________________\n",
      "conv1d_32 (Conv1D)              (None, 56, 100)      40100       embedding_14[0][0]               \n",
      "__________________________________________________________________________________________________\n",
      "conv1d_33 (Conv1D)              (None, 55, 100)      60100       embedding_14[0][0]               \n",
      "__________________________________________________________________________________________________\n",
      "conv1d_34 (Conv1D)              (None, 54, 100)      80100       embedding_14[0][0]               \n",
      "__________________________________________________________________________________________________\n",
      "max_pooling1d_10 (MaxPooling1D) (None, 28, 100)      0           conv1d_32[0][0]                  \n",
      "__________________________________________________________________________________________________\n",
      "max_pooling1d_11 (MaxPooling1D) (None, 27, 100)      0           conv1d_33[0][0]                  \n",
      "__________________________________________________________________________________________________\n",
      "max_pooling1d_12 (MaxPooling1D) (None, 27, 100)      0           conv1d_34[0][0]                  \n",
      "__________________________________________________________________________________________________\n",
      "concatenate_11 (Concatenate)    (None, 82, 100)      0           max_pooling1d_10[0][0]           \n",
      "                                                                 max_pooling1d_11[0][0]           \n",
      "                                                                 max_pooling1d_12[0][0]           \n",
      "__________________________________________________________________________________________________\n",
      "lstm_5 (LSTM)                   (None, 100)          80400       concatenate_11[0][0]             \n",
      "__________________________________________________________________________________________________\n",
      "dropout_6 (Dropout)             (None, 100)          0           lstm_5[0][0]                     \n",
      "__________________________________________________________________________________________________\n",
      "dense_8 (Dense)                 (None, 1)            101         dropout_6[0][0]                  \n",
      "__________________________________________________________________________________________________\n",
      "activation_6 (Activation)       (None, 1)            0           dense_8[0][0]                    \n",
      "==================================================================================================\n",
      "Total params: 4,260,801\n",
      "Trainable params: 4,260,801\n",
      "Non-trainable params: 0\n",
      "__________________________________________________________________________________________________\n",
      "Train on 10586 samples, validate on 2647 samples\n",
      "Epoch 1/10\n",
      " 6656/10586 [=================>............] - ETA: 9:52 - loss: 0.6935 - acc: 0.437 - ETA: 5:42 - loss: 0.6956 - acc: 0.515 - ETA: 4:18 - loss: 0.6807 - acc: 0.562 - ETA: 3:34 - loss: 0.6909 - acc: 0.554 - ETA: 3:08 - loss: 0.6894 - acc: 0.562 - ETA: 2:51 - loss: 0.6808 - acc: 0.588 - ETA: 2:38 - loss: 0.6744 - acc: 0.602 - ETA: 2:28 - loss: 0.6649 - acc: 0.621 - ETA: 2:21 - loss: 0.6655 - acc: 0.621 - ETA: 2:15 - loss: 0.6680 - acc: 0.615 - ETA: 2:11 - loss: 0.6647 - acc: 0.622 - ETA: 2:07 - loss: 0.6579 - acc: 0.632 - ETA: 2:03 - loss: 0.6547 - acc: 0.637 - ETA: 2:00 - loss: 0.6557 - acc: 0.636 - ETA: 1:57 - loss: 0.6601 - acc: 0.629 - ETA: 1:55 - loss: 0.6549 - acc: 0.638 - ETA: 1:53 - loss: 0.6498 - acc: 0.647 - ETA: 1:51 - loss: 0.6479 - acc: 0.651 - ETA: 1:49 - loss: 0.6440 - acc: 0.656 - ETA: 1:47 - loss: 0.6441 - acc: 0.656 - ETA: 1:46 - loss: 0.6413 - acc: 0.662 - ETA: 1:44 - loss: 0.6399 - acc: 0.660 - ETA: 1:43 - loss: 0.6416 - acc: 0.659 - ETA: 1:42 - loss: 0.6382 - acc: 0.662 - ETA: 1:41 - loss: 0.6356 - acc: 0.663 - ETA: 1:40 - loss: 0.6343 - acc: 0.665 - ETA: 1:39 - loss: 0.6300 - acc: 0.670 - ETA: 1:38 - loss: 0.6277 - acc: 0.671 - ETA: 1:37 - loss: 0.6258 - acc: 0.674 - ETA: 1:36 - loss: 0.6260 - acc: 0.674 - ETA: 1:36 - loss: 0.6266 - acc: 0.671 - ETA: 1:35 - loss: 0.6236 - acc: 0.673 - ETA: 1:34 - loss: 0.6198 - acc: 0.677 - ETA: 1:33 - loss: 0.6215 - acc: 0.675 - ETA: 1:32 - loss: 0.6178 - acc: 0.677 - ETA: 1:32 - loss: 0.6180 - acc: 0.676 - ETA: 1:31 - loss: 0.6172 - acc: 0.677 - ETA: 1:30 - loss: 0.6170 - acc: 0.676 - ETA: 1:30 - loss: 0.6169 - acc: 0.673 - ETA: 1:29 - loss: 0.6158 - acc: 0.676 - ETA: 1:28 - loss: 0.6143 - acc: 0.677 - ETA: 1:28 - loss: 0.6139 - acc: 0.679 - ETA: 1:27 - loss: 0.6125 - acc: 0.679 - ETA: 1:27 - loss: 0.6120 - acc: 0.679 - ETA: 1:26 - loss: 0.6121 - acc: 0.678 - ETA: 1:26 - loss: 0.6094 - acc: 0.680 - ETA: 1:25 - loss: 0.6116 - acc: 0.680 - ETA: 1:25 - loss: 0.6115 - acc: 0.679 - ETA: 1:24 - loss: 0.6105 - acc: 0.681 - ETA: 1:24 - loss: 0.6115 - acc: 0.680 - ETA: 1:23 - loss: 0.6101 - acc: 0.682 - ETA: 1:23 - loss: 0.6084 - acc: 0.683 - ETA: 1:22 - loss: 0.6097 - acc: 0.681 - ETA: 1:22 - loss: 0.6113 - acc: 0.678 - ETA: 1:22 - loss: 0.6097 - acc: 0.680 - ETA: 1:21 - loss: 0.6121 - acc: 0.677 - ETA: 1:21 - loss: 0.6129 - acc: 0.676 - ETA: 1:20 - loss: 0.6133 - acc: 0.675 - ETA: 1:20 - loss: 0.6157 - acc: 0.672 - ETA: 1:20 - loss: 0.6166 - acc: 0.669 - ETA: 1:19 - loss: 0.6157 - acc: 0.670 - ETA: 1:19 - loss: 0.6157 - acc: 0.670 - ETA: 1:18 - loss: 0.6151 - acc: 0.671 - ETA: 1:18 - loss: 0.6157 - acc: 0.670 - ETA: 1:18 - loss: 0.6155 - acc: 0.670 - ETA: 1:17 - loss: 0.6142 - acc: 0.672 - ETA: 1:17 - loss: 0.6146 - acc: 0.672 - ETA: 1:17 - loss: 0.6153 - acc: 0.671 - ETA: 1:17 - loss: 0.6164 - acc: 0.671 - ETA: 1:17 - loss: 0.6168 - acc: 0.671 - ETA: 1:17 - loss: 0.6165 - acc: 0.672 - ETA: 1:16 - loss: 0.6167 - acc: 0.672 - ETA: 1:16 - loss: 0.6165 - acc: 0.671 - ETA: 1:16 - loss: 0.6155 - acc: 0.673 - ETA: 1:16 - loss: 0.6145 - acc: 0.675 - ETA: 1:16 - loss: 0.6140 - acc: 0.676 - ETA: 1:15 - loss: 0.6141 - acc: 0.675 - ETA: 1:15 - loss: 0.6135 - acc: 0.677 - ETA: 1:15 - loss: 0.6147 - acc: 0.675 - ETA: 1:15 - loss: 0.6138 - acc: 0.676 - ETA: 1:14 - loss: 0.6134 - acc: 0.676 - ETA: 1:14 - loss: 0.6127 - acc: 0.677 - ETA: 1:14 - loss: 0.6133 - acc: 0.676 - ETA: 1:14 - loss: 0.6128 - acc: 0.677 - ETA: 1:13 - loss: 0.6141 - acc: 0.675 - ETA: 1:13 - loss: 0.6141 - acc: 0.675 - ETA: 1:13 - loss: 0.6139 - acc: 0.676 - ETA: 1:13 - loss: 0.6141 - acc: 0.675 - ETA: 1:13 - loss: 0.6134 - acc: 0.676 - ETA: 1:12 - loss: 0.6133 - acc: 0.676 - ETA: 1:12 - loss: 0.6138 - acc: 0.675 - ETA: 1:12 - loss: 0.6143 - acc: 0.674 - ETA: 1:12 - loss: 0.6152 - acc: 0.673 - ETA: 1:11 - loss: 0.6146 - acc: 0.674 - ETA: 1:11 - loss: 0.6148 - acc: 0.673 - ETA: 1:11 - loss: 0.6148 - acc: 0.673 - ETA: 1:10 - loss: 0.6147 - acc: 0.673 - ETA: 1:10 - loss: 0.6136 - acc: 0.674 - ETA: 1:10 - loss: 0.6133 - acc: 0.673 - ETA: 1:10 - loss: 0.6138 - acc: 0.674 - ETA: 1:09 - loss: 0.6122 - acc: 0.675 - ETA: 1:09 - loss: 0.6120 - acc: 0.674 - ETA: 1:09 - loss: 0.6114 - acc: 0.676 - ETA: 1:09 - loss: 0.6116 - acc: 0.676 - ETA: 1:08 - loss: 0.6121 - acc: 0.675 - ETA: 1:08 - loss: 0.6131 - acc: 0.674 - ETA: 1:08 - loss: 0.6147 - acc: 0.673 - ETA: 1:08 - loss: 0.6150 - acc: 0.673 - ETA: 1:07 - loss: 0.6151 - acc: 0.672 - ETA: 1:07 - loss: 0.6148 - acc: 0.673 - ETA: 1:07 - loss: 0.6158 - acc: 0.672 - ETA: 1:06 - loss: 0.6146 - acc: 0.673 - ETA: 1:06 - loss: 0.6142 - acc: 0.672 - ETA: 1:06 - loss: 0.6137 - acc: 0.673 - ETA: 1:06 - loss: 0.6131 - acc: 0.673 - ETA: 1:05 - loss: 0.6119 - acc: 0.674 - ETA: 1:05 - loss: 0.6121 - acc: 0.674 - ETA: 1:05 - loss: 0.6128 - acc: 0.673 - ETA: 1:05 - loss: 0.6131 - acc: 0.673 - ETA: 1:04 - loss: 0.6124 - acc: 0.674 - ETA: 1:04 - loss: 0.6113 - acc: 0.675 - ETA: 1:04 - loss: 0.6121 - acc: 0.674 - ETA: 1:03 - loss: 0.6114 - acc: 0.674 - ETA: 1:03 - loss: 0.6111 - acc: 0.674 - ETA: 1:03 - loss: 0.6111 - acc: 0.674 - ETA: 1:03 - loss: 0.6114 - acc: 0.674 - ETA: 1:02 - loss: 0.6118 - acc: 0.674 - ETA: 1:02 - loss: 0.6110 - acc: 0.674 - ETA: 1:02 - loss: 0.6102 - acc: 0.675 - ETA: 1:01 - loss: 0.6097 - acc: 0.675 - ETA: 1:01 - loss: 0.6086 - acc: 0.677 - ETA: 1:01 - loss: 0.6084 - acc: 0.677 - ETA: 1:00 - loss: 0.6078 - acc: 0.677 - ETA: 1:00 - loss: 0.6073 - acc: 0.677 - ETA: 1:00 - loss: 0.6059 - acc: 0.679 - ETA: 1:00 - loss: 0.6054 - acc: 0.679 - ETA: 59s - loss: 0.6067 - acc: 0.678 - ETA: 59s - loss: 0.6074 - acc: 0.67 - ETA: 59s - loss: 0.6065 - acc: 0.67 - ETA: 58s - loss: 0.6068 - acc: 0.67 - ETA: 58s - loss: 0.6063 - acc: 0.67 - ETA: 58s - loss: 0.6067 - acc: 0.67 - ETA: 57s - loss: 0.6073 - acc: 0.67 - ETA: 57s - loss: 0.6073 - acc: 0.67 - ETA: 57s - loss: 0.6079 - acc: 0.67 - ETA: 57s - loss: 0.6078 - acc: 0.67 - ETA: 56s - loss: 0.6077 - acc: 0.67 - ETA: 56s - loss: 0.6080 - acc: 0.67 - ETA: 56s - loss: 0.6081 - acc: 0.67 - ETA: 55s - loss: 0.6074 - acc: 0.67 - ETA: 55s - loss: 0.6072 - acc: 0.67 - ETA: 55s - loss: 0.6070 - acc: 0.67 - ETA: 54s - loss: 0.6076 - acc: 0.67 - ETA: 54s - loss: 0.6089 - acc: 0.67 - ETA: 54s - loss: 0.6090 - acc: 0.67 - ETA: 54s - loss: 0.6093 - acc: 0.67 - ETA: 53s - loss: 0.6093 - acc: 0.67 - ETA: 53s - loss: 0.6088 - acc: 0.67 - ETA: 53s - loss: 0.6084 - acc: 0.67 - ETA: 52s - loss: 0.6075 - acc: 0.67 - ETA: 52s - loss: 0.6071 - acc: 0.67 - ETA: 52s - loss: 0.6068 - acc: 0.67 - ETA: 51s - loss: 0.6075 - acc: 0.67 - ETA: 51s - loss: 0.6071 - acc: 0.67 - ETA: 51s - loss: 0.6071 - acc: 0.67 - ETA: 51s - loss: 0.6080 - acc: 0.67 - ETA: 50s - loss: 0.6072 - acc: 0.67 - ETA: 50s - loss: 0.6084 - acc: 0.67 - ETA: 50s - loss: 0.6080 - acc: 0.67 - ETA: 49s - loss: 0.6075 - acc: 0.67 - ETA: 49s - loss: 0.6066 - acc: 0.67 - ETA: 49s - loss: 0.6068 - acc: 0.67 - ETA: 49s - loss: 0.6064 - acc: 0.67 - ETA: 48s - loss: 0.6066 - acc: 0.67 - ETA: 48s - loss: 0.6056 - acc: 0.67 - ETA: 48s - loss: 0.6049 - acc: 0.67 - ETA: 47s - loss: 0.6044 - acc: 0.67 - ETA: 47s - loss: 0.6045 - acc: 0.67 - ETA: 47s - loss: 0.6041 - acc: 0.68 - ETA: 46s - loss: 0.6029 - acc: 0.68 - ETA: 46s - loss: 0.6026 - acc: 0.68 - ETA: 46s - loss: 0.6020 - acc: 0.68 - ETA: 45s - loss: 0.6014 - acc: 0.68 - ETA: 45s - loss: 0.6008 - acc: 0.68 - ETA: 45s - loss: 0.6002 - acc: 0.68 - ETA: 45s - loss: 0.5991 - acc: 0.68 - ETA: 44s - loss: 0.5987 - acc: 0.68 - ETA: 44s - loss: 0.5984 - acc: 0.68 - ETA: 44s - loss: 0.5985 - acc: 0.68 - ETA: 43s - loss: 0.5981 - acc: 0.68 - ETA: 43s - loss: 0.5975 - acc: 0.68 - ETA: 43s - loss: 0.5965 - acc: 0.68 - ETA: 42s - loss: 0.5955 - acc: 0.68 - ETA: 42s - loss: 0.5954 - acc: 0.68 - ETA: 42s - loss: 0.5958 - acc: 0.68 - ETA: 41s - loss: 0.5954 - acc: 0.68 - ETA: 41s - loss: 0.5954 - acc: 0.68 - ETA: 41s - loss: 0.5951 - acc: 0.68 - ETA: 41s - loss: 0.5948 - acc: 0.68 - ETA: 40s - loss: 0.5952 - acc: 0.68 - ETA: 40s - loss: 0.5947 - acc: 0.68 - ETA: 40s - loss: 0.5951 - acc: 0.68 - ETA: 39s - loss: 0.5944 - acc: 0.68 - ETA: 39s - loss: 0.5937 - acc: 0.68 - ETA: 39s - loss: 0.5939 - acc: 0.68 - ETA: 38s - loss: 0.5936 - acc: 0.68 - ETA: 38s - loss: 0.5931 - acc: 0.69 - ETA: 38s - loss: 0.5925 - acc: 0.690710586/10586 [==============================] - ETA: 37s - loss: 0.5917 - acc: 0.69 - ETA: 37s - loss: 0.5908 - acc: 0.69 - ETA: 37s - loss: 0.5909 - acc: 0.69 - ETA: 37s - loss: 0.5906 - acc: 0.69 - ETA: 36s - loss: 0.5902 - acc: 0.69 - ETA: 36s - loss: 0.5899 - acc: 0.69 - ETA: 36s - loss: 0.5901 - acc: 0.69 - ETA: 35s - loss: 0.5912 - acc: 0.69 - ETA: 35s - loss: 0.5916 - acc: 0.69 - ETA: 35s - loss: 0.5912 - acc: 0.69 - ETA: 34s - loss: 0.5917 - acc: 0.69 - ETA: 34s - loss: 0.5914 - acc: 0.69 - ETA: 34s - loss: 0.5909 - acc: 0.69 - ETA: 33s - loss: 0.5910 - acc: 0.69 - ETA: 33s - loss: 0.5905 - acc: 0.69 - ETA: 33s - loss: 0.5912 - acc: 0.69 - ETA: 32s - loss: 0.5912 - acc: 0.69 - ETA: 32s - loss: 0.5911 - acc: 0.69 - ETA: 32s - loss: 0.5910 - acc: 0.69 - ETA: 32s - loss: 0.5909 - acc: 0.69 - ETA: 31s - loss: 0.5909 - acc: 0.69 - ETA: 31s - loss: 0.5903 - acc: 0.69 - ETA: 31s - loss: 0.5904 - acc: 0.69 - ETA: 30s - loss: 0.5902 - acc: 0.69 - ETA: 30s - loss: 0.5898 - acc: 0.69 - ETA: 30s - loss: 0.5897 - acc: 0.69 - ETA: 29s - loss: 0.5897 - acc: 0.69 - ETA: 29s - loss: 0.5900 - acc: 0.69 - ETA: 29s - loss: 0.5895 - acc: 0.69 - ETA: 28s - loss: 0.5890 - acc: 0.69 - ETA: 28s - loss: 0.5885 - acc: 0.69 - ETA: 28s - loss: 0.5877 - acc: 0.69 - ETA: 27s - loss: 0.5875 - acc: 0.69 - ETA: 27s - loss: 0.5874 - acc: 0.69 - ETA: 27s - loss: 0.5871 - acc: 0.69 - ETA: 27s - loss: 0.5865 - acc: 0.69 - ETA: 26s - loss: 0.5859 - acc: 0.69 - ETA: 26s - loss: 0.5855 - acc: 0.69 - ETA: 26s - loss: 0.5851 - acc: 0.69 - ETA: 25s - loss: 0.5845 - acc: 0.69 - ETA: 25s - loss: 0.5838 - acc: 0.69 - ETA: 25s - loss: 0.5835 - acc: 0.69 - ETA: 24s - loss: 0.5832 - acc: 0.69 - ETA: 24s - loss: 0.5831 - acc: 0.69 - ETA: 24s - loss: 0.5826 - acc: 0.69 - ETA: 23s - loss: 0.5821 - acc: 0.69 - ETA: 23s - loss: 0.5809 - acc: 0.70 - ETA: 23s - loss: 0.5809 - acc: 0.70 - ETA: 22s - loss: 0.5809 - acc: 0.70 - ETA: 22s - loss: 0.5807 - acc: 0.70 - ETA: 22s - loss: 0.5810 - acc: 0.70 - ETA: 22s - loss: 0.5808 - acc: 0.70 - ETA: 21s - loss: 0.5809 - acc: 0.70 - ETA: 21s - loss: 0.5801 - acc: 0.70 - ETA: 21s - loss: 0.5802 - acc: 0.70 - ETA: 20s - loss: 0.5802 - acc: 0.70 - ETA: 20s - loss: 0.5799 - acc: 0.70 - ETA: 20s - loss: 0.5798 - acc: 0.70 - ETA: 19s - loss: 0.5793 - acc: 0.70 - ETA: 19s - loss: 0.5791 - acc: 0.70 - ETA: 19s - loss: 0.5789 - acc: 0.70 - ETA: 18s - loss: 0.5780 - acc: 0.70 - ETA: 18s - loss: 0.5773 - acc: 0.70 - ETA: 18s - loss: 0.5773 - acc: 0.70 - ETA: 17s - loss: 0.5778 - acc: 0.70 - ETA: 17s - loss: 0.5775 - acc: 0.70 - ETA: 17s - loss: 0.5774 - acc: 0.70 - ETA: 17s - loss: 0.5774 - acc: 0.70 - ETA: 16s - loss: 0.5772 - acc: 0.70 - ETA: 16s - loss: 0.5775 - acc: 0.70 - ETA: 16s - loss: 0.5778 - acc: 0.70 - ETA: 15s - loss: 0.5780 - acc: 0.70 - ETA: 15s - loss: 0.5781 - acc: 0.70 - ETA: 15s - loss: 0.5778 - acc: 0.70 - ETA: 14s - loss: 0.5778 - acc: 0.70 - ETA: 14s - loss: 0.5775 - acc: 0.70 - ETA: 14s - loss: 0.5776 - acc: 0.70 - ETA: 13s - loss: 0.5776 - acc: 0.70 - ETA: 13s - loss: 0.5773 - acc: 0.70 - ETA: 13s - loss: 0.5773 - acc: 0.70 - ETA: 13s - loss: 0.5766 - acc: 0.70 - ETA: 12s - loss: 0.5765 - acc: 0.70 - ETA: 12s - loss: 0.5758 - acc: 0.70 - ETA: 12s - loss: 0.5755 - acc: 0.70 - ETA: 11s - loss: 0.5756 - acc: 0.70 - ETA: 11s - loss: 0.5751 - acc: 0.70 - ETA: 11s - loss: 0.5749 - acc: 0.70 - ETA: 10s - loss: 0.5751 - acc: 0.70 - ETA: 10s - loss: 0.5749 - acc: 0.70 - ETA: 10s - loss: 0.5746 - acc: 0.70 - ETA: 9s - loss: 0.5747 - acc: 0.7050 - ETA: 9s - loss: 0.5747 - acc: 0.705 - ETA: 9s - loss: 0.5744 - acc: 0.705 - ETA: 8s - loss: 0.5741 - acc: 0.705 - ETA: 8s - loss: 0.5739 - acc: 0.705 - ETA: 8s - loss: 0.5742 - acc: 0.705 - ETA: 8s - loss: 0.5736 - acc: 0.706 - ETA: 7s - loss: 0.5738 - acc: 0.706 - ETA: 7s - loss: 0.5737 - acc: 0.706 - ETA: 7s - loss: 0.5734 - acc: 0.706 - ETA: 6s - loss: 0.5733 - acc: 0.706 - ETA: 6s - loss: 0.5731 - acc: 0.706 - ETA: 6s - loss: 0.5733 - acc: 0.706 - ETA: 5s - loss: 0.5729 - acc: 0.706 - ETA: 5s - loss: 0.5728 - acc: 0.706 - ETA: 5s - loss: 0.5728 - acc: 0.707 - ETA: 4s - loss: 0.5731 - acc: 0.706 - ETA: 4s - loss: 0.5727 - acc: 0.707 - ETA: 4s - loss: 0.5731 - acc: 0.706 - ETA: 3s - loss: 0.5729 - acc: 0.706 - ETA: 3s - loss: 0.5725 - acc: 0.707 - ETA: 3s - loss: 0.5725 - acc: 0.707 - ETA: 3s - loss: 0.5726 - acc: 0.707 - ETA: 2s - loss: 0.5720 - acc: 0.707 - ETA: 2s - loss: 0.5716 - acc: 0.708 - ETA: 2s - loss: 0.5714 - acc: 0.708 - ETA: 1s - loss: 0.5711 - acc: 0.708 - ETA: 1s - loss: 0.5708 - acc: 0.708 - ETA: 1s - loss: 0.5709 - acc: 0.708 - ETA: 0s - loss: 0.5706 - acc: 0.708 - ETA: 0s - loss: 0.5704 - acc: 0.708 - ETA: 0s - loss: 0.5701 - acc: 0.709 - 108s 10ms/step - loss: 0.5700 - acc: 0.7093 - val_loss: 0.5194 - val_acc: 0.7473\n",
      "Epoch 2/10\n"
     ]
    },
    {
     "name": "stdout",
     "output_type": "stream",
     "text": [
      " 6656/10586 [=================>............] - ETA: 1:28 - loss: 0.5295 - acc: 0.812 - ETA: 1:28 - loss: 0.4643 - acc: 0.812 - ETA: 1:33 - loss: 0.4780 - acc: 0.791 - ETA: 1:34 - loss: 0.4601 - acc: 0.796 - ETA: 1:34 - loss: 0.4517 - acc: 0.800 - ETA: 1:35 - loss: 0.4554 - acc: 0.796 - ETA: 1:36 - loss: 0.4306 - acc: 0.808 - ETA: 1:37 - loss: 0.4393 - acc: 0.808 - ETA: 1:37 - loss: 0.4403 - acc: 0.805 - ETA: 1:38 - loss: 0.4397 - acc: 0.803 - ETA: 1:38 - loss: 0.4512 - acc: 0.792 - ETA: 1:38 - loss: 0.4620 - acc: 0.786 - ETA: 1:38 - loss: 0.4549 - acc: 0.790 - ETA: 1:37 - loss: 0.4503 - acc: 0.796 - ETA: 1:37 - loss: 0.4557 - acc: 0.793 - ETA: 1:37 - loss: 0.4497 - acc: 0.794 - ETA: 1:37 - loss: 0.4520 - acc: 0.790 - ETA: 1:37 - loss: 0.4519 - acc: 0.791 - ETA: 1:37 - loss: 0.4434 - acc: 0.796 - ETA: 1:37 - loss: 0.4420 - acc: 0.798 - ETA: 1:37 - loss: 0.4527 - acc: 0.790 - ETA: 1:36 - loss: 0.4534 - acc: 0.786 - ETA: 1:36 - loss: 0.4494 - acc: 0.790 - ETA: 1:35 - loss: 0.4506 - acc: 0.790 - ETA: 1:35 - loss: 0.4511 - acc: 0.790 - ETA: 1:35 - loss: 0.4460 - acc: 0.793 - ETA: 1:34 - loss: 0.4440 - acc: 0.795 - ETA: 1:35 - loss: 0.4409 - acc: 0.795 - ETA: 1:34 - loss: 0.4437 - acc: 0.790 - ETA: 1:33 - loss: 0.4409 - acc: 0.792 - ETA: 1:33 - loss: 0.4454 - acc: 0.788 - ETA: 1:33 - loss: 0.4456 - acc: 0.787 - ETA: 1:33 - loss: 0.4424 - acc: 0.787 - ETA: 1:32 - loss: 0.4448 - acc: 0.787 - ETA: 1:32 - loss: 0.4459 - acc: 0.786 - ETA: 1:31 - loss: 0.4451 - acc: 0.787 - ETA: 1:31 - loss: 0.4398 - acc: 0.790 - ETA: 1:31 - loss: 0.4363 - acc: 0.794 - ETA: 1:31 - loss: 0.4412 - acc: 0.792 - ETA: 1:30 - loss: 0.4402 - acc: 0.793 - ETA: 1:30 - loss: 0.4410 - acc: 0.793 - ETA: 1:30 - loss: 0.4380 - acc: 0.794 - ETA: 1:29 - loss: 0.4387 - acc: 0.794 - ETA: 1:29 - loss: 0.4362 - acc: 0.796 - ETA: 1:29 - loss: 0.4333 - acc: 0.798 - ETA: 1:28 - loss: 0.4351 - acc: 0.797 - ETA: 1:28 - loss: 0.4326 - acc: 0.799 - ETA: 1:28 - loss: 0.4342 - acc: 0.798 - ETA: 1:28 - loss: 0.4372 - acc: 0.797 - ETA: 1:27 - loss: 0.4338 - acc: 0.800 - ETA: 1:27 - loss: 0.4327 - acc: 0.800 - ETA: 1:27 - loss: 0.4352 - acc: 0.798 - ETA: 1:26 - loss: 0.4368 - acc: 0.796 - ETA: 1:26 - loss: 0.4374 - acc: 0.796 - ETA: 1:26 - loss: 0.4360 - acc: 0.797 - ETA: 1:25 - loss: 0.4355 - acc: 0.799 - ETA: 1:25 - loss: 0.4347 - acc: 0.800 - ETA: 1:25 - loss: 0.4355 - acc: 0.801 - ETA: 1:24 - loss: 0.4340 - acc: 0.801 - ETA: 1:24 - loss: 0.4341 - acc: 0.803 - ETA: 1:24 - loss: 0.4345 - acc: 0.803 - ETA: 1:23 - loss: 0.4350 - acc: 0.802 - ETA: 1:23 - loss: 0.4350 - acc: 0.803 - ETA: 1:23 - loss: 0.4337 - acc: 0.804 - ETA: 1:23 - loss: 0.4326 - acc: 0.805 - ETA: 1:22 - loss: 0.4312 - acc: 0.806 - ETA: 1:22 - loss: 0.4311 - acc: 0.805 - ETA: 1:22 - loss: 0.4324 - acc: 0.805 - ETA: 1:22 - loss: 0.4334 - acc: 0.805 - ETA: 1:21 - loss: 0.4349 - acc: 0.804 - ETA: 1:21 - loss: 0.4349 - acc: 0.804 - ETA: 1:21 - loss: 0.4356 - acc: 0.805 - ETA: 1:20 - loss: 0.4365 - acc: 0.803 - ETA: 1:20 - loss: 0.4352 - acc: 0.804 - ETA: 1:20 - loss: 0.4343 - acc: 0.804 - ETA: 1:19 - loss: 0.4339 - acc: 0.805 - ETA: 1:19 - loss: 0.4342 - acc: 0.805 - ETA: 1:19 - loss: 0.4391 - acc: 0.802 - ETA: 1:18 - loss: 0.4394 - acc: 0.803 - ETA: 1:18 - loss: 0.4407 - acc: 0.801 - ETA: 1:18 - loss: 0.4415 - acc: 0.800 - ETA: 1:17 - loss: 0.4424 - acc: 0.799 - ETA: 1:17 - loss: 0.4424 - acc: 0.799 - ETA: 1:17 - loss: 0.4418 - acc: 0.799 - ETA: 1:16 - loss: 0.4409 - acc: 0.799 - ETA: 1:16 - loss: 0.4405 - acc: 0.799 - ETA: 1:16 - loss: 0.4409 - acc: 0.799 - ETA: 1:15 - loss: 0.4395 - acc: 0.800 - ETA: 1:15 - loss: 0.4400 - acc: 0.800 - ETA: 1:15 - loss: 0.4397 - acc: 0.800 - ETA: 1:14 - loss: 0.4414 - acc: 0.800 - ETA: 1:14 - loss: 0.4405 - acc: 0.800 - ETA: 1:14 - loss: 0.4403 - acc: 0.800 - ETA: 1:14 - loss: 0.4396 - acc: 0.800 - ETA: 1:13 - loss: 0.4401 - acc: 0.800 - ETA: 1:13 - loss: 0.4400 - acc: 0.800 - ETA: 1:13 - loss: 0.4412 - acc: 0.799 - ETA: 1:12 - loss: 0.4412 - acc: 0.798 - ETA: 1:12 - loss: 0.4420 - acc: 0.798 - ETA: 1:12 - loss: 0.4426 - acc: 0.798 - ETA: 1:12 - loss: 0.4441 - acc: 0.796 - ETA: 1:11 - loss: 0.4436 - acc: 0.796 - ETA: 1:11 - loss: 0.4440 - acc: 0.796 - ETA: 1:10 - loss: 0.4446 - acc: 0.795 - ETA: 1:10 - loss: 0.4465 - acc: 0.794 - ETA: 1:10 - loss: 0.4458 - acc: 0.794 - ETA: 1:09 - loss: 0.4457 - acc: 0.794 - ETA: 1:09 - loss: 0.4461 - acc: 0.794 - ETA: 1:09 - loss: 0.4465 - acc: 0.794 - ETA: 1:08 - loss: 0.4449 - acc: 0.795 - ETA: 1:08 - loss: 0.4457 - acc: 0.795 - ETA: 1:08 - loss: 0.4469 - acc: 0.794 - ETA: 1:08 - loss: 0.4475 - acc: 0.794 - ETA: 1:07 - loss: 0.4469 - acc: 0.794 - ETA: 1:07 - loss: 0.4474 - acc: 0.794 - ETA: 1:07 - loss: 0.4463 - acc: 0.795 - ETA: 1:06 - loss: 0.4472 - acc: 0.794 - ETA: 1:06 - loss: 0.4472 - acc: 0.794 - ETA: 1:06 - loss: 0.4471 - acc: 0.794 - ETA: 1:05 - loss: 0.4470 - acc: 0.794 - ETA: 1:05 - loss: 0.4474 - acc: 0.794 - ETA: 1:05 - loss: 0.4467 - acc: 0.795 - ETA: 1:04 - loss: 0.4467 - acc: 0.795 - ETA: 1:04 - loss: 0.4469 - acc: 0.795 - ETA: 1:04 - loss: 0.4474 - acc: 0.794 - ETA: 1:03 - loss: 0.4473 - acc: 0.794 - ETA: 1:03 - loss: 0.4482 - acc: 0.793 - ETA: 1:03 - loss: 0.4483 - acc: 0.793 - ETA: 1:03 - loss: 0.4488 - acc: 0.793 - ETA: 1:02 - loss: 0.4495 - acc: 0.791 - ETA: 1:02 - loss: 0.4502 - acc: 0.791 - ETA: 1:02 - loss: 0.4497 - acc: 0.792 - ETA: 1:01 - loss: 0.4491 - acc: 0.793 - ETA: 1:01 - loss: 0.4495 - acc: 0.793 - ETA: 1:01 - loss: 0.4499 - acc: 0.793 - ETA: 1:00 - loss: 0.4492 - acc: 0.793 - ETA: 1:00 - loss: 0.4508 - acc: 0.793 - ETA: 1:00 - loss: 0.4511 - acc: 0.792 - ETA: 59s - loss: 0.4503 - acc: 0.792 - ETA: 59s - loss: 0.4500 - acc: 0.79 - ETA: 59s - loss: 0.4491 - acc: 0.79 - ETA: 59s - loss: 0.4485 - acc: 0.79 - ETA: 58s - loss: 0.4480 - acc: 0.79 - ETA: 58s - loss: 0.4480 - acc: 0.79 - ETA: 58s - loss: 0.4484 - acc: 0.79 - ETA: 57s - loss: 0.4481 - acc: 0.79 - ETA: 57s - loss: 0.4484 - acc: 0.79 - ETA: 57s - loss: 0.4496 - acc: 0.79 - ETA: 56s - loss: 0.4504 - acc: 0.79 - ETA: 56s - loss: 0.4506 - acc: 0.79 - ETA: 56s - loss: 0.4502 - acc: 0.79 - ETA: 55s - loss: 0.4498 - acc: 0.79 - ETA: 55s - loss: 0.4494 - acc: 0.79 - ETA: 55s - loss: 0.4498 - acc: 0.79 - ETA: 54s - loss: 0.4490 - acc: 0.79 - ETA: 54s - loss: 0.4481 - acc: 0.79 - ETA: 54s - loss: 0.4482 - acc: 0.79 - ETA: 54s - loss: 0.4484 - acc: 0.79 - ETA: 53s - loss: 0.4478 - acc: 0.79 - ETA: 53s - loss: 0.4481 - acc: 0.79 - ETA: 53s - loss: 0.4486 - acc: 0.79 - ETA: 52s - loss: 0.4487 - acc: 0.79 - ETA: 52s - loss: 0.4490 - acc: 0.79 - ETA: 52s - loss: 0.4486 - acc: 0.79 - ETA: 51s - loss: 0.4490 - acc: 0.79 - ETA: 51s - loss: 0.4481 - acc: 0.79 - ETA: 51s - loss: 0.4481 - acc: 0.79 - ETA: 50s - loss: 0.4479 - acc: 0.79 - ETA: 50s - loss: 0.4480 - acc: 0.79 - ETA: 50s - loss: 0.4471 - acc: 0.79 - ETA: 49s - loss: 0.4471 - acc: 0.79 - ETA: 49s - loss: 0.4473 - acc: 0.79 - ETA: 49s - loss: 0.4480 - acc: 0.79 - ETA: 48s - loss: 0.4479 - acc: 0.79 - ETA: 48s - loss: 0.4469 - acc: 0.79 - ETA: 48s - loss: 0.4477 - acc: 0.79 - ETA: 48s - loss: 0.4478 - acc: 0.79 - ETA: 47s - loss: 0.4477 - acc: 0.79 - ETA: 47s - loss: 0.4469 - acc: 0.79 - ETA: 47s - loss: 0.4463 - acc: 0.79 - ETA: 46s - loss: 0.4469 - acc: 0.79 - ETA: 46s - loss: 0.4467 - acc: 0.79 - ETA: 46s - loss: 0.4462 - acc: 0.79 - ETA: 45s - loss: 0.4455 - acc: 0.79 - ETA: 45s - loss: 0.4455 - acc: 0.79 - ETA: 45s - loss: 0.4454 - acc: 0.79 - ETA: 44s - loss: 0.4449 - acc: 0.79 - ETA: 44s - loss: 0.4449 - acc: 0.79 - ETA: 44s - loss: 0.4460 - acc: 0.79 - ETA: 43s - loss: 0.4463 - acc: 0.79 - ETA: 43s - loss: 0.4455 - acc: 0.79 - ETA: 43s - loss: 0.4452 - acc: 0.79 - ETA: 43s - loss: 0.4451 - acc: 0.79 - ETA: 42s - loss: 0.4457 - acc: 0.79 - ETA: 42s - loss: 0.4459 - acc: 0.79 - ETA: 42s - loss: 0.4467 - acc: 0.79 - ETA: 41s - loss: 0.4464 - acc: 0.79 - ETA: 41s - loss: 0.4461 - acc: 0.79 - ETA: 41s - loss: 0.4462 - acc: 0.79 - ETA: 40s - loss: 0.4464 - acc: 0.79 - ETA: 40s - loss: 0.4467 - acc: 0.79 - ETA: 40s - loss: 0.4461 - acc: 0.79 - ETA: 39s - loss: 0.4463 - acc: 0.79 - ETA: 39s - loss: 0.4463 - acc: 0.79 - ETA: 39s - loss: 0.4453 - acc: 0.79 - ETA: 39s - loss: 0.4455 - acc: 0.79 - ETA: 38s - loss: 0.4447 - acc: 0.79 - ETA: 38s - loss: 0.4452 - acc: 0.7958"
     ]
    },
    {
     "name": "stdout",
     "output_type": "stream",
     "text": [
      "10586/10586 [==============================] - ETA: 38s - loss: 0.4449 - acc: 0.79 - ETA: 37s - loss: 0.4444 - acc: 0.79 - ETA: 37s - loss: 0.4455 - acc: 0.79 - ETA: 37s - loss: 0.4450 - acc: 0.79 - ETA: 36s - loss: 0.4449 - acc: 0.79 - ETA: 36s - loss: 0.4445 - acc: 0.79 - ETA: 36s - loss: 0.4454 - acc: 0.79 - ETA: 35s - loss: 0.4451 - acc: 0.79 - ETA: 35s - loss: 0.4455 - acc: 0.79 - ETA: 35s - loss: 0.4455 - acc: 0.79 - ETA: 34s - loss: 0.4460 - acc: 0.79 - ETA: 34s - loss: 0.4460 - acc: 0.79 - ETA: 34s - loss: 0.4466 - acc: 0.79 - ETA: 33s - loss: 0.4466 - acc: 0.79 - ETA: 33s - loss: 0.4470 - acc: 0.79 - ETA: 33s - loss: 0.4468 - acc: 0.79 - ETA: 33s - loss: 0.4460 - acc: 0.79 - ETA: 32s - loss: 0.4464 - acc: 0.79 - ETA: 32s - loss: 0.4470 - acc: 0.79 - ETA: 32s - loss: 0.4472 - acc: 0.79 - ETA: 31s - loss: 0.4469 - acc: 0.79 - ETA: 31s - loss: 0.4466 - acc: 0.79 - ETA: 31s - loss: 0.4466 - acc: 0.79 - ETA: 30s - loss: 0.4469 - acc: 0.79 - ETA: 30s - loss: 0.4466 - acc: 0.79 - ETA: 30s - loss: 0.4472 - acc: 0.79 - ETA: 29s - loss: 0.4474 - acc: 0.79 - ETA: 29s - loss: 0.4473 - acc: 0.79 - ETA: 29s - loss: 0.4472 - acc: 0.79 - ETA: 28s - loss: 0.4472 - acc: 0.79 - ETA: 28s - loss: 0.4468 - acc: 0.79 - ETA: 28s - loss: 0.4461 - acc: 0.79 - ETA: 28s - loss: 0.4464 - acc: 0.79 - ETA: 27s - loss: 0.4461 - acc: 0.79 - ETA: 27s - loss: 0.4464 - acc: 0.79 - ETA: 27s - loss: 0.4466 - acc: 0.79 - ETA: 26s - loss: 0.4467 - acc: 0.79 - ETA: 26s - loss: 0.4463 - acc: 0.79 - ETA: 26s - loss: 0.4466 - acc: 0.79 - ETA: 25s - loss: 0.4467 - acc: 0.79 - ETA: 25s - loss: 0.4469 - acc: 0.79 - ETA: 25s - loss: 0.4465 - acc: 0.79 - ETA: 24s - loss: 0.4463 - acc: 0.79 - ETA: 24s - loss: 0.4466 - acc: 0.79 - ETA: 24s - loss: 0.4461 - acc: 0.79 - ETA: 24s - loss: 0.4463 - acc: 0.79 - ETA: 23s - loss: 0.4460 - acc: 0.79 - ETA: 23s - loss: 0.4462 - acc: 0.79 - ETA: 23s - loss: 0.4463 - acc: 0.79 - ETA: 22s - loss: 0.4465 - acc: 0.79 - ETA: 22s - loss: 0.4462 - acc: 0.79 - ETA: 22s - loss: 0.4456 - acc: 0.79 - ETA: 21s - loss: 0.4451 - acc: 0.79 - ETA: 21s - loss: 0.4454 - acc: 0.79 - ETA: 21s - loss: 0.4448 - acc: 0.79 - ETA: 20s - loss: 0.4450 - acc: 0.79 - ETA: 20s - loss: 0.4448 - acc: 0.79 - ETA: 20s - loss: 0.4451 - acc: 0.79 - ETA: 19s - loss: 0.4460 - acc: 0.79 - ETA: 19s - loss: 0.4456 - acc: 0.79 - ETA: 19s - loss: 0.4461 - acc: 0.79 - ETA: 19s - loss: 0.4465 - acc: 0.79 - ETA: 18s - loss: 0.4469 - acc: 0.79 - ETA: 18s - loss: 0.4468 - acc: 0.79 - ETA: 18s - loss: 0.4467 - acc: 0.79 - ETA: 17s - loss: 0.4467 - acc: 0.79 - ETA: 17s - loss: 0.4466 - acc: 0.79 - ETA: 17s - loss: 0.4462 - acc: 0.79 - ETA: 16s - loss: 0.4462 - acc: 0.79 - ETA: 16s - loss: 0.4466 - acc: 0.79 - ETA: 16s - loss: 0.4463 - acc: 0.79 - ETA: 15s - loss: 0.4461 - acc: 0.79 - ETA: 15s - loss: 0.4463 - acc: 0.79 - ETA: 15s - loss: 0.4462 - acc: 0.79 - ETA: 14s - loss: 0.4465 - acc: 0.79 - ETA: 14s - loss: 0.4472 - acc: 0.79 - ETA: 14s - loss: 0.4472 - acc: 0.79 - ETA: 14s - loss: 0.4480 - acc: 0.79 - ETA: 13s - loss: 0.4484 - acc: 0.79 - ETA: 13s - loss: 0.4479 - acc: 0.79 - ETA: 13s - loss: 0.4477 - acc: 0.79 - ETA: 12s - loss: 0.4481 - acc: 0.79 - ETA: 12s - loss: 0.4480 - acc: 0.79 - ETA: 12s - loss: 0.4480 - acc: 0.79 - ETA: 11s - loss: 0.4486 - acc: 0.79 - ETA: 11s - loss: 0.4481 - acc: 0.79 - ETA: 11s - loss: 0.4482 - acc: 0.79 - ETA: 10s - loss: 0.4481 - acc: 0.79 - ETA: 10s - loss: 0.4479 - acc: 0.79 - ETA: 10s - loss: 0.4479 - acc: 0.79 - ETA: 9s - loss: 0.4478 - acc: 0.7963 - ETA: 9s - loss: 0.4473 - acc: 0.796 - ETA: 9s - loss: 0.4466 - acc: 0.796 - ETA: 9s - loss: 0.4463 - acc: 0.797 - ETA: 8s - loss: 0.4459 - acc: 0.797 - ETA: 8s - loss: 0.4461 - acc: 0.797 - ETA: 8s - loss: 0.4462 - acc: 0.797 - ETA: 7s - loss: 0.4464 - acc: 0.796 - ETA: 7s - loss: 0.4462 - acc: 0.797 - ETA: 7s - loss: 0.4464 - acc: 0.797 - ETA: 6s - loss: 0.4469 - acc: 0.796 - ETA: 6s - loss: 0.4482 - acc: 0.795 - ETA: 6s - loss: 0.4486 - acc: 0.795 - ETA: 5s - loss: 0.4484 - acc: 0.795 - ETA: 5s - loss: 0.4483 - acc: 0.795 - ETA: 5s - loss: 0.4488 - acc: 0.795 - ETA: 4s - loss: 0.4487 - acc: 0.795 - ETA: 4s - loss: 0.4487 - acc: 0.795 - ETA: 4s - loss: 0.4484 - acc: 0.795 - ETA: 4s - loss: 0.4481 - acc: 0.795 - ETA: 3s - loss: 0.4488 - acc: 0.795 - ETA: 3s - loss: 0.4485 - acc: 0.796 - ETA: 3s - loss: 0.4482 - acc: 0.796 - ETA: 2s - loss: 0.4477 - acc: 0.796 - ETA: 2s - loss: 0.4480 - acc: 0.796 - ETA: 2s - loss: 0.4477 - acc: 0.796 - ETA: 1s - loss: 0.4476 - acc: 0.796 - ETA: 1s - loss: 0.4474 - acc: 0.796 - ETA: 1s - loss: 0.4473 - acc: 0.796 - ETA: 0s - loss: 0.4478 - acc: 0.796 - ETA: 0s - loss: 0.4481 - acc: 0.796 - ETA: 0s - loss: 0.4482 - acc: 0.796 - 109s 10ms/step - loss: 0.4481 - acc: 0.7961 - val_loss: 0.5101 - val_acc: 0.7594\n",
      "Epoch 3/10\n",
      " 6624/10586 [=================>............] - ETA: 1:34 - loss: 0.4284 - acc: 0.812 - ETA: 1:41 - loss: 0.3974 - acc: 0.843 - ETA: 1:41 - loss: 0.3615 - acc: 0.854 - ETA: 1:42 - loss: 0.3327 - acc: 0.882 - ETA: 1:42 - loss: 0.3330 - acc: 0.881 - ETA: 1:42 - loss: 0.3393 - acc: 0.885 - ETA: 1:41 - loss: 0.3253 - acc: 0.892 - ETA: 1:41 - loss: 0.3316 - acc: 0.882 - ETA: 1:40 - loss: 0.3203 - acc: 0.881 - ETA: 1:40 - loss: 0.3170 - acc: 0.884 - ETA: 1:40 - loss: 0.3169 - acc: 0.883 - ETA: 1:40 - loss: 0.3158 - acc: 0.882 - ETA: 1:39 - loss: 0.3167 - acc: 0.882 - ETA: 1:39 - loss: 0.3110 - acc: 0.886 - ETA: 1:39 - loss: 0.3163 - acc: 0.883 - ETA: 1:38 - loss: 0.3132 - acc: 0.884 - ETA: 1:38 - loss: 0.3131 - acc: 0.884 - ETA: 1:38 - loss: 0.3095 - acc: 0.885 - ETA: 1:38 - loss: 0.3129 - acc: 0.879 - ETA: 1:37 - loss: 0.3100 - acc: 0.881 - ETA: 1:37 - loss: 0.3056 - acc: 0.885 - ETA: 1:37 - loss: 0.3093 - acc: 0.879 - ETA: 1:36 - loss: 0.3089 - acc: 0.877 - ETA: 1:36 - loss: 0.3075 - acc: 0.876 - ETA: 1:36 - loss: 0.3077 - acc: 0.875 - ETA: 1:35 - loss: 0.3069 - acc: 0.875 - ETA: 1:35 - loss: 0.3072 - acc: 0.873 - ETA: 1:35 - loss: 0.3054 - acc: 0.872 - ETA: 1:34 - loss: 0.3085 - acc: 0.871 - ETA: 1:34 - loss: 0.3102 - acc: 0.869 - ETA: 1:34 - loss: 0.3118 - acc: 0.870 - ETA: 1:34 - loss: 0.3109 - acc: 0.871 - ETA: 1:33 - loss: 0.3100 - acc: 0.871 - ETA: 1:33 - loss: 0.3107 - acc: 0.869 - ETA: 1:32 - loss: 0.3084 - acc: 0.869 - ETA: 1:32 - loss: 0.3084 - acc: 0.869 - ETA: 1:32 - loss: 0.3075 - acc: 0.869 - ETA: 1:31 - loss: 0.3061 - acc: 0.871 - ETA: 1:31 - loss: 0.3058 - acc: 0.871 - ETA: 1:31 - loss: 0.3033 - acc: 0.873 - ETA: 1:30 - loss: 0.3049 - acc: 0.872 - ETA: 1:30 - loss: 0.3028 - acc: 0.873 - ETA: 1:30 - loss: 0.3032 - acc: 0.874 - ETA: 1:29 - loss: 0.3017 - acc: 0.876 - ETA: 1:29 - loss: 0.3028 - acc: 0.875 - ETA: 1:29 - loss: 0.3000 - acc: 0.877 - ETA: 1:28 - loss: 0.2977 - acc: 0.879 - ETA: 1:28 - loss: 0.2948 - acc: 0.881 - ETA: 1:28 - loss: 0.2947 - acc: 0.881 - ETA: 1:27 - loss: 0.2965 - acc: 0.879 - ETA: 1:27 - loss: 0.2985 - acc: 0.878 - ETA: 1:27 - loss: 0.3006 - acc: 0.878 - ETA: 1:27 - loss: 0.2987 - acc: 0.879 - ETA: 1:26 - loss: 0.2970 - acc: 0.880 - ETA: 1:26 - loss: 0.2960 - acc: 0.880 - ETA: 1:26 - loss: 0.2967 - acc: 0.880 - ETA: 1:25 - loss: 0.2957 - acc: 0.881 - ETA: 1:25 - loss: 0.2967 - acc: 0.879 - ETA: 1:25 - loss: 0.2939 - acc: 0.881 - ETA: 1:24 - loss: 0.2934 - acc: 0.882 - ETA: 1:24 - loss: 0.2955 - acc: 0.881 - ETA: 1:24 - loss: 0.2925 - acc: 0.883 - ETA: 1:23 - loss: 0.2912 - acc: 0.884 - ETA: 1:23 - loss: 0.2913 - acc: 0.884 - ETA: 1:23 - loss: 0.2923 - acc: 0.883 - ETA: 1:23 - loss: 0.2908 - acc: 0.883 - ETA: 1:22 - loss: 0.2910 - acc: 0.882 - ETA: 1:22 - loss: 0.2901 - acc: 0.883 - ETA: 1:22 - loss: 0.2897 - acc: 0.884 - ETA: 1:21 - loss: 0.2889 - acc: 0.884 - ETA: 1:21 - loss: 0.2906 - acc: 0.884 - ETA: 1:21 - loss: 0.2903 - acc: 0.884 - ETA: 1:21 - loss: 0.2899 - acc: 0.884 - ETA: 1:21 - loss: 0.2953 - acc: 0.883 - ETA: 1:21 - loss: 0.2967 - acc: 0.882 - ETA: 1:20 - loss: 0.2974 - acc: 0.882 - ETA: 1:20 - loss: 0.2972 - acc: 0.882 - ETA: 1:20 - loss: 0.2973 - acc: 0.882 - ETA: 1:20 - loss: 0.2962 - acc: 0.882 - ETA: 1:20 - loss: 0.2960 - acc: 0.882 - ETA: 1:20 - loss: 0.2956 - acc: 0.882 - ETA: 1:20 - loss: 0.2947 - acc: 0.882 - ETA: 1:20 - loss: 0.2964 - acc: 0.880 - ETA: 1:20 - loss: 0.2950 - acc: 0.881 - ETA: 1:20 - loss: 0.2944 - acc: 0.881 - ETA: 1:20 - loss: 0.2957 - acc: 0.881 - ETA: 1:20 - loss: 0.2969 - acc: 0.879 - ETA: 1:20 - loss: 0.2973 - acc: 0.879 - ETA: 1:19 - loss: 0.2963 - acc: 0.880 - ETA: 1:19 - loss: 0.2970 - acc: 0.879 - ETA: 1:19 - loss: 0.2962 - acc: 0.880 - ETA: 1:19 - loss: 0.2960 - acc: 0.880 - ETA: 1:18 - loss: 0.2959 - acc: 0.881 - ETA: 1:18 - loss: 0.2962 - acc: 0.881 - ETA: 1:18 - loss: 0.2953 - acc: 0.881 - ETA: 1:17 - loss: 0.2938 - acc: 0.882 - ETA: 1:17 - loss: 0.2929 - acc: 0.883 - ETA: 1:17 - loss: 0.2929 - acc: 0.883 - ETA: 1:16 - loss: 0.2936 - acc: 0.883 - ETA: 1:16 - loss: 0.2940 - acc: 0.882 - ETA: 1:16 - loss: 0.2954 - acc: 0.881 - ETA: 1:15 - loss: 0.2951 - acc: 0.881 - ETA: 1:15 - loss: 0.2943 - acc: 0.881 - ETA: 1:15 - loss: 0.2929 - acc: 0.882 - ETA: 1:14 - loss: 0.2920 - acc: 0.882 - ETA: 1:14 - loss: 0.2916 - acc: 0.883 - ETA: 1:13 - loss: 0.2911 - acc: 0.883 - ETA: 1:13 - loss: 0.2909 - acc: 0.884 - ETA: 1:13 - loss: 0.2917 - acc: 0.883 - ETA: 1:12 - loss: 0.2920 - acc: 0.883 - ETA: 1:12 - loss: 0.2913 - acc: 0.883 - ETA: 1:12 - loss: 0.2899 - acc: 0.884 - ETA: 1:11 - loss: 0.2897 - acc: 0.885 - ETA: 1:11 - loss: 0.2896 - acc: 0.884 - ETA: 1:11 - loss: 0.2905 - acc: 0.884 - ETA: 1:10 - loss: 0.2921 - acc: 0.883 - ETA: 1:10 - loss: 0.2916 - acc: 0.883 - ETA: 1:10 - loss: 0.2915 - acc: 0.884 - ETA: 1:09 - loss: 0.2916 - acc: 0.883 - ETA: 1:09 - loss: 0.2918 - acc: 0.883 - ETA: 1:09 - loss: 0.2916 - acc: 0.883 - ETA: 1:08 - loss: 0.2924 - acc: 0.882 - ETA: 1:08 - loss: 0.2924 - acc: 0.882 - ETA: 1:08 - loss: 0.2927 - acc: 0.882 - ETA: 1:07 - loss: 0.2916 - acc: 0.883 - ETA: 1:07 - loss: 0.2934 - acc: 0.882 - ETA: 1:07 - loss: 0.2933 - acc: 0.882 - ETA: 1:06 - loss: 0.2932 - acc: 0.882 - ETA: 1:06 - loss: 0.2930 - acc: 0.882 - ETA: 1:06 - loss: 0.2919 - acc: 0.883 - ETA: 1:05 - loss: 0.2923 - acc: 0.883 - ETA: 1:05 - loss: 0.2929 - acc: 0.882 - ETA: 1:05 - loss: 0.2926 - acc: 0.883 - ETA: 1:04 - loss: 0.2927 - acc: 0.882 - ETA: 1:04 - loss: 0.2916 - acc: 0.883 - ETA: 1:03 - loss: 0.2910 - acc: 0.884 - ETA: 1:03 - loss: 0.2906 - acc: 0.884 - ETA: 1:03 - loss: 0.2905 - acc: 0.884 - ETA: 1:02 - loss: 0.2908 - acc: 0.883 - ETA: 1:02 - loss: 0.2918 - acc: 0.883 - ETA: 1:02 - loss: 0.2925 - acc: 0.884 - ETA: 1:01 - loss: 0.2931 - acc: 0.883 - ETA: 1:01 - loss: 0.2932 - acc: 0.883 - ETA: 1:01 - loss: 0.2941 - acc: 0.883 - ETA: 1:00 - loss: 0.2945 - acc: 0.883 - ETA: 1:00 - loss: 0.2959 - acc: 0.881 - ETA: 1:00 - loss: 0.2957 - acc: 0.882 - ETA: 59s - loss: 0.2956 - acc: 0.882 - ETA: 59s - loss: 0.2953 - acc: 0.88 - ETA: 59s - loss: 0.2953 - acc: 0.88 - ETA: 58s - loss: 0.2948 - acc: 0.88 - ETA: 58s - loss: 0.2952 - acc: 0.88 - ETA: 58s - loss: 0.2967 - acc: 0.88 - ETA: 57s - loss: 0.2958 - acc: 0.88 - ETA: 57s - loss: 0.2954 - acc: 0.88 - ETA: 57s - loss: 0.2947 - acc: 0.88 - ETA: 56s - loss: 0.2946 - acc: 0.88 - ETA: 56s - loss: 0.2939 - acc: 0.88 - ETA: 56s - loss: 0.2933 - acc: 0.88 - ETA: 55s - loss: 0.2933 - acc: 0.88 - ETA: 55s - loss: 0.2939 - acc: 0.88 - ETA: 55s - loss: 0.2945 - acc: 0.88 - ETA: 54s - loss: 0.2936 - acc: 0.88 - ETA: 54s - loss: 0.2937 - acc: 0.88 - ETA: 54s - loss: 0.2933 - acc: 0.88 - ETA: 53s - loss: 0.2942 - acc: 0.88 - ETA: 53s - loss: 0.2951 - acc: 0.88 - ETA: 53s - loss: 0.2955 - acc: 0.88 - ETA: 52s - loss: 0.2960 - acc: 0.88 - ETA: 52s - loss: 0.2958 - acc: 0.88 - ETA: 52s - loss: 0.2959 - acc: 0.88 - ETA: 51s - loss: 0.2953 - acc: 0.88 - ETA: 51s - loss: 0.2945 - acc: 0.88 - ETA: 51s - loss: 0.2943 - acc: 0.88 - ETA: 50s - loss: 0.2937 - acc: 0.88 - ETA: 50s - loss: 0.2939 - acc: 0.88 - ETA: 50s - loss: 0.2939 - acc: 0.88 - ETA: 49s - loss: 0.2938 - acc: 0.88 - ETA: 49s - loss: 0.2933 - acc: 0.88 - ETA: 49s - loss: 0.2929 - acc: 0.88 - ETA: 48s - loss: 0.2928 - acc: 0.88 - ETA: 48s - loss: 0.2932 - acc: 0.88 - ETA: 48s - loss: 0.2936 - acc: 0.88 - ETA: 47s - loss: 0.2925 - acc: 0.88 - ETA: 47s - loss: 0.2919 - acc: 0.88 - ETA: 47s - loss: 0.2930 - acc: 0.88 - ETA: 46s - loss: 0.2923 - acc: 0.88 - ETA: 46s - loss: 0.2922 - acc: 0.88 - ETA: 46s - loss: 0.2923 - acc: 0.88 - ETA: 45s - loss: 0.2918 - acc: 0.88 - ETA: 45s - loss: 0.2916 - acc: 0.88 - ETA: 45s - loss: 0.2919 - acc: 0.88 - ETA: 44s - loss: 0.2920 - acc: 0.88 - ETA: 44s - loss: 0.2917 - acc: 0.88 - ETA: 44s - loss: 0.2924 - acc: 0.88 - ETA: 43s - loss: 0.2926 - acc: 0.88 - ETA: 43s - loss: 0.2916 - acc: 0.88 - ETA: 43s - loss: 0.2912 - acc: 0.88 - ETA: 42s - loss: 0.2909 - acc: 0.88 - ETA: 42s - loss: 0.2909 - acc: 0.88 - ETA: 42s - loss: 0.2910 - acc: 0.88 - ETA: 41s - loss: 0.2908 - acc: 0.88 - ETA: 41s - loss: 0.2901 - acc: 0.88 - ETA: 41s - loss: 0.2897 - acc: 0.88 - ETA: 40s - loss: 0.2891 - acc: 0.88 - ETA: 40s - loss: 0.2886 - acc: 0.88 - ETA: 40s - loss: 0.2879 - acc: 0.885910586/10586 [==============================] - ETA: 40s - loss: 0.2873 - acc: 0.88 - ETA: 39s - loss: 0.2873 - acc: 0.88 - ETA: 39s - loss: 0.2872 - acc: 0.88 - ETA: 39s - loss: 0.2873 - acc: 0.88 - ETA: 38s - loss: 0.2865 - acc: 0.88 - ETA: 38s - loss: 0.2865 - acc: 0.88 - ETA: 38s - loss: 0.2864 - acc: 0.88 - ETA: 37s - loss: 0.2857 - acc: 0.88 - ETA: 37s - loss: 0.2856 - acc: 0.88 - ETA: 37s - loss: 0.2855 - acc: 0.88 - ETA: 36s - loss: 0.2861 - acc: 0.88 - ETA: 36s - loss: 0.2862 - acc: 0.88 - ETA: 36s - loss: 0.2856 - acc: 0.88 - ETA: 35s - loss: 0.2858 - acc: 0.88 - ETA: 35s - loss: 0.2867 - acc: 0.88 - ETA: 35s - loss: 0.2865 - acc: 0.88 - ETA: 34s - loss: 0.2872 - acc: 0.88 - ETA: 34s - loss: 0.2870 - acc: 0.88 - ETA: 34s - loss: 0.2870 - acc: 0.88 - ETA: 33s - loss: 0.2863 - acc: 0.88 - ETA: 33s - loss: 0.2858 - acc: 0.88 - ETA: 33s - loss: 0.2863 - acc: 0.88 - ETA: 32s - loss: 0.2859 - acc: 0.88 - ETA: 32s - loss: 0.2868 - acc: 0.88 - ETA: 32s - loss: 0.2865 - acc: 0.88 - ETA: 31s - loss: 0.2866 - acc: 0.88 - ETA: 31s - loss: 0.2862 - acc: 0.88 - ETA: 31s - loss: 0.2858 - acc: 0.88 - ETA: 30s - loss: 0.2869 - acc: 0.88 - ETA: 30s - loss: 0.2864 - acc: 0.88 - ETA: 30s - loss: 0.2864 - acc: 0.88 - ETA: 30s - loss: 0.2860 - acc: 0.88 - ETA: 29s - loss: 0.2858 - acc: 0.88 - ETA: 29s - loss: 0.2859 - acc: 0.88 - ETA: 29s - loss: 0.2858 - acc: 0.88 - ETA: 28s - loss: 0.2863 - acc: 0.88 - ETA: 28s - loss: 0.2856 - acc: 0.88 - ETA: 28s - loss: 0.2866 - acc: 0.88 - ETA: 27s - loss: 0.2865 - acc: 0.88 - ETA: 27s - loss: 0.2860 - acc: 0.88 - ETA: 27s - loss: 0.2867 - acc: 0.88 - ETA: 26s - loss: 0.2869 - acc: 0.88 - ETA: 26s - loss: 0.2866 - acc: 0.88 - ETA: 26s - loss: 0.2861 - acc: 0.88 - ETA: 25s - loss: 0.2859 - acc: 0.88 - ETA: 25s - loss: 0.2860 - acc: 0.88 - ETA: 25s - loss: 0.2853 - acc: 0.88 - ETA: 24s - loss: 0.2856 - acc: 0.88 - ETA: 24s - loss: 0.2867 - acc: 0.88 - ETA: 24s - loss: 0.2868 - acc: 0.88 - ETA: 23s - loss: 0.2869 - acc: 0.88 - ETA: 23s - loss: 0.2864 - acc: 0.88 - ETA: 23s - loss: 0.2870 - acc: 0.88 - ETA: 23s - loss: 0.2872 - acc: 0.88 - ETA: 22s - loss: 0.2881 - acc: 0.88 - ETA: 22s - loss: 0.2881 - acc: 0.88 - ETA: 22s - loss: 0.2877 - acc: 0.88 - ETA: 21s - loss: 0.2882 - acc: 0.88 - ETA: 21s - loss: 0.2883 - acc: 0.88 - ETA: 21s - loss: 0.2880 - acc: 0.88 - ETA: 20s - loss: 0.2880 - acc: 0.88 - ETA: 20s - loss: 0.2878 - acc: 0.88 - ETA: 20s - loss: 0.2879 - acc: 0.88 - ETA: 19s - loss: 0.2877 - acc: 0.88 - ETA: 19s - loss: 0.2878 - acc: 0.88 - ETA: 19s - loss: 0.2878 - acc: 0.88 - ETA: 18s - loss: 0.2878 - acc: 0.88 - ETA: 18s - loss: 0.2876 - acc: 0.88 - ETA: 18s - loss: 0.2884 - acc: 0.88 - ETA: 17s - loss: 0.2879 - acc: 0.88 - ETA: 17s - loss: 0.2883 - acc: 0.88 - ETA: 17s - loss: 0.2883 - acc: 0.88 - ETA: 17s - loss: 0.2885 - acc: 0.88 - ETA: 16s - loss: 0.2888 - acc: 0.88 - ETA: 16s - loss: 0.2889 - acc: 0.88 - ETA: 16s - loss: 0.2888 - acc: 0.88 - ETA: 15s - loss: 0.2885 - acc: 0.88 - ETA: 15s - loss: 0.2884 - acc: 0.88 - ETA: 15s - loss: 0.2880 - acc: 0.88 - ETA: 14s - loss: 0.2875 - acc: 0.88 - ETA: 14s - loss: 0.2877 - acc: 0.88 - ETA: 14s - loss: 0.2881 - acc: 0.88 - ETA: 13s - loss: 0.2879 - acc: 0.88 - ETA: 13s - loss: 0.2883 - acc: 0.88 - ETA: 13s - loss: 0.2889 - acc: 0.88 - ETA: 12s - loss: 0.2890 - acc: 0.88 - ETA: 12s - loss: 0.2887 - acc: 0.88 - ETA: 12s - loss: 0.2885 - acc: 0.88 - ETA: 11s - loss: 0.2883 - acc: 0.88 - ETA: 11s - loss: 0.2883 - acc: 0.88 - ETA: 11s - loss: 0.2883 - acc: 0.88 - ETA: 10s - loss: 0.2883 - acc: 0.88 - ETA: 10s - loss: 0.2879 - acc: 0.88 - ETA: 10s - loss: 0.2877 - acc: 0.88 - ETA: 9s - loss: 0.2879 - acc: 0.8853 - ETA: 9s - loss: 0.2884 - acc: 0.885 - ETA: 9s - loss: 0.2889 - acc: 0.884 - ETA: 8s - loss: 0.2885 - acc: 0.885 - ETA: 8s - loss: 0.2886 - acc: 0.884 - ETA: 8s - loss: 0.2888 - acc: 0.884 - ETA: 7s - loss: 0.2890 - acc: 0.884 - ETA: 7s - loss: 0.2887 - acc: 0.884 - ETA: 6s - loss: 0.2891 - acc: 0.884 - ETA: 6s - loss: 0.2895 - acc: 0.884 - ETA: 6s - loss: 0.2895 - acc: 0.884 - ETA: 5s - loss: 0.2893 - acc: 0.884 - ETA: 5s - loss: 0.2892 - acc: 0.884 - ETA: 5s - loss: 0.2897 - acc: 0.883 - ETA: 4s - loss: 0.2896 - acc: 0.883 - ETA: 4s - loss: 0.2892 - acc: 0.884 - ETA: 4s - loss: 0.2894 - acc: 0.883 - ETA: 3s - loss: 0.2889 - acc: 0.884 - ETA: 3s - loss: 0.2889 - acc: 0.884 - ETA: 3s - loss: 0.2889 - acc: 0.884 - ETA: 2s - loss: 0.2890 - acc: 0.884 - ETA: 2s - loss: 0.2891 - acc: 0.884 - ETA: 2s - loss: 0.2890 - acc: 0.884 - ETA: 1s - loss: 0.2889 - acc: 0.884 - ETA: 1s - loss: 0.2889 - acc: 0.884 - ETA: 1s - loss: 0.2886 - acc: 0.884 - ETA: 0s - loss: 0.2888 - acc: 0.884 - ETA: 0s - loss: 0.2894 - acc: 0.884 - ETA: 0s - loss: 0.2893 - acc: 0.884 - 116s 11ms/step - loss: 0.2889 - acc: 0.8846 - val_loss: 0.5961 - val_acc: 0.7526\n",
      "Epoch 4/10\n"
     ]
    },
    {
     "name": "stdout",
     "output_type": "stream",
     "text": [
      " 6624/10586 [=================>............] - ETA: 1:34 - loss: 0.1126 - acc: 0.968 - ETA: 1:38 - loss: 0.1102 - acc: 0.968 - ETA: 1:41 - loss: 0.0961 - acc: 0.979 - ETA: 1:42 - loss: 0.0934 - acc: 0.984 - ETA: 1:42 - loss: 0.0986 - acc: 0.975 - ETA: 1:41 - loss: 0.1030 - acc: 0.974 - ETA: 1:41 - loss: 0.1020 - acc: 0.973 - ETA: 1:40 - loss: 0.1111 - acc: 0.972 - ETA: 1:40 - loss: 0.1286 - acc: 0.965 - ETA: 1:40 - loss: 0.1275 - acc: 0.965 - ETA: 1:39 - loss: 0.1401 - acc: 0.957 - ETA: 1:40 - loss: 0.1350 - acc: 0.960 - ETA: 1:39 - loss: 0.1345 - acc: 0.961 - ETA: 1:39 - loss: 0.1348 - acc: 0.962 - ETA: 1:39 - loss: 0.1294 - acc: 0.964 - ETA: 1:39 - loss: 0.1320 - acc: 0.962 - ETA: 1:38 - loss: 0.1340 - acc: 0.959 - ETA: 1:38 - loss: 0.1312 - acc: 0.960 - ETA: 1:37 - loss: 0.1277 - acc: 0.962 - ETA: 1:37 - loss: 0.1235 - acc: 0.962 - ETA: 1:37 - loss: 0.1217 - acc: 0.962 - ETA: 1:36 - loss: 0.1179 - acc: 0.964 - ETA: 1:36 - loss: 0.1268 - acc: 0.959 - ETA: 1:36 - loss: 0.1262 - acc: 0.959 - ETA: 1:35 - loss: 0.1237 - acc: 0.961 - ETA: 1:35 - loss: 0.1219 - acc: 0.961 - ETA: 1:35 - loss: 0.1226 - acc: 0.959 - ETA: 1:35 - loss: 0.1226 - acc: 0.960 - ETA: 1:35 - loss: 0.1262 - acc: 0.960 - ETA: 1:34 - loss: 0.1266 - acc: 0.959 - ETA: 1:34 - loss: 0.1277 - acc: 0.959 - ETA: 1:34 - loss: 0.1263 - acc: 0.960 - ETA: 1:34 - loss: 0.1288 - acc: 0.958 - ETA: 1:34 - loss: 0.1278 - acc: 0.958 - ETA: 1:33 - loss: 0.1292 - acc: 0.958 - ETA: 1:33 - loss: 0.1298 - acc: 0.958 - ETA: 1:33 - loss: 0.1291 - acc: 0.957 - ETA: 1:33 - loss: 0.1285 - acc: 0.958 - ETA: 1:32 - loss: 0.1276 - acc: 0.957 - ETA: 1:32 - loss: 0.1284 - acc: 0.957 - ETA: 1:32 - loss: 0.1283 - acc: 0.957 - ETA: 1:31 - loss: 0.1269 - acc: 0.958 - ETA: 1:31 - loss: 0.1264 - acc: 0.958 - ETA: 1:31 - loss: 0.1264 - acc: 0.958 - ETA: 1:31 - loss: 0.1265 - acc: 0.959 - ETA: 1:30 - loss: 0.1286 - acc: 0.959 - ETA: 1:30 - loss: 0.1306 - acc: 0.958 - ETA: 1:30 - loss: 0.1302 - acc: 0.958 - ETA: 1:29 - loss: 0.1308 - acc: 0.957 - ETA: 1:29 - loss: 0.1292 - acc: 0.958 - ETA: 1:29 - loss: 0.1281 - acc: 0.959 - ETA: 1:28 - loss: 0.1266 - acc: 0.960 - ETA: 1:28 - loss: 0.1260 - acc: 0.959 - ETA: 1:28 - loss: 0.1272 - acc: 0.958 - ETA: 1:28 - loss: 0.1260 - acc: 0.959 - ETA: 1:27 - loss: 0.1258 - acc: 0.959 - ETA: 1:27 - loss: 0.1242 - acc: 0.960 - ETA: 1:27 - loss: 0.1255 - acc: 0.960 - ETA: 1:26 - loss: 0.1252 - acc: 0.960 - ETA: 1:26 - loss: 0.1240 - acc: 0.960 - ETA: 1:26 - loss: 0.1243 - acc: 0.961 - ETA: 1:25 - loss: 0.1243 - acc: 0.960 - ETA: 1:25 - loss: 0.1249 - acc: 0.960 - ETA: 1:25 - loss: 0.1239 - acc: 0.960 - ETA: 1:25 - loss: 0.1242 - acc: 0.960 - ETA: 1:24 - loss: 0.1233 - acc: 0.960 - ETA: 1:24 - loss: 0.1252 - acc: 0.959 - ETA: 1:24 - loss: 0.1245 - acc: 0.960 - ETA: 1:23 - loss: 0.1242 - acc: 0.960 - ETA: 1:23 - loss: 0.1241 - acc: 0.960 - ETA: 1:23 - loss: 0.1241 - acc: 0.959 - ETA: 1:22 - loss: 0.1242 - acc: 0.959 - ETA: 1:22 - loss: 0.1248 - acc: 0.958 - ETA: 1:22 - loss: 0.1245 - acc: 0.958 - ETA: 1:21 - loss: 0.1236 - acc: 0.958 - ETA: 1:21 - loss: 0.1225 - acc: 0.959 - ETA: 1:21 - loss: 0.1215 - acc: 0.959 - ETA: 1:20 - loss: 0.1206 - acc: 0.959 - ETA: 1:20 - loss: 0.1212 - acc: 0.959 - ETA: 1:20 - loss: 0.1209 - acc: 0.959 - ETA: 1:20 - loss: 0.1218 - acc: 0.959 - ETA: 1:19 - loss: 0.1232 - acc: 0.958 - ETA: 1:19 - loss: 0.1228 - acc: 0.958 - ETA: 1:19 - loss: 0.1223 - acc: 0.958 - ETA: 1:18 - loss: 0.1228 - acc: 0.958 - ETA: 1:18 - loss: 0.1241 - acc: 0.957 - ETA: 1:17 - loss: 0.1234 - acc: 0.958 - ETA: 1:17 - loss: 0.1233 - acc: 0.958 - ETA: 1:17 - loss: 0.1226 - acc: 0.958 - ETA: 1:17 - loss: 0.1221 - acc: 0.958 - ETA: 1:16 - loss: 0.1214 - acc: 0.959 - ETA: 1:16 - loss: 0.1206 - acc: 0.959 - ETA: 1:16 - loss: 0.1202 - acc: 0.959 - ETA: 1:15 - loss: 0.1194 - acc: 0.959 - ETA: 1:15 - loss: 0.1185 - acc: 0.960 - ETA: 1:15 - loss: 0.1179 - acc: 0.960 - ETA: 1:14 - loss: 0.1171 - acc: 0.961 - ETA: 1:14 - loss: 0.1166 - acc: 0.961 - ETA: 1:14 - loss: 0.1164 - acc: 0.960 - ETA: 1:14 - loss: 0.1160 - acc: 0.960 - ETA: 1:13 - loss: 0.1159 - acc: 0.961 - ETA: 1:13 - loss: 0.1153 - acc: 0.961 - ETA: 1:13 - loss: 0.1152 - acc: 0.961 - ETA: 1:12 - loss: 0.1152 - acc: 0.961 - ETA: 1:12 - loss: 0.1145 - acc: 0.961 - ETA: 1:12 - loss: 0.1137 - acc: 0.962 - ETA: 1:11 - loss: 0.1130 - acc: 0.962 - ETA: 1:11 - loss: 0.1128 - acc: 0.962 - ETA: 1:11 - loss: 0.1137 - acc: 0.961 - ETA: 1:10 - loss: 0.1132 - acc: 0.961 - ETA: 1:10 - loss: 0.1135 - acc: 0.961 - ETA: 1:10 - loss: 0.1126 - acc: 0.961 - ETA: 1:09 - loss: 0.1122 - acc: 0.961 - ETA: 1:09 - loss: 0.1124 - acc: 0.961 - ETA: 1:09 - loss: 0.1125 - acc: 0.961 - ETA: 1:09 - loss: 0.1140 - acc: 0.960 - ETA: 1:08 - loss: 0.1134 - acc: 0.961 - ETA: 1:08 - loss: 0.1143 - acc: 0.960 - ETA: 1:08 - loss: 0.1141 - acc: 0.960 - ETA: 1:07 - loss: 0.1134 - acc: 0.960 - ETA: 1:07 - loss: 0.1132 - acc: 0.961 - ETA: 1:07 - loss: 0.1136 - acc: 0.960 - ETA: 1:06 - loss: 0.1133 - acc: 0.960 - ETA: 1:06 - loss: 0.1135 - acc: 0.960 - ETA: 1:06 - loss: 0.1133 - acc: 0.960 - ETA: 1:05 - loss: 0.1127 - acc: 0.960 - ETA: 1:05 - loss: 0.1130 - acc: 0.960 - ETA: 1:05 - loss: 0.1123 - acc: 0.961 - ETA: 1:04 - loss: 0.1120 - acc: 0.961 - ETA: 1:04 - loss: 0.1116 - acc: 0.961 - ETA: 1:04 - loss: 0.1112 - acc: 0.961 - ETA: 1:04 - loss: 0.1116 - acc: 0.961 - ETA: 1:03 - loss: 0.1113 - acc: 0.961 - ETA: 1:03 - loss: 0.1117 - acc: 0.961 - ETA: 1:03 - loss: 0.1134 - acc: 0.960 - ETA: 1:02 - loss: 0.1127 - acc: 0.960 - ETA: 1:02 - loss: 0.1124 - acc: 0.961 - ETA: 1:02 - loss: 0.1133 - acc: 0.960 - ETA: 1:01 - loss: 0.1128 - acc: 0.960 - ETA: 1:01 - loss: 0.1125 - acc: 0.960 - ETA: 1:01 - loss: 0.1133 - acc: 0.960 - ETA: 1:00 - loss: 0.1134 - acc: 0.960 - ETA: 1:00 - loss: 0.1136 - acc: 0.960 - ETA: 1:00 - loss: 0.1135 - acc: 0.960 - ETA: 59s - loss: 0.1134 - acc: 0.960 - ETA: 59s - loss: 0.1129 - acc: 0.96 - ETA: 59s - loss: 0.1127 - acc: 0.96 - ETA: 58s - loss: 0.1137 - acc: 0.96 - ETA: 58s - loss: 0.1136 - acc: 0.96 - ETA: 58s - loss: 0.1146 - acc: 0.96 - ETA: 57s - loss: 0.1152 - acc: 0.96 - ETA: 57s - loss: 0.1150 - acc: 0.96 - ETA: 57s - loss: 0.1150 - acc: 0.96 - ETA: 56s - loss: 0.1156 - acc: 0.95 - ETA: 56s - loss: 0.1159 - acc: 0.95 - ETA: 56s - loss: 0.1163 - acc: 0.95 - ETA: 55s - loss: 0.1163 - acc: 0.95 - ETA: 55s - loss: 0.1160 - acc: 0.95 - ETA: 55s - loss: 0.1169 - acc: 0.95 - ETA: 54s - loss: 0.1172 - acc: 0.95 - ETA: 54s - loss: 0.1172 - acc: 0.95 - ETA: 54s - loss: 0.1167 - acc: 0.95 - ETA: 54s - loss: 0.1164 - acc: 0.95 - ETA: 53s - loss: 0.1161 - acc: 0.95 - ETA: 53s - loss: 0.1158 - acc: 0.95 - ETA: 53s - loss: 0.1159 - acc: 0.95 - ETA: 52s - loss: 0.1156 - acc: 0.95 - ETA: 52s - loss: 0.1153 - acc: 0.96 - ETA: 52s - loss: 0.1147 - acc: 0.96 - ETA: 51s - loss: 0.1145 - acc: 0.96 - ETA: 51s - loss: 0.1143 - acc: 0.96 - ETA: 51s - loss: 0.1138 - acc: 0.96 - ETA: 50s - loss: 0.1136 - acc: 0.96 - ETA: 50s - loss: 0.1149 - acc: 0.96 - ETA: 50s - loss: 0.1147 - acc: 0.96 - ETA: 49s - loss: 0.1146 - acc: 0.96 - ETA: 49s - loss: 0.1147 - acc: 0.96 - ETA: 49s - loss: 0.1148 - acc: 0.96 - ETA: 48s - loss: 0.1143 - acc: 0.96 - ETA: 48s - loss: 0.1141 - acc: 0.96 - ETA: 48s - loss: 0.1140 - acc: 0.96 - ETA: 47s - loss: 0.1142 - acc: 0.96 - ETA: 47s - loss: 0.1148 - acc: 0.96 - ETA: 47s - loss: 0.1146 - acc: 0.96 - ETA: 46s - loss: 0.1147 - acc: 0.96 - ETA: 46s - loss: 0.1146 - acc: 0.96 - ETA: 46s - loss: 0.1156 - acc: 0.96 - ETA: 45s - loss: 0.1162 - acc: 0.95 - ETA: 45s - loss: 0.1170 - acc: 0.95 - ETA: 45s - loss: 0.1165 - acc: 0.95 - ETA: 44s - loss: 0.1162 - acc: 0.95 - ETA: 44s - loss: 0.1172 - acc: 0.95 - ETA: 44s - loss: 0.1170 - acc: 0.95 - ETA: 43s - loss: 0.1166 - acc: 0.95 - ETA: 43s - loss: 0.1165 - acc: 0.95 - ETA: 43s - loss: 0.1160 - acc: 0.95 - ETA: 42s - loss: 0.1167 - acc: 0.95 - ETA: 42s - loss: 0.1170 - acc: 0.95 - ETA: 42s - loss: 0.1165 - acc: 0.95 - ETA: 42s - loss: 0.1161 - acc: 0.95 - ETA: 41s - loss: 0.1166 - acc: 0.95 - ETA: 41s - loss: 0.1169 - acc: 0.95 - ETA: 41s - loss: 0.1165 - acc: 0.95 - ETA: 40s - loss: 0.1165 - acc: 0.95 - ETA: 40s - loss: 0.1166 - acc: 0.95 - ETA: 40s - loss: 0.1164 - acc: 0.95 - ETA: 39s - loss: 0.1160 - acc: 0.9594"
     ]
    },
    {
     "name": "stdout",
     "output_type": "stream",
     "text": [
      "10586/10586 [==============================] - ETA: 39s - loss: 0.1162 - acc: 0.95 - ETA: 39s - loss: 0.1167 - acc: 0.95 - ETA: 38s - loss: 0.1163 - acc: 0.95 - ETA: 38s - loss: 0.1167 - acc: 0.95 - ETA: 38s - loss: 0.1174 - acc: 0.95 - ETA: 37s - loss: 0.1189 - acc: 0.95 - ETA: 37s - loss: 0.1186 - acc: 0.95 - ETA: 37s - loss: 0.1187 - acc: 0.95 - ETA: 36s - loss: 0.1192 - acc: 0.95 - ETA: 36s - loss: 0.1195 - acc: 0.95 - ETA: 36s - loss: 0.1194 - acc: 0.95 - ETA: 35s - loss: 0.1199 - acc: 0.95 - ETA: 35s - loss: 0.1198 - acc: 0.95 - ETA: 35s - loss: 0.1197 - acc: 0.95 - ETA: 34s - loss: 0.1205 - acc: 0.95 - ETA: 34s - loss: 0.1204 - acc: 0.95 - ETA: 34s - loss: 0.1203 - acc: 0.95 - ETA: 33s - loss: 0.1204 - acc: 0.95 - ETA: 33s - loss: 0.1205 - acc: 0.95 - ETA: 33s - loss: 0.1204 - acc: 0.95 - ETA: 32s - loss: 0.1202 - acc: 0.95 - ETA: 32s - loss: 0.1202 - acc: 0.95 - ETA: 32s - loss: 0.1205 - acc: 0.95 - ETA: 31s - loss: 0.1206 - acc: 0.95 - ETA: 31s - loss: 0.1206 - acc: 0.95 - ETA: 31s - loss: 0.1204 - acc: 0.95 - ETA: 31s - loss: 0.1209 - acc: 0.95 - ETA: 30s - loss: 0.1210 - acc: 0.95 - ETA: 30s - loss: 0.1211 - acc: 0.95 - ETA: 30s - loss: 0.1208 - acc: 0.95 - ETA: 29s - loss: 0.1205 - acc: 0.95 - ETA: 29s - loss: 0.1205 - acc: 0.95 - ETA: 29s - loss: 0.1207 - acc: 0.95 - ETA: 28s - loss: 0.1213 - acc: 0.95 - ETA: 28s - loss: 0.1209 - acc: 0.95 - ETA: 28s - loss: 0.1207 - acc: 0.95 - ETA: 27s - loss: 0.1204 - acc: 0.95 - ETA: 27s - loss: 0.1201 - acc: 0.95 - ETA: 27s - loss: 0.1199 - acc: 0.95 - ETA: 26s - loss: 0.1203 - acc: 0.95 - ETA: 26s - loss: 0.1200 - acc: 0.95 - ETA: 26s - loss: 0.1203 - acc: 0.95 - ETA: 25s - loss: 0.1204 - acc: 0.95 - ETA: 25s - loss: 0.1203 - acc: 0.95 - ETA: 25s - loss: 0.1204 - acc: 0.95 - ETA: 24s - loss: 0.1201 - acc: 0.95 - ETA: 24s - loss: 0.1206 - acc: 0.95 - ETA: 24s - loss: 0.1207 - acc: 0.95 - ETA: 23s - loss: 0.1207 - acc: 0.95 - ETA: 23s - loss: 0.1207 - acc: 0.95 - ETA: 23s - loss: 0.1206 - acc: 0.95 - ETA: 22s - loss: 0.1208 - acc: 0.95 - ETA: 22s - loss: 0.1211 - acc: 0.95 - ETA: 22s - loss: 0.1208 - acc: 0.95 - ETA: 21s - loss: 0.1204 - acc: 0.95 - ETA: 21s - loss: 0.1203 - acc: 0.95 - ETA: 21s - loss: 0.1206 - acc: 0.95 - ETA: 21s - loss: 0.1203 - acc: 0.95 - ETA: 20s - loss: 0.1210 - acc: 0.95 - ETA: 20s - loss: 0.1210 - acc: 0.95 - ETA: 20s - loss: 0.1206 - acc: 0.95 - ETA: 19s - loss: 0.1213 - acc: 0.95 - ETA: 19s - loss: 0.1211 - acc: 0.95 - ETA: 19s - loss: 0.1214 - acc: 0.95 - ETA: 18s - loss: 0.1222 - acc: 0.95 - ETA: 18s - loss: 0.1223 - acc: 0.95 - ETA: 18s - loss: 0.1223 - acc: 0.95 - ETA: 17s - loss: 0.1220 - acc: 0.95 - ETA: 17s - loss: 0.1220 - acc: 0.95 - ETA: 17s - loss: 0.1220 - acc: 0.95 - ETA: 16s - loss: 0.1218 - acc: 0.95 - ETA: 16s - loss: 0.1220 - acc: 0.95 - ETA: 16s - loss: 0.1219 - acc: 0.95 - ETA: 15s - loss: 0.1222 - acc: 0.95 - ETA: 15s - loss: 0.1225 - acc: 0.95 - ETA: 15s - loss: 0.1224 - acc: 0.95 - ETA: 14s - loss: 0.1225 - acc: 0.95 - ETA: 14s - loss: 0.1224 - acc: 0.95 - ETA: 14s - loss: 0.1222 - acc: 0.95 - ETA: 14s - loss: 0.1222 - acc: 0.95 - ETA: 13s - loss: 0.1226 - acc: 0.95 - ETA: 13s - loss: 0.1228 - acc: 0.95 - ETA: 13s - loss: 0.1226 - acc: 0.95 - ETA: 12s - loss: 0.1224 - acc: 0.95 - ETA: 12s - loss: 0.1222 - acc: 0.95 - ETA: 12s - loss: 0.1222 - acc: 0.95 - ETA: 11s - loss: 0.1220 - acc: 0.95 - ETA: 11s - loss: 0.1218 - acc: 0.95 - ETA: 11s - loss: 0.1220 - acc: 0.95 - ETA: 10s - loss: 0.1225 - acc: 0.95 - ETA: 10s - loss: 0.1226 - acc: 0.95 - ETA: 10s - loss: 0.1224 - acc: 0.95 - ETA: 9s - loss: 0.1222 - acc: 0.9570 - ETA: 9s - loss: 0.1222 - acc: 0.956 - ETA: 9s - loss: 0.1224 - acc: 0.956 - ETA: 8s - loss: 0.1228 - acc: 0.956 - ETA: 8s - loss: 0.1230 - acc: 0.956 - ETA: 8s - loss: 0.1227 - acc: 0.956 - ETA: 7s - loss: 0.1229 - acc: 0.956 - ETA: 7s - loss: 0.1228 - acc: 0.956 - ETA: 7s - loss: 0.1230 - acc: 0.956 - ETA: 6s - loss: 0.1229 - acc: 0.956 - ETA: 6s - loss: 0.1230 - acc: 0.956 - ETA: 6s - loss: 0.1228 - acc: 0.956 - ETA: 6s - loss: 0.1226 - acc: 0.956 - ETA: 5s - loss: 0.1230 - acc: 0.956 - ETA: 5s - loss: 0.1229 - acc: 0.956 - ETA: 5s - loss: 0.1231 - acc: 0.956 - ETA: 4s - loss: 0.1234 - acc: 0.956 - ETA: 4s - loss: 0.1233 - acc: 0.956 - ETA: 4s - loss: 0.1230 - acc: 0.956 - ETA: 3s - loss: 0.1228 - acc: 0.956 - ETA: 3s - loss: 0.1226 - acc: 0.956 - ETA: 3s - loss: 0.1230 - acc: 0.956 - ETA: 2s - loss: 0.1229 - acc: 0.956 - ETA: 2s - loss: 0.1228 - acc: 0.956 - ETA: 2s - loss: 0.1226 - acc: 0.956 - ETA: 1s - loss: 0.1229 - acc: 0.956 - ETA: 1s - loss: 0.1229 - acc: 0.956 - ETA: 1s - loss: 0.1231 - acc: 0.956 - ETA: 0s - loss: 0.1229 - acc: 0.956 - ETA: 0s - loss: 0.1229 - acc: 0.956 - ETA: 0s - loss: 0.1230 - acc: 0.956 - 111s 10ms/step - loss: 0.1229 - acc: 0.9565 - val_loss: 0.8611 - val_acc: 0.7321\n",
      "Epoch 5/10\n",
      " 6624/10586 [=================>............] - ETA: 1:27 - loss: 0.0087 - acc: 1.000 - ETA: 1:35 - loss: 0.0286 - acc: 0.984 - ETA: 1:39 - loss: 0.0670 - acc: 0.979 - ETA: 1:37 - loss: 0.0739 - acc: 0.976 - ETA: 1:40 - loss: 0.0629 - acc: 0.981 - ETA: 1:40 - loss: 0.0574 - acc: 0.984 - ETA: 1:41 - loss: 0.0594 - acc: 0.982 - ETA: 1:40 - loss: 0.0557 - acc: 0.984 - ETA: 1:39 - loss: 0.0521 - acc: 0.986 - ETA: 1:40 - loss: 0.0502 - acc: 0.987 - ETA: 1:39 - loss: 0.0466 - acc: 0.988 - ETA: 1:39 - loss: 0.0455 - acc: 0.987 - ETA: 1:39 - loss: 0.0432 - acc: 0.988 - ETA: 1:39 - loss: 0.0568 - acc: 0.979 - ETA: 1:39 - loss: 0.0615 - acc: 0.977 - ETA: 1:38 - loss: 0.0596 - acc: 0.976 - ETA: 1:38 - loss: 0.0573 - acc: 0.977 - ETA: 1:38 - loss: 0.0585 - acc: 0.977 - ETA: 1:38 - loss: 0.0556 - acc: 0.978 - ETA: 1:38 - loss: 0.0590 - acc: 0.978 - ETA: 1:38 - loss: 0.0581 - acc: 0.977 - ETA: 1:37 - loss: 0.0563 - acc: 0.978 - ETA: 1:37 - loss: 0.0547 - acc: 0.979 - ETA: 1:37 - loss: 0.0551 - acc: 0.979 - ETA: 1:36 - loss: 0.0541 - acc: 0.980 - ETA: 1:36 - loss: 0.0525 - acc: 0.980 - ETA: 1:35 - loss: 0.0513 - acc: 0.981 - ETA: 1:35 - loss: 0.0498 - acc: 0.982 - ETA: 1:35 - loss: 0.0517 - acc: 0.979 - ETA: 1:35 - loss: 0.0509 - acc: 0.980 - ETA: 1:35 - loss: 0.0514 - acc: 0.978 - ETA: 1:34 - loss: 0.0536 - acc: 0.977 - ETA: 1:34 - loss: 0.0551 - acc: 0.977 - ETA: 1:33 - loss: 0.0543 - acc: 0.977 - ETA: 1:33 - loss: 0.0547 - acc: 0.977 - ETA: 1:33 - loss: 0.0548 - acc: 0.977 - ETA: 1:33 - loss: 0.0535 - acc: 0.978 - ETA: 1:32 - loss: 0.0524 - acc: 0.978 - ETA: 1:32 - loss: 0.0518 - acc: 0.978 - ETA: 1:32 - loss: 0.0509 - acc: 0.978 - ETA: 1:31 - loss: 0.0518 - acc: 0.977 - ETA: 1:31 - loss: 0.0508 - acc: 0.978 - ETA: 1:30 - loss: 0.0509 - acc: 0.978 - ETA: 1:30 - loss: 0.0500 - acc: 0.978 - ETA: 1:30 - loss: 0.0519 - acc: 0.978 - ETA: 1:30 - loss: 0.0512 - acc: 0.978 - ETA: 1:29 - loss: 0.0523 - acc: 0.978 - ETA: 1:30 - loss: 0.0523 - acc: 0.978 - ETA: 1:29 - loss: 0.0519 - acc: 0.979 - ETA: 1:29 - loss: 0.0511 - acc: 0.979 - ETA: 1:28 - loss: 0.0507 - acc: 0.979 - ETA: 1:28 - loss: 0.0526 - acc: 0.979 - ETA: 1:28 - loss: 0.0521 - acc: 0.980 - ETA: 1:28 - loss: 0.0518 - acc: 0.979 - ETA: 1:27 - loss: 0.0528 - acc: 0.979 - ETA: 1:27 - loss: 0.0528 - acc: 0.978 - ETA: 1:26 - loss: 0.0552 - acc: 0.978 - ETA: 1:26 - loss: 0.0544 - acc: 0.979 - ETA: 1:26 - loss: 0.0542 - acc: 0.978 - ETA: 1:25 - loss: 0.0554 - acc: 0.978 - ETA: 1:25 - loss: 0.0550 - acc: 0.978 - ETA: 1:25 - loss: 0.0596 - acc: 0.976 - ETA: 1:25 - loss: 0.0590 - acc: 0.977 - ETA: 1:24 - loss: 0.0591 - acc: 0.977 - ETA: 1:24 - loss: 0.0585 - acc: 0.977 - ETA: 1:24 - loss: 0.0578 - acc: 0.977 - ETA: 1:24 - loss: 0.0573 - acc: 0.978 - ETA: 1:23 - loss: 0.0573 - acc: 0.978 - ETA: 1:23 - loss: 0.0569 - acc: 0.978 - ETA: 1:22 - loss: 0.0588 - acc: 0.977 - ETA: 1:22 - loss: 0.0591 - acc: 0.977 - ETA: 1:22 - loss: 0.0586 - acc: 0.977 - ETA: 1:21 - loss: 0.0585 - acc: 0.977 - ETA: 1:21 - loss: 0.0580 - acc: 0.978 - ETA: 1:21 - loss: 0.0574 - acc: 0.978 - ETA: 1:21 - loss: 0.0575 - acc: 0.977 - ETA: 1:20 - loss: 0.0570 - acc: 0.978 - ETA: 1:20 - loss: 0.0569 - acc: 0.978 - ETA: 1:20 - loss: 0.0577 - acc: 0.977 - ETA: 1:19 - loss: 0.0572 - acc: 0.977 - ETA: 1:19 - loss: 0.0569 - acc: 0.978 - ETA: 1:19 - loss: 0.0566 - acc: 0.978 - ETA: 1:18 - loss: 0.0582 - acc: 0.978 - ETA: 1:18 - loss: 0.0581 - acc: 0.978 - ETA: 1:18 - loss: 0.0578 - acc: 0.978 - ETA: 1:18 - loss: 0.0573 - acc: 0.978 - ETA: 1:17 - loss: 0.0576 - acc: 0.978 - ETA: 1:17 - loss: 0.0573 - acc: 0.978 - ETA: 1:17 - loss: 0.0576 - acc: 0.978 - ETA: 1:16 - loss: 0.0571 - acc: 0.978 - ETA: 1:16 - loss: 0.0566 - acc: 0.979 - ETA: 1:16 - loss: 0.0564 - acc: 0.979 - ETA: 1:15 - loss: 0.0560 - acc: 0.979 - ETA: 1:15 - loss: 0.0563 - acc: 0.979 - ETA: 1:15 - loss: 0.0558 - acc: 0.979 - ETA: 1:14 - loss: 0.0556 - acc: 0.979 - ETA: 1:14 - loss: 0.0556 - acc: 0.979 - ETA: 1:14 - loss: 0.0553 - acc: 0.979 - ETA: 1:13 - loss: 0.0550 - acc: 0.980 - ETA: 1:13 - loss: 0.0551 - acc: 0.980 - ETA: 1:13 - loss: 0.0548 - acc: 0.980 - ETA: 1:12 - loss: 0.0545 - acc: 0.980 - ETA: 1:12 - loss: 0.0541 - acc: 0.980 - ETA: 1:12 - loss: 0.0538 - acc: 0.980 - ETA: 1:11 - loss: 0.0535 - acc: 0.981 - ETA: 1:11 - loss: 0.0536 - acc: 0.980 - ETA: 1:11 - loss: 0.0533 - acc: 0.981 - ETA: 1:10 - loss: 0.0529 - acc: 0.981 - ETA: 1:10 - loss: 0.0527 - acc: 0.981 - ETA: 1:10 - loss: 0.0526 - acc: 0.981 - ETA: 1:09 - loss: 0.0522 - acc: 0.981 - ETA: 1:09 - loss: 0.0522 - acc: 0.981 - ETA: 1:09 - loss: 0.0519 - acc: 0.981 - ETA: 1:09 - loss: 0.0526 - acc: 0.981 - ETA: 1:08 - loss: 0.0528 - acc: 0.981 - ETA: 1:08 - loss: 0.0527 - acc: 0.981 - ETA: 1:08 - loss: 0.0533 - acc: 0.981 - ETA: 1:07 - loss: 0.0535 - acc: 0.981 - ETA: 1:07 - loss: 0.0532 - acc: 0.981 - ETA: 1:07 - loss: 0.0535 - acc: 0.981 - ETA: 1:06 - loss: 0.0535 - acc: 0.981 - ETA: 1:06 - loss: 0.0535 - acc: 0.981 - ETA: 1:06 - loss: 0.0535 - acc: 0.980 - ETA: 1:05 - loss: 0.0531 - acc: 0.981 - ETA: 1:05 - loss: 0.0532 - acc: 0.981 - ETA: 1:05 - loss: 0.0533 - acc: 0.980 - ETA: 1:04 - loss: 0.0532 - acc: 0.981 - ETA: 1:04 - loss: 0.0530 - acc: 0.981 - ETA: 1:04 - loss: 0.0527 - acc: 0.981 - ETA: 1:03 - loss: 0.0523 - acc: 0.981 - ETA: 1:03 - loss: 0.0520 - acc: 0.981 - ETA: 1:03 - loss: 0.0517 - acc: 0.981 - ETA: 1:02 - loss: 0.0514 - acc: 0.981 - ETA: 1:02 - loss: 0.0512 - acc: 0.982 - ETA: 1:02 - loss: 0.0509 - acc: 0.982 - ETA: 1:01 - loss: 0.0516 - acc: 0.982 - ETA: 1:01 - loss: 0.0525 - acc: 0.981 - ETA: 1:01 - loss: 0.0533 - acc: 0.981 - ETA: 1:00 - loss: 0.0530 - acc: 0.981 - ETA: 1:00 - loss: 0.0529 - acc: 0.981 - ETA: 1:00 - loss: 0.0526 - acc: 0.981 - ETA: 59s - loss: 0.0523 - acc: 0.982 - ETA: 59s - loss: 0.0520 - acc: 0.98 - ETA: 59s - loss: 0.0521 - acc: 0.98 - ETA: 58s - loss: 0.0518 - acc: 0.98 - ETA: 58s - loss: 0.0517 - acc: 0.98 - ETA: 58s - loss: 0.0518 - acc: 0.98 - ETA: 58s - loss: 0.0516 - acc: 0.98 - ETA: 57s - loss: 0.0512 - acc: 0.98 - ETA: 57s - loss: 0.0509 - acc: 0.98 - ETA: 57s - loss: 0.0507 - acc: 0.98 - ETA: 56s - loss: 0.0506 - acc: 0.98 - ETA: 56s - loss: 0.0505 - acc: 0.98 - ETA: 56s - loss: 0.0505 - acc: 0.98 - ETA: 55s - loss: 0.0510 - acc: 0.98 - ETA: 55s - loss: 0.0507 - acc: 0.98 - ETA: 55s - loss: 0.0506 - acc: 0.98 - ETA: 54s - loss: 0.0503 - acc: 0.98 - ETA: 54s - loss: 0.0507 - acc: 0.98 - ETA: 54s - loss: 0.0508 - acc: 0.98 - ETA: 53s - loss: 0.0505 - acc: 0.98 - ETA: 53s - loss: 0.0508 - acc: 0.98 - ETA: 53s - loss: 0.0506 - acc: 0.98 - ETA: 53s - loss: 0.0504 - acc: 0.98 - ETA: 52s - loss: 0.0502 - acc: 0.98 - ETA: 52s - loss: 0.0501 - acc: 0.98 - ETA: 52s - loss: 0.0501 - acc: 0.98 - ETA: 51s - loss: 0.0507 - acc: 0.98 - ETA: 51s - loss: 0.0508 - acc: 0.98 - ETA: 51s - loss: 0.0507 - acc: 0.98 - ETA: 50s - loss: 0.0514 - acc: 0.98 - ETA: 50s - loss: 0.0517 - acc: 0.98 - ETA: 50s - loss: 0.0522 - acc: 0.98 - ETA: 49s - loss: 0.0519 - acc: 0.98 - ETA: 49s - loss: 0.0517 - acc: 0.98 - ETA: 49s - loss: 0.0519 - acc: 0.98 - ETA: 48s - loss: 0.0518 - acc: 0.98 - ETA: 48s - loss: 0.0516 - acc: 0.98 - ETA: 48s - loss: 0.0514 - acc: 0.98 - ETA: 47s - loss: 0.0514 - acc: 0.98 - ETA: 47s - loss: 0.0518 - acc: 0.98 - ETA: 47s - loss: 0.0518 - acc: 0.98 - ETA: 47s - loss: 0.0520 - acc: 0.98 - ETA: 46s - loss: 0.0517 - acc: 0.98 - ETA: 46s - loss: 0.0520 - acc: 0.98 - ETA: 46s - loss: 0.0519 - acc: 0.98 - ETA: 45s - loss: 0.0517 - acc: 0.98 - ETA: 45s - loss: 0.0515 - acc: 0.98 - ETA: 45s - loss: 0.0514 - acc: 0.98 - ETA: 44s - loss: 0.0513 - acc: 0.98 - ETA: 44s - loss: 0.0515 - acc: 0.98 - ETA: 44s - loss: 0.0518 - acc: 0.98 - ETA: 43s - loss: 0.0517 - acc: 0.98 - ETA: 43s - loss: 0.0515 - acc: 0.98 - ETA: 43s - loss: 0.0513 - acc: 0.98 - ETA: 42s - loss: 0.0513 - acc: 0.98 - ETA: 42s - loss: 0.0512 - acc: 0.98 - ETA: 42s - loss: 0.0510 - acc: 0.98 - ETA: 41s - loss: 0.0508 - acc: 0.98 - ETA: 41s - loss: 0.0506 - acc: 0.98 - ETA: 41s - loss: 0.0506 - acc: 0.98 - ETA: 41s - loss: 0.0509 - acc: 0.98 - ETA: 40s - loss: 0.0509 - acc: 0.98 - ETA: 40s - loss: 0.0508 - acc: 0.98 - ETA: 40s - loss: 0.0512 - acc: 0.98 - ETA: 39s - loss: 0.0511 - acc: 0.98 - ETA: 39s - loss: 0.0514 - acc: 0.981610586/10586 [==============================] - ETA: 39s - loss: 0.0512 - acc: 0.98 - ETA: 38s - loss: 0.0511 - acc: 0.98 - ETA: 38s - loss: 0.0509 - acc: 0.98 - ETA: 38s - loss: 0.0516 - acc: 0.98 - ETA: 37s - loss: 0.0514 - acc: 0.98 - ETA: 37s - loss: 0.0515 - acc: 0.98 - ETA: 37s - loss: 0.0515 - acc: 0.98 - ETA: 36s - loss: 0.0514 - acc: 0.98 - ETA: 36s - loss: 0.0522 - acc: 0.98 - ETA: 36s - loss: 0.0524 - acc: 0.98 - ETA: 35s - loss: 0.0524 - acc: 0.98 - ETA: 35s - loss: 0.0523 - acc: 0.98 - ETA: 35s - loss: 0.0534 - acc: 0.98 - ETA: 34s - loss: 0.0539 - acc: 0.98 - ETA: 34s - loss: 0.0537 - acc: 0.98 - ETA: 34s - loss: 0.0536 - acc: 0.98 - ETA: 33s - loss: 0.0538 - acc: 0.98 - ETA: 33s - loss: 0.0538 - acc: 0.98 - ETA: 33s - loss: 0.0537 - acc: 0.98 - ETA: 33s - loss: 0.0535 - acc: 0.98 - ETA: 32s - loss: 0.0535 - acc: 0.98 - ETA: 32s - loss: 0.0536 - acc: 0.98 - ETA: 32s - loss: 0.0534 - acc: 0.98 - ETA: 31s - loss: 0.0532 - acc: 0.98 - ETA: 31s - loss: 0.0534 - acc: 0.98 - ETA: 31s - loss: 0.0536 - acc: 0.98 - ETA: 30s - loss: 0.0536 - acc: 0.98 - ETA: 30s - loss: 0.0545 - acc: 0.98 - ETA: 30s - loss: 0.0544 - acc: 0.98 - ETA: 29s - loss: 0.0543 - acc: 0.98 - ETA: 29s - loss: 0.0546 - acc: 0.98 - ETA: 29s - loss: 0.0545 - acc: 0.98 - ETA: 28s - loss: 0.0546 - acc: 0.98 - ETA: 28s - loss: 0.0548 - acc: 0.98 - ETA: 28s - loss: 0.0547 - acc: 0.98 - ETA: 27s - loss: 0.0546 - acc: 0.98 - ETA: 27s - loss: 0.0546 - acc: 0.98 - ETA: 27s - loss: 0.0548 - acc: 0.98 - ETA: 26s - loss: 0.0549 - acc: 0.98 - ETA: 26s - loss: 0.0548 - acc: 0.98 - ETA: 26s - loss: 0.0547 - acc: 0.98 - ETA: 25s - loss: 0.0545 - acc: 0.98 - ETA: 25s - loss: 0.0544 - acc: 0.98 - ETA: 25s - loss: 0.0543 - acc: 0.98 - ETA: 25s - loss: 0.0541 - acc: 0.98 - ETA: 24s - loss: 0.0540 - acc: 0.98 - ETA: 24s - loss: 0.0541 - acc: 0.98 - ETA: 24s - loss: 0.0542 - acc: 0.98 - ETA: 23s - loss: 0.0543 - acc: 0.98 - ETA: 23s - loss: 0.0542 - acc: 0.98 - ETA: 23s - loss: 0.0542 - acc: 0.98 - ETA: 22s - loss: 0.0540 - acc: 0.98 - ETA: 22s - loss: 0.0538 - acc: 0.98 - ETA: 22s - loss: 0.0537 - acc: 0.98 - ETA: 21s - loss: 0.0535 - acc: 0.98 - ETA: 21s - loss: 0.0535 - acc: 0.98 - ETA: 21s - loss: 0.0534 - acc: 0.98 - ETA: 20s - loss: 0.0535 - acc: 0.98 - ETA: 20s - loss: 0.0536 - acc: 0.98 - ETA: 20s - loss: 0.0536 - acc: 0.98 - ETA: 19s - loss: 0.0534 - acc: 0.98 - ETA: 19s - loss: 0.0534 - acc: 0.98 - ETA: 19s - loss: 0.0533 - acc: 0.98 - ETA: 18s - loss: 0.0539 - acc: 0.98 - ETA: 18s - loss: 0.0545 - acc: 0.98 - ETA: 18s - loss: 0.0543 - acc: 0.98 - ETA: 18s - loss: 0.0543 - acc: 0.98 - ETA: 17s - loss: 0.0541 - acc: 0.98 - ETA: 17s - loss: 0.0540 - acc: 0.98 - ETA: 17s - loss: 0.0538 - acc: 0.98 - ETA: 16s - loss: 0.0538 - acc: 0.98 - ETA: 16s - loss: 0.0538 - acc: 0.98 - ETA: 16s - loss: 0.0537 - acc: 0.98 - ETA: 15s - loss: 0.0537 - acc: 0.98 - ETA: 15s - loss: 0.0539 - acc: 0.98 - ETA: 15s - loss: 0.0541 - acc: 0.98 - ETA: 14s - loss: 0.0539 - acc: 0.98 - ETA: 14s - loss: 0.0540 - acc: 0.98 - ETA: 14s - loss: 0.0539 - acc: 0.98 - ETA: 13s - loss: 0.0539 - acc: 0.98 - ETA: 13s - loss: 0.0538 - acc: 0.98 - ETA: 13s - loss: 0.0537 - acc: 0.98 - ETA: 12s - loss: 0.0536 - acc: 0.98 - ETA: 12s - loss: 0.0538 - acc: 0.98 - ETA: 12s - loss: 0.0538 - acc: 0.98 - ETA: 11s - loss: 0.0542 - acc: 0.98 - ETA: 11s - loss: 0.0541 - acc: 0.98 - ETA: 11s - loss: 0.0540 - acc: 0.98 - ETA: 11s - loss: 0.0541 - acc: 0.98 - ETA: 10s - loss: 0.0542 - acc: 0.98 - ETA: 10s - loss: 0.0543 - acc: 0.98 - ETA: 10s - loss: 0.0544 - acc: 0.98 - ETA: 9s - loss: 0.0544 - acc: 0.9804 - ETA: 9s - loss: 0.0544 - acc: 0.980 - ETA: 9s - loss: 0.0543 - acc: 0.980 - ETA: 8s - loss: 0.0547 - acc: 0.980 - ETA: 8s - loss: 0.0546 - acc: 0.980 - ETA: 8s - loss: 0.0544 - acc: 0.980 - ETA: 7s - loss: 0.0546 - acc: 0.980 - ETA: 7s - loss: 0.0545 - acc: 0.980 - ETA: 7s - loss: 0.0544 - acc: 0.980 - ETA: 6s - loss: 0.0543 - acc: 0.980 - ETA: 6s - loss: 0.0543 - acc: 0.980 - ETA: 6s - loss: 0.0542 - acc: 0.980 - ETA: 5s - loss: 0.0541 - acc: 0.980 - ETA: 5s - loss: 0.0546 - acc: 0.980 - ETA: 5s - loss: 0.0551 - acc: 0.980 - ETA: 5s - loss: 0.0550 - acc: 0.980 - ETA: 4s - loss: 0.0549 - acc: 0.980 - ETA: 4s - loss: 0.0549 - acc: 0.980 - ETA: 4s - loss: 0.0550 - acc: 0.980 - ETA: 3s - loss: 0.0557 - acc: 0.980 - ETA: 3s - loss: 0.0559 - acc: 0.980 - ETA: 3s - loss: 0.0559 - acc: 0.980 - ETA: 2s - loss: 0.0558 - acc: 0.980 - ETA: 2s - loss: 0.0557 - acc: 0.980 - ETA: 2s - loss: 0.0557 - acc: 0.980 - ETA: 1s - loss: 0.0559 - acc: 0.980 - ETA: 1s - loss: 0.0558 - acc: 0.980 - ETA: 1s - loss: 0.0557 - acc: 0.980 - ETA: 0s - loss: 0.0557 - acc: 0.980 - ETA: 0s - loss: 0.0560 - acc: 0.980 - ETA: 0s - loss: 0.0561 - acc: 0.980 - 110s 10ms/step - loss: 0.0562 - acc: 0.9800 - val_loss: 1.0695 - val_acc: 0.7284\n",
      "Epoch 6/10\n"
     ]
    },
    {
     "name": "stdout",
     "output_type": "stream",
     "text": [
      " 6624/10586 [=================>............] - ETA: 1:31 - loss: 0.0572 - acc: 0.968 - ETA: 1:37 - loss: 0.0461 - acc: 0.968 - ETA: 1:41 - loss: 0.0347 - acc: 0.979 - ETA: 1:40 - loss: 0.0641 - acc: 0.968 - ETA: 1:42 - loss: 0.0578 - acc: 0.975 - ETA: 1:41 - loss: 0.0491 - acc: 0.979 - ETA: 1:42 - loss: 0.0436 - acc: 0.982 - ETA: 1:42 - loss: 0.0395 - acc: 0.984 - ETA: 1:41 - loss: 0.0444 - acc: 0.982 - ETA: 1:41 - loss: 0.0426 - acc: 0.984 - ETA: 1:42 - loss: 0.0392 - acc: 0.985 - ETA: 1:41 - loss: 0.0368 - acc: 0.987 - ETA: 1:41 - loss: 0.0400 - acc: 0.985 - ETA: 1:41 - loss: 0.0408 - acc: 0.984 - ETA: 1:41 - loss: 0.0399 - acc: 0.985 - ETA: 1:40 - loss: 0.0381 - acc: 0.986 - ETA: 1:40 - loss: 0.0362 - acc: 0.987 - ETA: 1:40 - loss: 0.0365 - acc: 0.986 - ETA: 1:39 - loss: 0.0361 - acc: 0.985 - ETA: 1:39 - loss: 0.0345 - acc: 0.985 - ETA: 1:38 - loss: 0.0330 - acc: 0.986 - ETA: 1:38 - loss: 0.0332 - acc: 0.987 - ETA: 1:38 - loss: 0.0325 - acc: 0.987 - ETA: 1:37 - loss: 0.0318 - acc: 0.988 - ETA: 1:37 - loss: 0.0318 - acc: 0.987 - ETA: 1:37 - loss: 0.0314 - acc: 0.988 - ETA: 1:36 - loss: 0.0318 - acc: 0.988 - ETA: 1:36 - loss: 0.0310 - acc: 0.988 - ETA: 1:35 - loss: 0.0312 - acc: 0.989 - ETA: 1:35 - loss: 0.0303 - acc: 0.989 - ETA: 1:35 - loss: 0.0345 - acc: 0.987 - ETA: 1:34 - loss: 0.0340 - acc: 0.988 - ETA: 1:34 - loss: 0.0351 - acc: 0.987 - ETA: 1:34 - loss: 0.0343 - acc: 0.988 - ETA: 1:33 - loss: 0.0334 - acc: 0.988 - ETA: 1:33 - loss: 0.0341 - acc: 0.988 - ETA: 1:33 - loss: 0.0336 - acc: 0.989 - ETA: 1:32 - loss: 0.0351 - acc: 0.988 - ETA: 1:32 - loss: 0.0347 - acc: 0.988 - ETA: 1:32 - loss: 0.0360 - acc: 0.988 - ETA: 1:31 - loss: 0.0354 - acc: 0.988 - ETA: 1:31 - loss: 0.0347 - acc: 0.988 - ETA: 1:31 - loss: 0.0339 - acc: 0.989 - ETA: 1:30 - loss: 0.0332 - acc: 0.989 - ETA: 1:30 - loss: 0.0335 - acc: 0.988 - ETA: 1:30 - loss: 0.0329 - acc: 0.989 - ETA: 1:30 - loss: 0.0325 - acc: 0.989 - ETA: 1:29 - loss: 0.0319 - acc: 0.989 - ETA: 1:29 - loss: 0.0344 - acc: 0.989 - ETA: 1:28 - loss: 0.0338 - acc: 0.989 - ETA: 1:28 - loss: 0.0334 - acc: 0.989 - ETA: 1:28 - loss: 0.0328 - acc: 0.989 - ETA: 1:28 - loss: 0.0326 - acc: 0.990 - ETA: 1:27 - loss: 0.0321 - acc: 0.990 - ETA: 1:27 - loss: 0.0318 - acc: 0.990 - ETA: 1:27 - loss: 0.0318 - acc: 0.990 - ETA: 1:26 - loss: 0.0325 - acc: 0.990 - ETA: 1:26 - loss: 0.0320 - acc: 0.990 - ETA: 1:26 - loss: 0.0316 - acc: 0.990 - ETA: 1:25 - loss: 0.0312 - acc: 0.990 - ETA: 1:25 - loss: 0.0309 - acc: 0.990 - ETA: 1:25 - loss: 0.0307 - acc: 0.990 - ETA: 1:24 - loss: 0.0309 - acc: 0.990 - ETA: 1:24 - loss: 0.0333 - acc: 0.990 - ETA: 1:24 - loss: 0.0328 - acc: 0.990 - ETA: 1:23 - loss: 0.0324 - acc: 0.990 - ETA: 1:23 - loss: 0.0322 - acc: 0.990 - ETA: 1:23 - loss: 0.0326 - acc: 0.990 - ETA: 1:23 - loss: 0.0323 - acc: 0.990 - ETA: 1:22 - loss: 0.0320 - acc: 0.990 - ETA: 1:22 - loss: 0.0316 - acc: 0.990 - ETA: 1:22 - loss: 0.0313 - acc: 0.990 - ETA: 1:21 - loss: 0.0313 - acc: 0.991 - ETA: 1:21 - loss: 0.0310 - acc: 0.991 - ETA: 1:21 - loss: 0.0307 - acc: 0.991 - ETA: 1:20 - loss: 0.0315 - acc: 0.991 - ETA: 1:20 - loss: 0.0312 - acc: 0.991 - ETA: 1:20 - loss: 0.0310 - acc: 0.991 - ETA: 1:19 - loss: 0.0308 - acc: 0.991 - ETA: 1:19 - loss: 0.0306 - acc: 0.991 - ETA: 1:19 - loss: 0.0303 - acc: 0.991 - ETA: 1:18 - loss: 0.0301 - acc: 0.991 - ETA: 1:18 - loss: 0.0301 - acc: 0.991 - ETA: 1:18 - loss: 0.0303 - acc: 0.991 - ETA: 1:17 - loss: 0.0300 - acc: 0.991 - ETA: 1:17 - loss: 0.0298 - acc: 0.992 - ETA: 1:17 - loss: 0.0296 - acc: 0.992 - ETA: 1:17 - loss: 0.0296 - acc: 0.992 - ETA: 1:16 - loss: 0.0295 - acc: 0.992 - ETA: 1:16 - loss: 0.0293 - acc: 0.992 - ETA: 1:16 - loss: 0.0292 - acc: 0.992 - ETA: 1:15 - loss: 0.0289 - acc: 0.992 - ETA: 1:15 - loss: 0.0287 - acc: 0.992 - ETA: 1:15 - loss: 0.0285 - acc: 0.992 - ETA: 1:14 - loss: 0.0282 - acc: 0.992 - ETA: 1:14 - loss: 0.0280 - acc: 0.992 - ETA: 1:14 - loss: 0.0282 - acc: 0.992 - ETA: 1:13 - loss: 0.0281 - acc: 0.992 - ETA: 1:13 - loss: 0.0279 - acc: 0.992 - ETA: 1:13 - loss: 0.0285 - acc: 0.992 - ETA: 1:12 - loss: 0.0296 - acc: 0.992 - ETA: 1:12 - loss: 0.0294 - acc: 0.992 - ETA: 1:12 - loss: 0.0296 - acc: 0.992 - ETA: 1:11 - loss: 0.0294 - acc: 0.992 - ETA: 1:11 - loss: 0.0291 - acc: 0.992 - ETA: 1:11 - loss: 0.0292 - acc: 0.992 - ETA: 1:11 - loss: 0.0291 - acc: 0.992 - ETA: 1:10 - loss: 0.0290 - acc: 0.992 - ETA: 1:10 - loss: 0.0288 - acc: 0.992 - ETA: 1:10 - loss: 0.0287 - acc: 0.992 - ETA: 1:09 - loss: 0.0306 - acc: 0.992 - ETA: 1:09 - loss: 0.0304 - acc: 0.992 - ETA: 1:09 - loss: 0.0302 - acc: 0.992 - ETA: 1:08 - loss: 0.0300 - acc: 0.992 - ETA: 1:08 - loss: 0.0298 - acc: 0.992 - ETA: 1:08 - loss: 0.0296 - acc: 0.992 - ETA: 1:07 - loss: 0.0294 - acc: 0.992 - ETA: 1:07 - loss: 0.0292 - acc: 0.992 - ETA: 1:07 - loss: 0.0291 - acc: 0.992 - ETA: 1:06 - loss: 0.0290 - acc: 0.992 - ETA: 1:06 - loss: 0.0288 - acc: 0.992 - ETA: 1:06 - loss: 0.0287 - acc: 0.992 - ETA: 1:05 - loss: 0.0286 - acc: 0.992 - ETA: 1:05 - loss: 0.0284 - acc: 0.992 - ETA: 1:05 - loss: 0.0286 - acc: 0.992 - ETA: 1:05 - loss: 0.0284 - acc: 0.992 - ETA: 1:04 - loss: 0.0282 - acc: 0.992 - ETA: 1:04 - loss: 0.0280 - acc: 0.992 - ETA: 1:04 - loss: 0.0281 - acc: 0.992 - ETA: 1:03 - loss: 0.0280 - acc: 0.992 - ETA: 1:03 - loss: 0.0279 - acc: 0.992 - ETA: 1:03 - loss: 0.0288 - acc: 0.992 - ETA: 1:02 - loss: 0.0300 - acc: 0.992 - ETA: 1:02 - loss: 0.0298 - acc: 0.992 - ETA: 1:02 - loss: 0.0296 - acc: 0.992 - ETA: 1:01 - loss: 0.0295 - acc: 0.992 - ETA: 1:01 - loss: 0.0298 - acc: 0.992 - ETA: 1:01 - loss: 0.0298 - acc: 0.992 - ETA: 1:00 - loss: 0.0296 - acc: 0.992 - ETA: 1:00 - loss: 0.0295 - acc: 0.992 - ETA: 1:00 - loss: 0.0293 - acc: 0.992 - ETA: 59s - loss: 0.0293 - acc: 0.992 - ETA: 59s - loss: 0.0291 - acc: 0.99 - ETA: 59s - loss: 0.0289 - acc: 0.99 - ETA: 59s - loss: 0.0287 - acc: 0.99 - ETA: 58s - loss: 0.0286 - acc: 0.99 - ETA: 58s - loss: 0.0284 - acc: 0.99 - ETA: 58s - loss: 0.0283 - acc: 0.99 - ETA: 57s - loss: 0.0281 - acc: 0.99 - ETA: 57s - loss: 0.0281 - acc: 0.99 - ETA: 57s - loss: 0.0280 - acc: 0.99 - ETA: 56s - loss: 0.0278 - acc: 0.99 - ETA: 56s - loss: 0.0281 - acc: 0.99 - ETA: 56s - loss: 0.0296 - acc: 0.99 - ETA: 55s - loss: 0.0295 - acc: 0.99 - ETA: 55s - loss: 0.0293 - acc: 0.99 - ETA: 55s - loss: 0.0294 - acc: 0.99 - ETA: 54s - loss: 0.0292 - acc: 0.99 - ETA: 54s - loss: 0.0295 - acc: 0.99 - ETA: 54s - loss: 0.0294 - acc: 0.99 - ETA: 53s - loss: 0.0292 - acc: 0.99 - ETA: 53s - loss: 0.0294 - acc: 0.99 - ETA: 53s - loss: 0.0293 - acc: 0.99 - ETA: 52s - loss: 0.0291 - acc: 0.99 - ETA: 52s - loss: 0.0290 - acc: 0.99 - ETA: 52s - loss: 0.0292 - acc: 0.99 - ETA: 52s - loss: 0.0294 - acc: 0.99 - ETA: 51s - loss: 0.0293 - acc: 0.99 - ETA: 51s - loss: 0.0298 - acc: 0.99 - ETA: 51s - loss: 0.0297 - acc: 0.99 - ETA: 50s - loss: 0.0303 - acc: 0.99 - ETA: 50s - loss: 0.0301 - acc: 0.99 - ETA: 50s - loss: 0.0300 - acc: 0.99 - ETA: 49s - loss: 0.0299 - acc: 0.99 - ETA: 49s - loss: 0.0298 - acc: 0.99 - ETA: 49s - loss: 0.0298 - acc: 0.99 - ETA: 48s - loss: 0.0296 - acc: 0.99 - ETA: 48s - loss: 0.0295 - acc: 0.99 - ETA: 48s - loss: 0.0294 - acc: 0.99 - ETA: 47s - loss: 0.0294 - acc: 0.99 - ETA: 47s - loss: 0.0293 - acc: 0.99 - ETA: 47s - loss: 0.0292 - acc: 0.99 - ETA: 46s - loss: 0.0292 - acc: 0.99 - ETA: 46s - loss: 0.0292 - acc: 0.99 - ETA: 46s - loss: 0.0291 - acc: 0.99 - ETA: 45s - loss: 0.0294 - acc: 0.99 - ETA: 45s - loss: 0.0292 - acc: 0.99 - ETA: 45s - loss: 0.0291 - acc: 0.99 - ETA: 45s - loss: 0.0290 - acc: 0.99 - ETA: 44s - loss: 0.0289 - acc: 0.99 - ETA: 44s - loss: 0.0288 - acc: 0.99 - ETA: 44s - loss: 0.0288 - acc: 0.99 - ETA: 43s - loss: 0.0291 - acc: 0.99 - ETA: 43s - loss: 0.0289 - acc: 0.99 - ETA: 43s - loss: 0.0288 - acc: 0.99 - ETA: 42s - loss: 0.0287 - acc: 0.99 - ETA: 42s - loss: 0.0294 - acc: 0.99 - ETA: 42s - loss: 0.0293 - acc: 0.99 - ETA: 41s - loss: 0.0292 - acc: 0.99 - ETA: 41s - loss: 0.0291 - acc: 0.99 - ETA: 41s - loss: 0.0290 - acc: 0.99 - ETA: 40s - loss: 0.0294 - acc: 0.99 - ETA: 40s - loss: 0.0292 - acc: 0.99 - ETA: 40s - loss: 0.0292 - acc: 0.99 - ETA: 39s - loss: 0.0290 - acc: 0.99 - ETA: 39s - loss: 0.0290 - acc: 0.99 - ETA: 39s - loss: 0.0289 - acc: 0.9920"
     ]
    },
    {
     "name": "stdout",
     "output_type": "stream",
     "text": [
      "10586/10586 [==============================] - ETA: 38s - loss: 0.0288 - acc: 0.99 - ETA: 38s - loss: 0.0287 - acc: 0.99 - ETA: 38s - loss: 0.0290 - acc: 0.99 - ETA: 38s - loss: 0.0295 - acc: 0.99 - ETA: 37s - loss: 0.0299 - acc: 0.99 - ETA: 37s - loss: 0.0298 - acc: 0.99 - ETA: 37s - loss: 0.0298 - acc: 0.99 - ETA: 36s - loss: 0.0297 - acc: 0.99 - ETA: 36s - loss: 0.0296 - acc: 0.99 - ETA: 36s - loss: 0.0296 - acc: 0.99 - ETA: 35s - loss: 0.0297 - acc: 0.99 - ETA: 35s - loss: 0.0296 - acc: 0.99 - ETA: 35s - loss: 0.0295 - acc: 0.99 - ETA: 34s - loss: 0.0296 - acc: 0.99 - ETA: 34s - loss: 0.0299 - acc: 0.99 - ETA: 34s - loss: 0.0299 - acc: 0.99 - ETA: 33s - loss: 0.0299 - acc: 0.99 - ETA: 33s - loss: 0.0297 - acc: 0.99 - ETA: 33s - loss: 0.0296 - acc: 0.99 - ETA: 32s - loss: 0.0295 - acc: 0.99 - ETA: 32s - loss: 0.0294 - acc: 0.99 - ETA: 32s - loss: 0.0293 - acc: 0.99 - ETA: 31s - loss: 0.0292 - acc: 0.99 - ETA: 31s - loss: 0.0292 - acc: 0.99 - ETA: 31s - loss: 0.0296 - acc: 0.99 - ETA: 31s - loss: 0.0294 - acc: 0.99 - ETA: 30s - loss: 0.0293 - acc: 0.99 - ETA: 30s - loss: 0.0293 - acc: 0.99 - ETA: 30s - loss: 0.0292 - acc: 0.99 - ETA: 29s - loss: 0.0293 - acc: 0.99 - ETA: 29s - loss: 0.0292 - acc: 0.99 - ETA: 29s - loss: 0.0291 - acc: 0.99 - ETA: 28s - loss: 0.0291 - acc: 0.99 - ETA: 28s - loss: 0.0290 - acc: 0.99 - ETA: 28s - loss: 0.0290 - acc: 0.99 - ETA: 27s - loss: 0.0290 - acc: 0.99 - ETA: 27s - loss: 0.0289 - acc: 0.99 - ETA: 27s - loss: 0.0289 - acc: 0.99 - ETA: 26s - loss: 0.0288 - acc: 0.99 - ETA: 26s - loss: 0.0289 - acc: 0.99 - ETA: 26s - loss: 0.0289 - acc: 0.99 - ETA: 25s - loss: 0.0289 - acc: 0.99 - ETA: 25s - loss: 0.0292 - acc: 0.99 - ETA: 25s - loss: 0.0297 - acc: 0.99 - ETA: 24s - loss: 0.0296 - acc: 0.99 - ETA: 24s - loss: 0.0295 - acc: 0.99 - ETA: 24s - loss: 0.0298 - acc: 0.99 - ETA: 23s - loss: 0.0303 - acc: 0.99 - ETA: 23s - loss: 0.0309 - acc: 0.99 - ETA: 23s - loss: 0.0310 - acc: 0.99 - ETA: 23s - loss: 0.0313 - acc: 0.99 - ETA: 22s - loss: 0.0313 - acc: 0.99 - ETA: 22s - loss: 0.0312 - acc: 0.99 - ETA: 22s - loss: 0.0313 - acc: 0.99 - ETA: 21s - loss: 0.0315 - acc: 0.99 - ETA: 21s - loss: 0.0315 - acc: 0.99 - ETA: 21s - loss: 0.0314 - acc: 0.99 - ETA: 20s - loss: 0.0316 - acc: 0.99 - ETA: 20s - loss: 0.0316 - acc: 0.99 - ETA: 20s - loss: 0.0315 - acc: 0.99 - ETA: 19s - loss: 0.0314 - acc: 0.99 - ETA: 19s - loss: 0.0324 - acc: 0.99 - ETA: 19s - loss: 0.0325 - acc: 0.99 - ETA: 18s - loss: 0.0324 - acc: 0.99 - ETA: 18s - loss: 0.0324 - acc: 0.99 - ETA: 18s - loss: 0.0323 - acc: 0.99 - ETA: 17s - loss: 0.0322 - acc: 0.99 - ETA: 17s - loss: 0.0322 - acc: 0.99 - ETA: 17s - loss: 0.0321 - acc: 0.99 - ETA: 17s - loss: 0.0320 - acc: 0.99 - ETA: 16s - loss: 0.0319 - acc: 0.99 - ETA: 16s - loss: 0.0320 - acc: 0.99 - ETA: 16s - loss: 0.0320 - acc: 0.99 - ETA: 15s - loss: 0.0322 - acc: 0.99 - ETA: 15s - loss: 0.0322 - acc: 0.99 - ETA: 15s - loss: 0.0323 - acc: 0.99 - ETA: 14s - loss: 0.0323 - acc: 0.99 - ETA: 14s - loss: 0.0324 - acc: 0.99 - ETA: 14s - loss: 0.0327 - acc: 0.99 - ETA: 13s - loss: 0.0327 - acc: 0.99 - ETA: 13s - loss: 0.0326 - acc: 0.99 - ETA: 13s - loss: 0.0326 - acc: 0.99 - ETA: 12s - loss: 0.0325 - acc: 0.99 - ETA: 12s - loss: 0.0325 - acc: 0.99 - ETA: 12s - loss: 0.0325 - acc: 0.99 - ETA: 11s - loss: 0.0324 - acc: 0.99 - ETA: 11s - loss: 0.0324 - acc: 0.99 - ETA: 11s - loss: 0.0328 - acc: 0.99 - ETA: 11s - loss: 0.0333 - acc: 0.98 - ETA: 10s - loss: 0.0334 - acc: 0.98 - ETA: 10s - loss: 0.0333 - acc: 0.98 - ETA: 10s - loss: 0.0333 - acc: 0.98 - ETA: 9s - loss: 0.0335 - acc: 0.9897 - ETA: 9s - loss: 0.0334 - acc: 0.989 - ETA: 9s - loss: 0.0335 - acc: 0.989 - ETA: 8s - loss: 0.0335 - acc: 0.989 - ETA: 8s - loss: 0.0334 - acc: 0.989 - ETA: 8s - loss: 0.0340 - acc: 0.989 - ETA: 7s - loss: 0.0339 - acc: 0.989 - ETA: 7s - loss: 0.0339 - acc: 0.989 - ETA: 7s - loss: 0.0339 - acc: 0.989 - ETA: 6s - loss: 0.0342 - acc: 0.989 - ETA: 6s - loss: 0.0342 - acc: 0.989 - ETA: 6s - loss: 0.0346 - acc: 0.989 - ETA: 5s - loss: 0.0352 - acc: 0.989 - ETA: 5s - loss: 0.0351 - acc: 0.989 - ETA: 5s - loss: 0.0350 - acc: 0.989 - ETA: 4s - loss: 0.0355 - acc: 0.989 - ETA: 4s - loss: 0.0354 - acc: 0.989 - ETA: 4s - loss: 0.0354 - acc: 0.989 - ETA: 4s - loss: 0.0354 - acc: 0.989 - ETA: 3s - loss: 0.0355 - acc: 0.989 - ETA: 3s - loss: 0.0356 - acc: 0.989 - ETA: 3s - loss: 0.0355 - acc: 0.989 - ETA: 2s - loss: 0.0354 - acc: 0.989 - ETA: 2s - loss: 0.0354 - acc: 0.989 - ETA: 2s - loss: 0.0353 - acc: 0.989 - ETA: 1s - loss: 0.0352 - acc: 0.989 - ETA: 1s - loss: 0.0352 - acc: 0.989 - ETA: 1s - loss: 0.0353 - acc: 0.989 - ETA: 0s - loss: 0.0355 - acc: 0.989 - ETA: 0s - loss: 0.0354 - acc: 0.989 - ETA: 0s - loss: 0.0355 - acc: 0.989 - 110s 10ms/step - loss: 0.0354 - acc: 0.9892 - val_loss: 1.1123 - val_acc: 0.7329\n",
      "Epoch 7/10\n",
      " 6624/10586 [=================>............] - ETA: 1:29 - loss: 0.0090 - acc: 1.000 - ETA: 1:36 - loss: 0.0066 - acc: 1.000 - ETA: 1:38 - loss: 0.0053 - acc: 1.000 - ETA: 1:39 - loss: 0.0044 - acc: 1.000 - ETA: 1:40 - loss: 0.0043 - acc: 1.000 - ETA: 1:39 - loss: 0.0074 - acc: 1.000 - ETA: 1:39 - loss: 0.0067 - acc: 1.000 - ETA: 1:39 - loss: 0.0069 - acc: 1.000 - ETA: 1:38 - loss: 0.0091 - acc: 1.000 - ETA: 1:39 - loss: 0.0090 - acc: 1.000 - ETA: 1:39 - loss: 0.0088 - acc: 1.000 - ETA: 1:38 - loss: 0.0083 - acc: 1.000 - ETA: 1:38 - loss: 0.0084 - acc: 1.000 - ETA: 1:38 - loss: 0.0089 - acc: 1.000 - ETA: 1:38 - loss: 0.0108 - acc: 0.997 - ETA: 1:38 - loss: 0.0104 - acc: 0.998 - ETA: 1:38 - loss: 0.0168 - acc: 0.996 - ETA: 1:38 - loss: 0.0162 - acc: 0.996 - ETA: 1:37 - loss: 0.0171 - acc: 0.995 - ETA: 1:37 - loss: 0.0184 - acc: 0.993 - ETA: 1:36 - loss: 0.0182 - acc: 0.994 - ETA: 1:36 - loss: 0.0180 - acc: 0.994 - ETA: 1:36 - loss: 0.0211 - acc: 0.993 - ETA: 1:36 - loss: 0.0205 - acc: 0.993 - ETA: 1:36 - loss: 0.0198 - acc: 0.993 - ETA: 1:35 - loss: 0.0198 - acc: 0.994 - ETA: 1:35 - loss: 0.0200 - acc: 0.994 - ETA: 1:34 - loss: 0.0202 - acc: 0.994 - ETA: 1:34 - loss: 0.0196 - acc: 0.994 - ETA: 1:34 - loss: 0.0195 - acc: 0.994 - ETA: 1:33 - loss: 0.0190 - acc: 0.995 - ETA: 1:33 - loss: 0.0186 - acc: 0.995 - ETA: 1:33 - loss: 0.0182 - acc: 0.995 - ETA: 1:32 - loss: 0.0177 - acc: 0.995 - ETA: 1:32 - loss: 0.0175 - acc: 0.995 - ETA: 1:32 - loss: 0.0172 - acc: 0.995 - ETA: 1:31 - loss: 0.0169 - acc: 0.995 - ETA: 1:31 - loss: 0.0181 - acc: 0.995 - ETA: 1:30 - loss: 0.0181 - acc: 0.995 - ETA: 1:30 - loss: 0.0191 - acc: 0.994 - ETA: 1:30 - loss: 0.0189 - acc: 0.994 - ETA: 1:29 - loss: 0.0185 - acc: 0.994 - ETA: 1:29 - loss: 0.0182 - acc: 0.994 - ETA: 1:29 - loss: 0.0181 - acc: 0.995 - ETA: 1:29 - loss: 0.0177 - acc: 0.995 - ETA: 1:28 - loss: 0.0201 - acc: 0.993 - ETA: 1:28 - loss: 0.0200 - acc: 0.994 - ETA: 1:28 - loss: 0.0207 - acc: 0.994 - ETA: 1:28 - loss: 0.0222 - acc: 0.993 - ETA: 1:27 - loss: 0.0219 - acc: 0.993 - ETA: 1:27 - loss: 0.0246 - acc: 0.993 - ETA: 1:27 - loss: 0.0245 - acc: 0.993 - ETA: 1:26 - loss: 0.0258 - acc: 0.992 - ETA: 1:26 - loss: 0.0256 - acc: 0.993 - ETA: 1:26 - loss: 0.0257 - acc: 0.992 - ETA: 1:25 - loss: 0.0260 - acc: 0.992 - ETA: 1:25 - loss: 0.0258 - acc: 0.992 - ETA: 1:25 - loss: 0.0264 - acc: 0.991 - ETA: 1:25 - loss: 0.0261 - acc: 0.992 - ETA: 1:24 - loss: 0.0269 - acc: 0.991 - ETA: 1:24 - loss: 0.0268 - acc: 0.991 - ETA: 1:24 - loss: 0.0264 - acc: 0.991 - ETA: 1:23 - loss: 0.0289 - acc: 0.991 - ETA: 1:23 - loss: 0.0285 - acc: 0.991 - ETA: 1:23 - loss: 0.0283 - acc: 0.991 - ETA: 1:22 - loss: 0.0284 - acc: 0.991 - ETA: 1:22 - loss: 0.0284 - acc: 0.991 - ETA: 1:22 - loss: 0.0281 - acc: 0.991 - ETA: 1:22 - loss: 0.0279 - acc: 0.991 - ETA: 1:21 - loss: 0.0277 - acc: 0.992 - ETA: 1:21 - loss: 0.0277 - acc: 0.992 - ETA: 1:21 - loss: 0.0275 - acc: 0.992 - ETA: 1:20 - loss: 0.0286 - acc: 0.991 - ETA: 1:20 - loss: 0.0282 - acc: 0.992 - ETA: 1:20 - loss: 0.0279 - acc: 0.992 - ETA: 1:19 - loss: 0.0276 - acc: 0.992 - ETA: 1:19 - loss: 0.0275 - acc: 0.992 - ETA: 1:19 - loss: 0.0296 - acc: 0.991 - ETA: 1:18 - loss: 0.0293 - acc: 0.991 - ETA: 1:18 - loss: 0.0290 - acc: 0.991 - ETA: 1:18 - loss: 0.0287 - acc: 0.991 - ETA: 1:17 - loss: 0.0292 - acc: 0.991 - ETA: 1:17 - loss: 0.0289 - acc: 0.991 - ETA: 1:17 - loss: 0.0286 - acc: 0.991 - ETA: 1:16 - loss: 0.0283 - acc: 0.991 - ETA: 1:16 - loss: 0.0285 - acc: 0.991 - ETA: 1:16 - loss: 0.0282 - acc: 0.991 - ETA: 1:16 - loss: 0.0280 - acc: 0.991 - ETA: 1:15 - loss: 0.0278 - acc: 0.991 - ETA: 1:15 - loss: 0.0275 - acc: 0.992 - ETA: 1:15 - loss: 0.0274 - acc: 0.992 - ETA: 1:14 - loss: 0.0271 - acc: 0.992 - ETA: 1:14 - loss: 0.0269 - acc: 0.992 - ETA: 1:14 - loss: 0.0278 - acc: 0.991 - ETA: 1:13 - loss: 0.0278 - acc: 0.991 - ETA: 1:13 - loss: 0.0275 - acc: 0.991 - ETA: 1:13 - loss: 0.0275 - acc: 0.991 - ETA: 1:13 - loss: 0.0273 - acc: 0.991 - ETA: 1:12 - loss: 0.0271 - acc: 0.991 - ETA: 1:12 - loss: 0.0268 - acc: 0.991 - ETA: 1:12 - loss: 0.0266 - acc: 0.992 - ETA: 1:11 - loss: 0.0264 - acc: 0.992 - ETA: 1:11 - loss: 0.0281 - acc: 0.991 - ETA: 1:11 - loss: 0.0279 - acc: 0.991 - ETA: 1:10 - loss: 0.0277 - acc: 0.992 - ETA: 1:10 - loss: 0.0274 - acc: 0.992 - ETA: 1:10 - loss: 0.0272 - acc: 0.992 - ETA: 1:09 - loss: 0.0270 - acc: 0.992 - ETA: 1:09 - loss: 0.0268 - acc: 0.992 - ETA: 1:09 - loss: 0.0266 - acc: 0.992 - ETA: 1:09 - loss: 0.0265 - acc: 0.992 - ETA: 1:08 - loss: 0.0263 - acc: 0.992 - ETA: 1:08 - loss: 0.0261 - acc: 0.992 - ETA: 1:08 - loss: 0.0261 - acc: 0.992 - ETA: 1:07 - loss: 0.0259 - acc: 0.992 - ETA: 1:07 - loss: 0.0257 - acc: 0.992 - ETA: 1:07 - loss: 0.0256 - acc: 0.992 - ETA: 1:06 - loss: 0.0255 - acc: 0.992 - ETA: 1:06 - loss: 0.0253 - acc: 0.992 - ETA: 1:06 - loss: 0.0252 - acc: 0.993 - ETA: 1:05 - loss: 0.0250 - acc: 0.993 - ETA: 1:05 - loss: 0.0248 - acc: 0.993 - ETA: 1:05 - loss: 0.0247 - acc: 0.993 - ETA: 1:05 - loss: 0.0245 - acc: 0.993 - ETA: 1:04 - loss: 0.0243 - acc: 0.993 - ETA: 1:04 - loss: 0.0242 - acc: 0.993 - ETA: 1:04 - loss: 0.0241 - acc: 0.993 - ETA: 1:03 - loss: 0.0240 - acc: 0.993 - ETA: 1:03 - loss: 0.0239 - acc: 0.993 - ETA: 1:03 - loss: 0.0238 - acc: 0.993 - ETA: 1:02 - loss: 0.0237 - acc: 0.993 - ETA: 1:02 - loss: 0.0236 - acc: 0.993 - ETA: 1:02 - loss: 0.0234 - acc: 0.993 - ETA: 1:01 - loss: 0.0233 - acc: 0.993 - ETA: 1:01 - loss: 0.0232 - acc: 0.993 - ETA: 1:01 - loss: 0.0230 - acc: 0.993 - ETA: 1:00 - loss: 0.0231 - acc: 0.993 - ETA: 1:00 - loss: 0.0231 - acc: 0.993 - ETA: 1:00 - loss: 0.0235 - acc: 0.993 - ETA: 1:00 - loss: 0.0236 - acc: 0.993 - ETA: 59s - loss: 0.0234 - acc: 0.993 - ETA: 59s - loss: 0.0235 - acc: 0.99 - ETA: 59s - loss: 0.0234 - acc: 0.99 - ETA: 58s - loss: 0.0232 - acc: 0.99 - ETA: 58s - loss: 0.0231 - acc: 0.99 - ETA: 58s - loss: 0.0230 - acc: 0.99 - ETA: 57s - loss: 0.0229 - acc: 0.99 - ETA: 57s - loss: 0.0228 - acc: 0.99 - ETA: 57s - loss: 0.0227 - acc: 0.99 - ETA: 57s - loss: 0.0225 - acc: 0.99 - ETA: 56s - loss: 0.0224 - acc: 0.99 - ETA: 56s - loss: 0.0223 - acc: 0.99 - ETA: 56s - loss: 0.0223 - acc: 0.99 - ETA: 55s - loss: 0.0222 - acc: 0.99 - ETA: 55s - loss: 0.0220 - acc: 0.99 - ETA: 55s - loss: 0.0219 - acc: 0.99 - ETA: 55s - loss: 0.0224 - acc: 0.99 - ETA: 54s - loss: 0.0223 - acc: 0.99 - ETA: 54s - loss: 0.0222 - acc: 0.99 - ETA: 54s - loss: 0.0221 - acc: 0.99 - ETA: 53s - loss: 0.0227 - acc: 0.99 - ETA: 53s - loss: 0.0225 - acc: 0.99 - ETA: 53s - loss: 0.0224 - acc: 0.99 - ETA: 52s - loss: 0.0224 - acc: 0.99 - ETA: 52s - loss: 0.0223 - acc: 0.99 - ETA: 52s - loss: 0.0222 - acc: 0.99 - ETA: 51s - loss: 0.0221 - acc: 0.99 - ETA: 51s - loss: 0.0220 - acc: 0.99 - ETA: 51s - loss: 0.0219 - acc: 0.99 - ETA: 50s - loss: 0.0218 - acc: 0.99 - ETA: 50s - loss: 0.0219 - acc: 0.99 - ETA: 50s - loss: 0.0222 - acc: 0.99 - ETA: 49s - loss: 0.0226 - acc: 0.99 - ETA: 49s - loss: 0.0225 - acc: 0.99 - ETA: 49s - loss: 0.0224 - acc: 0.99 - ETA: 48s - loss: 0.0223 - acc: 0.99 - ETA: 48s - loss: 0.0222 - acc: 0.99 - ETA: 48s - loss: 0.0221 - acc: 0.99 - ETA: 48s - loss: 0.0222 - acc: 0.99 - ETA: 47s - loss: 0.0223 - acc: 0.99 - ETA: 47s - loss: 0.0224 - acc: 0.99 - ETA: 47s - loss: 0.0223 - acc: 0.99 - ETA: 46s - loss: 0.0222 - acc: 0.99 - ETA: 46s - loss: 0.0221 - acc: 0.99 - ETA: 46s - loss: 0.0220 - acc: 0.99 - ETA: 45s - loss: 0.0219 - acc: 0.99 - ETA: 45s - loss: 0.0233 - acc: 0.99 - ETA: 45s - loss: 0.0232 - acc: 0.99 - ETA: 44s - loss: 0.0231 - acc: 0.99 - ETA: 44s - loss: 0.0231 - acc: 0.99 - ETA: 44s - loss: 0.0230 - acc: 0.99 - ETA: 43s - loss: 0.0229 - acc: 0.99 - ETA: 43s - loss: 0.0228 - acc: 0.99 - ETA: 43s - loss: 0.0229 - acc: 0.99 - ETA: 43s - loss: 0.0228 - acc: 0.99 - ETA: 42s - loss: 0.0228 - acc: 0.99 - ETA: 42s - loss: 0.0228 - acc: 0.99 - ETA: 42s - loss: 0.0227 - acc: 0.99 - ETA: 41s - loss: 0.0229 - acc: 0.99 - ETA: 41s - loss: 0.0228 - acc: 0.99 - ETA: 41s - loss: 0.0228 - acc: 0.99 - ETA: 40s - loss: 0.0227 - acc: 0.99 - ETA: 40s - loss: 0.0238 - acc: 0.99 - ETA: 40s - loss: 0.0237 - acc: 0.99 - ETA: 39s - loss: 0.0236 - acc: 0.99 - ETA: 39s - loss: 0.0235 - acc: 0.99 - ETA: 39s - loss: 0.0234 - acc: 0.992910586/10586 [==============================] - ETA: 38s - loss: 0.0234 - acc: 0.99 - ETA: 38s - loss: 0.0233 - acc: 0.99 - ETA: 38s - loss: 0.0232 - acc: 0.99 - ETA: 37s - loss: 0.0234 - acc: 0.99 - ETA: 37s - loss: 0.0233 - acc: 0.99 - ETA: 37s - loss: 0.0234 - acc: 0.99 - ETA: 37s - loss: 0.0234 - acc: 0.99 - ETA: 36s - loss: 0.0233 - acc: 0.99 - ETA: 36s - loss: 0.0232 - acc: 0.99 - ETA: 36s - loss: 0.0231 - acc: 0.99 - ETA: 35s - loss: 0.0230 - acc: 0.99 - ETA: 35s - loss: 0.0230 - acc: 0.99 - ETA: 35s - loss: 0.0230 - acc: 0.99 - ETA: 34s - loss: 0.0230 - acc: 0.99 - ETA: 34s - loss: 0.0231 - acc: 0.99 - ETA: 34s - loss: 0.0231 - acc: 0.99 - ETA: 33s - loss: 0.0231 - acc: 0.99 - ETA: 33s - loss: 0.0230 - acc: 0.99 - ETA: 33s - loss: 0.0229 - acc: 0.99 - ETA: 32s - loss: 0.0228 - acc: 0.99 - ETA: 32s - loss: 0.0227 - acc: 0.99 - ETA: 32s - loss: 0.0227 - acc: 0.99 - ETA: 31s - loss: 0.0226 - acc: 0.99 - ETA: 31s - loss: 0.0225 - acc: 0.99 - ETA: 31s - loss: 0.0225 - acc: 0.99 - ETA: 30s - loss: 0.0224 - acc: 0.99 - ETA: 30s - loss: 0.0223 - acc: 0.99 - ETA: 30s - loss: 0.0225 - acc: 0.99 - ETA: 30s - loss: 0.0228 - acc: 0.99 - ETA: 29s - loss: 0.0227 - acc: 0.99 - ETA: 29s - loss: 0.0226 - acc: 0.99 - ETA: 29s - loss: 0.0225 - acc: 0.99 - ETA: 28s - loss: 0.0225 - acc: 0.99 - ETA: 28s - loss: 0.0224 - acc: 0.99 - ETA: 28s - loss: 0.0223 - acc: 0.99 - ETA: 27s - loss: 0.0223 - acc: 0.99 - ETA: 27s - loss: 0.0222 - acc: 0.99 - ETA: 27s - loss: 0.0224 - acc: 0.99 - ETA: 26s - loss: 0.0230 - acc: 0.99 - ETA: 26s - loss: 0.0229 - acc: 0.99 - ETA: 26s - loss: 0.0229 - acc: 0.99 - ETA: 25s - loss: 0.0234 - acc: 0.99 - ETA: 25s - loss: 0.0233 - acc: 0.99 - ETA: 25s - loss: 0.0232 - acc: 0.99 - ETA: 24s - loss: 0.0232 - acc: 0.99 - ETA: 24s - loss: 0.0232 - acc: 0.99 - ETA: 24s - loss: 0.0231 - acc: 0.99 - ETA: 24s - loss: 0.0234 - acc: 0.99 - ETA: 23s - loss: 0.0233 - acc: 0.99 - ETA: 23s - loss: 0.0235 - acc: 0.99 - ETA: 23s - loss: 0.0237 - acc: 0.99 - ETA: 22s - loss: 0.0236 - acc: 0.99 - ETA: 22s - loss: 0.0238 - acc: 0.99 - ETA: 22s - loss: 0.0237 - acc: 0.99 - ETA: 21s - loss: 0.0237 - acc: 0.99 - ETA: 21s - loss: 0.0236 - acc: 0.99 - ETA: 21s - loss: 0.0235 - acc: 0.99 - ETA: 20s - loss: 0.0236 - acc: 0.99 - ETA: 20s - loss: 0.0236 - acc: 0.99 - ETA: 20s - loss: 0.0235 - acc: 0.99 - ETA: 19s - loss: 0.0239 - acc: 0.99 - ETA: 19s - loss: 0.0239 - acc: 0.99 - ETA: 19s - loss: 0.0238 - acc: 0.99 - ETA: 18s - loss: 0.0237 - acc: 0.99 - ETA: 18s - loss: 0.0237 - acc: 0.99 - ETA: 18s - loss: 0.0239 - acc: 0.99 - ETA: 18s - loss: 0.0239 - acc: 0.99 - ETA: 17s - loss: 0.0240 - acc: 0.99 - ETA: 17s - loss: 0.0240 - acc: 0.99 - ETA: 17s - loss: 0.0240 - acc: 0.99 - ETA: 16s - loss: 0.0240 - acc: 0.99 - ETA: 16s - loss: 0.0239 - acc: 0.99 - ETA: 16s - loss: 0.0241 - acc: 0.99 - ETA: 15s - loss: 0.0240 - acc: 0.99 - ETA: 15s - loss: 0.0239 - acc: 0.99 - ETA: 15s - loss: 0.0239 - acc: 0.99 - ETA: 14s - loss: 0.0240 - acc: 0.99 - ETA: 14s - loss: 0.0239 - acc: 0.99 - ETA: 14s - loss: 0.0239 - acc: 0.99 - ETA: 13s - loss: 0.0238 - acc: 0.99 - ETA: 13s - loss: 0.0237 - acc: 0.99 - ETA: 13s - loss: 0.0237 - acc: 0.99 - ETA: 12s - loss: 0.0237 - acc: 0.99 - ETA: 12s - loss: 0.0236 - acc: 0.99 - ETA: 12s - loss: 0.0235 - acc: 0.99 - ETA: 11s - loss: 0.0235 - acc: 0.99 - ETA: 11s - loss: 0.0235 - acc: 0.99 - ETA: 11s - loss: 0.0234 - acc: 0.99 - ETA: 11s - loss: 0.0236 - acc: 0.99 - ETA: 10s - loss: 0.0235 - acc: 0.99 - ETA: 10s - loss: 0.0235 - acc: 0.99 - ETA: 10s - loss: 0.0234 - acc: 0.99 - ETA: 9s - loss: 0.0233 - acc: 0.9929 - ETA: 9s - loss: 0.0233 - acc: 0.992 - ETA: 9s - loss: 0.0232 - acc: 0.993 - ETA: 8s - loss: 0.0237 - acc: 0.992 - ETA: 8s - loss: 0.0236 - acc: 0.992 - ETA: 8s - loss: 0.0235 - acc: 0.992 - ETA: 7s - loss: 0.0236 - acc: 0.992 - ETA: 7s - loss: 0.0235 - acc: 0.992 - ETA: 7s - loss: 0.0235 - acc: 0.992 - ETA: 6s - loss: 0.0238 - acc: 0.992 - ETA: 6s - loss: 0.0237 - acc: 0.992 - ETA: 6s - loss: 0.0237 - acc: 0.992 - ETA: 5s - loss: 0.0237 - acc: 0.992 - ETA: 5s - loss: 0.0237 - acc: 0.992 - ETA: 5s - loss: 0.0239 - acc: 0.992 - ETA: 5s - loss: 0.0239 - acc: 0.992 - ETA: 4s - loss: 0.0238 - acc: 0.992 - ETA: 4s - loss: 0.0238 - acc: 0.992 - ETA: 4s - loss: 0.0239 - acc: 0.992 - ETA: 3s - loss: 0.0239 - acc: 0.992 - ETA: 3s - loss: 0.0239 - acc: 0.992 - ETA: 3s - loss: 0.0238 - acc: 0.992 - ETA: 2s - loss: 0.0238 - acc: 0.992 - ETA: 2s - loss: 0.0239 - acc: 0.992 - ETA: 2s - loss: 0.0239 - acc: 0.992 - ETA: 1s - loss: 0.0238 - acc: 0.992 - ETA: 1s - loss: 0.0238 - acc: 0.992 - ETA: 1s - loss: 0.0238 - acc: 0.992 - ETA: 0s - loss: 0.0238 - acc: 0.992 - ETA: 0s - loss: 0.0237 - acc: 0.992 - ETA: 0s - loss: 0.0240 - acc: 0.992 - 110s 10ms/step - loss: 0.0239 - acc: 0.9926 - val_loss: 1.2712 - val_acc: 0.7080\n",
      "Epoch 8/10\n"
     ]
    },
    {
     "name": "stdout",
     "output_type": "stream",
     "text": [
      " 6624/10586 [=================>............] - ETA: 1:28 - loss: 0.0397 - acc: 0.968 - ETA: 1:31 - loss: 0.0205 - acc: 0.984 - ETA: 1:38 - loss: 0.0153 - acc: 0.989 - ETA: 1:40 - loss: 0.0124 - acc: 0.992 - ETA: 1:39 - loss: 0.0115 - acc: 0.993 - ETA: 1:40 - loss: 0.0099 - acc: 0.994 - ETA: 1:40 - loss: 0.0101 - acc: 0.995 - ETA: 1:40 - loss: 0.0129 - acc: 0.992 - ETA: 1:40 - loss: 0.0134 - acc: 0.993 - ETA: 1:40 - loss: 0.0128 - acc: 0.993 - ETA: 1:39 - loss: 0.0179 - acc: 0.991 - ETA: 1:39 - loss: 0.0247 - acc: 0.989 - ETA: 1:40 - loss: 0.0234 - acc: 0.990 - ETA: 1:40 - loss: 0.0223 - acc: 0.991 - ETA: 1:39 - loss: 0.0209 - acc: 0.991 - ETA: 1:38 - loss: 0.0204 - acc: 0.992 - ETA: 1:38 - loss: 0.0237 - acc: 0.989 - ETA: 1:38 - loss: 0.0226 - acc: 0.989 - ETA: 1:38 - loss: 0.0223 - acc: 0.990 - ETA: 1:38 - loss: 0.0214 - acc: 0.990 - ETA: 1:38 - loss: 0.0205 - acc: 0.991 - ETA: 1:37 - loss: 0.0197 - acc: 0.991 - ETA: 1:37 - loss: 0.0190 - acc: 0.991 - ETA: 1:37 - loss: 0.0185 - acc: 0.992 - ETA: 1:36 - loss: 0.0180 - acc: 0.992 - ETA: 1:36 - loss: 0.0174 - acc: 0.992 - ETA: 1:35 - loss: 0.0177 - acc: 0.993 - ETA: 1:35 - loss: 0.0173 - acc: 0.993 - ETA: 1:35 - loss: 0.0168 - acc: 0.993 - ETA: 1:35 - loss: 0.0162 - acc: 0.993 - ETA: 1:34 - loss: 0.0158 - acc: 0.994 - ETA: 1:34 - loss: 0.0154 - acc: 0.994 - ETA: 1:34 - loss: 0.0151 - acc: 0.994 - ETA: 1:33 - loss: 0.0147 - acc: 0.994 - ETA: 1:33 - loss: 0.0144 - acc: 0.994 - ETA: 1:33 - loss: 0.0140 - acc: 0.994 - ETA: 1:33 - loss: 0.0138 - acc: 0.994 - ETA: 1:32 - loss: 0.0135 - acc: 0.995 - ETA: 1:32 - loss: 0.0132 - acc: 0.995 - ETA: 1:32 - loss: 0.0130 - acc: 0.995 - ETA: 1:32 - loss: 0.0127 - acc: 0.995 - ETA: 1:31 - loss: 0.0127 - acc: 0.995 - ETA: 1:31 - loss: 0.0126 - acc: 0.995 - ETA: 1:31 - loss: 0.0125 - acc: 0.995 - ETA: 1:30 - loss: 0.0123 - acc: 0.995 - ETA: 1:30 - loss: 0.0122 - acc: 0.995 - ETA: 1:30 - loss: 0.0121 - acc: 0.996 - ETA: 1:29 - loss: 0.0126 - acc: 0.995 - ETA: 1:29 - loss: 0.0124 - acc: 0.995 - ETA: 1:29 - loss: 0.0122 - acc: 0.995 - ETA: 1:29 - loss: 0.0119 - acc: 0.995 - ETA: 1:28 - loss: 0.0121 - acc: 0.995 - ETA: 1:28 - loss: 0.0121 - acc: 0.995 - ETA: 1:28 - loss: 0.0120 - acc: 0.995 - ETA: 1:27 - loss: 0.0119 - acc: 0.996 - ETA: 1:27 - loss: 0.0118 - acc: 0.996 - ETA: 1:27 - loss: 0.0120 - acc: 0.996 - ETA: 1:26 - loss: 0.0119 - acc: 0.996 - ETA: 1:26 - loss: 0.0123 - acc: 0.995 - ETA: 1:26 - loss: 0.0121 - acc: 0.995 - ETA: 1:25 - loss: 0.0142 - acc: 0.994 - ETA: 1:25 - loss: 0.0140 - acc: 0.995 - ETA: 1:25 - loss: 0.0138 - acc: 0.995 - ETA: 1:24 - loss: 0.0137 - acc: 0.995 - ETA: 1:24 - loss: 0.0135 - acc: 0.995 - ETA: 1:24 - loss: 0.0134 - acc: 0.995 - ETA: 1:23 - loss: 0.0133 - acc: 0.995 - ETA: 1:23 - loss: 0.0132 - acc: 0.995 - ETA: 1:23 - loss: 0.0130 - acc: 0.995 - ETA: 1:22 - loss: 0.0133 - acc: 0.995 - ETA: 1:22 - loss: 0.0136 - acc: 0.994 - ETA: 1:22 - loss: 0.0157 - acc: 0.994 - ETA: 1:21 - loss: 0.0156 - acc: 0.994 - ETA: 1:21 - loss: 0.0154 - acc: 0.994 - ETA: 1:21 - loss: 0.0152 - acc: 0.994 - ETA: 1:20 - loss: 0.0151 - acc: 0.994 - ETA: 1:20 - loss: 0.0150 - acc: 0.994 - ETA: 1:20 - loss: 0.0148 - acc: 0.994 - ETA: 1:20 - loss: 0.0147 - acc: 0.994 - ETA: 1:19 - loss: 0.0146 - acc: 0.994 - ETA: 1:19 - loss: 0.0145 - acc: 0.995 - ETA: 1:18 - loss: 0.0147 - acc: 0.994 - ETA: 1:18 - loss: 0.0146 - acc: 0.994 - ETA: 1:18 - loss: 0.0145 - acc: 0.994 - ETA: 1:18 - loss: 0.0144 - acc: 0.994 - ETA: 1:17 - loss: 0.0142 - acc: 0.994 - ETA: 1:17 - loss: 0.0141 - acc: 0.995 - ETA: 1:17 - loss: 0.0139 - acc: 0.995 - ETA: 1:16 - loss: 0.0138 - acc: 0.995 - ETA: 1:16 - loss: 0.0136 - acc: 0.995 - ETA: 1:16 - loss: 0.0135 - acc: 0.995 - ETA: 1:15 - loss: 0.0137 - acc: 0.994 - ETA: 1:15 - loss: 0.0135 - acc: 0.995 - ETA: 1:15 - loss: 0.0134 - acc: 0.995 - ETA: 1:14 - loss: 0.0134 - acc: 0.995 - ETA: 1:14 - loss: 0.0133 - acc: 0.995 - ETA: 1:14 - loss: 0.0132 - acc: 0.995 - ETA: 1:13 - loss: 0.0131 - acc: 0.995 - ETA: 1:13 - loss: 0.0130 - acc: 0.995 - ETA: 1:13 - loss: 0.0129 - acc: 0.995 - ETA: 1:12 - loss: 0.0128 - acc: 0.995 - ETA: 1:12 - loss: 0.0127 - acc: 0.995 - ETA: 1:12 - loss: 0.0126 - acc: 0.995 - ETA: 1:11 - loss: 0.0126 - acc: 0.995 - ETA: 1:11 - loss: 0.0125 - acc: 0.995 - ETA: 1:11 - loss: 0.0124 - acc: 0.995 - ETA: 1:10 - loss: 0.0127 - acc: 0.995 - ETA: 1:10 - loss: 0.0126 - acc: 0.995 - ETA: 1:10 - loss: 0.0125 - acc: 0.995 - ETA: 1:09 - loss: 0.0126 - acc: 0.995 - ETA: 1:09 - loss: 0.0126 - acc: 0.995 - ETA: 1:09 - loss: 0.0125 - acc: 0.995 - ETA: 1:09 - loss: 0.0130 - acc: 0.995 - ETA: 1:08 - loss: 0.0130 - acc: 0.995 - ETA: 1:08 - loss: 0.0129 - acc: 0.995 - ETA: 1:08 - loss: 0.0128 - acc: 0.995 - ETA: 1:07 - loss: 0.0127 - acc: 0.995 - ETA: 1:07 - loss: 0.0127 - acc: 0.995 - ETA: 1:07 - loss: 0.0126 - acc: 0.995 - ETA: 1:06 - loss: 0.0125 - acc: 0.995 - ETA: 1:06 - loss: 0.0124 - acc: 0.995 - ETA: 1:06 - loss: 0.0123 - acc: 0.995 - ETA: 1:05 - loss: 0.0122 - acc: 0.995 - ETA: 1:05 - loss: 0.0122 - acc: 0.995 - ETA: 1:05 - loss: 0.0121 - acc: 0.995 - ETA: 1:04 - loss: 0.0128 - acc: 0.995 - ETA: 1:04 - loss: 0.0127 - acc: 0.995 - ETA: 1:04 - loss: 0.0133 - acc: 0.995 - ETA: 1:03 - loss: 0.0132 - acc: 0.995 - ETA: 1:03 - loss: 0.0132 - acc: 0.995 - ETA: 1:03 - loss: 0.0131 - acc: 0.995 - ETA: 1:03 - loss: 0.0130 - acc: 0.995 - ETA: 1:02 - loss: 0.0129 - acc: 0.995 - ETA: 1:02 - loss: 0.0130 - acc: 0.995 - ETA: 1:02 - loss: 0.0130 - acc: 0.995 - ETA: 1:01 - loss: 0.0136 - acc: 0.994 - ETA: 1:01 - loss: 0.0142 - acc: 0.994 - ETA: 1:01 - loss: 0.0141 - acc: 0.994 - ETA: 1:00 - loss: 0.0141 - acc: 0.994 - ETA: 1:00 - loss: 0.0141 - acc: 0.994 - ETA: 1:00 - loss: 0.0140 - acc: 0.994 - ETA: 59s - loss: 0.0139 - acc: 0.994 - ETA: 59s - loss: 0.0138 - acc: 0.99 - ETA: 59s - loss: 0.0137 - acc: 0.99 - ETA: 58s - loss: 0.0137 - acc: 0.99 - ETA: 58s - loss: 0.0136 - acc: 0.99 - ETA: 58s - loss: 0.0135 - acc: 0.99 - ETA: 58s - loss: 0.0134 - acc: 0.99 - ETA: 57s - loss: 0.0134 - acc: 0.99 - ETA: 57s - loss: 0.0140 - acc: 0.99 - ETA: 57s - loss: 0.0139 - acc: 0.99 - ETA: 56s - loss: 0.0139 - acc: 0.99 - ETA: 56s - loss: 0.0142 - acc: 0.99 - ETA: 56s - loss: 0.0142 - acc: 0.99 - ETA: 55s - loss: 0.0141 - acc: 0.99 - ETA: 55s - loss: 0.0141 - acc: 0.99 - ETA: 55s - loss: 0.0140 - acc: 0.99 - ETA: 54s - loss: 0.0139 - acc: 0.99 - ETA: 54s - loss: 0.0138 - acc: 0.99 - ETA: 54s - loss: 0.0138 - acc: 0.99 - ETA: 53s - loss: 0.0137 - acc: 0.99 - ETA: 53s - loss: 0.0136 - acc: 0.99 - ETA: 53s - loss: 0.0136 - acc: 0.99 - ETA: 52s - loss: 0.0135 - acc: 0.99 - ETA: 52s - loss: 0.0134 - acc: 0.99 - ETA: 52s - loss: 0.0133 - acc: 0.99 - ETA: 51s - loss: 0.0133 - acc: 0.99 - ETA: 51s - loss: 0.0143 - acc: 0.99 - ETA: 51s - loss: 0.0142 - acc: 0.99 - ETA: 51s - loss: 0.0145 - acc: 0.99 - ETA: 50s - loss: 0.0144 - acc: 0.99 - ETA: 50s - loss: 0.0143 - acc: 0.99 - ETA: 50s - loss: 0.0143 - acc: 0.99 - ETA: 49s - loss: 0.0142 - acc: 0.99 - ETA: 49s - loss: 0.0146 - acc: 0.99 - ETA: 49s - loss: 0.0146 - acc: 0.99 - ETA: 48s - loss: 0.0145 - acc: 0.99 - ETA: 48s - loss: 0.0144 - acc: 0.99 - ETA: 48s - loss: 0.0145 - acc: 0.99 - ETA: 47s - loss: 0.0144 - acc: 0.99 - ETA: 47s - loss: 0.0144 - acc: 0.99 - ETA: 47s - loss: 0.0143 - acc: 0.99 - ETA: 46s - loss: 0.0142 - acc: 0.99 - ETA: 46s - loss: 0.0142 - acc: 0.99 - ETA: 46s - loss: 0.0141 - acc: 0.99 - ETA: 45s - loss: 0.0141 - acc: 0.99 - ETA: 45s - loss: 0.0140 - acc: 0.99 - ETA: 45s - loss: 0.0139 - acc: 0.99 - ETA: 45s - loss: 0.0139 - acc: 0.99 - ETA: 44s - loss: 0.0138 - acc: 0.99 - ETA: 44s - loss: 0.0138 - acc: 0.99 - ETA: 44s - loss: 0.0137 - acc: 0.99 - ETA: 43s - loss: 0.0137 - acc: 0.99 - ETA: 43s - loss: 0.0136 - acc: 0.99 - ETA: 43s - loss: 0.0135 - acc: 0.99 - ETA: 42s - loss: 0.0135 - acc: 0.99 - ETA: 42s - loss: 0.0139 - acc: 0.99 - ETA: 42s - loss: 0.0138 - acc: 0.99 - ETA: 41s - loss: 0.0138 - acc: 0.99 - ETA: 41s - loss: 0.0142 - acc: 0.99 - ETA: 41s - loss: 0.0142 - acc: 0.99 - ETA: 40s - loss: 0.0141 - acc: 0.99 - ETA: 40s - loss: 0.0141 - acc: 0.99 - ETA: 40s - loss: 0.0140 - acc: 0.99 - ETA: 39s - loss: 0.0140 - acc: 0.99 - ETA: 39s - loss: 0.0139 - acc: 0.99 - ETA: 39s - loss: 0.0139 - acc: 0.9952"
     ]
    },
    {
     "name": "stdout",
     "output_type": "stream",
     "text": [
      "10586/10586 [==============================] - ETA: 38s - loss: 0.0138 - acc: 0.99 - ETA: 38s - loss: 0.0138 - acc: 0.99 - ETA: 38s - loss: 0.0139 - acc: 0.99 - ETA: 38s - loss: 0.0139 - acc: 0.99 - ETA: 37s - loss: 0.0138 - acc: 0.99 - ETA: 37s - loss: 0.0138 - acc: 0.99 - ETA: 37s - loss: 0.0137 - acc: 0.99 - ETA: 36s - loss: 0.0137 - acc: 0.99 - ETA: 36s - loss: 0.0136 - acc: 0.99 - ETA: 36s - loss: 0.0139 - acc: 0.99 - ETA: 35s - loss: 0.0138 - acc: 0.99 - ETA: 35s - loss: 0.0138 - acc: 0.99 - ETA: 35s - loss: 0.0142 - acc: 0.99 - ETA: 34s - loss: 0.0142 - acc: 0.99 - ETA: 34s - loss: 0.0143 - acc: 0.99 - ETA: 34s - loss: 0.0143 - acc: 0.99 - ETA: 33s - loss: 0.0142 - acc: 0.99 - ETA: 33s - loss: 0.0142 - acc: 0.99 - ETA: 33s - loss: 0.0142 - acc: 0.99 - ETA: 32s - loss: 0.0142 - acc: 0.99 - ETA: 32s - loss: 0.0141 - acc: 0.99 - ETA: 32s - loss: 0.0141 - acc: 0.99 - ETA: 31s - loss: 0.0141 - acc: 0.99 - ETA: 31s - loss: 0.0140 - acc: 0.99 - ETA: 31s - loss: 0.0141 - acc: 0.99 - ETA: 30s - loss: 0.0142 - acc: 0.99 - ETA: 30s - loss: 0.0142 - acc: 0.99 - ETA: 30s - loss: 0.0142 - acc: 0.99 - ETA: 30s - loss: 0.0144 - acc: 0.99 - ETA: 29s - loss: 0.0144 - acc: 0.99 - ETA: 29s - loss: 0.0144 - acc: 0.99 - ETA: 29s - loss: 0.0145 - acc: 0.99 - ETA: 28s - loss: 0.0144 - acc: 0.99 - ETA: 28s - loss: 0.0144 - acc: 0.99 - ETA: 28s - loss: 0.0144 - acc: 0.99 - ETA: 27s - loss: 0.0145 - acc: 0.99 - ETA: 27s - loss: 0.0145 - acc: 0.99 - ETA: 27s - loss: 0.0144 - acc: 0.99 - ETA: 26s - loss: 0.0144 - acc: 0.99 - ETA: 26s - loss: 0.0143 - acc: 0.99 - ETA: 26s - loss: 0.0148 - acc: 0.99 - ETA: 25s - loss: 0.0148 - acc: 0.99 - ETA: 25s - loss: 0.0149 - acc: 0.99 - ETA: 25s - loss: 0.0148 - acc: 0.99 - ETA: 24s - loss: 0.0148 - acc: 0.99 - ETA: 24s - loss: 0.0148 - acc: 0.99 - ETA: 24s - loss: 0.0147 - acc: 0.99 - ETA: 23s - loss: 0.0151 - acc: 0.99 - ETA: 23s - loss: 0.0153 - acc: 0.99 - ETA: 23s - loss: 0.0153 - acc: 0.99 - ETA: 23s - loss: 0.0161 - acc: 0.99 - ETA: 22s - loss: 0.0161 - acc: 0.99 - ETA: 22s - loss: 0.0160 - acc: 0.99 - ETA: 22s - loss: 0.0160 - acc: 0.99 - ETA: 21s - loss: 0.0161 - acc: 0.99 - ETA: 21s - loss: 0.0160 - acc: 0.99 - ETA: 21s - loss: 0.0160 - acc: 0.99 - ETA: 20s - loss: 0.0159 - acc: 0.99 - ETA: 20s - loss: 0.0159 - acc: 0.99 - ETA: 20s - loss: 0.0160 - acc: 0.99 - ETA: 19s - loss: 0.0159 - acc: 0.99 - ETA: 19s - loss: 0.0159 - acc: 0.99 - ETA: 19s - loss: 0.0159 - acc: 0.99 - ETA: 18s - loss: 0.0161 - acc: 0.99 - ETA: 18s - loss: 0.0162 - acc: 0.99 - ETA: 18s - loss: 0.0161 - acc: 0.99 - ETA: 17s - loss: 0.0161 - acc: 0.99 - ETA: 17s - loss: 0.0160 - acc: 0.99 - ETA: 17s - loss: 0.0164 - acc: 0.99 - ETA: 16s - loss: 0.0164 - acc: 0.99 - ETA: 16s - loss: 0.0163 - acc: 0.99 - ETA: 16s - loss: 0.0162 - acc: 0.99 - ETA: 16s - loss: 0.0162 - acc: 0.99 - ETA: 15s - loss: 0.0161 - acc: 0.99 - ETA: 15s - loss: 0.0161 - acc: 0.99 - ETA: 15s - loss: 0.0161 - acc: 0.99 - ETA: 14s - loss: 0.0161 - acc: 0.99 - ETA: 14s - loss: 0.0160 - acc: 0.99 - ETA: 14s - loss: 0.0160 - acc: 0.99 - ETA: 13s - loss: 0.0159 - acc: 0.99 - ETA: 13s - loss: 0.0159 - acc: 0.99 - ETA: 13s - loss: 0.0159 - acc: 0.99 - ETA: 12s - loss: 0.0160 - acc: 0.99 - ETA: 12s - loss: 0.0159 - acc: 0.99 - ETA: 12s - loss: 0.0159 - acc: 0.99 - ETA: 11s - loss: 0.0158 - acc: 0.99 - ETA: 11s - loss: 0.0158 - acc: 0.99 - ETA: 11s - loss: 0.0158 - acc: 0.99 - ETA: 11s - loss: 0.0157 - acc: 0.99 - ETA: 10s - loss: 0.0157 - acc: 0.99 - ETA: 10s - loss: 0.0156 - acc: 0.99 - ETA: 10s - loss: 0.0161 - acc: 0.99 - ETA: 9s - loss: 0.0160 - acc: 0.9946 - ETA: 9s - loss: 0.0160 - acc: 0.994 - ETA: 9s - loss: 0.0159 - acc: 0.994 - ETA: 8s - loss: 0.0159 - acc: 0.994 - ETA: 8s - loss: 0.0159 - acc: 0.994 - ETA: 8s - loss: 0.0159 - acc: 0.994 - ETA: 7s - loss: 0.0158 - acc: 0.994 - ETA: 7s - loss: 0.0158 - acc: 0.994 - ETA: 7s - loss: 0.0157 - acc: 0.994 - ETA: 6s - loss: 0.0157 - acc: 0.994 - ETA: 6s - loss: 0.0157 - acc: 0.994 - ETA: 6s - loss: 0.0156 - acc: 0.994 - ETA: 5s - loss: 0.0156 - acc: 0.994 - ETA: 5s - loss: 0.0156 - acc: 0.994 - ETA: 5s - loss: 0.0155 - acc: 0.994 - ETA: 5s - loss: 0.0155 - acc: 0.994 - ETA: 4s - loss: 0.0154 - acc: 0.994 - ETA: 4s - loss: 0.0154 - acc: 0.994 - ETA: 4s - loss: 0.0154 - acc: 0.994 - ETA: 3s - loss: 0.0153 - acc: 0.994 - ETA: 3s - loss: 0.0154 - acc: 0.994 - ETA: 3s - loss: 0.0158 - acc: 0.994 - ETA: 2s - loss: 0.0158 - acc: 0.994 - ETA: 2s - loss: 0.0158 - acc: 0.994 - ETA: 2s - loss: 0.0159 - acc: 0.994 - ETA: 1s - loss: 0.0162 - acc: 0.994 - ETA: 1s - loss: 0.0161 - acc: 0.994 - ETA: 1s - loss: 0.0161 - acc: 0.994 - ETA: 0s - loss: 0.0161 - acc: 0.994 - ETA: 0s - loss: 0.0160 - acc: 0.994 - ETA: 0s - loss: 0.0160 - acc: 0.994 - 110s 10ms/step - loss: 0.0160 - acc: 0.9948 - val_loss: 1.3805 - val_acc: 0.7280\n",
      "Epoch 9/10\n",
      " 6624/10586 [=================>............] - ETA: 1:39 - loss: 0.0037 - acc: 1.000 - ETA: 1:42 - loss: 0.0022 - acc: 1.000 - ETA: 1:42 - loss: 0.0018 - acc: 1.000 - ETA: 1:43 - loss: 0.0020 - acc: 1.000 - ETA: 1:43 - loss: 0.0126 - acc: 0.993 - ETA: 1:44 - loss: 0.0108 - acc: 0.994 - ETA: 1:43 - loss: 0.0094 - acc: 0.995 - ETA: 1:43 - loss: 0.0084 - acc: 0.996 - ETA: 1:43 - loss: 0.0078 - acc: 0.996 - ETA: 1:43 - loss: 0.0082 - acc: 0.996 - ETA: 1:43 - loss: 0.0172 - acc: 0.994 - ETA: 1:43 - loss: 0.0162 - acc: 0.994 - ETA: 1:43 - loss: 0.0203 - acc: 0.992 - ETA: 1:42 - loss: 0.0193 - acc: 0.993 - ETA: 1:42 - loss: 0.0185 - acc: 0.993 - ETA: 1:42 - loss: 0.0190 - acc: 0.992 - ETA: 1:42 - loss: 0.0194 - acc: 0.992 - ETA: 1:42 - loss: 0.0184 - acc: 0.993 - ETA: 1:42 - loss: 0.0175 - acc: 0.993 - ETA: 1:42 - loss: 0.0174 - acc: 0.993 - ETA: 1:41 - loss: 0.0171 - acc: 0.994 - ETA: 1:41 - loss: 0.0168 - acc: 0.994 - ETA: 1:41 - loss: 0.0164 - acc: 0.994 - ETA: 1:40 - loss: 0.0157 - acc: 0.994 - ETA: 1:40 - loss: 0.0213 - acc: 0.991 - ETA: 1:40 - loss: 0.0205 - acc: 0.991 - ETA: 1:39 - loss: 0.0210 - acc: 0.990 - ETA: 1:39 - loss: 0.0203 - acc: 0.991 - ETA: 1:38 - loss: 0.0206 - acc: 0.990 - ETA: 1:38 - loss: 0.0200 - acc: 0.990 - ETA: 1:38 - loss: 0.0196 - acc: 0.990 - ETA: 1:37 - loss: 0.0201 - acc: 0.990 - ETA: 1:37 - loss: 0.0200 - acc: 0.990 - ETA: 1:36 - loss: 0.0197 - acc: 0.990 - ETA: 1:36 - loss: 0.0191 - acc: 0.991 - ETA: 1:36 - loss: 0.0186 - acc: 0.991 - ETA: 1:36 - loss: 0.0181 - acc: 0.991 - ETA: 1:35 - loss: 0.0177 - acc: 0.991 - ETA: 1:35 - loss: 0.0177 - acc: 0.992 - ETA: 1:35 - loss: 0.0173 - acc: 0.992 - ETA: 1:34 - loss: 0.0181 - acc: 0.991 - ETA: 1:34 - loss: 0.0178 - acc: 0.991 - ETA: 1:34 - loss: 0.0175 - acc: 0.992 - ETA: 1:33 - loss: 0.0172 - acc: 0.992 - ETA: 1:33 - loss: 0.0169 - acc: 0.992 - ETA: 1:33 - loss: 0.0166 - acc: 0.992 - ETA: 1:33 - loss: 0.0173 - acc: 0.992 - ETA: 1:32 - loss: 0.0172 - acc: 0.992 - ETA: 1:32 - loss: 0.0169 - acc: 0.992 - ETA: 1:32 - loss: 0.0179 - acc: 0.991 - ETA: 1:31 - loss: 0.0176 - acc: 0.992 - ETA: 1:31 - loss: 0.0173 - acc: 0.992 - ETA: 1:31 - loss: 0.0183 - acc: 0.991 - ETA: 1:30 - loss: 0.0180 - acc: 0.991 - ETA: 1:30 - loss: 0.0184 - acc: 0.991 - ETA: 1:30 - loss: 0.0187 - acc: 0.991 - ETA: 1:29 - loss: 0.0188 - acc: 0.990 - ETA: 1:29 - loss: 0.0185 - acc: 0.990 - ETA: 1:29 - loss: 0.0183 - acc: 0.991 - ETA: 1:28 - loss: 0.0180 - acc: 0.991 - ETA: 1:28 - loss: 0.0177 - acc: 0.991 - ETA: 1:28 - loss: 0.0175 - acc: 0.991 - ETA: 1:27 - loss: 0.0172 - acc: 0.991 - ETA: 1:27 - loss: 0.0170 - acc: 0.991 - ETA: 1:27 - loss: 0.0167 - acc: 0.991 - ETA: 1:26 - loss: 0.0165 - acc: 0.992 - ETA: 1:26 - loss: 0.0174 - acc: 0.991 - ETA: 1:26 - loss: 0.0171 - acc: 0.991 - ETA: 1:25 - loss: 0.0169 - acc: 0.991 - ETA: 1:25 - loss: 0.0167 - acc: 0.992 - ETA: 1:25 - loss: 0.0165 - acc: 0.992 - ETA: 1:24 - loss: 0.0163 - acc: 0.992 - ETA: 1:24 - loss: 0.0161 - acc: 0.992 - ETA: 1:24 - loss: 0.0159 - acc: 0.992 - ETA: 1:23 - loss: 0.0157 - acc: 0.992 - ETA: 1:23 - loss: 0.0156 - acc: 0.992 - ETA: 1:23 - loss: 0.0154 - acc: 0.992 - ETA: 1:22 - loss: 0.0152 - acc: 0.992 - ETA: 1:22 - loss: 0.0150 - acc: 0.992 - ETA: 1:22 - loss: 0.0156 - acc: 0.992 - ETA: 1:21 - loss: 0.0158 - acc: 0.992 - ETA: 1:21 - loss: 0.0156 - acc: 0.992 - ETA: 1:21 - loss: 0.0155 - acc: 0.992 - ETA: 1:20 - loss: 0.0154 - acc: 0.992 - ETA: 1:20 - loss: 0.0153 - acc: 0.992 - ETA: 1:20 - loss: 0.0151 - acc: 0.992 - ETA: 1:19 - loss: 0.0150 - acc: 0.992 - ETA: 1:19 - loss: 0.0148 - acc: 0.992 - ETA: 1:19 - loss: 0.0146 - acc: 0.993 - ETA: 1:18 - loss: 0.0145 - acc: 0.993 - ETA: 1:18 - loss: 0.0144 - acc: 0.993 - ETA: 1:18 - loss: 0.0143 - acc: 0.993 - ETA: 1:17 - loss: 0.0142 - acc: 0.993 - ETA: 1:17 - loss: 0.0142 - acc: 0.993 - ETA: 1:17 - loss: 0.0141 - acc: 0.993 - ETA: 1:16 - loss: 0.0140 - acc: 0.993 - ETA: 1:16 - loss: 0.0139 - acc: 0.993 - ETA: 1:16 - loss: 0.0137 - acc: 0.993 - ETA: 1:15 - loss: 0.0136 - acc: 0.993 - ETA: 1:15 - loss: 0.0135 - acc: 0.993 - ETA: 1:15 - loss: 0.0140 - acc: 0.993 - ETA: 1:14 - loss: 0.0143 - acc: 0.993 - ETA: 1:14 - loss: 0.0147 - acc: 0.993 - ETA: 1:14 - loss: 0.0145 - acc: 0.993 - ETA: 1:13 - loss: 0.0144 - acc: 0.993 - ETA: 1:13 - loss: 0.0143 - acc: 0.993 - ETA: 1:13 - loss: 0.0143 - acc: 0.993 - ETA: 1:12 - loss: 0.0141 - acc: 0.993 - ETA: 1:12 - loss: 0.0140 - acc: 0.993 - ETA: 1:12 - loss: 0.0139 - acc: 0.993 - ETA: 1:12 - loss: 0.0138 - acc: 0.993 - ETA: 1:11 - loss: 0.0138 - acc: 0.993 - ETA: 1:11 - loss: 0.0137 - acc: 0.993 - ETA: 1:10 - loss: 0.0135 - acc: 0.993 - ETA: 1:10 - loss: 0.0134 - acc: 0.993 - ETA: 1:10 - loss: 0.0134 - acc: 0.993 - ETA: 1:09 - loss: 0.0133 - acc: 0.993 - ETA: 1:09 - loss: 0.0132 - acc: 0.993 - ETA: 1:09 - loss: 0.0140 - acc: 0.993 - ETA: 1:08 - loss: 0.0139 - acc: 0.993 - ETA: 1:08 - loss: 0.0138 - acc: 0.993 - ETA: 1:08 - loss: 0.0137 - acc: 0.993 - ETA: 1:07 - loss: 0.0136 - acc: 0.993 - ETA: 1:07 - loss: 0.0137 - acc: 0.993 - ETA: 1:07 - loss: 0.0136 - acc: 0.993 - ETA: 1:06 - loss: 0.0135 - acc: 0.993 - ETA: 1:06 - loss: 0.0134 - acc: 0.993 - ETA: 1:06 - loss: 0.0133 - acc: 0.993 - ETA: 1:05 - loss: 0.0132 - acc: 0.993 - ETA: 1:05 - loss: 0.0132 - acc: 0.994 - ETA: 1:05 - loss: 0.0131 - acc: 0.994 - ETA: 1:04 - loss: 0.0130 - acc: 0.994 - ETA: 1:04 - loss: 0.0129 - acc: 0.994 - ETA: 1:04 - loss: 0.0128 - acc: 0.994 - ETA: 1:03 - loss: 0.0128 - acc: 0.994 - ETA: 1:03 - loss: 0.0127 - acc: 0.994 - ETA: 1:03 - loss: 0.0127 - acc: 0.994 - ETA: 1:02 - loss: 0.0126 - acc: 0.994 - ETA: 1:02 - loss: 0.0126 - acc: 0.994 - ETA: 1:02 - loss: 0.0125 - acc: 0.994 - ETA: 1:01 - loss: 0.0127 - acc: 0.994 - ETA: 1:01 - loss: 0.0127 - acc: 0.994 - ETA: 1:01 - loss: 0.0126 - acc: 0.994 - ETA: 1:00 - loss: 0.0126 - acc: 0.994 - ETA: 1:00 - loss: 0.0125 - acc: 0.994 - ETA: 1:00 - loss: 0.0124 - acc: 0.994 - ETA: 59s - loss: 0.0124 - acc: 0.994 - ETA: 59s - loss: 0.0123 - acc: 0.99 - ETA: 59s - loss: 0.0123 - acc: 0.99 - ETA: 58s - loss: 0.0122 - acc: 0.99 - ETA: 58s - loss: 0.0121 - acc: 0.99 - ETA: 58s - loss: 0.0121 - acc: 0.99 - ETA: 57s - loss: 0.0120 - acc: 0.99 - ETA: 57s - loss: 0.0120 - acc: 0.99 - ETA: 57s - loss: 0.0119 - acc: 0.99 - ETA: 56s - loss: 0.0118 - acc: 0.99 - ETA: 56s - loss: 0.0118 - acc: 0.99 - ETA: 56s - loss: 0.0117 - acc: 0.99 - ETA: 55s - loss: 0.0117 - acc: 0.99 - ETA: 55s - loss: 0.0117 - acc: 0.99 - ETA: 55s - loss: 0.0116 - acc: 0.99 - ETA: 54s - loss: 0.0116 - acc: 0.99 - ETA: 54s - loss: 0.0115 - acc: 0.99 - ETA: 54s - loss: 0.0115 - acc: 0.99 - ETA: 53s - loss: 0.0114 - acc: 0.99 - ETA: 53s - loss: 0.0114 - acc: 0.99 - ETA: 53s - loss: 0.0115 - acc: 0.99 - ETA: 52s - loss: 0.0114 - acc: 0.99 - ETA: 52s - loss: 0.0114 - acc: 0.99 - ETA: 52s - loss: 0.0113 - acc: 0.99 - ETA: 51s - loss: 0.0113 - acc: 0.99 - ETA: 51s - loss: 0.0112 - acc: 0.99 - ETA: 51s - loss: 0.0112 - acc: 0.99 - ETA: 50s - loss: 0.0112 - acc: 0.99 - ETA: 50s - loss: 0.0111 - acc: 0.99 - ETA: 50s - loss: 0.0111 - acc: 0.99 - ETA: 49s - loss: 0.0110 - acc: 0.99 - ETA: 49s - loss: 0.0115 - acc: 0.99 - ETA: 49s - loss: 0.0114 - acc: 0.99 - ETA: 48s - loss: 0.0114 - acc: 0.99 - ETA: 48s - loss: 0.0113 - acc: 0.99 - ETA: 48s - loss: 0.0113 - acc: 0.99 - ETA: 47s - loss: 0.0112 - acc: 0.99 - ETA: 47s - loss: 0.0112 - acc: 0.99 - ETA: 47s - loss: 0.0111 - acc: 0.99 - ETA: 46s - loss: 0.0113 - acc: 0.99 - ETA: 46s - loss: 0.0113 - acc: 0.99 - ETA: 46s - loss: 0.0116 - acc: 0.99 - ETA: 45s - loss: 0.0115 - acc: 0.99 - ETA: 45s - loss: 0.0115 - acc: 0.99 - ETA: 45s - loss: 0.0114 - acc: 0.99 - ETA: 44s - loss: 0.0114 - acc: 0.99 - ETA: 44s - loss: 0.0113 - acc: 0.99 - ETA: 44s - loss: 0.0113 - acc: 0.99 - ETA: 43s - loss: 0.0112 - acc: 0.99 - ETA: 43s - loss: 0.0112 - acc: 0.99 - ETA: 43s - loss: 0.0112 - acc: 0.99 - ETA: 42s - loss: 0.0111 - acc: 0.99 - ETA: 42s - loss: 0.0111 - acc: 0.99 - ETA: 42s - loss: 0.0110 - acc: 0.99 - ETA: 41s - loss: 0.0110 - acc: 0.99 - ETA: 41s - loss: 0.0110 - acc: 0.99 - ETA: 41s - loss: 0.0110 - acc: 0.99 - ETA: 40s - loss: 0.0109 - acc: 0.99 - ETA: 40s - loss: 0.0109 - acc: 0.99 - ETA: 40s - loss: 0.0108 - acc: 0.99 - ETA: 39s - loss: 0.0108 - acc: 0.995510586/10586 [==============================] - ETA: 39s - loss: 0.0108 - acc: 0.99 - ETA: 39s - loss: 0.0107 - acc: 0.99 - ETA: 38s - loss: 0.0107 - acc: 0.99 - ETA: 38s - loss: 0.0108 - acc: 0.99 - ETA: 38s - loss: 0.0107 - acc: 0.99 - ETA: 37s - loss: 0.0107 - acc: 0.99 - ETA: 37s - loss: 0.0107 - acc: 0.99 - ETA: 37s - loss: 0.0107 - acc: 0.99 - ETA: 36s - loss: 0.0106 - acc: 0.99 - ETA: 36s - loss: 0.0106 - acc: 0.99 - ETA: 36s - loss: 0.0105 - acc: 0.99 - ETA: 35s - loss: 0.0105 - acc: 0.99 - ETA: 35s - loss: 0.0105 - acc: 0.99 - ETA: 35s - loss: 0.0105 - acc: 0.99 - ETA: 34s - loss: 0.0105 - acc: 0.99 - ETA: 34s - loss: 0.0104 - acc: 0.99 - ETA: 34s - loss: 0.0104 - acc: 0.99 - ETA: 34s - loss: 0.0103 - acc: 0.99 - ETA: 33s - loss: 0.0103 - acc: 0.99 - ETA: 33s - loss: 0.0103 - acc: 0.99 - ETA: 33s - loss: 0.0102 - acc: 0.99 - ETA: 32s - loss: 0.0105 - acc: 0.99 - ETA: 32s - loss: 0.0105 - acc: 0.99 - ETA: 32s - loss: 0.0104 - acc: 0.99 - ETA: 31s - loss: 0.0104 - acc: 0.99 - ETA: 31s - loss: 0.0104 - acc: 0.99 - ETA: 31s - loss: 0.0103 - acc: 0.99 - ETA: 30s - loss: 0.0103 - acc: 0.99 - ETA: 30s - loss: 0.0103 - acc: 0.99 - ETA: 30s - loss: 0.0102 - acc: 0.99 - ETA: 29s - loss: 0.0102 - acc: 0.99 - ETA: 29s - loss: 0.0102 - acc: 0.99 - ETA: 29s - loss: 0.0107 - acc: 0.99 - ETA: 28s - loss: 0.0108 - acc: 0.99 - ETA: 28s - loss: 0.0108 - acc: 0.99 - ETA: 28s - loss: 0.0108 - acc: 0.99 - ETA: 27s - loss: 0.0107 - acc: 0.99 - ETA: 27s - loss: 0.0107 - acc: 0.99 - ETA: 27s - loss: 0.0107 - acc: 0.99 - ETA: 26s - loss: 0.0107 - acc: 0.99 - ETA: 26s - loss: 0.0106 - acc: 0.99 - ETA: 26s - loss: 0.0106 - acc: 0.99 - ETA: 25s - loss: 0.0106 - acc: 0.99 - ETA: 25s - loss: 0.0106 - acc: 0.99 - ETA: 25s - loss: 0.0106 - acc: 0.99 - ETA: 24s - loss: 0.0105 - acc: 0.99 - ETA: 24s - loss: 0.0105 - acc: 0.99 - ETA: 24s - loss: 0.0105 - acc: 0.99 - ETA: 23s - loss: 0.0105 - acc: 0.99 - ETA: 23s - loss: 0.0104 - acc: 0.99 - ETA: 23s - loss: 0.0104 - acc: 0.99 - ETA: 23s - loss: 0.0104 - acc: 0.99 - ETA: 22s - loss: 0.0103 - acc: 0.99 - ETA: 22s - loss: 0.0103 - acc: 0.99 - ETA: 22s - loss: 0.0107 - acc: 0.99 - ETA: 21s - loss: 0.0107 - acc: 0.99 - ETA: 21s - loss: 0.0107 - acc: 0.99 - ETA: 21s - loss: 0.0106 - acc: 0.99 - ETA: 20s - loss: 0.0106 - acc: 0.99 - ETA: 20s - loss: 0.0109 - acc: 0.99 - ETA: 20s - loss: 0.0108 - acc: 0.99 - ETA: 19s - loss: 0.0108 - acc: 0.99 - ETA: 19s - loss: 0.0108 - acc: 0.99 - ETA: 19s - loss: 0.0107 - acc: 0.99 - ETA: 18s - loss: 0.0107 - acc: 0.99 - ETA: 18s - loss: 0.0109 - acc: 0.99 - ETA: 18s - loss: 0.0109 - acc: 0.99 - ETA: 17s - loss: 0.0108 - acc: 0.99 - ETA: 17s - loss: 0.0108 - acc: 0.99 - ETA: 17s - loss: 0.0108 - acc: 0.99 - ETA: 16s - loss: 0.0108 - acc: 0.99 - ETA: 16s - loss: 0.0107 - acc: 0.99 - ETA: 16s - loss: 0.0107 - acc: 0.99 - ETA: 15s - loss: 0.0107 - acc: 0.99 - ETA: 15s - loss: 0.0108 - acc: 0.99 - ETA: 15s - loss: 0.0108 - acc: 0.99 - ETA: 14s - loss: 0.0107 - acc: 0.99 - ETA: 14s - loss: 0.0107 - acc: 0.99 - ETA: 14s - loss: 0.0107 - acc: 0.99 - ETA: 14s - loss: 0.0106 - acc: 0.99 - ETA: 13s - loss: 0.0107 - acc: 0.99 - ETA: 13s - loss: 0.0107 - acc: 0.99 - ETA: 13s - loss: 0.0106 - acc: 0.99 - ETA: 12s - loss: 0.0106 - acc: 0.99 - ETA: 12s - loss: 0.0106 - acc: 0.99 - ETA: 12s - loss: 0.0106 - acc: 0.99 - ETA: 11s - loss: 0.0105 - acc: 0.99 - ETA: 11s - loss: 0.0105 - acc: 0.99 - ETA: 11s - loss: 0.0105 - acc: 0.99 - ETA: 10s - loss: 0.0105 - acc: 0.99 - ETA: 10s - loss: 0.0105 - acc: 0.99 - ETA: 10s - loss: 0.0104 - acc: 0.99 - ETA: 9s - loss: 0.0104 - acc: 0.9958 - ETA: 9s - loss: 0.0104 - acc: 0.995 - ETA: 9s - loss: 0.0103 - acc: 0.995 - ETA: 8s - loss: 0.0103 - acc: 0.995 - ETA: 8s - loss: 0.0103 - acc: 0.995 - ETA: 8s - loss: 0.0102 - acc: 0.995 - ETA: 7s - loss: 0.0102 - acc: 0.995 - ETA: 7s - loss: 0.0102 - acc: 0.995 - ETA: 7s - loss: 0.0102 - acc: 0.995 - ETA: 6s - loss: 0.0102 - acc: 0.996 - ETA: 6s - loss: 0.0102 - acc: 0.996 - ETA: 6s - loss: 0.0101 - acc: 0.996 - ETA: 6s - loss: 0.0101 - acc: 0.996 - ETA: 5s - loss: 0.0101 - acc: 0.996 - ETA: 5s - loss: 0.0101 - acc: 0.996 - ETA: 5s - loss: 0.0100 - acc: 0.996 - ETA: 4s - loss: 0.0100 - acc: 0.996 - ETA: 4s - loss: 0.0100 - acc: 0.996 - ETA: 4s - loss: 0.0101 - acc: 0.996 - ETA: 3s - loss: 0.0101 - acc: 0.996 - ETA: 3s - loss: 0.0100 - acc: 0.996 - ETA: 3s - loss: 0.0101 - acc: 0.996 - ETA: 2s - loss: 0.0100 - acc: 0.996 - ETA: 2s - loss: 0.0100 - acc: 0.996 - ETA: 2s - loss: 0.0100 - acc: 0.996 - ETA: 1s - loss: 0.0099 - acc: 0.996 - ETA: 1s - loss: 0.0099 - acc: 0.996 - ETA: 1s - loss: 0.0101 - acc: 0.996 - ETA: 0s - loss: 0.0100 - acc: 0.996 - ETA: 0s - loss: 0.0100 - acc: 0.996 - ETA: 0s - loss: 0.0100 - acc: 0.996 - 111s 10ms/step - loss: 0.0100 - acc: 0.9960 - val_loss: 1.5615 - val_acc: 0.7197\n",
      "Epoch 10/10\n"
     ]
    },
    {
     "name": "stdout",
     "output_type": "stream",
     "text": [
      " 6624/10586 [=================>............] - ETA: 1:39 - loss: 4.1121e-04 - acc: 1.000 - ETA: 1:43 - loss: 7.3609e-04 - acc: 1.000 - ETA: 1:44 - loss: 0.0021 - acc: 1.0000    - ETA: 1:45 - loss: 0.0019 - acc: 1.000 - ETA: 1:46 - loss: 0.0017 - acc: 1.000 - ETA: 1:45 - loss: 0.0016 - acc: 1.000 - ETA: 1:45 - loss: 0.0018 - acc: 1.000 - ETA: 1:45 - loss: 0.0017 - acc: 1.000 - ETA: 1:44 - loss: 0.0016 - acc: 1.000 - ETA: 1:44 - loss: 0.0017 - acc: 1.000 - ETA: 1:43 - loss: 0.0016 - acc: 1.000 - ETA: 1:43 - loss: 0.0015 - acc: 1.000 - ETA: 1:42 - loss: 0.0014 - acc: 1.000 - ETA: 1:42 - loss: 0.0017 - acc: 1.000 - ETA: 1:42 - loss: 0.0016 - acc: 1.000 - ETA: 1:42 - loss: 0.0072 - acc: 0.998 - ETA: 1:41 - loss: 0.0070 - acc: 0.998 - ETA: 1:41 - loss: 0.0067 - acc: 0.998 - ETA: 1:41 - loss: 0.0067 - acc: 0.998 - ETA: 1:41 - loss: 0.0064 - acc: 0.998 - ETA: 1:41 - loss: 0.0061 - acc: 0.998 - ETA: 1:40 - loss: 0.0058 - acc: 0.998 - ETA: 1:40 - loss: 0.0056 - acc: 0.998 - ETA: 1:39 - loss: 0.0055 - acc: 0.998 - ETA: 1:40 - loss: 0.0054 - acc: 0.998 - ETA: 1:39 - loss: 0.0052 - acc: 0.998 - ETA: 1:39 - loss: 0.0053 - acc: 0.998 - ETA: 1:38 - loss: 0.0051 - acc: 0.998 - ETA: 1:38 - loss: 0.0050 - acc: 0.998 - ETA: 1:38 - loss: 0.0049 - acc: 0.999 - ETA: 1:37 - loss: 0.0047 - acc: 0.999 - ETA: 1:37 - loss: 0.0046 - acc: 0.999 - ETA: 1:37 - loss: 0.0045 - acc: 0.999 - ETA: 1:37 - loss: 0.0045 - acc: 0.999 - ETA: 1:36 - loss: 0.0044 - acc: 0.999 - ETA: 1:36 - loss: 0.0044 - acc: 0.999 - ETA: 1:36 - loss: 0.0043 - acc: 0.999 - ETA: 1:35 - loss: 0.0042 - acc: 0.999 - ETA: 1:35 - loss: 0.0042 - acc: 0.999 - ETA: 1:35 - loss: 0.0041 - acc: 0.999 - ETA: 1:35 - loss: 0.0041 - acc: 0.999 - ETA: 1:34 - loss: 0.0040 - acc: 0.999 - ETA: 1:34 - loss: 0.0039 - acc: 0.999 - ETA: 1:33 - loss: 0.0039 - acc: 0.999 - ETA: 1:33 - loss: 0.0038 - acc: 0.999 - ETA: 1:33 - loss: 0.0038 - acc: 0.999 - ETA: 1:32 - loss: 0.0037 - acc: 0.999 - ETA: 1:32 - loss: 0.0037 - acc: 0.999 - ETA: 1:32 - loss: 0.0036 - acc: 0.999 - ETA: 1:31 - loss: 0.0036 - acc: 0.999 - ETA: 1:31 - loss: 0.0035 - acc: 0.999 - ETA: 1:31 - loss: 0.0035 - acc: 0.999 - ETA: 1:30 - loss: 0.0034 - acc: 0.999 - ETA: 1:30 - loss: 0.0038 - acc: 0.998 - ETA: 1:30 - loss: 0.0053 - acc: 0.998 - ETA: 1:29 - loss: 0.0053 - acc: 0.998 - ETA: 1:29 - loss: 0.0052 - acc: 0.998 - ETA: 1:29 - loss: 0.0051 - acc: 0.998 - ETA: 1:28 - loss: 0.0050 - acc: 0.998 - ETA: 1:28 - loss: 0.0050 - acc: 0.998 - ETA: 1:28 - loss: 0.0049 - acc: 0.998 - ETA: 1:27 - loss: 0.0049 - acc: 0.998 - ETA: 1:27 - loss: 0.0048 - acc: 0.998 - ETA: 1:27 - loss: 0.0047 - acc: 0.998 - ETA: 1:26 - loss: 0.0047 - acc: 0.998 - ETA: 1:26 - loss: 0.0059 - acc: 0.998 - ETA: 1:25 - loss: 0.0071 - acc: 0.997 - ETA: 1:25 - loss: 0.0071 - acc: 0.997 - ETA: 1:25 - loss: 0.0070 - acc: 0.997 - ETA: 1:24 - loss: 0.0069 - acc: 0.997 - ETA: 1:24 - loss: 0.0069 - acc: 0.997 - ETA: 1:24 - loss: 0.0074 - acc: 0.997 - ETA: 1:23 - loss: 0.0073 - acc: 0.997 - ETA: 1:23 - loss: 0.0074 - acc: 0.997 - ETA: 1:23 - loss: 0.0073 - acc: 0.997 - ETA: 1:22 - loss: 0.0077 - acc: 0.997 - ETA: 1:22 - loss: 0.0076 - acc: 0.997 - ETA: 1:22 - loss: 0.0076 - acc: 0.997 - ETA: 1:21 - loss: 0.0075 - acc: 0.997 - ETA: 1:21 - loss: 0.0074 - acc: 0.997 - ETA: 1:21 - loss: 0.0073 - acc: 0.997 - ETA: 1:20 - loss: 0.0072 - acc: 0.997 - ETA: 1:20 - loss: 0.0073 - acc: 0.997 - ETA: 1:20 - loss: 0.0072 - acc: 0.997 - ETA: 1:19 - loss: 0.0072 - acc: 0.997 - ETA: 1:19 - loss: 0.0072 - acc: 0.997 - ETA: 1:19 - loss: 0.0072 - acc: 0.997 - ETA: 1:18 - loss: 0.0076 - acc: 0.997 - ETA: 1:18 - loss: 0.0077 - acc: 0.997 - ETA: 1:18 - loss: 0.0077 - acc: 0.997 - ETA: 1:17 - loss: 0.0077 - acc: 0.997 - ETA: 1:17 - loss: 0.0076 - acc: 0.997 - ETA: 1:16 - loss: 0.0076 - acc: 0.997 - ETA: 1:16 - loss: 0.0075 - acc: 0.997 - ETA: 1:16 - loss: 0.0075 - acc: 0.997 - ETA: 1:15 - loss: 0.0078 - acc: 0.997 - ETA: 1:15 - loss: 0.0077 - acc: 0.997 - ETA: 1:15 - loss: 0.0076 - acc: 0.997 - ETA: 1:14 - loss: 0.0076 - acc: 0.997 - ETA: 1:14 - loss: 0.0075 - acc: 0.997 - ETA: 1:14 - loss: 0.0076 - acc: 0.997 - ETA: 1:13 - loss: 0.0075 - acc: 0.997 - ETA: 1:13 - loss: 0.0074 - acc: 0.997 - ETA: 1:13 - loss: 0.0074 - acc: 0.997 - ETA: 1:12 - loss: 0.0073 - acc: 0.997 - ETA: 1:12 - loss: 0.0073 - acc: 0.997 - ETA: 1:12 - loss: 0.0072 - acc: 0.997 - ETA: 1:11 - loss: 0.0072 - acc: 0.997 - ETA: 1:11 - loss: 0.0071 - acc: 0.997 - ETA: 1:11 - loss: 0.0071 - acc: 0.997 - ETA: 1:10 - loss: 0.0077 - acc: 0.997 - ETA: 1:10 - loss: 0.0077 - acc: 0.997 - ETA: 1:10 - loss: 0.0076 - acc: 0.997 - ETA: 1:09 - loss: 0.0092 - acc: 0.997 - ETA: 1:09 - loss: 0.0091 - acc: 0.997 - ETA: 1:09 - loss: 0.0090 - acc: 0.997 - ETA: 1:08 - loss: 0.0090 - acc: 0.997 - ETA: 1:08 - loss: 0.0090 - acc: 0.997 - ETA: 1:08 - loss: 0.0089 - acc: 0.997 - ETA: 1:07 - loss: 0.0088 - acc: 0.997 - ETA: 1:07 - loss: 0.0088 - acc: 0.997 - ETA: 1:07 - loss: 0.0087 - acc: 0.997 - ETA: 1:06 - loss: 0.0087 - acc: 0.997 - ETA: 1:06 - loss: 0.0086 - acc: 0.997 - ETA: 1:06 - loss: 0.0086 - acc: 0.997 - ETA: 1:05 - loss: 0.0085 - acc: 0.997 - ETA: 1:05 - loss: 0.0084 - acc: 0.997 - ETA: 1:05 - loss: 0.0088 - acc: 0.997 - ETA: 1:04 - loss: 0.0087 - acc: 0.997 - ETA: 1:04 - loss: 0.0087 - acc: 0.997 - ETA: 1:04 - loss: 0.0086 - acc: 0.997 - ETA: 1:03 - loss: 0.0086 - acc: 0.997 - ETA: 1:03 - loss: 0.0085 - acc: 0.997 - ETA: 1:03 - loss: 0.0085 - acc: 0.997 - ETA: 1:02 - loss: 0.0084 - acc: 0.997 - ETA: 1:02 - loss: 0.0084 - acc: 0.997 - ETA: 1:02 - loss: 0.0083 - acc: 0.997 - ETA: 1:01 - loss: 0.0083 - acc: 0.997 - ETA: 1:01 - loss: 0.0082 - acc: 0.997 - ETA: 1:01 - loss: 0.0081 - acc: 0.997 - ETA: 1:00 - loss: 0.0081 - acc: 0.997 - ETA: 1:00 - loss: 0.0081 - acc: 0.997 - ETA: 1:00 - loss: 0.0080 - acc: 0.997 - ETA: 59s - loss: 0.0080 - acc: 0.997 - ETA: 59s - loss: 0.0079 - acc: 0.99 - ETA: 59s - loss: 0.0079 - acc: 0.99 - ETA: 58s - loss: 0.0079 - acc: 0.99 - ETA: 58s - loss: 0.0078 - acc: 0.99 - ETA: 58s - loss: 0.0078 - acc: 0.99 - ETA: 57s - loss: 0.0078 - acc: 0.99 - ETA: 57s - loss: 0.0082 - acc: 0.99 - ETA: 57s - loss: 0.0082 - acc: 0.99 - ETA: 56s - loss: 0.0086 - acc: 0.99 - ETA: 56s - loss: 0.0087 - acc: 0.99 - ETA: 56s - loss: 0.0087 - acc: 0.99 - ETA: 55s - loss: 0.0088 - acc: 0.99 - ETA: 55s - loss: 0.0090 - acc: 0.99 - ETA: 55s - loss: 0.0089 - acc: 0.99 - ETA: 55s - loss: 0.0089 - acc: 0.99 - ETA: 54s - loss: 0.0088 - acc: 0.99 - ETA: 54s - loss: 0.0088 - acc: 0.99 - ETA: 54s - loss: 0.0089 - acc: 0.99 - ETA: 53s - loss: 0.0091 - acc: 0.99 - ETA: 53s - loss: 0.0097 - acc: 0.99 - ETA: 53s - loss: 0.0096 - acc: 0.99 - ETA: 52s - loss: 0.0096 - acc: 0.99 - ETA: 52s - loss: 0.0096 - acc: 0.99 - ETA: 52s - loss: 0.0095 - acc: 0.99 - ETA: 51s - loss: 0.0099 - acc: 0.99 - ETA: 51s - loss: 0.0098 - acc: 0.99 - ETA: 51s - loss: 0.0099 - acc: 0.99 - ETA: 50s - loss: 0.0098 - acc: 0.99 - ETA: 50s - loss: 0.0098 - acc: 0.99 - ETA: 50s - loss: 0.0100 - acc: 0.99 - ETA: 49s - loss: 0.0100 - acc: 0.99 - ETA: 49s - loss: 0.0099 - acc: 0.99 - ETA: 49s - loss: 0.0099 - acc: 0.99 - ETA: 48s - loss: 0.0102 - acc: 0.99 - ETA: 48s - loss: 0.0103 - acc: 0.99 - ETA: 48s - loss: 0.0102 - acc: 0.99 - ETA: 47s - loss: 0.0103 - acc: 0.99 - ETA: 47s - loss: 0.0103 - acc: 0.99 - ETA: 47s - loss: 0.0104 - acc: 0.99 - ETA: 46s - loss: 0.0104 - acc: 0.99 - ETA: 46s - loss: 0.0104 - acc: 0.99 - ETA: 46s - loss: 0.0103 - acc: 0.99 - ETA: 45s - loss: 0.0103 - acc: 0.99 - ETA: 45s - loss: 0.0103 - acc: 0.99 - ETA: 45s - loss: 0.0102 - acc: 0.99 - ETA: 44s - loss: 0.0104 - acc: 0.99 - ETA: 44s - loss: 0.0107 - acc: 0.99 - ETA: 44s - loss: 0.0110 - acc: 0.99 - ETA: 44s - loss: 0.0110 - acc: 0.99 - ETA: 43s - loss: 0.0109 - acc: 0.99 - ETA: 43s - loss: 0.0112 - acc: 0.99 - ETA: 43s - loss: 0.0115 - acc: 0.99 - ETA: 42s - loss: 0.0119 - acc: 0.99 - ETA: 42s - loss: 0.0119 - acc: 0.99 - ETA: 42s - loss: 0.0118 - acc: 0.99 - ETA: 41s - loss: 0.0117 - acc: 0.99 - ETA: 41s - loss: 0.0118 - acc: 0.99 - ETA: 41s - loss: 0.0118 - acc: 0.99 - ETA: 40s - loss: 0.0117 - acc: 0.99 - ETA: 40s - loss: 0.0117 - acc: 0.99 - ETA: 40s - loss: 0.0117 - acc: 0.99 - ETA: 39s - loss: 0.0116 - acc: 0.99 - ETA: 39s - loss: 0.0116 - acc: 0.9953"
     ]
    },
    {
     "name": "stdout",
     "output_type": "stream",
     "text": [
      "10586/10586 [==============================] - ETA: 39s - loss: 0.0116 - acc: 0.99 - ETA: 38s - loss: 0.0120 - acc: 0.99 - ETA: 38s - loss: 0.0120 - acc: 0.99 - ETA: 38s - loss: 0.0120 - acc: 0.99 - ETA: 37s - loss: 0.0119 - acc: 0.99 - ETA: 37s - loss: 0.0119 - acc: 0.99 - ETA: 37s - loss: 0.0120 - acc: 0.99 - ETA: 36s - loss: 0.0120 - acc: 0.99 - ETA: 36s - loss: 0.0119 - acc: 0.99 - ETA: 36s - loss: 0.0119 - acc: 0.99 - ETA: 35s - loss: 0.0119 - acc: 0.99 - ETA: 35s - loss: 0.0118 - acc: 0.99 - ETA: 35s - loss: 0.0118 - acc: 0.99 - ETA: 35s - loss: 0.0117 - acc: 0.99 - ETA: 34s - loss: 0.0119 - acc: 0.99 - ETA: 34s - loss: 0.0119 - acc: 0.99 - ETA: 34s - loss: 0.0119 - acc: 0.99 - ETA: 33s - loss: 0.0119 - acc: 0.99 - ETA: 33s - loss: 0.0123 - acc: 0.99 - ETA: 33s - loss: 0.0122 - acc: 0.99 - ETA: 32s - loss: 0.0122 - acc: 0.99 - ETA: 32s - loss: 0.0122 - acc: 0.99 - ETA: 32s - loss: 0.0121 - acc: 0.99 - ETA: 31s - loss: 0.0121 - acc: 0.99 - ETA: 31s - loss: 0.0121 - acc: 0.99 - ETA: 31s - loss: 0.0120 - acc: 0.99 - ETA: 30s - loss: 0.0120 - acc: 0.99 - ETA: 30s - loss: 0.0119 - acc: 0.99 - ETA: 30s - loss: 0.0120 - acc: 0.99 - ETA: 29s - loss: 0.0120 - acc: 0.99 - ETA: 29s - loss: 0.0120 - acc: 0.99 - ETA: 29s - loss: 0.0122 - acc: 0.99 - ETA: 28s - loss: 0.0121 - acc: 0.99 - ETA: 28s - loss: 0.0121 - acc: 0.99 - ETA: 28s - loss: 0.0121 - acc: 0.99 - ETA: 27s - loss: 0.0121 - acc: 0.99 - ETA: 27s - loss: 0.0121 - acc: 0.99 - ETA: 27s - loss: 0.0121 - acc: 0.99 - ETA: 27s - loss: 0.0121 - acc: 0.99 - ETA: 26s - loss: 0.0120 - acc: 0.99 - ETA: 26s - loss: 0.0120 - acc: 0.99 - ETA: 26s - loss: 0.0120 - acc: 0.99 - ETA: 25s - loss: 0.0120 - acc: 0.99 - ETA: 25s - loss: 0.0119 - acc: 0.99 - ETA: 25s - loss: 0.0119 - acc: 0.99 - ETA: 24s - loss: 0.0119 - acc: 0.99 - ETA: 24s - loss: 0.0120 - acc: 0.99 - ETA: 24s - loss: 0.0121 - acc: 0.99 - ETA: 23s - loss: 0.0120 - acc: 0.99 - ETA: 23s - loss: 0.0120 - acc: 0.99 - ETA: 23s - loss: 0.0120 - acc: 0.99 - ETA: 22s - loss: 0.0119 - acc: 0.99 - ETA: 22s - loss: 0.0119 - acc: 0.99 - ETA: 22s - loss: 0.0118 - acc: 0.99 - ETA: 21s - loss: 0.0119 - acc: 0.99 - ETA: 21s - loss: 0.0119 - acc: 0.99 - ETA: 21s - loss: 0.0118 - acc: 0.99 - ETA: 20s - loss: 0.0118 - acc: 0.99 - ETA: 20s - loss: 0.0118 - acc: 0.99 - ETA: 20s - loss: 0.0117 - acc: 0.99 - ETA: 20s - loss: 0.0117 - acc: 0.99 - ETA: 19s - loss: 0.0117 - acc: 0.99 - ETA: 19s - loss: 0.0118 - acc: 0.99 - ETA: 19s - loss: 0.0118 - acc: 0.99 - ETA: 18s - loss: 0.0118 - acc: 0.99 - ETA: 18s - loss: 0.0117 - acc: 0.99 - ETA: 18s - loss: 0.0120 - acc: 0.99 - ETA: 17s - loss: 0.0120 - acc: 0.99 - ETA: 17s - loss: 0.0123 - acc: 0.99 - ETA: 17s - loss: 0.0125 - acc: 0.99 - ETA: 16s - loss: 0.0125 - acc: 0.99 - ETA: 16s - loss: 0.0124 - acc: 0.99 - ETA: 16s - loss: 0.0126 - acc: 0.99 - ETA: 15s - loss: 0.0125 - acc: 0.99 - ETA: 15s - loss: 0.0126 - acc: 0.99 - ETA: 15s - loss: 0.0128 - acc: 0.99 - ETA: 14s - loss: 0.0131 - acc: 0.99 - ETA: 14s - loss: 0.0131 - acc: 0.99 - ETA: 14s - loss: 0.0130 - acc: 0.99 - ETA: 13s - loss: 0.0131 - acc: 0.99 - ETA: 13s - loss: 0.0130 - acc: 0.99 - ETA: 13s - loss: 0.0130 - acc: 0.99 - ETA: 12s - loss: 0.0130 - acc: 0.99 - ETA: 12s - loss: 0.0130 - acc: 0.99 - ETA: 12s - loss: 0.0130 - acc: 0.99 - ETA: 11s - loss: 0.0130 - acc: 0.99 - ETA: 11s - loss: 0.0129 - acc: 0.99 - ETA: 11s - loss: 0.0130 - acc: 0.99 - ETA: 11s - loss: 0.0130 - acc: 0.99 - ETA: 10s - loss: 0.0130 - acc: 0.99 - ETA: 10s - loss: 0.0129 - acc: 0.99 - ETA: 10s - loss: 0.0129 - acc: 0.99 - ETA: 9s - loss: 0.0128 - acc: 0.9946 - ETA: 9s - loss: 0.0129 - acc: 0.994 - ETA: 9s - loss: 0.0128 - acc: 0.994 - ETA: 8s - loss: 0.0128 - acc: 0.994 - ETA: 8s - loss: 0.0133 - acc: 0.994 - ETA: 8s - loss: 0.0132 - acc: 0.994 - ETA: 7s - loss: 0.0132 - acc: 0.994 - ETA: 7s - loss: 0.0132 - acc: 0.994 - ETA: 7s - loss: 0.0132 - acc: 0.994 - ETA: 6s - loss: 0.0131 - acc: 0.994 - ETA: 6s - loss: 0.0131 - acc: 0.994 - ETA: 6s - loss: 0.0130 - acc: 0.994 - ETA: 5s - loss: 0.0130 - acc: 0.994 - ETA: 5s - loss: 0.0131 - acc: 0.994 - ETA: 5s - loss: 0.0131 - acc: 0.994 - ETA: 4s - loss: 0.0130 - acc: 0.994 - ETA: 4s - loss: 0.0130 - acc: 0.994 - ETA: 4s - loss: 0.0130 - acc: 0.994 - ETA: 4s - loss: 0.0130 - acc: 0.994 - ETA: 3s - loss: 0.0130 - acc: 0.994 - ETA: 3s - loss: 0.0129 - acc: 0.994 - ETA: 3s - loss: 0.0129 - acc: 0.994 - ETA: 2s - loss: 0.0131 - acc: 0.994 - ETA: 2s - loss: 0.0131 - acc: 0.994 - ETA: 2s - loss: 0.0131 - acc: 0.994 - ETA: 1s - loss: 0.0131 - acc: 0.994 - ETA: 1s - loss: 0.0130 - acc: 0.994 - ETA: 1s - loss: 0.0130 - acc: 0.994 - ETA: 0s - loss: 0.0130 - acc: 0.994 - ETA: 0s - loss: 0.0130 - acc: 0.994 - ETA: 0s - loss: 0.0130 - acc: 0.994 - 110s 10ms/step - loss: 0.0129 - acc: 0.9949 - val_loss: 1.5067 - val_acc: 0.7257\n"
     ]
    },
    {
     "data": {
      "text/plain": [
       "<keras.callbacks.History at 0x1c1cc5839b0>"
      ]
     },
     "execution_count": 71,
     "metadata": {},
     "output_type": "execute_result"
    }
   ],
   "source": [
    "from keras.layers import LSTM, GRU, MaxPooling1D\n",
    "\n",
    "tweet_input = Input(shape=(max_len,), dtype='int32')\n",
    "\n",
    "tweet_encoder = Embedding(num_words, embedding_dim, weights=[embedding_matrix], input_length=max_len, trainable=True)(tweet_input)\n",
    "bigram_branch = Conv1D(filters=100, kernel_size=2, padding='valid', activation='relu', strides=1)(tweet_encoder)\n",
    "bigram_branch = MaxPooling1D()(bigram_branch)\n",
    "trigram_branch = Conv1D(filters=100, kernel_size=3, padding='valid', activation='relu', strides=1)(tweet_encoder)\n",
    "trigram_branch = MaxPooling1D()(trigram_branch)\n",
    "fourgram_branch = Conv1D(filters=100, kernel_size=4, padding='valid', activation='relu', strides=1)(tweet_encoder)\n",
    "fourgram_branch = MaxPooling1D()(fourgram_branch)\n",
    "merged = concatenate([bigram_branch, trigram_branch, fourgram_branch], axis=1)\n",
    "lstm = LSTM(100)(merged)\n",
    "lstm = Dropout(0.2)(lstm)\n",
    "lstm = Dense(1)(lstm)\n",
    "output = Activation('sigmoid')(lstm)\n",
    "model = Model(inputs=[tweet_input], outputs=[output])\n",
    "model.compile(loss='binary_crossentropy',\n",
    "                  optimizer='adam',\n",
    "                  metrics=['accuracy'])\n",
    "model.summary()\n",
    "\n",
    "filepath=\"CNN_LSTM_W2V_best_weights.{epoch:02d}-{val_acc:.4f}.hdf5\"\n",
    "checkpoint = ModelCheckpoint(filepath, monitor='val_acc', verbose=0, save_best_only=True, mode='max')\n",
    "\n",
    "model.fit(x_train_seq, y_train, batch_size=32, epochs=10, validation_split = 0.2, callbacks = [checkpoint])"
   ]
  },
  {
   "cell_type": "code",
   "execution_count": 133,
   "metadata": {},
   "outputs": [
    {
     "name": "stdout",
     "output_type": "stream",
     "text": [
      "862/862 [==============================] - ETA: 20 - ETA: 11 - ETA: 8 - ETA:  - ETA:  - ETA:  - ETA:  - ETA:  - ETA:  - ETA:  - ETA:  - ETA:  - ETA:  - ETA:  - ETA:  - ETA:  - ETA:  - ETA:  - ETA:  - ETA:  - ETA:  - ETA:  - ETA:  - ETA:  - ETA:  - ETA:  - 5s 6ms/step\n"
     ]
    },
    {
     "data": {
      "text/plain": [
       "[0.4381235528158201, 0.8062645006069175]"
      ]
     },
     "execution_count": 133,
     "metadata": {},
     "output_type": "execute_result"
    }
   ],
   "source": [
    "loaded_CNN_model = load_model('CNN_LSTM_W2V_best_weights.02-0.7594.hdf5')\n",
    "loaded_CNN_model.evaluate(x=X_test_seq, y=y_test)"
   ]
  },
  {
   "cell_type": "code",
   "execution_count": 134,
   "metadata": {},
   "outputs": [
    {
     "name": "stdout",
     "output_type": "stream",
     "text": [
      "[[602  77]\n",
      " [ 90  93]]\n",
      "Confusion matrix, without normalization\n",
      "[[602  77]\n",
      " [ 90  93]]\n",
      "0.7025516413444829\n"
     ]
    },
    {
     "data": {
      "image/png": "[encoded data removed]",
      "text/plain": [
       "<Figure size 432x288 with 2 Axes>"
      ]
     },
     "metadata": {
      "needs_background": "light"
     },
     "output_type": "display_data"
    }
   ],
   "source": [
    "yhat_cnn = loaded_CNN_model.predict(X_test_seq)\n",
    "\n",
    "y_pred = (yhat_cnn > 0.5)\n",
    "cn_matrix = confusion_matrix(y_test, y_pred)\n",
    "print(cn_matrix)\n",
    "\n",
    "plot_confusion_matrix(cn_matrix, ['Not Offensive', 'Offensive'])\n",
    "print(f1_score(y_true=y_test, y_pred=y_pred, average='macro'))"
   ]
  },
  {
   "cell_type": "code",
   "execution_count": null,
   "metadata": {},
   "outputs": [],
   "source": [
    "from keras.layers import LSTM, GRU, MaxPooling1D\n",
    "\n",
    "tweet_input = Input(shape=(max_len,), dtype='int32')\n",
    "\n",
    "tweet_encoder = Embedding(ggl_num_words, ggl_embedding_dimension, weights=[ggl_embedding_matrix], input_length=max_len, trainable=True)(tweet_input)\n",
    "bigram_branch = Conv1D(filters=100, kernel_size=2, padding='valid', activation='relu', strides=1)(tweet_encoder)\n",
    "bigram_branch = MaxPooling1D()(bigram_branch)\n",
    "trigram_branch = Conv1D(filters=100, kernel_size=3, padding='valid', activation='relu', strides=1)(tweet_encoder)\n",
    "trigram_branch = MaxPooling1D()(trigram_branch)\n",
    "fourgram_branch = Conv1D(filters=100, kernel_size=4, padding='valid', activation='relu', strides=1)(tweet_encoder)\n",
    "fourgram_branch = MaxPooling1D()(fourgram_branch)\n",
    "merged = concatenate([bigram_branch, trigram_branch, fourgram_branch], axis=1)\n",
    "lstm = LSTM(100)(merged)\n",
    "lstm = Dropout(0.2)(lstm)\n",
    "lstm = Dense(1)(lstm)\n",
    "output = Activation('sigmoid')(lstm)\n",
    "model = Model(inputs=[tweet_input], outputs=[output])\n",
    "model.compile(loss='binary_crossentropy',\n",
    "                  optimizer='adam',\n",
    "                  metrics=['accuracy'])\n",
    "model.summary()"
   ]
  }
 ],
 "metadata": {
  "kernelspec": {
   "display_name": "Python 3",
   "language": "python",
   "name": "python3"
  },
  "language_info": {
   "codemirror_mode": {
    "name": "ipython",
    "version": 3
   },
   "file_extension": ".py",
   "mimetype": "text/x-python",
   "name": "python",
   "nbconvert_exporter": "python",
   "pygments_lexer": "ipython3",
   "version": "3.6.7"
  }
 },
 "nbformat": 4,
 "nbformat_minor": 2
}
